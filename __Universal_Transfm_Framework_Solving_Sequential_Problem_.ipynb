{
 "cells": [
  {
   "cell_type": "markdown",
   "metadata": {},
   "source": [
    "# Libraries"
   ]
  },
  {
   "cell_type": "code",
   "execution_count": 1,
   "metadata": {
    "ExecuteTime": {
     "end_time": "2020-11-09T09:40:49.564178Z",
     "start_time": "2020-11-09T09:40:47.640637Z"
    }
   },
   "outputs": [],
   "source": [
    "import tensorflow as tf\n",
    "import tensorflow.keras as keras\n",
    "from tensorflow.keras import *\n",
    "import numpy as np\n",
    "import math\n",
    "import copy\n",
    "import pandas as pd\n",
    "import matplotlib.pyplot as plt"
   ]
  },
  {
   "cell_type": "markdown",
   "metadata": {},
   "source": [
    "# DATA Import"
   ]
  },
  {
   "cell_type": "code",
   "execution_count": 2,
   "metadata": {
    "ExecuteTime": {
     "end_time": "2020-11-09T09:40:49.586120Z",
     "start_time": "2020-11-09T09:40:49.565142Z"
    }
   },
   "outputs": [],
   "source": [
    "df = pd.read_csv('d:/ds/ozone.csv')"
   ]
  },
  {
   "cell_type": "code",
   "execution_count": 3,
   "metadata": {
    "ExecuteTime": {
     "end_time": "2020-11-09T09:40:49.662090Z",
     "start_time": "2020-11-09T09:40:49.587085Z"
    }
   },
   "outputs": [],
   "source": [
    "df.ffill(inplace=True)"
   ]
  },
  {
   "cell_type": "code",
   "execution_count": 4,
   "metadata": {
    "ExecuteTime": {
     "end_time": "2020-11-09T09:40:49.744053Z",
     "start_time": "2020-11-09T09:40:49.663062Z"
    }
   },
   "outputs": [],
   "source": [
    "def rolling(df, size=6):\n",
    "    windows = np.zeros(shape=(df.shape[0]-size+1, size, df.shape[-1]))\n",
    "    start_index = [i for i in range(0, df.shape[0]-size+1)]\n",
    "    end_index = [i+size for i in start_index]\n",
    "    for i in range(len(start_index)):\n",
    "        windows[i, :, :] = df.iloc[start_index[i]: end_index[i], :].values\n",
    "    return windows"
   ]
  },
  {
   "cell_type": "code",
   "execution_count": 5,
   "metadata": {
    "ExecuteTime": {
     "end_time": "2020-11-09T09:40:50.142312Z",
     "start_time": "2020-11-09T09:40:49.745042Z"
    }
   },
   "outputs": [],
   "source": [
    "x = rolling(df.iloc[:, 1:])"
   ]
  },
  {
   "cell_type": "code",
   "execution_count": 6,
   "metadata": {
    "ExecuteTime": {
     "end_time": "2020-11-09T09:40:50.146269Z",
     "start_time": "2020-11-09T09:40:50.143318Z"
    }
   },
   "outputs": [],
   "source": [
    "y = x[:, -1, -1]\n",
    "x = x[:, :, :-1]\n",
    "y.shape = (-1, 1)"
   ]
  },
  {
   "cell_type": "code",
   "execution_count": 7,
   "metadata": {
    "ExecuteTime": {
     "end_time": "2020-11-09T09:40:50.466252Z",
     "start_time": "2020-11-09T09:40:50.147267Z"
    }
   },
   "outputs": [],
   "source": [
    "from sklearn.model_selection import train_test_split\n",
    "x_train, x_test, y_train,  y_test = train_test_split(x, y, test_size=0.2, stratify=y)"
   ]
  },
  {
   "cell_type": "markdown",
   "metadata": {},
   "source": [
    "# Component Implementation"
   ]
  },
  {
   "cell_type": "code",
   "execution_count": 8,
   "metadata": {
    "ExecuteTime": {
     "end_time": "2020-11-09T09:40:50.474201Z",
     "start_time": "2020-11-09T09:40:50.467220Z"
    }
   },
   "outputs": [],
   "source": [
    "class PositionEncoding(layers.Layer):\n",
    "    def __init__(self, var_num, dropout=0.1, max_len=5000, **kwargs):\n",
    "        super(PositionEncoding, self).__init__(**kwargs)\n",
    "        self.dropout = layers.Dropout(rate=dropout)\n",
    "        pe = tf.Variable(tf.zeros(shape=(max_len, var_num)), trainable=False)\n",
    "        position = tf.cast(tf.expand_dims(tf.range(0, max_len), axis=1),\n",
    "                           dtype=tf.float32)\n",
    "        div_term = tf.exp(\n",
    "            tf.cast(tf.range(0, var_num, 2), dtype=tf.float32) *\n",
    "            -(tf.cast(math.log(10000.0) / var_num, dtype=tf.float32)))\n",
    "        pe[:, 0::2].assign(tf.sin(position * div_term))\n",
    "        pe[:, 1::2].assign(tf.cos(position * div_term))\n",
    "\n",
    "        pe = tf.expand_dims(pe, axis=0)\n",
    "        self.pe = tf.constant(pe)\n",
    "\n",
    "    def call(self, x):\n",
    "        x = x + self.pe[:, :x.shape[1]]\n",
    "        return self.dropout(x)"
   ]
  },
  {
   "cell_type": "code",
   "execution_count": 9,
   "metadata": {
    "ExecuteTime": {
     "end_time": "2020-11-09T09:40:50.686941Z",
     "start_time": "2020-11-09T09:40:50.475199Z"
    }
   },
   "outputs": [],
   "source": [
    "def attention(query, key, value, dropout=None):\n",
    "    var_num = query.shape[-1]\n",
    "    scaled_scores = tf.matmul(query, tf.transpose(key, perm=[0, 1, 3, 2])) / math.sqrt(var_num)\n",
    "    \n",
    "    prob_attn = tf.nn.softmax(scaled_scores, axis=-1)\n",
    "    \n",
    "    return tf.matmul(prob_attn, value), prob_attn"
   ]
  },
  {
   "cell_type": "code",
   "execution_count": 10,
   "metadata": {
    "ExecuteTime": {
     "end_time": "2020-11-09T09:40:50.779052Z",
     "start_time": "2020-11-09T09:40:50.687939Z"
    }
   },
   "outputs": [],
   "source": [
    "def clones(layer, N):\n",
    "    lys = [copy.deepcopy(layer) for _ in range(N)]\n",
    "    assert all([lys[0].name == lys[i].name for i in range(N)])\n",
    "    ori_name = lys[0].name\n",
    "    new_name_ls = [ori_name + '_' + str(i) for i in range(N)]\n",
    "    for i in range(N):\n",
    "        lys[i]._name = new_name_ls[i]\n",
    "    return lys"
   ]
  },
  {
   "cell_type": "code",
   "execution_count": 11,
   "metadata": {
    "ExecuteTime": {
     "end_time": "2020-11-09T09:40:50.862413Z",
     "start_time": "2020-11-09T09:40:50.780050Z"
    }
   },
   "outputs": [],
   "source": [
    "class MultiHeadSelfAttention(layers.Layer):\n",
    "    def __init__(self, head, var_num, dropout=0.1, **kwargs):\n",
    "        super(MultiHeadSelfAttention, self).__init__(**kwargs)\n",
    "        assert var_num % head == 0\n",
    "        self.head_size = var_num // head\n",
    "        self.head = head\n",
    "        self.attn = None\n",
    "        self.dropout = layers.Dropout(rate=dropout)\n",
    "        \n",
    "        self.query_ly = layers.Dense(var_num, trainable=True, name='query')\n",
    "        self.key_ly = layers.Dense(var_num, trainable=True, name='key')\n",
    "        self.value_ly = layers.Dense(var_num, trainable=True, name='value')\n",
    "        self.concat_ly = layers.Dense(var_num, trainable=True, name='value')\n",
    "        \n",
    "        self.layernorm = layers.LayerNormalization(axis=-1, epsilon=1e-6)\n",
    "        \n",
    "    def call(self, state):\n",
    "        batch_size = state.shape[0]\n",
    "        \n",
    "        query = tf.transpose(tf.reshape(self.query_ly(state), (batch_size, -1, self.head, self.head_size)), perm=[0, 2, 1, 3])\n",
    "        key = tf.transpose(tf.reshape(self.key_ly(state), (batch_size, -1, self.head, self.head_size)), perm=[0, 2, 1, 3])\n",
    "        value = tf.transpose(tf.reshape(self.value_ly(state), (batch_size, -1, self.head, self.head_size)), perm=[0, 2, 1, 3])\n",
    "        \n",
    "        x, self.attn = attention(query, key, value, dropout=self.dropout)\n",
    "        x = tf.reshape(tf.transpose(x, perm=[0, 2, 1, 3]), shape=(batch_size, -1, self.head * self.head_size))\n",
    "        x = self.concat_ly(x)\n",
    "        x = self.layernorm(x)\n",
    "        \n",
    "        return state + self.dropout(x)"
   ]
  },
  {
   "cell_type": "code",
   "execution_count": 12,
   "metadata": {
    "ExecuteTime": {
     "end_time": "2020-11-09T09:40:50.979036Z",
     "start_time": "2020-11-09T09:40:50.863401Z"
    }
   },
   "outputs": [],
   "source": [
    "class FeedForward(layers.Layer):\n",
    "    def __init__(self, var_num, d_ff, dropout=0.1, **kwargs):\n",
    "        super(FeedForward, self).__init__(*kwargs)\n",
    "        self.lin1 = layers.Dense(d_ff, trainable=True)\n",
    "        self.lin2 = layers.Dense(var_num, trainable=True)\n",
    "        self.dropout = layers.Dropout(rate=dropout)\n",
    "        self.layernorm = layers.LayerNormalization(axis=-1, epsilon=1e-6)\n",
    "        \n",
    "    def call(self, x):\n",
    "        ff_res = self.layernorm(self.dropout(self.lin2(self.dropout(tf.nn.relu(self.lin1(x))))))\n",
    "        return x + ff_res"
   ]
  },
  {
   "cell_type": "markdown",
   "metadata": {},
   "source": [
    "# Model Structure"
   ]
  },
  {
   "cell_type": "code",
   "execution_count": 13,
   "metadata": {
    "ExecuteTime": {
     "end_time": "2020-11-09T09:40:51.078400Z",
     "start_time": "2020-11-09T09:40:50.980033Z"
    }
   },
   "outputs": [],
   "source": [
    "seq_len = x_train.shape[1]\n",
    "var_num = x_train.shape[-1]\n",
    "batch_size = 64\n",
    "head = 8\n",
    "d_ff = 64\n",
    "dropout = 0.2\n",
    "cls_num = 1\n",
    "N_enc = 1"
   ]
  },
  {
   "cell_type": "code",
   "execution_count": 14,
   "metadata": {
    "ExecuteTime": {
     "end_time": "2020-11-09T09:40:52.188397Z",
     "start_time": "2020-11-09T09:40:51.079368Z"
    }
   },
   "outputs": [],
   "source": [
    "attns = clones(MultiHeadSelfAttention(head, var_num, dropout), N_enc)\n",
    "ffs = clones(FeedForward(var_num, d_ff, dropout), N_enc)\n",
    "pos = PositionEncoding(var_num, dropout)"
   ]
  },
  {
   "cell_type": "code",
   "execution_count": 15,
   "metadata": {
    "ExecuteTime": {
     "end_time": "2020-11-09T09:40:52.508647Z",
     "start_time": "2020-11-09T09:40:52.189379Z"
    }
   },
   "outputs": [],
   "source": [
    "inputs = layers.Input(shape=(seq_len, var_num), batch_size=batch_size)\n",
    "x = inputs + pos(inputs)\n",
    "for ly in range(N_enc):\n",
    "    x = attns[ly](x)\n",
    "    x = ffs[ly](x)\n",
    "x = layers.GlobalAveragePooling1D()(x)\n",
    "x = layers.Dense(d_ff)(x)\n",
    "x = layers.Dropout(dropout)(x)\n",
    "outputs = layers.Dense(cls_num, activation='sigmoid')(x)\n",
    "\n",
    "model = keras.Model(inputs=inputs, outputs=outputs)"
   ]
  },
  {
   "cell_type": "code",
   "execution_count": 16,
   "metadata": {
    "ExecuteTime": {
     "end_time": "2020-11-09T09:40:52.516591Z",
     "start_time": "2020-11-09T09:40:52.509640Z"
    },
    "scrolled": true
   },
   "outputs": [
    {
     "name": "stdout",
     "output_type": "stream",
     "text": [
      "Model: \"functional_1\"\n",
      "__________________________________________________________________________________________________\n",
      "Layer (type)                    Output Shape         Param #     Connected to                     \n",
      "==================================================================================================\n",
      "input_1 (InputLayer)            [(64, 6, 72)]        0                                            \n",
      "__________________________________________________________________________________________________\n",
      "position_encoding (PositionEnco (64, 6, 72)          0           input_1[0][0]                    \n",
      "__________________________________________________________________________________________________\n",
      "tf_op_layer_AddV2 (TensorFlowOp [(64, 6, 72)]        0           input_1[0][0]                    \n",
      "                                                                 position_encoding[0][0]          \n",
      "__________________________________________________________________________________________________\n",
      "multi_head_self_attention_0 (Mu (64, 6, 72)          21168       tf_op_layer_AddV2[0][0]          \n",
      "__________________________________________________________________________________________________\n",
      "feed_forward_0 (FeedForward)    (64, 6, 72)          9496        multi_head_self_attention_0[0][0]\n",
      "__________________________________________________________________________________________________\n",
      "global_average_pooling1d (Globa (64, 72)             0           feed_forward_0[0][0]             \n",
      "__________________________________________________________________________________________________\n",
      "dense_2 (Dense)                 (64, 64)             4672        global_average_pooling1d[0][0]   \n",
      "__________________________________________________________________________________________________\n",
      "dropout_3 (Dropout)             (64, 64)             0           dense_2[0][0]                    \n",
      "__________________________________________________________________________________________________\n",
      "dense_3 (Dense)                 (64, 1)              65          dropout_3[0][0]                  \n",
      "==================================================================================================\n",
      "Total params: 35,401\n",
      "Trainable params: 35,401\n",
      "Non-trainable params: 0\n",
      "__________________________________________________________________________________________________\n"
     ]
    }
   ],
   "source": [
    "model.summary()"
   ]
  },
  {
   "cell_type": "code",
   "execution_count": 17,
   "metadata": {
    "ExecuteTime": {
     "end_time": "2020-11-09T09:40:52.629838Z",
     "start_time": "2020-11-09T09:40:52.517596Z"
    }
   },
   "outputs": [],
   "source": [
    "dataset_train = tf.data.Dataset.from_tensor_slices((x_train, y_train.reshape((-1, 1))))\n",
    "dataset_train = dataset_train.batch(batch_size, drop_remainder=True)"
   ]
  },
  {
   "cell_type": "code",
   "execution_count": 18,
   "metadata": {
    "ExecuteTime": {
     "end_time": "2020-11-09T09:40:52.713901Z",
     "start_time": "2020-11-09T09:40:52.630810Z"
    }
   },
   "outputs": [],
   "source": [
    "dataset_val = tf.data.Dataset.from_tensor_slices((x_test, y_test.reshape((-1, 1))))\n",
    "dataset_val = dataset_val.batch(batch_size, drop_remainder=True)"
   ]
  },
  {
   "cell_type": "code",
   "execution_count": 19,
   "metadata": {
    "ExecuteTime": {
     "end_time": "2020-11-09T09:40:52.879610Z",
     "start_time": "2020-11-09T09:40:52.714898Z"
    }
   },
   "outputs": [],
   "source": [
    "METRICS = [\n",
    "      keras.metrics.TruePositives(name='tp'),\n",
    "      keras.metrics.FalsePositives(name='fp'),\n",
    "      keras.metrics.TrueNegatives(name='tn'),\n",
    "      keras.metrics.FalseNegatives(name='fn'), \n",
    "      keras.metrics.BinaryAccuracy(name='accuracy'),\n",
    "      keras.metrics.Precision(name='precision'),\n",
    "      keras.metrics.Recall(name='recall'),\n",
    "      keras.metrics.AUC(name='pr_auc', curve='PR'),\n",
    "      keras.metrics.AUC(name='roc_auc', curve='ROC')\n",
    "]"
   ]
  },
  {
   "cell_type": "code",
   "execution_count": 20,
   "metadata": {
    "ExecuteTime": {
     "end_time": "2020-11-09T09:40:52.885559Z",
     "start_time": "2020-11-09T09:40:52.880570Z"
    }
   },
   "outputs": [
    {
     "name": "stdout",
     "output_type": "stream",
     "text": [
      "Weight for class 0: 0.51\n",
      "Weight for class 1: 17.45\n"
     ]
    }
   ],
   "source": [
    "weight_for_0 = (1 / len(np.where(y_train==0)[0]))*(y_train.shape[0])/2.0 \n",
    "weight_for_1 = (1 / len(np.where(y_train==1)[0]))*(y_train.shape[0])/2.0 \n",
    "\n",
    "class_weight = {0: weight_for_0, 1: weight_for_1}\n",
    "\n",
    "print('Weight for class 0: {:.2f}'.format(weight_for_0))\n",
    "print('Weight for class 1: {:.2f}'.format(weight_for_1))"
   ]
  },
  {
   "cell_type": "code",
   "execution_count": 21,
   "metadata": {
    "ExecuteTime": {
     "end_time": "2020-11-09T09:43:44.770465Z",
     "start_time": "2020-11-09T09:40:52.886555Z"
    },
    "scrolled": true
   },
   "outputs": [
    {
     "name": "stdout",
     "output_type": "stream",
     "text": [
      "Epoch 1/600\n",
      "31/31 [==============================] - 1s 29ms/step - loss: 701.4816 - tp: 24.0000 - fp: 737.0000 - tn: 1190.0000 - fn: 33.0000 - accuracy: 0.6119 - precision: 0.0315 - recall: 0.4211 - pr_auc: 0.0299 - roc_auc: 0.5156 - val_loss: 11.4874 - val_tp: 0.0000e+00 - val_fp: 0.0000e+00 - val_tn: 436.0000 - val_fn: 12.0000 - val_accuracy: 0.9732 - val_precision: 0.0000e+00 - val_recall: 0.0000e+00 - val_pr_auc: 0.0268 - val_roc_auc: 0.5000\n",
      "Epoch 2/600\n",
      "31/31 [==============================] - 0s 8ms/step - loss: 680.0383 - tp: 20.0000 - fp: 783.0000 - tn: 1144.0000 - fn: 37.0000 - accuracy: 0.5867 - precision: 0.0249 - recall: 0.3509 - pr_auc: 0.0265 - roc_auc: 0.4724 - val_loss: 9.7289 - val_tp: 0.0000e+00 - val_fp: 0.0000e+00 - val_tn: 436.0000 - val_fn: 12.0000 - val_accuracy: 0.9732 - val_precision: 0.0000e+00 - val_recall: 0.0000e+00 - val_pr_auc: 0.0268 - val_roc_auc: 0.5000\n",
      "Epoch 3/600\n",
      "31/31 [==============================] - 0s 8ms/step - loss: 742.1880 - tp: 24.0000 - fp: 793.0000 - tn: 1134.0000 - fn: 33.0000 - accuracy: 0.5837 - precision: 0.0294 - recall: 0.4211 - pr_auc: 0.0292 - roc_auc: 0.5046 - val_loss: 8.3300 - val_tp: 0.0000e+00 - val_fp: 0.0000e+00 - val_tn: 436.0000 - val_fn: 12.0000 - val_accuracy: 0.9732 - val_precision: 0.0000e+00 - val_recall: 0.0000e+00 - val_pr_auc: 0.0268 - val_roc_auc: 0.5000\n",
      "Epoch 4/600\n",
      "31/31 [==============================] - 0s 8ms/step - loss: 698.6598 - tp: 24.0000 - fp: 810.0000 - tn: 1117.0000 - fn: 33.0000 - accuracy: 0.5751 - precision: 0.0288 - recall: 0.4211 - pr_auc: 0.0288 - roc_auc: 0.5003 - val_loss: 7.2273 - val_tp: 0.0000e+00 - val_fp: 0.0000e+00 - val_tn: 436.0000 - val_fn: 12.0000 - val_accuracy: 0.9732 - val_precision: 0.0000e+00 - val_recall: 0.0000e+00 - val_pr_auc: 0.0268 - val_roc_auc: 0.5000\n",
      "Epoch 5/600\n",
      "31/31 [==============================] - 0s 8ms/step - loss: 786.1932 - tp: 18.0000 - fp: 852.0000 - tn: 1075.0000 - fn: 39.0000 - accuracy: 0.5509 - precision: 0.0207 - recall: 0.3158 - pr_auc: 0.0242 - roc_auc: 0.4366 - val_loss: 5.5920 - val_tp: 0.0000e+00 - val_fp: 0.0000e+00 - val_tn: 436.0000 - val_fn: 12.0000 - val_accuracy: 0.9732 - val_precision: 0.0000e+00 - val_recall: 0.0000e+00 - val_pr_auc: 0.0268 - val_roc_auc: 0.5000\n",
      "Epoch 6/600\n",
      "31/31 [==============================] - 0s 9ms/step - loss: 652.7809 - tp: 30.0000 - fp: 871.0000 - tn: 1056.0000 - fn: 27.0000 - accuracy: 0.5474 - precision: 0.0333 - recall: 0.5263 - pr_auc: 0.0319 - roc_auc: 0.5370 - val_loss: 5.1791 - val_tp: 0.0000e+00 - val_fp: 0.0000e+00 - val_tn: 436.0000 - val_fn: 12.0000 - val_accuracy: 0.9732 - val_precision: 0.0000e+00 - val_recall: 0.0000e+00 - val_pr_auc: 0.0268 - val_roc_auc: 0.5000\n",
      "Epoch 7/600\n",
      "31/31 [==============================] - 0s 8ms/step - loss: 762.9775 - tp: 21.0000 - fp: 898.0000 - tn: 1029.0000 - fn: 36.0000 - accuracy: 0.5292 - precision: 0.0229 - recall: 0.3684 - pr_auc: 0.0252 - roc_auc: 0.4508 - val_loss: 4.1302 - val_tp: 0.0000e+00 - val_fp: 0.0000e+00 - val_tn: 436.0000 - val_fn: 12.0000 - val_accuracy: 0.9732 - val_precision: 0.0000e+00 - val_recall: 0.0000e+00 - val_pr_auc: 0.0268 - val_roc_auc: 0.5000\n",
      "Epoch 8/600\n",
      "31/31 [==============================] - 0s 8ms/step - loss: 742.0961 - tp: 25.0000 - fp: 889.0000 - tn: 1038.0000 - fn: 32.0000 - accuracy: 0.5358 - precision: 0.0274 - recall: 0.4386 - pr_auc: 0.0274 - roc_auc: 0.4846 - val_loss: 3.2356 - val_tp: 0.0000e+00 - val_fp: 0.0000e+00 - val_tn: 436.0000 - val_fn: 12.0000 - val_accuracy: 0.9732 - val_precision: 0.0000e+00 - val_recall: 0.0000e+00 - val_pr_auc: 0.0268 - val_roc_auc: 0.5000\n",
      "Epoch 9/600\n",
      "31/31 [==============================] - 0s 8ms/step - loss: 694.2938 - tp: 25.0000 - fp: 936.0000 - tn: 991.0000 - fn: 32.0000 - accuracy: 0.5121 - precision: 0.0260 - recall: 0.4386 - pr_auc: 0.0271 - roc_auc: 0.4806 - val_loss: 2.5695 - val_tp: 0.0000e+00 - val_fp: 0.0000e+00 - val_tn: 436.0000 - val_fn: 12.0000 - val_accuracy: 0.9732 - val_precision: 0.0000e+00 - val_recall: 0.0000e+00 - val_pr_auc: 0.0268 - val_roc_auc: 0.5000\n",
      "Epoch 10/600\n",
      "31/31 [==============================] - 0s 8ms/step - loss: 597.8935 - tp: 32.0000 - fp: 923.0000 - tn: 1004.0000 - fn: 25.0000 - accuracy: 0.5222 - precision: 0.0335 - recall: 0.5614 - pr_auc: 0.0323 - roc_auc: 0.5417 - val_loss: 2.6673 - val_tp: 0.0000e+00 - val_fp: 0.0000e+00 - val_tn: 436.0000 - val_fn: 12.0000 - val_accuracy: 0.9732 - val_precision: 0.0000e+00 - val_recall: 0.0000e+00 - val_pr_auc: 0.0268 - val_roc_auc: 0.5000\n",
      "Epoch 11/600\n",
      "31/31 [==============================] - 0s 8ms/step - loss: 710.0921 - tp: 27.0000 - fp: 900.0000 - tn: 1027.0000 - fn: 30.0000 - accuracy: 0.5312 - precision: 0.0291 - recall: 0.4737 - pr_auc: 0.0290 - roc_auc: 0.5028 - val_loss: 2.7251 - val_tp: 0.0000e+00 - val_fp: 0.0000e+00 - val_tn: 436.0000 - val_fn: 12.0000 - val_accuracy: 0.9732 - val_precision: 0.0000e+00 - val_recall: 0.0000e+00 - val_pr_auc: 0.0268 - val_roc_auc: 0.5000\n",
      "Epoch 12/600\n",
      "31/31 [==============================] - 0s 8ms/step - loss: 727.1183 - tp: 23.0000 - fp: 942.0000 - tn: 985.0000 - fn: 34.0000 - accuracy: 0.5081 - precision: 0.0238 - recall: 0.4035 - pr_auc: 0.0256 - roc_auc: 0.4572 - val_loss: 1.6561 - val_tp: 0.0000e+00 - val_fp: 0.0000e+00 - val_tn: 436.0000 - val_fn: 12.0000 - val_accuracy: 0.9732 - val_precision: 0.0000e+00 - val_recall: 0.0000e+00 - val_pr_auc: 0.0268 - val_roc_auc: 0.5000\n",
      "Epoch 13/600\n",
      "31/31 [==============================] - 0s 8ms/step - loss: 681.5992 - tp: 30.0000 - fp: 932.0000 - tn: 995.0000 - fn: 27.0000 - accuracy: 0.5166 - precision: 0.0312 - recall: 0.5263 - pr_auc: 0.0308 - roc_auc: 0.5263 - val_loss: 1.2662 - val_tp: 0.0000e+00 - val_fp: 0.0000e+00 - val_tn: 436.0000 - val_fn: 12.0000 - val_accuracy: 0.9732 - val_precision: 0.0000e+00 - val_recall: 0.0000e+00 - val_pr_auc: 0.1181 - val_roc_auc: 0.5417\n",
      "Epoch 14/600\n",
      "31/31 [==============================] - 0s 8ms/step - loss: 786.9731 - tp: 23.0000 - fp: 890.0000 - tn: 1037.0000 - fn: 34.0000 - accuracy: 0.5343 - precision: 0.0252 - recall: 0.4035 - pr_auc: 0.0265 - roc_auc: 0.4709 - val_loss: 1.3346 - val_tp: 3.0000 - val_fp: 35.0000 - val_tn: 401.0000 - val_fn: 9.0000 - val_accuracy: 0.9018 - val_precision: 0.0789 - val_recall: 0.2500 - val_pr_auc: 0.0579 - val_roc_auc: 0.6082\n",
      "Epoch 15/600\n",
      "31/31 [==============================] - 0s 8ms/step - loss: 645.5640 - tp: 29.0000 - fp: 949.0000 - tn: 978.0000 - fn: 28.0000 - accuracy: 0.5076 - precision: 0.0297 - recall: 0.5088 - pr_auc: 0.0289 - roc_auc: 0.5040 - val_loss: 1.3734 - val_tp: 4.0000 - val_fp: 38.0000 - val_tn: 398.0000 - val_fn: 8.0000 - val_accuracy: 0.8973 - val_precision: 0.0952 - val_recall: 0.3333 - val_pr_auc: 0.0566 - val_roc_auc: 0.6056\n",
      "Epoch 16/600\n",
      "31/31 [==============================] - 0s 8ms/step - loss: 718.7466 - tp: 30.0000 - fp: 956.0000 - tn: 971.0000 - fn: 27.0000 - accuracy: 0.5045 - precision: 0.0304 - recall: 0.5263 - pr_auc: 0.0300 - roc_auc: 0.5151 - val_loss: 2.1389 - val_tp: 4.0000 - val_fp: 70.0000 - val_tn: 366.0000 - val_fn: 8.0000 - val_accuracy: 0.8259 - val_precision: 0.0541 - val_recall: 0.3333 - val_pr_auc: 0.0495 - val_roc_auc: 0.6172\n",
      "Epoch 17/600\n",
      "31/31 [==============================] - 0s 9ms/step - loss: 672.1272 - tp: 31.0000 - fp: 969.0000 - tn: 958.0000 - fn: 26.0000 - accuracy: 0.4985 - precision: 0.0310 - recall: 0.5439 - pr_auc: 0.0304 - roc_auc: 0.5200 - val_loss: 1.5540 - val_tp: 4.0000 - val_fp: 49.0000 - val_tn: 387.0000 - val_fn: 8.0000 - val_accuracy: 0.8728 - val_precision: 0.0755 - val_recall: 0.3333 - val_pr_auc: 0.0525 - val_roc_auc: 0.5976\n",
      "Epoch 18/600\n",
      "31/31 [==============================] - 0s 8ms/step - loss: 636.7684 - tp: 29.0000 - fp: 951.0000 - tn: 976.0000 - fn: 28.0000 - accuracy: 0.5066 - precision: 0.0296 - recall: 0.5088 - pr_auc: 0.0296 - roc_auc: 0.5123 - val_loss: 1.1883 - val_tp: 3.0000 - val_fp: 28.0000 - val_tn: 408.0000 - val_fn: 9.0000 - val_accuracy: 0.9174 - val_precision: 0.0968 - val_recall: 0.2500 - val_pr_auc: 0.0708 - val_roc_auc: 0.6196\n",
      "Epoch 19/600\n"
     ]
    },
    {
     "name": "stdout",
     "output_type": "stream",
     "text": [
      "31/31 [==============================] - 0s 8ms/step - loss: 727.3855 - tp: 30.0000 - fp: 964.0000 - tn: 963.0000 - fn: 27.0000 - accuracy: 0.5005 - precision: 0.0302 - recall: 0.5263 - pr_auc: 0.0298 - roc_auc: 0.5130 - val_loss: 1.0284 - val_tp: 3.0000 - val_fp: 16.0000 - val_tn: 420.0000 - val_fn: 9.0000 - val_accuracy: 0.9442 - val_precision: 0.1579 - val_recall: 0.2500 - val_pr_auc: 0.0566 - val_roc_auc: 0.5946\n",
      "Epoch 20/600\n",
      "31/31 [==============================] - 0s 8ms/step - loss: 783.0110 - tp: 24.0000 - fp: 875.0000 - tn: 1052.0000 - fn: 33.0000 - accuracy: 0.5423 - precision: 0.0267 - recall: 0.4211 - pr_auc: 0.0275 - roc_auc: 0.4834 - val_loss: 2.3929 - val_tp: 4.0000 - val_fp: 74.0000 - val_tn: 362.0000 - val_fn: 8.0000 - val_accuracy: 0.8170 - val_precision: 0.0513 - val_recall: 0.3333 - val_pr_auc: 0.0544 - val_roc_auc: 0.6802\n",
      "Epoch 21/600\n",
      "31/31 [==============================] - 0s 8ms/step - loss: 736.0275 - tp: 22.0000 - fp: 1001.0000 - tn: 926.0000 - fn: 35.0000 - accuracy: 0.4778 - precision: 0.0215 - recall: 0.3860 - pr_auc: 0.0244 - roc_auc: 0.4374 - val_loss: 12.1564 - val_tp: 10.0000 - val_fp: 174.0000 - val_tn: 262.0000 - val_fn: 2.0000 - val_accuracy: 0.6071 - val_precision: 0.0543 - val_recall: 0.8333 - val_pr_auc: 0.0476 - val_roc_auc: 0.7185\n",
      "Epoch 22/600\n",
      "31/31 [==============================] - 0s 8ms/step - loss: 676.5814 - tp: 28.0000 - fp: 961.0000 - tn: 966.0000 - fn: 29.0000 - accuracy: 0.5010 - precision: 0.0283 - recall: 0.4912 - pr_auc: 0.0284 - roc_auc: 0.4960 - val_loss: 16.5870 - val_tp: 11.0000 - val_fp: 192.0000 - val_tn: 244.0000 - val_fn: 1.0000 - val_accuracy: 0.5692 - val_precision: 0.0542 - val_recall: 0.9167 - val_pr_auc: 0.0555 - val_roc_auc: 0.7488\n",
      "Epoch 23/600\n",
      "31/31 [==============================] - 0s 8ms/step - loss: 665.3410 - tp: 30.0000 - fp: 1014.0000 - tn: 913.0000 - fn: 27.0000 - accuracy: 0.4753 - precision: 0.0287 - recall: 0.5263 - pr_auc: 0.0287 - roc_auc: 0.5001 - val_loss: 10.6948 - val_tp: 8.0000 - val_fp: 163.0000 - val_tn: 273.0000 - val_fn: 4.0000 - val_accuracy: 0.6272 - val_precision: 0.0468 - val_recall: 0.6667 - val_pr_auc: 0.0443 - val_roc_auc: 0.6877\n",
      "Epoch 24/600\n",
      "31/31 [==============================] - 0s 8ms/step - loss: 607.8273 - tp: 35.0000 - fp: 944.0000 - tn: 983.0000 - fn: 22.0000 - accuracy: 0.5131 - precision: 0.0358 - recall: 0.6140 - pr_auc: 0.0344 - roc_auc: 0.5669 - val_loss: 2.7683 - val_tp: 5.0000 - val_fp: 81.0000 - val_tn: 355.0000 - val_fn: 7.0000 - val_accuracy: 0.8036 - val_precision: 0.0581 - val_recall: 0.4167 - val_pr_auc: 0.0509 - val_roc_auc: 0.6746\n",
      "Epoch 25/600\n",
      "31/31 [==============================] - 0s 8ms/step - loss: 634.9256 - tp: 29.0000 - fp: 980.0000 - tn: 947.0000 - fn: 28.0000 - accuracy: 0.4919 - precision: 0.0287 - recall: 0.5088 - pr_auc: 0.0288 - roc_auc: 0.5002 - val_loss: 1.9499 - val_tp: 4.0000 - val_fp: 61.0000 - val_tn: 375.0000 - val_fn: 8.0000 - val_accuracy: 0.8460 - val_precision: 0.0615 - val_recall: 0.3333 - val_pr_auc: 0.0489 - val_roc_auc: 0.6220\n",
      "Epoch 26/600\n",
      "31/31 [==============================] - 0s 8ms/step - loss: 696.3806 - tp: 35.0000 - fp: 905.0000 - tn: 1022.0000 - fn: 22.0000 - accuracy: 0.5328 - precision: 0.0372 - recall: 0.6140 - pr_auc: 0.0352 - roc_auc: 0.5722 - val_loss: 1.0407 - val_tp: 1.0000 - val_fp: 5.0000 - val_tn: 431.0000 - val_fn: 11.0000 - val_accuracy: 0.9643 - val_precision: 0.1667 - val_recall: 0.0833 - val_pr_auc: 0.1337 - val_roc_auc: 0.6066\n",
      "Epoch 27/600\n",
      "31/31 [==============================] - 0s 8ms/step - loss: 643.0208 - tp: 34.0000 - fp: 907.0000 - tn: 1020.0000 - fn: 23.0000 - accuracy: 0.5312 - precision: 0.0361 - recall: 0.5965 - pr_auc: 0.0344 - roc_auc: 0.5633 - val_loss: 1.6413 - val_tp: 0.0000e+00 - val_fp: 0.0000e+00 - val_tn: 436.0000 - val_fn: 12.0000 - val_accuracy: 0.9732 - val_precision: 0.0000e+00 - val_recall: 0.0000e+00 - val_pr_auc: 0.0268 - val_roc_auc: 0.5000\n",
      "Epoch 28/600\n",
      "31/31 [==============================] - 0s 8ms/step - loss: 612.2129 - tp: 32.0000 - fp: 918.0000 - tn: 1009.0000 - fn: 25.0000 - accuracy: 0.5247 - precision: 0.0337 - recall: 0.5614 - pr_auc: 0.0324 - roc_auc: 0.5426 - val_loss: 2.0108 - val_tp: 0.0000e+00 - val_fp: 0.0000e+00 - val_tn: 436.0000 - val_fn: 12.0000 - val_accuracy: 0.9732 - val_precision: 0.0000e+00 - val_recall: 0.0000e+00 - val_pr_auc: 0.0268 - val_roc_auc: 0.5000\n",
      "Epoch 29/600\n",
      "31/31 [==============================] - 0s 8ms/step - loss: 744.0453 - tp: 26.0000 - fp: 912.0000 - tn: 1015.0000 - fn: 31.0000 - accuracy: 0.5247 - precision: 0.0277 - recall: 0.4561 - pr_auc: 0.0280 - roc_auc: 0.4912 - val_loss: 1.3198 - val_tp: 0.0000e+00 - val_fp: 0.0000e+00 - val_tn: 436.0000 - val_fn: 12.0000 - val_accuracy: 0.9732 - val_precision: 0.0000e+00 - val_recall: 0.0000e+00 - val_pr_auc: 0.1181 - val_roc_auc: 0.5417\n",
      "Epoch 30/600\n",
      "31/31 [==============================] - 0s 8ms/step - loss: 664.1458 - tp: 32.0000 - fp: 924.0000 - tn: 1003.0000 - fn: 25.0000 - accuracy: 0.5217 - precision: 0.0335 - recall: 0.5614 - pr_auc: 0.0323 - roc_auc: 0.5417 - val_loss: 1.4007 - val_tp: 0.0000e+00 - val_fp: 0.0000e+00 - val_tn: 436.0000 - val_fn: 12.0000 - val_accuracy: 0.9732 - val_precision: 0.0000e+00 - val_recall: 0.0000e+00 - val_pr_auc: 0.1181 - val_roc_auc: 0.5417\n",
      "Epoch 31/600\n",
      "31/31 [==============================] - 0s 8ms/step - loss: 684.7707 - tp: 23.0000 - fp: 915.0000 - tn: 1012.0000 - fn: 34.0000 - accuracy: 0.5217 - precision: 0.0245 - recall: 0.4035 - pr_auc: 0.0261 - roc_auc: 0.4643 - val_loss: 1.1033 - val_tp: 3.0000 - val_fp: 20.0000 - val_tn: 416.0000 - val_fn: 9.0000 - val_accuracy: 0.9353 - val_precision: 0.1304 - val_recall: 0.2500 - val_pr_auc: 0.0563 - val_roc_auc: 0.5924\n",
      "Epoch 32/600\n",
      "31/31 [==============================] - 0s 8ms/step - loss: 706.0251 - tp: 30.0000 - fp: 935.0000 - tn: 992.0000 - fn: 27.0000 - accuracy: 0.5151 - precision: 0.0311 - recall: 0.5263 - pr_auc: 0.0304 - roc_auc: 0.5203 - val_loss: 1.1939 - val_tp: 3.0000 - val_fp: 27.0000 - val_tn: 409.0000 - val_fn: 9.0000 - val_accuracy: 0.9196 - val_precision: 0.1000 - val_recall: 0.2500 - val_pr_auc: 0.0673 - val_roc_auc: 0.5872\n",
      "Epoch 33/600\n",
      "31/31 [==============================] - 0s 8ms/step - loss: 734.0149 - tp: 25.0000 - fp: 957.0000 - tn: 970.0000 - fn: 32.0000 - accuracy: 0.5015 - precision: 0.0255 - recall: 0.4386 - pr_auc: 0.0266 - roc_auc: 0.4711 - val_loss: 3.3910 - val_tp: 7.0000 - val_fp: 89.0000 - val_tn: 347.0000 - val_fn: 5.0000 - val_accuracy: 0.7902 - val_precision: 0.0729 - val_recall: 0.5833 - val_pr_auc: 0.0484 - val_roc_auc: 0.6683\n",
      "Epoch 34/600\n",
      "31/31 [==============================] - 0s 8ms/step - loss: 729.2814 - tp: 28.0000 - fp: 978.0000 - tn: 949.0000 - fn: 29.0000 - accuracy: 0.4924 - precision: 0.0278 - recall: 0.4912 - pr_auc: 0.0282 - roc_auc: 0.4925 - val_loss: 7.5778 - val_tp: 7.0000 - val_fp: 136.0000 - val_tn: 300.0000 - val_fn: 5.0000 - val_accuracy: 0.6853 - val_precision: 0.0490 - val_recall: 0.5833 - val_pr_auc: 0.0446 - val_roc_auc: 0.6364\n",
      "Epoch 35/600\n",
      "31/31 [==============================] - 0s 8ms/step - loss: 572.0403 - tp: 38.0000 - fp: 1004.0000 - tn: 923.0000 - fn: 19.0000 - accuracy: 0.4844 - precision: 0.0365 - recall: 0.6667 - pr_auc: 0.0350 - roc_auc: 0.5735 - val_loss: 1.0886 - val_tp: 3.0000 - val_fp: 18.0000 - val_tn: 418.0000 - val_fn: 9.0000 - val_accuracy: 0.9397 - val_precision: 0.1429 - val_recall: 0.2500 - val_pr_auc: 0.0568 - val_roc_auc: 0.5941\n",
      "Epoch 36/600\n",
      "31/31 [==============================] - 0s 8ms/step - loss: 654.1964 - tp: 30.0000 - fp: 892.0000 - tn: 1035.0000 - fn: 27.0000 - accuracy: 0.5368 - precision: 0.0325 - recall: 0.5263 - pr_auc: 0.0314 - roc_auc: 0.5316 - val_loss: 1.2421 - val_tp: 1.0000 - val_fp: 0.0000e+00 - val_tn: 436.0000 - val_fn: 11.0000 - val_accuracy: 0.9754 - val_precision: 1.0000 - val_recall: 0.0833 - val_pr_auc: 0.1181 - val_roc_auc: 0.5417\n",
      "Epoch 37/600\n",
      "31/31 [==============================] - 0s 8ms/step - loss: 759.2554 - tp: 27.0000 - fp: 908.0000 - tn: 1019.0000 - fn: 30.0000 - accuracy: 0.5272 - precision: 0.0289 - recall: 0.4737 - pr_auc: 0.0289 - roc_auc: 0.5013 - val_loss: 1.0493 - val_tp: 2.0000 - val_fp: 13.0000 - val_tn: 423.0000 - val_fn: 10.0000 - val_accuracy: 0.9487 - val_precision: 0.1333 - val_recall: 0.1667 - val_pr_auc: 0.0643 - val_roc_auc: 0.5998\n"
     ]
    },
    {
     "name": "stdout",
     "output_type": "stream",
     "text": [
      "Epoch 38/600\n",
      "31/31 [==============================] - 0s 8ms/step - loss: 708.7211 - tp: 27.0000 - fp: 967.0000 - tn: 960.0000 - fn: 30.0000 - accuracy: 0.4975 - precision: 0.0272 - recall: 0.4737 - pr_auc: 0.0277 - roc_auc: 0.4862 - val_loss: 1.7183 - val_tp: 4.0000 - val_fp: 51.0000 - val_tn: 385.0000 - val_fn: 8.0000 - val_accuracy: 0.8683 - val_precision: 0.0727 - val_recall: 0.3333 - val_pr_auc: 0.0503 - val_roc_auc: 0.5966\n",
      "Epoch 39/600\n",
      "31/31 [==============================] - 0s 8ms/step - loss: 610.7546 - tp: 28.0000 - fp: 939.0000 - tn: 988.0000 - fn: 29.0000 - accuracy: 0.5121 - precision: 0.0290 - recall: 0.4912 - pr_auc: 0.0289 - roc_auc: 0.5016 - val_loss: 5.6877 - val_tp: 7.0000 - val_fp: 118.0000 - val_tn: 318.0000 - val_fn: 5.0000 - val_accuracy: 0.7254 - val_precision: 0.0560 - val_recall: 0.5833 - val_pr_auc: 0.0524 - val_roc_auc: 0.6622\n",
      "Epoch 40/600\n",
      "31/31 [==============================] - 0s 8ms/step - loss: 661.7399 - tp: 30.0000 - fp: 960.0000 - tn: 967.0000 - fn: 27.0000 - accuracy: 0.5025 - precision: 0.0303 - recall: 0.5263 - pr_auc: 0.0299 - roc_auc: 0.5141 - val_loss: 4.1412 - val_tp: 7.0000 - val_fp: 95.0000 - val_tn: 341.0000 - val_fn: 5.0000 - val_accuracy: 0.7768 - val_precision: 0.0686 - val_recall: 0.5833 - val_pr_auc: 0.0594 - val_roc_auc: 0.6813\n",
      "Epoch 41/600\n",
      "31/31 [==============================] - 0s 8ms/step - loss: 775.0972 - tp: 27.0000 - fp: 953.0000 - tn: 974.0000 - fn: 30.0000 - accuracy: 0.5045 - precision: 0.0276 - recall: 0.4737 - pr_auc: 0.0280 - roc_auc: 0.4898 - val_loss: 4.1662 - val_tp: 7.0000 - val_fp: 95.0000 - val_tn: 341.0000 - val_fn: 5.0000 - val_accuracy: 0.7768 - val_precision: 0.0686 - val_recall: 0.5833 - val_pr_auc: 0.0595 - val_roc_auc: 0.6818\n",
      "Epoch 42/600\n",
      "31/31 [==============================] - 0s 8ms/step - loss: 625.8299 - tp: 27.0000 - fp: 948.0000 - tn: 979.0000 - fn: 30.0000 - accuracy: 0.5071 - precision: 0.0277 - recall: 0.4737 - pr_auc: 0.0281 - roc_auc: 0.4908 - val_loss: 8.2109 - val_tp: 7.0000 - val_fp: 138.0000 - val_tn: 298.0000 - val_fn: 5.0000 - val_accuracy: 0.6808 - val_precision: 0.0483 - val_recall: 0.5833 - val_pr_auc: 0.0455 - val_roc_auc: 0.6600\n",
      "Epoch 43/600\n",
      "31/31 [==============================] - 0s 8ms/step - loss: 669.8549 - tp: 32.0000 - fp: 977.0000 - tn: 950.0000 - fn: 25.0000 - accuracy: 0.4950 - precision: 0.0317 - recall: 0.5614 - pr_auc: 0.0310 - roc_auc: 0.5274 - val_loss: 5.9656 - val_tp: 7.0000 - val_fp: 120.0000 - val_tn: 316.0000 - val_fn: 5.0000 - val_accuracy: 0.7210 - val_precision: 0.0551 - val_recall: 0.5833 - val_pr_auc: 0.0520 - val_roc_auc: 0.6610\n",
      "Epoch 44/600\n",
      "31/31 [==============================] - 0s 9ms/step - loss: 653.1799 - tp: 29.0000 - fp: 976.0000 - tn: 951.0000 - fn: 28.0000 - accuracy: 0.4940 - precision: 0.0289 - recall: 0.5088 - pr_auc: 0.0288 - roc_auc: 0.5012 - val_loss: 2.7230 - val_tp: 4.0000 - val_fp: 76.0000 - val_tn: 360.0000 - val_fn: 8.0000 - val_accuracy: 0.8125 - val_precision: 0.0500 - val_recall: 0.3333 - val_pr_auc: 0.0532 - val_roc_auc: 0.6799\n",
      "Epoch 45/600\n",
      "31/31 [==============================] - 0s 8ms/step - loss: 671.3856 - tp: 27.0000 - fp: 916.0000 - tn: 1011.0000 - fn: 30.0000 - accuracy: 0.5232 - precision: 0.0286 - recall: 0.4737 - pr_auc: 0.0287 - roc_auc: 0.4993 - val_loss: 5.2022 - val_tp: 7.0000 - val_fp: 110.0000 - val_tn: 326.0000 - val_fn: 5.0000 - val_accuracy: 0.7433 - val_precision: 0.0598 - val_recall: 0.5833 - val_pr_auc: 0.0549 - val_roc_auc: 0.6681\n",
      "Epoch 46/600\n",
      "31/31 [==============================] - 0s 8ms/step - loss: 596.2931 - tp: 30.0000 - fp: 979.0000 - tn: 948.0000 - fn: 27.0000 - accuracy: 0.4929 - precision: 0.0297 - recall: 0.5263 - pr_auc: 0.0295 - roc_auc: 0.5095 - val_loss: 4.2276 - val_tp: 7.0000 - val_fp: 96.0000 - val_tn: 340.0000 - val_fn: 5.0000 - val_accuracy: 0.7746 - val_precision: 0.0680 - val_recall: 0.5833 - val_pr_auc: 0.0600 - val_roc_auc: 0.6824\n",
      "Epoch 47/600\n",
      "31/31 [==============================] - 0s 8ms/step - loss: 697.7968 - tp: 24.0000 - fp: 966.0000 - tn: 961.0000 - fn: 33.0000 - accuracy: 0.4965 - precision: 0.0242 - recall: 0.4211 - pr_auc: 0.0258 - roc_auc: 0.4599 - val_loss: 8.1866 - val_tp: 7.0000 - val_fp: 138.0000 - val_tn: 298.0000 - val_fn: 5.0000 - val_accuracy: 0.6808 - val_precision: 0.0483 - val_recall: 0.5833 - val_pr_auc: 0.0458 - val_roc_auc: 0.6613\n",
      "Epoch 48/600\n",
      "31/31 [==============================] - 0s 8ms/step - loss: 654.9456 - tp: 30.0000 - fp: 930.0000 - tn: 997.0000 - fn: 27.0000 - accuracy: 0.5176 - precision: 0.0312 - recall: 0.5263 - pr_auc: 0.0305 - roc_auc: 0.5214 - val_loss: 14.5580 - val_tp: 10.0000 - val_fp: 179.0000 - val_tn: 257.0000 - val_fn: 2.0000 - val_accuracy: 0.5960 - val_precision: 0.0529 - val_recall: 0.8333 - val_pr_auc: 0.0554 - val_roc_auc: 0.7488\n",
      "Epoch 49/600\n",
      "31/31 [==============================] - 0s 8ms/step - loss: 611.7916 - tp: 31.0000 - fp: 953.0000 - tn: 974.0000 - fn: 26.0000 - accuracy: 0.5066 - precision: 0.0315 - recall: 0.5439 - pr_auc: 0.0307 - roc_auc: 0.5244 - val_loss: 7.7319 - val_tp: 7.0000 - val_fp: 133.0000 - val_tn: 303.0000 - val_fn: 5.0000 - val_accuracy: 0.6920 - val_precision: 0.0500 - val_recall: 0.5833 - val_pr_auc: 0.0450 - val_roc_auc: 0.6394\n",
      "Epoch 50/600\n",
      "31/31 [==============================] - 0s 8ms/step - loss: 697.1287 - tp: 30.0000 - fp: 950.0000 - tn: 977.0000 - fn: 27.0000 - accuracy: 0.5076 - precision: 0.0306 - recall: 0.5263 - pr_auc: 0.0301 - roc_auc: 0.5171 - val_loss: 4.9852 - val_tp: 7.0000 - val_fp: 103.0000 - val_tn: 333.0000 - val_fn: 5.0000 - val_accuracy: 0.7589 - val_precision: 0.0636 - val_recall: 0.5833 - val_pr_auc: 0.0566 - val_roc_auc: 0.6722\n",
      "Epoch 51/600\n",
      "31/31 [==============================] - 0s 8ms/step - loss: 701.2194 - tp: 32.0000 - fp: 1005.0000 - tn: 922.0000 - fn: 25.0000 - accuracy: 0.4808 - precision: 0.0309 - recall: 0.5614 - pr_auc: 0.0303 - roc_auc: 0.5197 - val_loss: 4.8660 - val_tp: 7.0000 - val_fp: 102.0000 - val_tn: 334.0000 - val_fn: 5.0000 - val_accuracy: 0.7612 - val_precision: 0.0642 - val_recall: 0.5833 - val_pr_auc: 0.0568 - val_roc_auc: 0.6741\n",
      "Epoch 52/600\n",
      "31/31 [==============================] - 0s 8ms/step - loss: 708.9950 - tp: 29.0000 - fp: 932.0000 - tn: 995.0000 - fn: 28.0000 - accuracy: 0.5161 - precision: 0.0302 - recall: 0.5088 - pr_auc: 0.0297 - roc_auc: 0.5124 - val_loss: 2.7246 - val_tp: 4.0000 - val_fp: 74.0000 - val_tn: 362.0000 - val_fn: 8.0000 - val_accuracy: 0.8170 - val_precision: 0.0513 - val_recall: 0.3333 - val_pr_auc: 0.0539 - val_roc_auc: 0.6816\n",
      "Epoch 53/600\n",
      "31/31 [==============================] - 0s 8ms/step - loss: 648.5645 - tp: 32.0000 - fp: 932.0000 - tn: 995.0000 - fn: 25.0000 - accuracy: 0.5176 - precision: 0.0332 - recall: 0.5614 - pr_auc: 0.0320 - roc_auc: 0.5385 - val_loss: 1.2994 - val_tp: 3.0000 - val_fp: 29.0000 - val_tn: 407.0000 - val_fn: 9.0000 - val_accuracy: 0.9152 - val_precision: 0.0938 - val_recall: 0.2500 - val_pr_auc: 0.0629 - val_roc_auc: 0.5849\n",
      "Epoch 54/600\n",
      "31/31 [==============================] - 0s 8ms/step - loss: 705.6274 - tp: 27.0000 - fp: 932.0000 - tn: 995.0000 - fn: 30.0000 - accuracy: 0.5151 - precision: 0.0282 - recall: 0.4737 - pr_auc: 0.0279 - roc_auc: 0.4908 - val_loss: 2.0455 - val_tp: 4.0000 - val_fp: 58.0000 - val_tn: 378.0000 - val_fn: 8.0000 - val_accuracy: 0.8527 - val_precision: 0.0645 - val_recall: 0.3333 - val_pr_auc: 0.0455 - val_roc_auc: 0.5902\n",
      "Epoch 55/600\n",
      "31/31 [==============================] - 0s 8ms/step - loss: 759.3772 - tp: 24.0000 - fp: 924.0000 - tn: 1003.0000 - fn: 33.0000 - accuracy: 0.5176 - precision: 0.0253 - recall: 0.4211 - pr_auc: 0.0265 - roc_auc: 0.4700 - val_loss: 8.0725 - val_tp: 7.0000 - val_fp: 133.0000 - val_tn: 303.0000 - val_fn: 5.0000 - val_accuracy: 0.6920 - val_precision: 0.0500 - val_recall: 0.5833 - val_pr_auc: 0.0447 - val_roc_auc: 0.6388\n",
      "Epoch 56/600\n",
      "31/31 [==============================] - 0s 8ms/step - loss: 647.7773 - tp: 30.0000 - fp: 945.0000 - tn: 982.0000 - fn: 27.0000 - accuracy: 0.5101 - precision: 0.0308 - recall: 0.5263 - pr_auc: 0.0302 - roc_auc: 0.5182 - val_loss: 9.2245 - val_tp: 7.0000 - val_fp: 144.0000 - val_tn: 292.0000 - val_fn: 5.0000 - val_accuracy: 0.6674 - val_precision: 0.0464 - val_recall: 0.5833 - val_pr_auc: 0.0447 - val_roc_auc: 0.6562\n"
     ]
    },
    {
     "name": "stdout",
     "output_type": "stream",
     "text": [
      "Epoch 57/600\n",
      "31/31 [==============================] - 0s 8ms/step - loss: 586.7076 - tp: 31.0000 - fp: 929.0000 - tn: 998.0000 - fn: 26.0000 - accuracy: 0.5186 - precision: 0.0323 - recall: 0.5439 - pr_auc: 0.0313 - roc_auc: 0.5311 - val_loss: 6.3700 - val_tp: 7.0000 - val_fp: 122.0000 - val_tn: 314.0000 - val_fn: 5.0000 - val_accuracy: 0.7165 - val_precision: 0.0543 - val_recall: 0.5833 - val_pr_auc: 0.0513 - val_roc_auc: 0.6592\n",
      "Epoch 58/600\n",
      "31/31 [==============================] - 0s 8ms/step - loss: 732.3783 - tp: 26.0000 - fp: 958.0000 - tn: 969.0000 - fn: 31.0000 - accuracy: 0.5015 - precision: 0.0264 - recall: 0.4561 - pr_auc: 0.0272 - roc_auc: 0.4792 - val_loss: 12.9430 - val_tp: 10.0000 - val_fp: 165.0000 - val_tn: 271.0000 - val_fn: 2.0000 - val_accuracy: 0.6272 - val_precision: 0.0571 - val_recall: 0.8333 - val_pr_auc: 0.0464 - val_roc_auc: 0.6971\n",
      "Epoch 59/600\n",
      "31/31 [==============================] - 0s 8ms/step - loss: 504.5739 - tp: 34.0000 - fp: 959.0000 - tn: 968.0000 - fn: 23.0000 - accuracy: 0.5050 - precision: 0.0342 - recall: 0.5965 - pr_auc: 0.0329 - roc_auc: 0.5495 - val_loss: 9.5905 - val_tp: 7.0000 - val_fp: 144.0000 - val_tn: 292.0000 - val_fn: 5.0000 - val_accuracy: 0.6674 - val_precision: 0.0464 - val_recall: 0.5833 - val_pr_auc: 0.0445 - val_roc_auc: 0.6553\n",
      "Epoch 60/600\n",
      "31/31 [==============================] - 0s 8ms/step - loss: 673.0958 - tp: 31.0000 - fp: 946.0000 - tn: 981.0000 - fn: 26.0000 - accuracy: 0.5101 - precision: 0.0317 - recall: 0.5439 - pr_auc: 0.0309 - roc_auc: 0.5261 - val_loss: 3.3391 - val_tp: 7.0000 - val_fp: 84.0000 - val_tn: 352.0000 - val_fn: 5.0000 - val_accuracy: 0.8013 - val_precision: 0.0769 - val_recall: 0.5833 - val_pr_auc: 0.0505 - val_roc_auc: 0.6752\n",
      "Epoch 61/600\n",
      "31/31 [==============================] - 0s 8ms/step - loss: 580.8128 - tp: 30.0000 - fp: 932.0000 - tn: 995.0000 - fn: 27.0000 - accuracy: 0.5166 - precision: 0.0312 - recall: 0.5263 - pr_auc: 0.0305 - roc_auc: 0.5219 - val_loss: 4.5218 - val_tp: 7.0000 - val_fp: 97.0000 - val_tn: 339.0000 - val_fn: 5.0000 - val_accuracy: 0.7723 - val_precision: 0.0673 - val_recall: 0.5833 - val_pr_auc: 0.0584 - val_roc_auc: 0.6795\n",
      "Epoch 62/600\n",
      "31/31 [==============================] - 0s 8ms/step - loss: 715.3452 - tp: 32.0000 - fp: 962.0000 - tn: 965.0000 - fn: 25.0000 - accuracy: 0.5025 - precision: 0.0322 - recall: 0.5614 - pr_auc: 0.0313 - roc_auc: 0.5312 - val_loss: 1.3229 - val_tp: 3.0000 - val_fp: 29.0000 - val_tn: 407.0000 - val_fn: 9.0000 - val_accuracy: 0.9152 - val_precision: 0.0938 - val_recall: 0.2500 - val_pr_auc: 0.0613 - val_roc_auc: 0.5854\n",
      "Epoch 63/600\n",
      "31/31 [==============================] - 0s 8ms/step - loss: 624.5991 - tp: 32.0000 - fp: 942.0000 - tn: 985.0000 - fn: 25.0000 - accuracy: 0.5126 - precision: 0.0329 - recall: 0.5614 - pr_auc: 0.0318 - roc_auc: 0.5363 - val_loss: 1.7162 - val_tp: 3.0000 - val_fp: 44.0000 - val_tn: 392.0000 - val_fn: 9.0000 - val_accuracy: 0.8817 - val_precision: 0.0638 - val_recall: 0.2500 - val_pr_auc: 0.0520 - val_roc_auc: 0.6027\n",
      "Epoch 64/600\n",
      "31/31 [==============================] - 0s 8ms/step - loss: 621.3779 - tp: 29.0000 - fp: 942.0000 - tn: 985.0000 - fn: 28.0000 - accuracy: 0.5111 - precision: 0.0299 - recall: 0.5088 - pr_auc: 0.0296 - roc_auc: 0.5100 - val_loss: 1.2213 - val_tp: 3.0000 - val_fp: 22.0000 - val_tn: 414.0000 - val_fn: 9.0000 - val_accuracy: 0.9308 - val_precision: 0.1200 - val_recall: 0.2500 - val_pr_auc: 0.0734 - val_roc_auc: 0.5929\n",
      "Epoch 65/600\n",
      "31/31 [==============================] - 0s 8ms/step - loss: 618.2139 - tp: 31.0000 - fp: 894.0000 - tn: 1033.0000 - fn: 26.0000 - accuracy: 0.5363 - precision: 0.0335 - recall: 0.5439 - pr_auc: 0.0322 - roc_auc: 0.5400 - val_loss: 1.1154 - val_tp: 1.0000 - val_fp: 9.0000 - val_tn: 427.0000 - val_fn: 11.0000 - val_accuracy: 0.9554 - val_precision: 0.1000 - val_recall: 0.0833 - val_pr_auc: 0.0781 - val_roc_auc: 0.6030\n",
      "Epoch 66/600\n",
      "31/31 [==============================] - 0s 8ms/step - loss: 614.9578 - tp: 29.0000 - fp: 924.0000 - tn: 1003.0000 - fn: 28.0000 - accuracy: 0.5202 - precision: 0.0304 - recall: 0.5088 - pr_auc: 0.0299 - roc_auc: 0.5145 - val_loss: 1.2338 - val_tp: 3.0000 - val_fp: 24.0000 - val_tn: 412.0000 - val_fn: 9.0000 - val_accuracy: 0.9263 - val_precision: 0.1111 - val_recall: 0.2500 - val_pr_auc: 0.0707 - val_roc_auc: 0.5926\n",
      "Epoch 67/600\n",
      "31/31 [==============================] - 0s 8ms/step - loss: 712.7925 - tp: 25.0000 - fp: 931.0000 - tn: 996.0000 - fn: 32.0000 - accuracy: 0.5146 - precision: 0.0262 - recall: 0.4386 - pr_auc: 0.0270 - roc_auc: 0.4773 - val_loss: 2.9545 - val_tp: 4.0000 - val_fp: 75.0000 - val_tn: 361.0000 - val_fn: 8.0000 - val_accuracy: 0.8147 - val_precision: 0.0506 - val_recall: 0.3333 - val_pr_auc: 0.0538 - val_roc_auc: 0.6825\n",
      "Epoch 68/600\n",
      "31/31 [==============================] - 0s 8ms/step - loss: 639.1650 - tp: 29.0000 - fp: 949.0000 - tn: 978.0000 - fn: 28.0000 - accuracy: 0.5076 - precision: 0.0297 - recall: 0.5088 - pr_auc: 0.0294 - roc_auc: 0.5078 - val_loss: 3.8344 - val_tp: 7.0000 - val_fp: 89.0000 - val_tn: 347.0000 - val_fn: 5.0000 - val_accuracy: 0.7902 - val_precision: 0.0729 - val_recall: 0.5833 - val_pr_auc: 0.0492 - val_roc_auc: 0.6709\n",
      "Epoch 69/600\n",
      "31/31 [==============================] - 0s 8ms/step - loss: 775.6504 - tp: 23.0000 - fp: 934.0000 - tn: 993.0000 - fn: 34.0000 - accuracy: 0.5121 - precision: 0.0240 - recall: 0.4035 - pr_auc: 0.0258 - roc_auc: 0.4590 - val_loss: 8.3437 - val_tp: 7.0000 - val_fp: 133.0000 - val_tn: 303.0000 - val_fn: 5.0000 - val_accuracy: 0.6920 - val_precision: 0.0500 - val_recall: 0.5833 - val_pr_auc: 0.0447 - val_roc_auc: 0.6388\n",
      "Epoch 70/600\n",
      "31/31 [==============================] - 0s 8ms/step - loss: 712.4510 - tp: 28.0000 - fp: 954.0000 - tn: 973.0000 - fn: 29.0000 - accuracy: 0.5045 - precision: 0.0285 - recall: 0.4912 - pr_auc: 0.0286 - roc_auc: 0.4981 - val_loss: 17.7638 - val_tp: 11.0000 - val_fp: 185.0000 - val_tn: 251.0000 - val_fn: 1.0000 - val_accuracy: 0.5848 - val_precision: 0.0561 - val_recall: 0.9167 - val_pr_auc: 0.0520 - val_roc_auc: 0.7357\n",
      "Epoch 71/600\n",
      "31/31 [==============================] - 0s 8ms/step - loss: 719.3209 - tp: 27.0000 - fp: 1008.0000 - tn: 919.0000 - fn: 30.0000 - accuracy: 0.4768 - precision: 0.0261 - recall: 0.4737 - pr_auc: 0.0269 - roc_auc: 0.4753 - val_loss: 17.6702 - val_tp: 11.0000 - val_fp: 185.0000 - val_tn: 251.0000 - val_fn: 1.0000 - val_accuracy: 0.5848 - val_precision: 0.0561 - val_recall: 0.9167 - val_pr_auc: 0.0523 - val_roc_auc: 0.7369\n",
      "Epoch 72/600\n",
      "31/31 [==============================] - 0s 8ms/step - loss: 705.5278 - tp: 28.0000 - fp: 999.0000 - tn: 928.0000 - fn: 29.0000 - accuracy: 0.4819 - precision: 0.0273 - recall: 0.4912 - pr_auc: 0.0277 - roc_auc: 0.4863 - val_loss: 15.1272 - val_tp: 10.0000 - val_fp: 173.0000 - val_tn: 263.0000 - val_fn: 2.0000 - val_accuracy: 0.6094 - val_precision: 0.0546 - val_recall: 0.8333 - val_pr_auc: 0.0515 - val_roc_auc: 0.7350\n",
      "Epoch 73/600\n",
      "31/31 [==============================] - 0s 8ms/step - loss: 604.8820 - tp: 30.0000 - fp: 967.0000 - tn: 960.0000 - fn: 27.0000 - accuracy: 0.4990 - precision: 0.0301 - recall: 0.5263 - pr_auc: 0.0298 - roc_auc: 0.5128 - val_loss: 15.9369 - val_tp: 11.0000 - val_fp: 179.0000 - val_tn: 257.0000 - val_fn: 1.0000 - val_accuracy: 0.5982 - val_precision: 0.0579 - val_recall: 0.9167 - val_pr_auc: 0.0551 - val_roc_auc: 0.7481\n",
      "Epoch 74/600\n",
      "31/31 [==============================] - 0s 8ms/step - loss: 875.4374 - tp: 24.0000 - fp: 961.0000 - tn: 966.0000 - fn: 33.0000 - accuracy: 0.4990 - precision: 0.0244 - recall: 0.4211 - pr_auc: 0.0259 - roc_auc: 0.4612 - val_loss: 19.1197 - val_tp: 11.0000 - val_fp: 189.0000 - val_tn: 247.0000 - val_fn: 1.0000 - val_accuracy: 0.5759 - val_precision: 0.0550 - val_recall: 0.9167 - val_pr_auc: 0.0559 - val_roc_auc: 0.7507\n",
      "Epoch 75/600\n",
      "31/31 [==============================] - 0s 8ms/step - loss: 559.3773 - tp: 37.0000 - fp: 948.0000 - tn: 979.0000 - fn: 20.0000 - accuracy: 0.5121 - precision: 0.0376 - recall: 0.6491 - pr_auc: 0.0357 - roc_auc: 0.5789 - val_loss: 13.1591 - val_tp: 9.0000 - val_fp: 162.0000 - val_tn: 274.0000 - val_fn: 3.0000 - val_accuracy: 0.6317 - val_precision: 0.0526 - val_recall: 0.7500 - val_pr_auc: 0.0479 - val_roc_auc: 0.7041\n"
     ]
    },
    {
     "name": "stdout",
     "output_type": "stream",
     "text": [
      "Epoch 76/600\n",
      "31/31 [==============================] - 0s 8ms/step - loss: 609.5209 - tp: 33.0000 - fp: 921.0000 - tn: 1006.0000 - fn: 24.0000 - accuracy: 0.5237 - precision: 0.0346 - recall: 0.5789 - pr_auc: 0.0331 - roc_auc: 0.5503 - val_loss: 8.0969 - val_tp: 7.0000 - val_fp: 132.0000 - val_tn: 304.0000 - val_fn: 5.0000 - val_accuracy: 0.6942 - val_precision: 0.0504 - val_recall: 0.5833 - val_pr_auc: 0.0457 - val_roc_auc: 0.6419\n",
      "Epoch 77/600\n",
      "31/31 [==============================] - 0s 8ms/step - loss: 731.4659 - tp: 22.0000 - fp: 925.0000 - tn: 1002.0000 - fn: 35.0000 - accuracy: 0.5161 - precision: 0.0232 - recall: 0.3860 - pr_auc: 0.0253 - roc_auc: 0.4529 - val_loss: 13.6652 - val_tp: 10.0000 - val_fp: 165.0000 - val_tn: 271.0000 - val_fn: 2.0000 - val_accuracy: 0.6272 - val_precision: 0.0571 - val_recall: 0.8333 - val_pr_auc: 0.0471 - val_roc_auc: 0.7003\n",
      "Epoch 78/600\n",
      "31/31 [==============================] - 0s 8ms/step - loss: 613.3082 - tp: 32.0000 - fp: 976.0000 - tn: 951.0000 - fn: 25.0000 - accuracy: 0.4955 - precision: 0.0317 - recall: 0.5614 - pr_auc: 0.0309 - roc_auc: 0.5272 - val_loss: 13.1686 - val_tp: 9.0000 - val_fp: 162.0000 - val_tn: 274.0000 - val_fn: 3.0000 - val_accuracy: 0.6317 - val_precision: 0.0526 - val_recall: 0.7500 - val_pr_auc: 0.0482 - val_roc_auc: 0.7053\n",
      "Epoch 79/600\n",
      "31/31 [==============================] - 0s 8ms/step - loss: 584.0505 - tp: 29.0000 - fp: 974.0000 - tn: 953.0000 - fn: 28.0000 - accuracy: 0.4950 - precision: 0.0289 - recall: 0.5088 - pr_auc: 0.0289 - roc_auc: 0.5019 - val_loss: 14.4122 - val_tp: 10.0000 - val_fp: 167.0000 - val_tn: 269.0000 - val_fn: 2.0000 - val_accuracy: 0.6228 - val_precision: 0.0565 - val_recall: 0.8333 - val_pr_auc: 0.0483 - val_roc_auc: 0.7224\n",
      "Epoch 80/600\n",
      "31/31 [==============================] - 0s 8ms/step - loss: 606.9058 - tp: 29.0000 - fp: 957.0000 - tn: 970.0000 - fn: 28.0000 - accuracy: 0.5035 - precision: 0.0294 - recall: 0.5088 - pr_auc: 0.0292 - roc_auc: 0.5062 - val_loss: 13.6603 - val_tp: 9.0000 - val_fp: 163.0000 - val_tn: 273.0000 - val_fn: 3.0000 - val_accuracy: 0.6295 - val_precision: 0.0523 - val_recall: 0.7500 - val_pr_auc: 0.0471 - val_roc_auc: 0.7011\n",
      "Epoch 81/600\n",
      "31/31 [==============================] - 0s 8ms/step - loss: 737.4938 - tp: 24.0000 - fp: 985.0000 - tn: 942.0000 - fn: 33.0000 - accuracy: 0.4869 - precision: 0.0238 - recall: 0.4211 - pr_auc: 0.0256 - roc_auc: 0.4552 - val_loss: 14.6875 - val_tp: 10.0000 - val_fp: 168.0000 - val_tn: 268.0000 - val_fn: 2.0000 - val_accuracy: 0.6205 - val_precision: 0.0562 - val_recall: 0.8333 - val_pr_auc: 0.0479 - val_roc_auc: 0.7211\n",
      "Epoch 82/600\n",
      "31/31 [==============================] - 0s 8ms/step - loss: 564.0959 - tp: 33.0000 - fp: 978.0000 - tn: 949.0000 - fn: 24.0000 - accuracy: 0.4950 - precision: 0.0326 - recall: 0.5789 - pr_auc: 0.0317 - roc_auc: 0.5362 - val_loss: 14.5680 - val_tp: 10.0000 - val_fp: 167.0000 - val_tn: 269.0000 - val_fn: 2.0000 - val_accuracy: 0.6228 - val_precision: 0.0565 - val_recall: 0.8333 - val_pr_auc: 0.0481 - val_roc_auc: 0.7220\n",
      "Epoch 83/600\n",
      "31/31 [==============================] - 0s 8ms/step - loss: 758.4675 - tp: 31.0000 - fp: 951.0000 - tn: 976.0000 - fn: 26.0000 - accuracy: 0.5076 - precision: 0.0316 - recall: 0.5439 - pr_auc: 0.0308 - roc_auc: 0.5252 - val_loss: 9.4230 - val_tp: 7.0000 - val_fp: 139.0000 - val_tn: 297.0000 - val_fn: 5.0000 - val_accuracy: 0.6786 - val_precision: 0.0479 - val_recall: 0.5833 - val_pr_auc: 0.0457 - val_roc_auc: 0.6627\n",
      "Epoch 84/600\n",
      "31/31 [==============================] - 0s 8ms/step - loss: 651.4647 - tp: 27.0000 - fp: 947.0000 - tn: 980.0000 - fn: 30.0000 - accuracy: 0.5076 - precision: 0.0277 - recall: 0.4737 - pr_auc: 0.0276 - roc_auc: 0.4869 - val_loss: 11.8240 - val_tp: 8.0000 - val_fp: 154.0000 - val_tn: 282.0000 - val_fn: 4.0000 - val_accuracy: 0.6473 - val_precision: 0.0494 - val_recall: 0.6667 - val_pr_auc: 0.0440 - val_roc_auc: 0.6725\n",
      "Epoch 85/600\n",
      "31/31 [==============================] - 0s 8ms/step - loss: 649.8463 - tp: 31.0000 - fp: 934.0000 - tn: 993.0000 - fn: 26.0000 - accuracy: 0.5161 - precision: 0.0321 - recall: 0.5439 - pr_auc: 0.0312 - roc_auc: 0.5295 - val_loss: 13.0307 - val_tp: 8.0000 - val_fp: 162.0000 - val_tn: 274.0000 - val_fn: 4.0000 - val_accuracy: 0.6295 - val_precision: 0.0471 - val_recall: 0.6667 - val_pr_auc: 0.0491 - val_roc_auc: 0.7093\n",
      "Epoch 86/600\n",
      "31/31 [==============================] - 0s 8ms/step - loss: 678.8430 - tp: 29.0000 - fp: 959.0000 - tn: 968.0000 - fn: 28.0000 - accuracy: 0.5025 - precision: 0.0294 - recall: 0.5088 - pr_auc: 0.0292 - roc_auc: 0.5058 - val_loss: 10.3655 - val_tp: 8.0000 - val_fp: 145.0000 - val_tn: 291.0000 - val_fn: 4.0000 - val_accuracy: 0.6674 - val_precision: 0.0523 - val_recall: 0.6667 - val_pr_auc: 0.0443 - val_roc_auc: 0.6557\n",
      "Epoch 87/600\n",
      "31/31 [==============================] - 0s 8ms/step - loss: 626.6418 - tp: 33.0000 - fp: 952.0000 - tn: 975.0000 - fn: 24.0000 - accuracy: 0.5081 - precision: 0.0335 - recall: 0.5789 - pr_auc: 0.0323 - roc_auc: 0.5426 - val_loss: 4.3955 - val_tp: 7.0000 - val_fp: 90.0000 - val_tn: 346.0000 - val_fn: 5.0000 - val_accuracy: 0.7879 - val_precision: 0.0722 - val_recall: 0.5833 - val_pr_auc: 0.0612 - val_roc_auc: 0.6866\n",
      "Epoch 88/600\n",
      "31/31 [==============================] - 0s 8ms/step - loss: 628.2767 - tp: 28.0000 - fp: 969.0000 - tn: 958.0000 - fn: 29.0000 - accuracy: 0.4970 - precision: 0.0281 - recall: 0.4912 - pr_auc: 0.0283 - roc_auc: 0.4935 - val_loss: 3.7376 - val_tp: 7.0000 - val_fp: 83.0000 - val_tn: 353.0000 - val_fn: 5.0000 - val_accuracy: 0.8036 - val_precision: 0.0778 - val_recall: 0.5833 - val_pr_auc: 0.0511 - val_roc_auc: 0.6780\n",
      "Epoch 89/600\n",
      "31/31 [==============================] - 0s 8ms/step - loss: 572.3166 - tp: 31.0000 - fp: 978.0000 - tn: 949.0000 - fn: 26.0000 - accuracy: 0.4940 - precision: 0.0307 - recall: 0.5439 - pr_auc: 0.0297 - roc_auc: 0.5143 - val_loss: 3.0776 - val_tp: 5.0000 - val_fp: 74.0000 - val_tn: 362.0000 - val_fn: 7.0000 - val_accuracy: 0.8192 - val_precision: 0.0633 - val_recall: 0.4167 - val_pr_auc: 0.0554 - val_roc_auc: 0.6856\n",
      "Epoch 90/600\n",
      "31/31 [==============================] - 0s 8ms/step - loss: 618.7897 - tp: 27.0000 - fp: 940.0000 - tn: 987.0000 - fn: 30.0000 - accuracy: 0.5111 - precision: 0.0279 - recall: 0.4737 - pr_auc: 0.0282 - roc_auc: 0.4929 - val_loss: 3.7794 - val_tp: 7.0000 - val_fp: 83.0000 - val_tn: 353.0000 - val_fn: 5.0000 - val_accuracy: 0.8036 - val_precision: 0.0778 - val_recall: 0.5833 - val_pr_auc: 0.0510 - val_roc_auc: 0.6775\n",
      "Epoch 91/600\n",
      "31/31 [==============================] - 0s 8ms/step - loss: 636.1951 - tp: 35.0000 - fp: 958.0000 - tn: 969.0000 - fn: 22.0000 - accuracy: 0.5060 - precision: 0.0352 - recall: 0.6140 - pr_auc: 0.0337 - roc_auc: 0.5584 - val_loss: 1.3408 - val_tp: 3.0000 - val_fp: 26.0000 - val_tn: 410.0000 - val_fn: 9.0000 - val_accuracy: 0.9219 - val_precision: 0.1034 - val_recall: 0.2500 - val_pr_auc: 0.0704 - val_roc_auc: 0.5909\n",
      "Epoch 92/600\n",
      "31/31 [==============================] - 0s 9ms/step - loss: 613.8964 - tp: 28.0000 - fp: 932.0000 - tn: 995.0000 - fn: 29.0000 - accuracy: 0.5156 - precision: 0.0292 - recall: 0.4912 - pr_auc: 0.0290 - roc_auc: 0.5039 - val_loss: 2.0203 - val_tp: 3.0000 - val_fp: 48.0000 - val_tn: 388.0000 - val_fn: 9.0000 - val_accuracy: 0.8728 - val_precision: 0.0588 - val_recall: 0.2500 - val_pr_auc: 0.0464 - val_roc_auc: 0.5964\n",
      "Epoch 93/600\n",
      "31/31 [==============================] - 0s 8ms/step - loss: 627.8312 - tp: 26.0000 - fp: 923.0000 - tn: 1004.0000 - fn: 31.0000 - accuracy: 0.5192 - precision: 0.0274 - recall: 0.4561 - pr_auc: 0.0279 - roc_auc: 0.4888 - val_loss: 3.6741 - val_tp: 7.0000 - val_fp: 83.0000 - val_tn: 353.0000 - val_fn: 5.0000 - val_accuracy: 0.8036 - val_precision: 0.0778 - val_recall: 0.5833 - val_pr_auc: 0.0518 - val_roc_auc: 0.6796\n",
      "Epoch 94/600\n",
      "31/31 [==============================] - 0s 8ms/step - loss: 689.6053 - tp: 29.0000 - fp: 981.0000 - tn: 946.0000 - fn: 28.0000 - accuracy: 0.4914 - precision: 0.0287 - recall: 0.5088 - pr_auc: 0.0287 - roc_auc: 0.4996 - val_loss: 1.8440 - val_tp: 3.0000 - val_fp: 42.0000 - val_tn: 394.0000 - val_fn: 9.0000 - val_accuracy: 0.8862 - val_precision: 0.0667 - val_recall: 0.2500 - val_pr_auc: 0.0505 - val_roc_auc: 0.6042\n"
     ]
    },
    {
     "name": "stdout",
     "output_type": "stream",
     "text": [
      "Epoch 95/600\n",
      "31/31 [==============================] - 0s 8ms/step - loss: 589.4442 - tp: 34.0000 - fp: 961.0000 - tn: 966.0000 - fn: 23.0000 - accuracy: 0.5040 - precision: 0.0342 - recall: 0.5965 - pr_auc: 0.0329 - roc_auc: 0.5497 - val_loss: 1.9851 - val_tp: 3.0000 - val_fp: 47.0000 - val_tn: 389.0000 - val_fn: 9.0000 - val_accuracy: 0.8750 - val_precision: 0.0600 - val_recall: 0.2500 - val_pr_auc: 0.0476 - val_roc_auc: 0.5991\n",
      "Epoch 96/600\n",
      "31/31 [==============================] - 0s 8ms/step - loss: 671.1230 - tp: 27.0000 - fp: 944.0000 - tn: 983.0000 - fn: 30.0000 - accuracy: 0.5091 - precision: 0.0278 - recall: 0.4737 - pr_auc: 0.0276 - roc_auc: 0.4875 - val_loss: 2.1079 - val_tp: 3.0000 - val_fp: 53.0000 - val_tn: 383.0000 - val_fn: 9.0000 - val_accuracy: 0.8616 - val_precision: 0.0536 - val_recall: 0.2500 - val_pr_auc: 0.0456 - val_roc_auc: 0.5937\n",
      "Epoch 97/600\n",
      "31/31 [==============================] - 0s 8ms/step - loss: 560.7151 - tp: 34.0000 - fp: 937.0000 - tn: 990.0000 - fn: 23.0000 - accuracy: 0.5161 - precision: 0.0350 - recall: 0.5965 - pr_auc: 0.0334 - roc_auc: 0.5550 - val_loss: 1.2259 - val_tp: 3.0000 - val_fp: 16.0000 - val_tn: 420.0000 - val_fn: 9.0000 - val_accuracy: 0.9442 - val_precision: 0.1579 - val_recall: 0.2500 - val_pr_auc: 0.0747 - val_roc_auc: 0.5993\n",
      "Epoch 98/600\n",
      "31/31 [==============================] - 0s 8ms/step - loss: 682.5670 - tp: 27.0000 - fp: 913.0000 - tn: 1014.0000 - fn: 30.0000 - accuracy: 0.5247 - precision: 0.0287 - recall: 0.4737 - pr_auc: 0.0287 - roc_auc: 0.4998 - val_loss: 1.6933 - val_tp: 3.0000 - val_fp: 38.0000 - val_tn: 398.0000 - val_fn: 9.0000 - val_accuracy: 0.8951 - val_precision: 0.0732 - val_recall: 0.2500 - val_pr_auc: 0.0483 - val_roc_auc: 0.5722\n",
      "Epoch 99/600\n",
      "31/31 [==============================] - 0s 8ms/step - loss: 577.2935 - tp: 25.0000 - fp: 906.0000 - tn: 1021.0000 - fn: 32.0000 - accuracy: 0.5272 - precision: 0.0269 - recall: 0.4386 - pr_auc: 0.0275 - roc_auc: 0.4841 - val_loss: 4.8011 - val_tp: 7.0000 - val_fp: 93.0000 - val_tn: 343.0000 - val_fn: 5.0000 - val_accuracy: 0.7812 - val_precision: 0.0700 - val_recall: 0.5833 - val_pr_auc: 0.0605 - val_roc_auc: 0.6836\n",
      "Epoch 100/600\n",
      "31/31 [==============================] - 0s 8ms/step - loss: 721.0388 - tp: 28.0000 - fp: 970.0000 - tn: 957.0000 - fn: 29.0000 - accuracy: 0.4965 - precision: 0.0281 - recall: 0.4912 - pr_auc: 0.0283 - roc_auc: 0.4939 - val_loss: 8.2880 - val_tp: 7.0000 - val_fp: 128.0000 - val_tn: 308.0000 - val_fn: 5.0000 - val_accuracy: 0.7031 - val_precision: 0.0519 - val_recall: 0.5833 - val_pr_auc: 0.0467 - val_roc_auc: 0.6468\n",
      "Epoch 101/600\n",
      "31/31 [==============================] - 0s 9ms/step - loss: 718.4063 - tp: 22.0000 - fp: 935.0000 - tn: 992.0000 - fn: 35.0000 - accuracy: 0.5111 - precision: 0.0230 - recall: 0.3860 - pr_auc: 0.0252 - roc_auc: 0.4507 - val_loss: 14.6234 - val_tp: 9.0000 - val_fp: 163.0000 - val_tn: 273.0000 - val_fn: 3.0000 - val_accuracy: 0.6295 - val_precision: 0.0523 - val_recall: 0.7500 - val_pr_auc: 0.0474 - val_roc_auc: 0.7022\n",
      "Epoch 102/600\n",
      "31/31 [==============================] - 0s 8ms/step - loss: 583.7877 - tp: 30.0000 - fp: 955.0000 - tn: 972.0000 - fn: 27.0000 - accuracy: 0.5050 - precision: 0.0305 - recall: 0.5263 - pr_auc: 0.0300 - roc_auc: 0.5159 - val_loss: 21.9620 - val_tp: 11.0000 - val_fp: 192.0000 - val_tn: 244.0000 - val_fn: 1.0000 - val_accuracy: 0.5692 - val_precision: 0.0542 - val_recall: 0.9167 - val_pr_auc: 0.0540 - val_roc_auc: 0.7430\n",
      "Epoch 103/600\n",
      "31/31 [==============================] - 0s 8ms/step - loss: 708.9412 - tp: 26.0000 - fp: 983.0000 - tn: 944.0000 - fn: 31.0000 - accuracy: 0.4889 - precision: 0.0258 - recall: 0.4561 - pr_auc: 0.0268 - roc_auc: 0.4730 - val_loss: 28.3314 - val_tp: 11.0000 - val_fp: 209.0000 - val_tn: 227.0000 - val_fn: 1.0000 - val_accuracy: 0.5312 - val_precision: 0.0500 - val_recall: 0.9167 - val_pr_auc: 0.0505 - val_roc_auc: 0.7264\n",
      "Epoch 104/600\n",
      "31/31 [==============================] - 0s 8ms/step - loss: 666.1901 - tp: 28.0000 - fp: 983.0000 - tn: 944.0000 - fn: 29.0000 - accuracy: 0.4899 - precision: 0.0277 - recall: 0.4912 - pr_auc: 0.0280 - roc_auc: 0.4904 - val_loss: 30.8396 - val_tp: 11.0000 - val_fp: 215.0000 - val_tn: 221.0000 - val_fn: 1.0000 - val_accuracy: 0.5179 - val_precision: 0.0487 - val_recall: 0.9167 - val_pr_auc: 0.0499 - val_roc_auc: 0.7370\n",
      "Epoch 105/600\n",
      "31/31 [==============================] - 0s 8ms/step - loss: 661.6935 - tp: 30.0000 - fp: 984.0000 - tn: 943.0000 - fn: 27.0000 - accuracy: 0.4904 - precision: 0.0296 - recall: 0.5263 - pr_auc: 0.0294 - roc_auc: 0.5081 - val_loss: 27.6579 - val_tp: 11.0000 - val_fp: 205.0000 - val_tn: 231.0000 - val_fn: 1.0000 - val_accuracy: 0.5402 - val_precision: 0.0509 - val_recall: 0.9167 - val_pr_auc: 0.0512 - val_roc_auc: 0.7299\n",
      "Epoch 106/600\n",
      "31/31 [==============================] - 0s 8ms/step - loss: 611.5173 - tp: 32.0000 - fp: 967.0000 - tn: 960.0000 - fn: 25.0000 - accuracy: 0.5000 - precision: 0.0320 - recall: 0.5614 - pr_auc: 0.0312 - roc_auc: 0.5299 - val_loss: 22.7314 - val_tp: 11.0000 - val_fp: 193.0000 - val_tn: 243.0000 - val_fn: 1.0000 - val_accuracy: 0.5670 - val_precision: 0.0539 - val_recall: 0.9167 - val_pr_auc: 0.0540 - val_roc_auc: 0.7428\n",
      "Epoch 107/600\n",
      "31/31 [==============================] - 0s 8ms/step - loss: 611.5800 - tp: 32.0000 - fp: 1003.0000 - tn: 924.0000 - fn: 25.0000 - accuracy: 0.4819 - precision: 0.0309 - recall: 0.5614 - pr_auc: 0.0304 - roc_auc: 0.5208 - val_loss: 18.3417 - val_tp: 11.0000 - val_fp: 180.0000 - val_tn: 256.0000 - val_fn: 1.0000 - val_accuracy: 0.5960 - val_precision: 0.0576 - val_recall: 0.9167 - val_pr_auc: 0.0541 - val_roc_auc: 0.7444\n",
      "Epoch 108/600\n",
      "31/31 [==============================] - 0s 8ms/step - loss: 691.1476 - tp: 29.0000 - fp: 988.0000 - tn: 939.0000 - fn: 28.0000 - accuracy: 0.4879 - precision: 0.0285 - recall: 0.5088 - pr_auc: 0.0286 - roc_auc: 0.4983 - val_loss: 11.1724 - val_tp: 8.0000 - val_fp: 143.0000 - val_tn: 293.0000 - val_fn: 4.0000 - val_accuracy: 0.6719 - val_precision: 0.0530 - val_recall: 0.6667 - val_pr_auc: 0.0440 - val_roc_auc: 0.6558\n",
      "Epoch 109/600\n",
      "31/31 [==============================] - 0s 8ms/step - loss: 599.7458 - tp: 31.0000 - fp: 918.0000 - tn: 1009.0000 - fn: 26.0000 - accuracy: 0.5242 - precision: 0.0327 - recall: 0.5439 - pr_auc: 0.0311 - roc_auc: 0.5300 - val_loss: 8.1603 - val_tp: 7.0000 - val_fp: 125.0000 - val_tn: 311.0000 - val_fn: 5.0000 - val_accuracy: 0.7098 - val_precision: 0.0530 - val_recall: 0.5833 - val_pr_auc: 0.0475 - val_roc_auc: 0.6493\n",
      "Epoch 110/600\n",
      "31/31 [==============================] - 0s 8ms/step - loss: 530.9683 - tp: 38.0000 - fp: 942.0000 - tn: 985.0000 - fn: 19.0000 - accuracy: 0.5156 - precision: 0.0388 - recall: 0.6667 - pr_auc: 0.0367 - roc_auc: 0.5891 - val_loss: 2.3049 - val_tp: 4.0000 - val_fp: 54.0000 - val_tn: 382.0000 - val_fn: 8.0000 - val_accuracy: 0.8616 - val_precision: 0.0690 - val_recall: 0.3333 - val_pr_auc: 0.0480 - val_roc_auc: 0.6269\n",
      "Epoch 111/600\n",
      "31/31 [==============================] - 0s 8ms/step - loss: 677.2335 - tp: 29.0000 - fp: 947.0000 - tn: 980.0000 - fn: 28.0000 - accuracy: 0.5086 - precision: 0.0297 - recall: 0.5088 - pr_auc: 0.0294 - roc_auc: 0.5085 - val_loss: 1.8932 - val_tp: 3.0000 - val_fp: 42.0000 - val_tn: 394.0000 - val_fn: 9.0000 - val_accuracy: 0.8862 - val_precision: 0.0667 - val_recall: 0.2500 - val_pr_auc: 0.0505 - val_roc_auc: 0.6054\n",
      "Epoch 112/600\n",
      "31/31 [==============================] - 0s 8ms/step - loss: 679.0442 - tp: 26.0000 - fp: 906.0000 - tn: 1021.0000 - fn: 31.0000 - accuracy: 0.5277 - precision: 0.0279 - recall: 0.4561 - pr_auc: 0.0282 - roc_auc: 0.4932 - val_loss: 2.1030 - val_tp: 3.0000 - val_fp: 47.0000 - val_tn: 389.0000 - val_fn: 9.0000 - val_accuracy: 0.8750 - val_precision: 0.0600 - val_recall: 0.2500 - val_pr_auc: 0.0461 - val_roc_auc: 0.5981\n",
      "Epoch 113/600\n",
      "31/31 [==============================] - 0s 8ms/step - loss: 651.6909 - tp: 30.0000 - fp: 926.0000 - tn: 1001.0000 - fn: 27.0000 - accuracy: 0.5197 - precision: 0.0314 - recall: 0.5263 - pr_auc: 0.0306 - roc_auc: 0.5225 - val_loss: 3.8594 - val_tp: 7.0000 - val_fp: 82.0000 - val_tn: 354.0000 - val_fn: 5.0000 - val_accuracy: 0.8058 - val_precision: 0.0787 - val_recall: 0.5833 - val_pr_auc: 0.0567 - val_roc_auc: 0.6866\n"
     ]
    },
    {
     "name": "stdout",
     "output_type": "stream",
     "text": [
      "Epoch 114/600\n",
      "31/31 [==============================] - 0s 8ms/step - loss: 848.1031 - tp: 23.0000 - fp: 959.0000 - tn: 968.0000 - fn: 34.0000 - accuracy: 0.4995 - precision: 0.0234 - recall: 0.4035 - pr_auc: 0.0254 - roc_auc: 0.4530 - val_loss: 9.1652 - val_tp: 7.0000 - val_fp: 134.0000 - val_tn: 302.0000 - val_fn: 5.0000 - val_accuracy: 0.6897 - val_precision: 0.0496 - val_recall: 0.5833 - val_pr_auc: 0.0469 - val_roc_auc: 0.6685\n",
      "Epoch 115/600\n",
      "31/31 [==============================] - 0s 8ms/step - loss: 672.7265 - tp: 28.0000 - fp: 999.0000 - tn: 928.0000 - fn: 29.0000 - accuracy: 0.4819 - precision: 0.0273 - recall: 0.4912 - pr_auc: 0.0277 - roc_auc: 0.4863 - val_loss: 12.6532 - val_tp: 8.0000 - val_fp: 152.0000 - val_tn: 284.0000 - val_fn: 4.0000 - val_accuracy: 0.6518 - val_precision: 0.0500 - val_recall: 0.6667 - val_pr_auc: 0.0485 - val_roc_auc: 0.6896\n",
      "Epoch 116/600\n",
      "31/31 [==============================] - 0s 8ms/step - loss: 640.9434 - tp: 27.0000 - fp: 938.0000 - tn: 989.0000 - fn: 30.0000 - accuracy: 0.5121 - precision: 0.0280 - recall: 0.4737 - pr_auc: 0.0282 - roc_auc: 0.4931 - val_loss: 14.8982 - val_tp: 9.0000 - val_fp: 161.0000 - val_tn: 275.0000 - val_fn: 3.0000 - val_accuracy: 0.6339 - val_precision: 0.0529 - val_recall: 0.7500 - val_pr_auc: 0.0483 - val_roc_auc: 0.7066\n",
      "Epoch 117/600\n",
      "31/31 [==============================] - 0s 8ms/step - loss: 629.5362 - tp: 31.0000 - fp: 952.0000 - tn: 975.0000 - fn: 26.0000 - accuracy: 0.5071 - precision: 0.0315 - recall: 0.5439 - pr_auc: 0.0308 - roc_auc: 0.5249 - val_loss: 15.1452 - val_tp: 9.0000 - val_fp: 161.0000 - val_tn: 275.0000 - val_fn: 3.0000 - val_accuracy: 0.6339 - val_precision: 0.0529 - val_recall: 0.7500 - val_pr_auc: 0.0475 - val_roc_auc: 0.7032\n",
      "Epoch 118/600\n",
      "31/31 [==============================] - 0s 8ms/step - loss: 631.6240 - tp: 32.0000 - fp: 913.0000 - tn: 1014.0000 - fn: 25.0000 - accuracy: 0.5272 - precision: 0.0339 - recall: 0.5614 - pr_auc: 0.0325 - roc_auc: 0.5440 - val_loss: 10.9675 - val_tp: 8.0000 - val_fp: 142.0000 - val_tn: 294.0000 - val_fn: 4.0000 - val_accuracy: 0.6741 - val_precision: 0.0533 - val_recall: 0.6667 - val_pr_auc: 0.0445 - val_roc_auc: 0.6584\n",
      "Epoch 119/600\n",
      "31/31 [==============================] - 0s 8ms/step - loss: 622.8154 - tp: 28.0000 - fp: 958.0000 - tn: 969.0000 - fn: 29.0000 - accuracy: 0.5025 - precision: 0.0284 - recall: 0.4912 - pr_auc: 0.0285 - roc_auc: 0.4972 - val_loss: 10.2532 - val_tp: 7.0000 - val_fp: 137.0000 - val_tn: 299.0000 - val_fn: 5.0000 - val_accuracy: 0.6830 - val_precision: 0.0486 - val_recall: 0.5833 - val_pr_auc: 0.0462 - val_roc_auc: 0.6653\n",
      "Epoch 120/600\n",
      "31/31 [==============================] - 0s 9ms/step - loss: 591.0809 - tp: 30.0000 - fp: 952.0000 - tn: 975.0000 - fn: 27.0000 - accuracy: 0.5066 - precision: 0.0305 - recall: 0.5263 - pr_auc: 0.0303 - roc_auc: 0.5207 - val_loss: 10.5705 - val_tp: 7.0000 - val_fp: 140.0000 - val_tn: 296.0000 - val_fn: 5.0000 - val_accuracy: 0.6763 - val_precision: 0.0476 - val_recall: 0.5833 - val_pr_auc: 0.0462 - val_roc_auc: 0.6653\n",
      "Epoch 121/600\n",
      "31/31 [==============================] - 0s 9ms/step - loss: 668.4703 - tp: 27.0000 - fp: 929.0000 - tn: 998.0000 - fn: 30.0000 - accuracy: 0.5166 - precision: 0.0282 - recall: 0.4737 - pr_auc: 0.0284 - roc_auc: 0.4960 - val_loss: 8.3182 - val_tp: 7.0000 - val_fp: 125.0000 - val_tn: 311.0000 - val_fn: 5.0000 - val_accuracy: 0.7098 - val_precision: 0.0530 - val_recall: 0.5833 - val_pr_auc: 0.0478 - val_roc_auc: 0.6499\n",
      "Epoch 122/600\n",
      "31/31 [==============================] - 0s 8ms/step - loss: 620.5187 - tp: 24.0000 - fp: 965.0000 - tn: 962.0000 - fn: 33.0000 - accuracy: 0.4970 - precision: 0.0243 - recall: 0.4211 - pr_auc: 0.0259 - roc_auc: 0.4599 - val_loss: 15.4070 - val_tp: 9.0000 - val_fp: 161.0000 - val_tn: 275.0000 - val_fn: 3.0000 - val_accuracy: 0.6339 - val_precision: 0.0529 - val_recall: 0.7500 - val_pr_auc: 0.0475 - val_roc_auc: 0.7034\n",
      "Epoch 123/600\n",
      "31/31 [==============================] - 0s 8ms/step - loss: 632.0397 - tp: 27.0000 - fp: 936.0000 - tn: 991.0000 - fn: 30.0000 - accuracy: 0.5131 - precision: 0.0280 - recall: 0.4737 - pr_auc: 0.0283 - roc_auc: 0.4941 - val_loss: 22.8691 - val_tp: 11.0000 - val_fp: 190.0000 - val_tn: 246.0000 - val_fn: 1.0000 - val_accuracy: 0.5737 - val_precision: 0.0547 - val_recall: 0.9167 - val_pr_auc: 0.0540 - val_roc_auc: 0.7430\n",
      "Epoch 124/600\n",
      "31/31 [==============================] - 0s 8ms/step - loss: 714.6806 - tp: 24.0000 - fp: 981.0000 - tn: 946.0000 - fn: 33.0000 - accuracy: 0.4889 - precision: 0.0239 - recall: 0.4211 - pr_auc: 0.0256 - roc_auc: 0.4559 - val_loss: 32.2909 - val_tp: 11.0000 - val_fp: 212.0000 - val_tn: 224.0000 - val_fn: 1.0000 - val_accuracy: 0.5246 - val_precision: 0.0493 - val_recall: 0.9167 - val_pr_auc: 0.0503 - val_roc_auc: 0.7396\n",
      "Epoch 125/600\n",
      "31/31 [==============================] - 0s 8ms/step - loss: 689.3742 - tp: 28.0000 - fp: 961.0000 - tn: 966.0000 - fn: 29.0000 - accuracy: 0.5010 - precision: 0.0283 - recall: 0.4912 - pr_auc: 0.0279 - roc_auc: 0.4911 - val_loss: 41.4533 - val_tp: 12.0000 - val_fp: 248.0000 - val_tn: 188.0000 - val_fn: 0.0000e+00 - val_accuracy: 0.4464 - val_precision: 0.0462 - val_recall: 1.0000 - val_pr_auc: 0.0474 - val_roc_auc: 0.7236\n",
      "Epoch 126/600\n",
      "31/31 [==============================] - 0s 8ms/step - loss: 649.5986 - tp: 30.0000 - fp: 1020.0000 - tn: 907.0000 - fn: 27.0000 - accuracy: 0.4723 - precision: 0.0286 - recall: 0.5263 - pr_auc: 0.0286 - roc_auc: 0.4988 - val_loss: 32.0760 - val_tp: 11.0000 - val_fp: 212.0000 - val_tn: 224.0000 - val_fn: 1.0000 - val_accuracy: 0.5246 - val_precision: 0.0493 - val_recall: 0.9167 - val_pr_auc: 0.0503 - val_roc_auc: 0.7397\n",
      "Epoch 127/600\n",
      "31/31 [==============================] - 0s 8ms/step - loss: 579.2648 - tp: 37.0000 - fp: 1007.0000 - tn: 920.0000 - fn: 20.0000 - accuracy: 0.4824 - precision: 0.0354 - recall: 0.6491 - pr_auc: 0.0340 - roc_auc: 0.5632 - val_loss: 15.1783 - val_tp: 9.0000 - val_fp: 160.0000 - val_tn: 276.0000 - val_fn: 3.0000 - val_accuracy: 0.6362 - val_precision: 0.0533 - val_recall: 0.7500 - val_pr_auc: 0.0484 - val_roc_auc: 0.7076\n",
      "Epoch 128/600\n",
      "31/31 [==============================] - 0s 8ms/step - loss: 640.8502 - tp: 27.0000 - fp: 904.0000 - tn: 1023.0000 - fn: 30.0000 - accuracy: 0.5292 - precision: 0.0290 - recall: 0.4737 - pr_auc: 0.0289 - roc_auc: 0.5017 - val_loss: 17.4537 - val_tp: 10.0000 - val_fp: 169.0000 - val_tn: 267.0000 - val_fn: 2.0000 - val_accuracy: 0.6183 - val_precision: 0.0559 - val_recall: 0.8333 - val_pr_auc: 0.0523 - val_roc_auc: 0.7387\n",
      "Epoch 129/600\n",
      "31/31 [==============================] - 0s 8ms/step - loss: 523.6623 - tp: 33.0000 - fp: 954.0000 - tn: 973.0000 - fn: 24.0000 - accuracy: 0.5071 - precision: 0.0334 - recall: 0.5789 - pr_auc: 0.0322 - roc_auc: 0.5418 - val_loss: 11.2811 - val_tp: 8.0000 - val_fp: 142.0000 - val_tn: 294.0000 - val_fn: 4.0000 - val_accuracy: 0.6741 - val_precision: 0.0533 - val_recall: 0.6667 - val_pr_auc: 0.0449 - val_roc_auc: 0.6606\n",
      "Epoch 130/600\n",
      "31/31 [==============================] - 0s 8ms/step - loss: 753.8535 - tp: 24.0000 - fp: 954.0000 - tn: 973.0000 - fn: 33.0000 - accuracy: 0.5025 - precision: 0.0245 - recall: 0.4211 - pr_auc: 0.0260 - roc_auc: 0.4631 - val_loss: 16.6996 - val_tp: 10.0000 - val_fp: 165.0000 - val_tn: 271.0000 - val_fn: 2.0000 - val_accuracy: 0.6272 - val_precision: 0.0571 - val_recall: 0.8333 - val_pr_auc: 0.0530 - val_roc_auc: 0.7414\n",
      "Epoch 131/600\n",
      "31/31 [==============================] - 0s 8ms/step - loss: 648.4853 - tp: 26.0000 - fp: 955.0000 - tn: 972.0000 - fn: 31.0000 - accuracy: 0.5030 - precision: 0.0265 - recall: 0.4561 - pr_auc: 0.0268 - roc_auc: 0.4755 - val_loss: 21.7739 - val_tp: 11.0000 - val_fp: 187.0000 - val_tn: 249.0000 - val_fn: 1.0000 - val_accuracy: 0.5804 - val_precision: 0.0556 - val_recall: 0.9167 - val_pr_auc: 0.0564 - val_roc_auc: 0.7530\n",
      "Epoch 132/600\n",
      "31/31 [==============================] - 0s 8ms/step - loss: 566.6296 - tp: 34.0000 - fp: 932.0000 - tn: 995.0000 - fn: 23.0000 - accuracy: 0.5186 - precision: 0.0352 - recall: 0.5965 - pr_auc: 0.0325 - roc_auc: 0.5481 - val_loss: 17.9325 - val_tp: 10.0000 - val_fp: 172.0000 - val_tn: 264.0000 - val_fn: 2.0000 - val_accuracy: 0.6116 - val_precision: 0.0549 - val_recall: 0.8333 - val_pr_auc: 0.0522 - val_roc_auc: 0.7384\n"
     ]
    },
    {
     "name": "stdout",
     "output_type": "stream",
     "text": [
      "Epoch 133/600\n",
      "31/31 [==============================] - 0s 8ms/step - loss: 579.7127 - tp: 33.0000 - fp: 940.0000 - tn: 987.0000 - fn: 24.0000 - accuracy: 0.5141 - precision: 0.0339 - recall: 0.5789 - pr_auc: 0.0326 - roc_auc: 0.5458 - val_loss: 16.1548 - val_tp: 10.0000 - val_fp: 162.0000 - val_tn: 274.0000 - val_fn: 2.0000 - val_accuracy: 0.6339 - val_precision: 0.0581 - val_recall: 0.8333 - val_pr_auc: 0.0471 - val_roc_auc: 0.7018\n",
      "Epoch 134/600\n",
      "31/31 [==============================] - 0s 8ms/step - loss: 572.5291 - tp: 30.0000 - fp: 979.0000 - tn: 948.0000 - fn: 27.0000 - accuracy: 0.4929 - precision: 0.0297 - recall: 0.5263 - pr_auc: 0.0295 - roc_auc: 0.5091 - val_loss: 10.0890 - val_tp: 7.0000 - val_fp: 135.0000 - val_tn: 301.0000 - val_fn: 5.0000 - val_accuracy: 0.6875 - val_precision: 0.0493 - val_recall: 0.5833 - val_pr_auc: 0.0470 - val_roc_auc: 0.6689\n",
      "Epoch 135/600\n",
      "31/31 [==============================] - 0s 8ms/step - loss: 482.5198 - tp: 38.0000 - fp: 893.0000 - tn: 1034.0000 - fn: 19.0000 - accuracy: 0.5403 - precision: 0.0408 - recall: 0.6667 - pr_auc: 0.0384 - roc_auc: 0.6021 - val_loss: 2.8954 - val_tp: 4.0000 - val_fp: 63.0000 - val_tn: 373.0000 - val_fn: 8.0000 - val_accuracy: 0.8415 - val_precision: 0.0597 - val_recall: 0.3333 - val_pr_auc: 0.0500 - val_roc_auc: 0.6582\n",
      "Epoch 136/600\n",
      "31/31 [==============================] - 0s 8ms/step - loss: 674.4380 - tp: 25.0000 - fp: 948.0000 - tn: 979.0000 - fn: 32.0000 - accuracy: 0.5060 - precision: 0.0257 - recall: 0.4386 - pr_auc: 0.0267 - roc_auc: 0.4731 - val_loss: 4.5206 - val_tp: 7.0000 - val_fp: 85.0000 - val_tn: 351.0000 - val_fn: 5.0000 - val_accuracy: 0.7991 - val_precision: 0.0761 - val_recall: 0.5833 - val_pr_auc: 0.0606 - val_roc_auc: 0.6911\n",
      "Epoch 137/600\n",
      "31/31 [==============================] - 0s 9ms/step - loss: 614.0430 - tp: 25.0000 - fp: 958.0000 - tn: 969.0000 - fn: 32.0000 - accuracy: 0.5010 - precision: 0.0254 - recall: 0.4386 - pr_auc: 0.0266 - roc_auc: 0.4709 - val_loss: 7.2341 - val_tp: 7.0000 - val_fp: 115.0000 - val_tn: 321.0000 - val_fn: 5.0000 - val_accuracy: 0.7321 - val_precision: 0.0574 - val_recall: 0.5833 - val_pr_auc: 0.0516 - val_roc_auc: 0.6630\n",
      "Epoch 138/600\n",
      "31/31 [==============================] - 0s 8ms/step - loss: 699.9216 - tp: 29.0000 - fp: 930.0000 - tn: 997.0000 - fn: 28.0000 - accuracy: 0.5171 - precision: 0.0302 - recall: 0.5088 - pr_auc: 0.0298 - roc_auc: 0.5128 - val_loss: 10.8817 - val_tp: 8.0000 - val_fp: 139.0000 - val_tn: 297.0000 - val_fn: 4.0000 - val_accuracy: 0.6808 - val_precision: 0.0544 - val_recall: 0.6667 - val_pr_auc: 0.0463 - val_roc_auc: 0.6661\n",
      "Epoch 139/600\n",
      "31/31 [==============================] - 0s 8ms/step - loss: 758.6251 - tp: 28.0000 - fp: 932.0000 - tn: 995.0000 - fn: 29.0000 - accuracy: 0.5156 - precision: 0.0292 - recall: 0.4912 - pr_auc: 0.0291 - roc_auc: 0.5038 - val_loss: 15.3715 - val_tp: 9.0000 - val_fp: 158.0000 - val_tn: 278.0000 - val_fn: 3.0000 - val_accuracy: 0.6406 - val_precision: 0.0539 - val_recall: 0.7500 - val_pr_auc: 0.0486 - val_roc_auc: 0.7085\n",
      "Epoch 140/600\n",
      "31/31 [==============================] - 0s 8ms/step - loss: 661.7935 - tp: 31.0000 - fp: 932.0000 - tn: 995.0000 - fn: 26.0000 - accuracy: 0.5171 - precision: 0.0322 - recall: 0.5439 - pr_auc: 0.0307 - roc_auc: 0.5256 - val_loss: 10.6518 - val_tp: 7.0000 - val_fp: 138.0000 - val_tn: 298.0000 - val_fn: 5.0000 - val_accuracy: 0.6808 - val_precision: 0.0483 - val_recall: 0.5833 - val_pr_auc: 0.0467 - val_roc_auc: 0.6674\n",
      "Epoch 141/600\n",
      "31/31 [==============================] - 0s 8ms/step - loss: 598.5779 - tp: 33.0000 - fp: 946.0000 - tn: 981.0000 - fn: 24.0000 - accuracy: 0.5111 - precision: 0.0337 - recall: 0.5789 - pr_auc: 0.0324 - roc_auc: 0.5438 - val_loss: 11.6146 - val_tp: 8.0000 - val_fp: 142.0000 - val_tn: 294.0000 - val_fn: 4.0000 - val_accuracy: 0.6741 - val_precision: 0.0533 - val_recall: 0.6667 - val_pr_auc: 0.0446 - val_roc_auc: 0.6599\n",
      "Epoch 142/600\n",
      "31/31 [==============================] - 0s 8ms/step - loss: 748.3755 - tp: 26.0000 - fp: 964.0000 - tn: 963.0000 - fn: 31.0000 - accuracy: 0.4985 - precision: 0.0263 - recall: 0.4561 - pr_auc: 0.0271 - roc_auc: 0.4773 - val_loss: 16.5705 - val_tp: 10.0000 - val_fp: 162.0000 - val_tn: 274.0000 - val_fn: 2.0000 - val_accuracy: 0.6339 - val_precision: 0.0581 - val_recall: 0.8333 - val_pr_auc: 0.0512 - val_roc_auc: 0.7169\n",
      "Epoch 143/600\n",
      "31/31 [==============================] - 0s 8ms/step - loss: 636.5599 - tp: 23.0000 - fp: 965.0000 - tn: 962.0000 - fn: 34.0000 - accuracy: 0.4965 - precision: 0.0233 - recall: 0.4035 - pr_auc: 0.0253 - roc_auc: 0.4514 - val_loss: 20.2712 - val_tp: 11.0000 - val_fp: 179.0000 - val_tn: 257.0000 - val_fn: 1.0000 - val_accuracy: 0.5982 - val_precision: 0.0579 - val_recall: 0.9167 - val_pr_auc: 0.0547 - val_roc_auc: 0.7466\n",
      "Epoch 144/600\n",
      "31/31 [==============================] - 0s 8ms/step - loss: 577.0375 - tp: 36.0000 - fp: 1006.0000 - tn: 921.0000 - fn: 21.0000 - accuracy: 0.4824 - precision: 0.0345 - recall: 0.6316 - pr_auc: 0.0333 - roc_auc: 0.5548 - val_loss: 11.7734 - val_tp: 8.0000 - val_fp: 142.0000 - val_tn: 294.0000 - val_fn: 4.0000 - val_accuracy: 0.6741 - val_precision: 0.0533 - val_recall: 0.6667 - val_pr_auc: 0.0446 - val_roc_auc: 0.6599\n",
      "Epoch 145/600\n",
      "31/31 [==============================] - 0s 8ms/step - loss: 556.7534 - tp: 36.0000 - fp: 954.0000 - tn: 973.0000 - fn: 21.0000 - accuracy: 0.5086 - precision: 0.0364 - recall: 0.6316 - pr_auc: 0.0347 - roc_auc: 0.5687 - val_loss: 3.7595 - val_tp: 7.0000 - val_fp: 74.0000 - val_tn: 362.0000 - val_fn: 5.0000 - val_accuracy: 0.8237 - val_precision: 0.0864 - val_recall: 0.5833 - val_pr_auc: 0.0598 - val_roc_auc: 0.6938\n",
      "Epoch 146/600\n",
      "31/31 [==============================] - 0s 8ms/step - loss: 643.2104 - tp: 22.0000 - fp: 934.0000 - tn: 993.0000 - fn: 35.0000 - accuracy: 0.5116 - precision: 0.0230 - recall: 0.3860 - pr_auc: 0.0252 - roc_auc: 0.4506 - val_loss: 5.4700 - val_tp: 7.0000 - val_fp: 91.0000 - val_tn: 345.0000 - val_fn: 5.0000 - val_accuracy: 0.7857 - val_precision: 0.0714 - val_recall: 0.5833 - val_pr_auc: 0.0605 - val_roc_auc: 0.6836\n",
      "Epoch 147/600\n",
      "31/31 [==============================] - 0s 8ms/step - loss: 641.3416 - tp: 35.0000 - fp: 956.0000 - tn: 971.0000 - fn: 22.0000 - accuracy: 0.5071 - precision: 0.0353 - recall: 0.6140 - pr_auc: 0.0332 - roc_auc: 0.5547 - val_loss: 6.9243 - val_tp: 7.0000 - val_fp: 113.0000 - val_tn: 323.0000 - val_fn: 5.0000 - val_accuracy: 0.7366 - val_precision: 0.0583 - val_recall: 0.5833 - val_pr_auc: 0.0551 - val_roc_auc: 0.6705\n",
      "Epoch 148/600\n",
      "31/31 [==============================] - 0s 8ms/step - loss: 582.0051 - tp: 29.0000 - fp: 920.0000 - tn: 1007.0000 - fn: 28.0000 - accuracy: 0.5222 - precision: 0.0306 - recall: 0.5088 - pr_auc: 0.0300 - roc_auc: 0.5158 - val_loss: 5.4666 - val_tp: 7.0000 - val_fp: 91.0000 - val_tn: 345.0000 - val_fn: 5.0000 - val_accuracy: 0.7857 - val_precision: 0.0714 - val_recall: 0.5833 - val_pr_auc: 0.0605 - val_roc_auc: 0.6836\n",
      "Epoch 149/600\n",
      "31/31 [==============================] - 0s 8ms/step - loss: 710.0582 - tp: 27.0000 - fp: 947.0000 - tn: 980.0000 - fn: 30.0000 - accuracy: 0.5076 - precision: 0.0277 - recall: 0.4737 - pr_auc: 0.0281 - roc_auc: 0.4911 - val_loss: 6.2562 - val_tp: 7.0000 - val_fp: 105.0000 - val_tn: 331.0000 - val_fn: 5.0000 - val_accuracy: 0.7545 - val_precision: 0.0625 - val_recall: 0.5833 - val_pr_auc: 0.0570 - val_roc_auc: 0.6760\n",
      "Epoch 150/600\n",
      "31/31 [==============================] - 0s 8ms/step - loss: 619.4595 - tp: 28.0000 - fp: 972.0000 - tn: 955.0000 - fn: 29.0000 - accuracy: 0.4955 - precision: 0.0280 - recall: 0.4912 - pr_auc: 0.0282 - roc_auc: 0.4935 - val_loss: 6.7249 - val_tp: 7.0000 - val_fp: 113.0000 - val_tn: 323.0000 - val_fn: 5.0000 - val_accuracy: 0.7366 - val_precision: 0.0583 - val_recall: 0.5833 - val_pr_auc: 0.0564 - val_roc_auc: 0.6739\n",
      "Epoch 151/600\n",
      "31/31 [==============================] - 0s 8ms/step - loss: 621.9382 - tp: 26.0000 - fp: 976.0000 - tn: 951.0000 - fn: 31.0000 - accuracy: 0.4924 - precision: 0.0259 - recall: 0.4561 - pr_auc: 0.0269 - roc_auc: 0.4743 - val_loss: 10.5417 - val_tp: 7.0000 - val_fp: 135.0000 - val_tn: 301.0000 - val_fn: 5.0000 - val_accuracy: 0.6875 - val_precision: 0.0493 - val_recall: 0.5833 - val_pr_auc: 0.0468 - val_roc_auc: 0.6680\n"
     ]
    },
    {
     "name": "stdout",
     "output_type": "stream",
     "text": [
      "Epoch 152/600\n",
      "31/31 [==============================] - 0s 8ms/step - loss: 546.9263 - tp: 34.0000 - fp: 951.0000 - tn: 976.0000 - fn: 23.0000 - accuracy: 0.5091 - precision: 0.0345 - recall: 0.5965 - pr_auc: 0.0331 - roc_auc: 0.5514 - val_loss: 5.5530 - val_tp: 7.0000 - val_fp: 91.0000 - val_tn: 345.0000 - val_fn: 5.0000 - val_accuracy: 0.7857 - val_precision: 0.0714 - val_recall: 0.5833 - val_pr_auc: 0.0606 - val_roc_auc: 0.6841\n",
      "Epoch 153/600\n",
      "31/31 [==============================] - 0s 8ms/step - loss: 560.2899 - tp: 29.0000 - fp: 954.0000 - tn: 973.0000 - fn: 28.0000 - accuracy: 0.5050 - precision: 0.0295 - recall: 0.5088 - pr_auc: 0.0293 - roc_auc: 0.5070 - val_loss: 4.2687 - val_tp: 7.0000 - val_fp: 81.0000 - val_tn: 355.0000 - val_fn: 5.0000 - val_accuracy: 0.8080 - val_precision: 0.0795 - val_recall: 0.5833 - val_pr_auc: 0.0640 - val_roc_auc: 0.6961\n",
      "Epoch 154/600\n",
      "31/31 [==============================] - 0s 8ms/step - loss: 710.6922 - tp: 25.0000 - fp: 961.0000 - tn: 966.0000 - fn: 32.0000 - accuracy: 0.4995 - precision: 0.0254 - recall: 0.4386 - pr_auc: 0.0265 - roc_auc: 0.4695 - val_loss: 9.9747 - val_tp: 7.0000 - val_fp: 132.0000 - val_tn: 304.0000 - val_fn: 5.0000 - val_accuracy: 0.6942 - val_precision: 0.0504 - val_recall: 0.5833 - val_pr_auc: 0.0477 - val_roc_auc: 0.6719\n",
      "Epoch 155/600\n",
      "31/31 [==============================] - 0s 8ms/step - loss: 628.1292 - tp: 29.0000 - fp: 971.0000 - tn: 956.0000 - fn: 28.0000 - accuracy: 0.4965 - precision: 0.0290 - recall: 0.5088 - pr_auc: 0.0289 - roc_auc: 0.5023 - val_loss: 12.0022 - val_tp: 8.0000 - val_fp: 141.0000 - val_tn: 295.0000 - val_fn: 4.0000 - val_accuracy: 0.6763 - val_precision: 0.0537 - val_recall: 0.6667 - val_pr_auc: 0.0448 - val_roc_auc: 0.6608\n",
      "Epoch 156/600\n",
      "31/31 [==============================] - 0s 8ms/step - loss: 619.5938 - tp: 26.0000 - fp: 981.0000 - tn: 946.0000 - fn: 31.0000 - accuracy: 0.4899 - precision: 0.0258 - recall: 0.4561 - pr_auc: 0.0268 - roc_auc: 0.4732 - val_loss: 11.4572 - val_tp: 8.0000 - val_fp: 139.0000 - val_tn: 297.0000 - val_fn: 4.0000 - val_accuracy: 0.6808 - val_precision: 0.0544 - val_recall: 0.6667 - val_pr_auc: 0.0454 - val_roc_auc: 0.6636\n",
      "Epoch 157/600\n",
      "31/31 [==============================] - 0s 8ms/step - loss: 572.3900 - tp: 27.0000 - fp: 923.0000 - tn: 1004.0000 - fn: 30.0000 - accuracy: 0.5197 - precision: 0.0284 - recall: 0.4737 - pr_auc: 0.0281 - roc_auc: 0.4931 - val_loss: 15.9484 - val_tp: 9.0000 - val_fp: 158.0000 - val_tn: 278.0000 - val_fn: 3.0000 - val_accuracy: 0.6406 - val_precision: 0.0539 - val_recall: 0.7500 - val_pr_auc: 0.0492 - val_roc_auc: 0.7113\n",
      "Epoch 158/600\n",
      "31/31 [==============================] - 0s 8ms/step - loss: 668.5418 - tp: 33.0000 - fp: 976.0000 - tn: 951.0000 - fn: 24.0000 - accuracy: 0.4960 - precision: 0.0327 - recall: 0.5789 - pr_auc: 0.0317 - roc_auc: 0.5366 - val_loss: 14.9075 - val_tp: 8.0000 - val_fp: 154.0000 - val_tn: 282.0000 - val_fn: 4.0000 - val_accuracy: 0.6473 - val_precision: 0.0494 - val_recall: 0.6667 - val_pr_auc: 0.0482 - val_roc_auc: 0.6894\n",
      "Epoch 159/600\n",
      "31/31 [==============================] - 0s 8ms/step - loss: 544.5390 - tp: 37.0000 - fp: 907.0000 - tn: 1020.0000 - fn: 20.0000 - accuracy: 0.5328 - precision: 0.0392 - recall: 0.6491 - pr_auc: 0.0370 - roc_auc: 0.5897 - val_loss: 6.3008 - val_tp: 7.0000 - val_fp: 102.0000 - val_tn: 334.0000 - val_fn: 5.0000 - val_accuracy: 0.7612 - val_precision: 0.0642 - val_recall: 0.5833 - val_pr_auc: 0.0575 - val_roc_auc: 0.6772\n",
      "Epoch 160/600\n",
      "31/31 [==============================] - 0s 9ms/step - loss: 616.7357 - tp: 33.0000 - fp: 954.0000 - tn: 973.0000 - fn: 24.0000 - accuracy: 0.5071 - precision: 0.0334 - recall: 0.5789 - pr_auc: 0.0323 - roc_auc: 0.5421 - val_loss: 1.7899 - val_tp: 3.0000 - val_fp: 32.0000 - val_tn: 404.0000 - val_fn: 9.0000 - val_accuracy: 0.9085 - val_precision: 0.0857 - val_recall: 0.2500 - val_pr_auc: 0.0521 - val_roc_auc: 0.5817\n",
      "Epoch 161/600\n",
      "31/31 [==============================] - 0s 9ms/step - loss: 707.4564 - tp: 23.0000 - fp: 954.0000 - tn: 973.0000 - fn: 34.0000 - accuracy: 0.5020 - precision: 0.0235 - recall: 0.4035 - pr_auc: 0.0254 - roc_auc: 0.4538 - val_loss: 5.5308 - val_tp: 7.0000 - val_fp: 90.0000 - val_tn: 346.0000 - val_fn: 5.0000 - val_accuracy: 0.7879 - val_precision: 0.0722 - val_recall: 0.5833 - val_pr_auc: 0.0607 - val_roc_auc: 0.6855\n",
      "Epoch 162/600\n",
      "31/31 [==============================] - 0s 8ms/step - loss: 624.7138 - tp: 26.0000 - fp: 931.0000 - tn: 996.0000 - fn: 31.0000 - accuracy: 0.5151 - precision: 0.0272 - recall: 0.4561 - pr_auc: 0.0277 - roc_auc: 0.4866 - val_loss: 7.9674 - val_tp: 7.0000 - val_fp: 118.0000 - val_tn: 318.0000 - val_fn: 5.0000 - val_accuracy: 0.7254 - val_precision: 0.0560 - val_recall: 0.5833 - val_pr_auc: 0.0506 - val_roc_auc: 0.6610\n",
      "Epoch 163/600\n",
      "31/31 [==============================] - 0s 9ms/step - loss: 552.8654 - tp: 33.0000 - fp: 965.0000 - tn: 962.0000 - fn: 24.0000 - accuracy: 0.5015 - precision: 0.0331 - recall: 0.5789 - pr_auc: 0.0320 - roc_auc: 0.5389 - val_loss: 7.8879 - val_tp: 7.0000 - val_fp: 117.0000 - val_tn: 319.0000 - val_fn: 5.0000 - val_accuracy: 0.7277 - val_precision: 0.0565 - val_recall: 0.5833 - val_pr_auc: 0.0506 - val_roc_auc: 0.6610\n",
      "Epoch 164/600\n",
      "31/31 [==============================] - 0s 9ms/step - loss: 608.9832 - tp: 25.0000 - fp: 897.0000 - tn: 1030.0000 - fn: 32.0000 - accuracy: 0.5318 - precision: 0.0271 - recall: 0.4386 - pr_auc: 0.0277 - roc_auc: 0.4863 - val_loss: 10.1577 - val_tp: 7.0000 - val_fp: 132.0000 - val_tn: 304.0000 - val_fn: 5.0000 - val_accuracy: 0.6942 - val_precision: 0.0504 - val_recall: 0.5833 - val_pr_auc: 0.0479 - val_roc_auc: 0.6726\n",
      "Epoch 165/600\n",
      "31/31 [==============================] - 0s 8ms/step - loss: 599.3289 - tp: 30.0000 - fp: 945.0000 - tn: 982.0000 - fn: 27.0000 - accuracy: 0.5101 - precision: 0.0308 - recall: 0.5263 - pr_auc: 0.0304 - roc_auc: 0.5230 - val_loss: 14.4153 - val_tp: 8.0000 - val_fp: 149.0000 - val_tn: 287.0000 - val_fn: 4.0000 - val_accuracy: 0.6585 - val_precision: 0.0510 - val_recall: 0.6667 - val_pr_auc: 0.0487 - val_roc_auc: 0.6911\n",
      "Epoch 166/600\n",
      "31/31 [==============================] - 0s 8ms/step - loss: 682.2050 - tp: 20.0000 - fp: 929.0000 - tn: 998.0000 - fn: 37.0000 - accuracy: 0.5131 - precision: 0.0211 - recall: 0.3509 - pr_auc: 0.0242 - roc_auc: 0.4344 - val_loss: 26.8376 - val_tp: 11.0000 - val_fp: 195.0000 - val_tn: 241.0000 - val_fn: 1.0000 - val_accuracy: 0.5625 - val_precision: 0.0534 - val_recall: 0.9167 - val_pr_auc: 0.0537 - val_roc_auc: 0.7417\n",
      "Epoch 167/600\n",
      "31/31 [==============================] - 0s 8ms/step - loss: 516.5051 - tp: 35.0000 - fp: 979.0000 - tn: 948.0000 - fn: 22.0000 - accuracy: 0.4955 - precision: 0.0345 - recall: 0.6140 - pr_auc: 0.0332 - roc_auc: 0.5532 - val_loss: 22.1719 - val_tp: 11.0000 - val_fp: 182.0000 - val_tn: 254.0000 - val_fn: 1.0000 - val_accuracy: 0.5915 - val_precision: 0.0570 - val_recall: 0.9167 - val_pr_auc: 0.0576 - val_roc_auc: 0.7575\n",
      "Epoch 168/600\n",
      "31/31 [==============================] - 0s 8ms/step - loss: 568.0554 - tp: 30.0000 - fp: 951.0000 - tn: 976.0000 - fn: 27.0000 - accuracy: 0.5071 - precision: 0.0306 - recall: 0.5263 - pr_auc: 0.0301 - roc_auc: 0.5164 - val_loss: 21.1835 - val_tp: 11.0000 - val_fp: 178.0000 - val_tn: 258.0000 - val_fn: 1.0000 - val_accuracy: 0.6004 - val_precision: 0.0582 - val_recall: 0.9167 - val_pr_auc: 0.0553 - val_roc_auc: 0.7490\n",
      "Epoch 169/600\n",
      "31/31 [==============================] - 0s 8ms/step - loss: 584.2037 - tp: 33.0000 - fp: 969.0000 - tn: 958.0000 - fn: 24.0000 - accuracy: 0.4995 - precision: 0.0329 - recall: 0.5789 - pr_auc: 0.0319 - roc_auc: 0.5380 - val_loss: 15.4587 - val_tp: 9.0000 - val_fp: 154.0000 - val_tn: 282.0000 - val_fn: 3.0000 - val_accuracy: 0.6496 - val_precision: 0.0552 - val_recall: 0.7500 - val_pr_auc: 0.0480 - val_roc_auc: 0.6880\n",
      "Epoch 170/600\n",
      "31/31 [==============================] - 0s 8ms/step - loss: 707.4114 - tp: 23.0000 - fp: 951.0000 - tn: 976.0000 - fn: 34.0000 - accuracy: 0.5035 - precision: 0.0236 - recall: 0.4035 - pr_auc: 0.0255 - roc_auc: 0.4546 - val_loss: 22.8143 - val_tp: 11.0000 - val_fp: 185.0000 - val_tn: 251.0000 - val_fn: 1.0000 - val_accuracy: 0.5848 - val_precision: 0.0561 - val_recall: 0.9167 - val_pr_auc: 0.0570 - val_roc_auc: 0.7554\n"
     ]
    },
    {
     "name": "stdout",
     "output_type": "stream",
     "text": [
      "Epoch 171/600\n",
      "31/31 [==============================] - 0s 8ms/step - loss: 551.5897 - tp: 32.0000 - fp: 950.0000 - tn: 977.0000 - fn: 25.0000 - accuracy: 0.5086 - precision: 0.0326 - recall: 0.5614 - pr_auc: 0.0316 - roc_auc: 0.5341 - val_loss: 20.6936 - val_tp: 11.0000 - val_fp: 176.0000 - val_tn: 260.0000 - val_fn: 1.0000 - val_accuracy: 0.6049 - val_precision: 0.0588 - val_recall: 0.9167 - val_pr_auc: 0.0556 - val_roc_auc: 0.7503\n",
      "Epoch 172/600\n",
      "31/31 [==============================] - 0s 8ms/step - loss: 462.0551 - tp: 40.0000 - fp: 907.0000 - tn: 1020.0000 - fn: 17.0000 - accuracy: 0.5343 - precision: 0.0422 - recall: 0.7018 - pr_auc: 0.0398 - roc_auc: 0.6156 - val_loss: 6.4514 - val_tp: 7.0000 - val_fp: 101.0000 - val_tn: 335.0000 - val_fn: 5.0000 - val_accuracy: 0.7634 - val_precision: 0.0648 - val_recall: 0.5833 - val_pr_auc: 0.0570 - val_roc_auc: 0.6765\n",
      "Epoch 173/600\n",
      "31/31 [==============================] - 0s 8ms/step - loss: 657.7537 - tp: 25.0000 - fp: 930.0000 - tn: 997.0000 - fn: 32.0000 - accuracy: 0.5151 - precision: 0.0262 - recall: 0.4386 - pr_auc: 0.0271 - roc_auc: 0.4782 - val_loss: 7.1133 - val_tp: 7.0000 - val_fp: 110.0000 - val_tn: 326.0000 - val_fn: 5.0000 - val_accuracy: 0.7433 - val_precision: 0.0598 - val_recall: 0.5833 - val_pr_auc: 0.0548 - val_roc_auc: 0.6717\n",
      "Epoch 174/600\n",
      "31/31 [==============================] - 0s 8ms/step - loss: 599.1299 - tp: 29.0000 - fp: 906.0000 - tn: 1021.0000 - fn: 28.0000 - accuracy: 0.5292 - precision: 0.0310 - recall: 0.5088 - pr_auc: 0.0303 - roc_auc: 0.5194 - val_loss: 7.7996 - val_tp: 7.0000 - val_fp: 115.0000 - val_tn: 321.0000 - val_fn: 5.0000 - val_accuracy: 0.7321 - val_precision: 0.0574 - val_recall: 0.5833 - val_pr_auc: 0.0517 - val_roc_auc: 0.6635\n",
      "Epoch 175/600\n",
      "31/31 [==============================] - 0s 8ms/step - loss: 548.7834 - tp: 28.0000 - fp: 923.0000 - tn: 1004.0000 - fn: 29.0000 - accuracy: 0.5202 - precision: 0.0294 - recall: 0.4912 - pr_auc: 0.0292 - roc_auc: 0.5055 - val_loss: 11.4106 - val_tp: 8.0000 - val_fp: 136.0000 - val_tn: 300.0000 - val_fn: 4.0000 - val_accuracy: 0.6875 - val_precision: 0.0556 - val_recall: 0.6667 - val_pr_auc: 0.0466 - val_roc_auc: 0.6681\n",
      "Epoch 176/600\n",
      "31/31 [==============================] - 0s 8ms/step - loss: 530.8272 - tp: 37.0000 - fp: 912.0000 - tn: 1015.0000 - fn: 20.0000 - accuracy: 0.5302 - precision: 0.0390 - recall: 0.6491 - pr_auc: 0.0368 - roc_auc: 0.5880 - val_loss: 6.2566 - val_tp: 7.0000 - val_fp: 97.0000 - val_tn: 339.0000 - val_fn: 5.0000 - val_accuracy: 0.7723 - val_precision: 0.0673 - val_recall: 0.5833 - val_pr_auc: 0.0589 - val_roc_auc: 0.6797\n",
      "Epoch 177/600\n",
      "31/31 [==============================] - 0s 9ms/step - loss: 525.7152 - tp: 27.0000 - fp: 906.0000 - tn: 1021.0000 - fn: 30.0000 - accuracy: 0.5282 - precision: 0.0289 - recall: 0.4737 - pr_auc: 0.0289 - roc_auc: 0.5015 - val_loss: 7.1734 - val_tp: 7.0000 - val_fp: 110.0000 - val_tn: 326.0000 - val_fn: 5.0000 - val_accuracy: 0.7433 - val_precision: 0.0598 - val_recall: 0.5833 - val_pr_auc: 0.0548 - val_roc_auc: 0.6713\n",
      "Epoch 178/600\n",
      "31/31 [==============================] - 0s 8ms/step - loss: 710.5948 - tp: 23.0000 - fp: 944.0000 - tn: 983.0000 - fn: 34.0000 - accuracy: 0.5071 - precision: 0.0238 - recall: 0.4035 - pr_auc: 0.0256 - roc_auc: 0.4567 - val_loss: 14.6092 - val_tp: 8.0000 - val_fp: 148.0000 - val_tn: 288.0000 - val_fn: 4.0000 - val_accuracy: 0.6607 - val_precision: 0.0513 - val_recall: 0.6667 - val_pr_auc: 0.0489 - val_roc_auc: 0.6919\n",
      "Epoch 179/600\n",
      "31/31 [==============================] - 0s 8ms/step - loss: 524.4398 - tp: 34.0000 - fp: 978.0000 - tn: 949.0000 - fn: 23.0000 - accuracy: 0.4955 - precision: 0.0336 - recall: 0.5965 - pr_auc: 0.0324 - roc_auc: 0.5446 - val_loss: 12.3595 - val_tp: 8.0000 - val_fp: 140.0000 - val_tn: 296.0000 - val_fn: 4.0000 - val_accuracy: 0.6786 - val_precision: 0.0541 - val_recall: 0.6667 - val_pr_auc: 0.0448 - val_roc_auc: 0.6612\n",
      "Epoch 180/600\n",
      "31/31 [==============================] - 0s 8ms/step - loss: 582.0699 - tp: 29.0000 - fp: 949.0000 - tn: 978.0000 - fn: 28.0000 - accuracy: 0.5076 - precision: 0.0297 - recall: 0.5088 - pr_auc: 0.0288 - roc_auc: 0.5028 - val_loss: 11.5012 - val_tp: 8.0000 - val_fp: 136.0000 - val_tn: 300.0000 - val_fn: 4.0000 - val_accuracy: 0.6875 - val_precision: 0.0556 - val_recall: 0.6667 - val_pr_auc: 0.0464 - val_roc_auc: 0.6674\n",
      "Epoch 181/600\n",
      "31/31 [==============================] - 0s 8ms/step - loss: 634.1414 - tp: 26.0000 - fp: 927.0000 - tn: 1000.0000 - fn: 31.0000 - accuracy: 0.5171 - precision: 0.0273 - recall: 0.4561 - pr_auc: 0.0278 - roc_auc: 0.4873 - val_loss: 14.5301 - val_tp: 8.0000 - val_fp: 148.0000 - val_tn: 288.0000 - val_fn: 4.0000 - val_accuracy: 0.6607 - val_precision: 0.0513 - val_recall: 0.6667 - val_pr_auc: 0.0490 - val_roc_auc: 0.6926\n",
      "Epoch 182/600\n",
      "31/31 [==============================] - 0s 8ms/step - loss: 641.7128 - tp: 27.0000 - fp: 956.0000 - tn: 971.0000 - fn: 30.0000 - accuracy: 0.5030 - precision: 0.0275 - recall: 0.4737 - pr_auc: 0.0279 - roc_auc: 0.4890 - val_loss: 22.0901 - val_tp: 11.0000 - val_fp: 180.0000 - val_tn: 256.0000 - val_fn: 1.0000 - val_accuracy: 0.5960 - val_precision: 0.0576 - val_recall: 0.9167 - val_pr_auc: 0.0551 - val_roc_auc: 0.7486\n",
      "Epoch 183/600\n",
      "31/31 [==============================] - 0s 9ms/step - loss: 534.2878 - tp: 31.0000 - fp: 953.0000 - tn: 974.0000 - fn: 26.0000 - accuracy: 0.5066 - precision: 0.0315 - recall: 0.5439 - pr_auc: 0.0308 - roc_auc: 0.5246 - val_loss: 22.2644 - val_tp: 11.0000 - val_fp: 181.0000 - val_tn: 255.0000 - val_fn: 1.0000 - val_accuracy: 0.5938 - val_precision: 0.0573 - val_recall: 0.9167 - val_pr_auc: 0.0551 - val_roc_auc: 0.7486\n",
      "Epoch 184/600\n",
      "31/31 [==============================] - 0s 8ms/step - loss: 545.6465 - tp: 33.0000 - fp: 951.0000 - tn: 976.0000 - fn: 24.0000 - accuracy: 0.5086 - precision: 0.0335 - recall: 0.5789 - pr_auc: 0.0318 - roc_auc: 0.5389 - val_loss: 14.9943 - val_tp: 8.0000 - val_fp: 149.0000 - val_tn: 287.0000 - val_fn: 4.0000 - val_accuracy: 0.6585 - val_precision: 0.0510 - val_recall: 0.6667 - val_pr_auc: 0.0490 - val_roc_auc: 0.6921\n",
      "Epoch 185/600\n",
      "31/31 [==============================] - 0s 8ms/step - loss: 631.8590 - tp: 28.0000 - fp: 981.0000 - tn: 946.0000 - fn: 29.0000 - accuracy: 0.4909 - precision: 0.0278 - recall: 0.4912 - pr_auc: 0.0280 - roc_auc: 0.4905 - val_loss: 13.9384 - val_tp: 8.0000 - val_fp: 145.0000 - val_tn: 291.0000 - val_fn: 4.0000 - val_accuracy: 0.6674 - val_precision: 0.0523 - val_recall: 0.6667 - val_pr_auc: 0.0500 - val_roc_auc: 0.6965\n",
      "Epoch 186/600\n",
      "31/31 [==============================] - 0s 8ms/step - loss: 524.1262 - tp: 30.0000 - fp: 951.0000 - tn: 976.0000 - fn: 27.0000 - accuracy: 0.5071 - precision: 0.0306 - recall: 0.5263 - pr_auc: 0.0301 - roc_auc: 0.5168 - val_loss: 9.9302 - val_tp: 7.0000 - val_fp: 125.0000 - val_tn: 311.0000 - val_fn: 5.0000 - val_accuracy: 0.7098 - val_precision: 0.0530 - val_recall: 0.5833 - val_pr_auc: 0.0490 - val_roc_auc: 0.6764\n",
      "Epoch 187/600\n",
      "31/31 [==============================] - 0s 8ms/step - loss: 649.2166 - tp: 22.0000 - fp: 963.0000 - tn: 964.0000 - fn: 35.0000 - accuracy: 0.4970 - precision: 0.0223 - recall: 0.3860 - pr_auc: 0.0247 - roc_auc: 0.4424 - val_loss: 23.7495 - val_tp: 11.0000 - val_fp: 184.0000 - val_tn: 252.0000 - val_fn: 1.0000 - val_accuracy: 0.5871 - val_precision: 0.0564 - val_recall: 0.9167 - val_pr_auc: 0.0570 - val_roc_auc: 0.7554\n",
      "Epoch 188/600\n",
      "31/31 [==============================] - 0s 9ms/step - loss: 512.8036 - tp: 31.0000 - fp: 944.0000 - tn: 983.0000 - fn: 26.0000 - accuracy: 0.5111 - precision: 0.0318 - recall: 0.5439 - pr_auc: 0.0310 - roc_auc: 0.5272 - val_loss: 26.3059 - val_tp: 11.0000 - val_fp: 190.0000 - val_tn: 246.0000 - val_fn: 1.0000 - val_accuracy: 0.5737 - val_precision: 0.0547 - val_recall: 0.9167 - val_pr_auc: 0.0545 - val_roc_auc: 0.7450\n",
      "Epoch 189/600\n",
      "31/31 [==============================] - 0s 8ms/step - loss: 584.5480 - tp: 31.0000 - fp: 956.0000 - tn: 971.0000 - fn: 26.0000 - accuracy: 0.5050 - precision: 0.0314 - recall: 0.5439 - pr_auc: 0.0307 - roc_auc: 0.5238 - val_loss: 21.5725 - val_tp: 11.0000 - val_fp: 175.0000 - val_tn: 261.0000 - val_fn: 1.0000 - val_accuracy: 0.6071 - val_precision: 0.0591 - val_recall: 0.9167 - val_pr_auc: 0.0554 - val_roc_auc: 0.7499\n"
     ]
    },
    {
     "name": "stdout",
     "output_type": "stream",
     "text": [
      "Epoch 190/600\n",
      "31/31 [==============================] - 0s 8ms/step - loss: 563.8185 - tp: 33.0000 - fp: 965.0000 - tn: 962.0000 - fn: 24.0000 - accuracy: 0.5015 - precision: 0.0331 - recall: 0.5789 - pr_auc: 0.0314 - roc_auc: 0.5348 - val_loss: 10.9957 - val_tp: 7.0000 - val_fp: 134.0000 - val_tn: 302.0000 - val_fn: 5.0000 - val_accuracy: 0.6897 - val_precision: 0.0496 - val_recall: 0.5833 - val_pr_auc: 0.0477 - val_roc_auc: 0.6719\n",
      "Epoch 191/600\n",
      "31/31 [==============================] - 0s 8ms/step - loss: 502.4391 - tp: 35.0000 - fp: 945.0000 - tn: 982.0000 - fn: 22.0000 - accuracy: 0.5126 - precision: 0.0357 - recall: 0.6140 - pr_auc: 0.0340 - roc_auc: 0.5616 - val_loss: 6.9409 - val_tp: 7.0000 - val_fp: 103.0000 - val_tn: 333.0000 - val_fn: 5.0000 - val_accuracy: 0.7589 - val_precision: 0.0636 - val_recall: 0.5833 - val_pr_auc: 0.0565 - val_roc_auc: 0.6754\n",
      "Epoch 192/600\n",
      "31/31 [==============================] - 0s 8ms/step - loss: 493.7504 - tp: 36.0000 - fp: 946.0000 - tn: 981.0000 - fn: 21.0000 - accuracy: 0.5126 - precision: 0.0367 - recall: 0.6316 - pr_auc: 0.0349 - roc_auc: 0.5708 - val_loss: 1.5116 - val_tp: 3.0000 - val_fp: 16.0000 - val_tn: 420.0000 - val_fn: 9.0000 - val_accuracy: 0.9442 - val_precision: 0.1579 - val_recall: 0.2500 - val_pr_auc: 0.1030 - val_roc_auc: 0.6015\n",
      "Epoch 193/600\n",
      "31/31 [==============================] - 0s 8ms/step - loss: 674.4987 - tp: 26.0000 - fp: 921.0000 - tn: 1006.0000 - fn: 31.0000 - accuracy: 0.5202 - precision: 0.0275 - recall: 0.4561 - pr_auc: 0.0279 - roc_auc: 0.4886 - val_loss: 1.7948 - val_tp: 3.0000 - val_fp: 30.0000 - val_tn: 406.0000 - val_fn: 9.0000 - val_accuracy: 0.9129 - val_precision: 0.0909 - val_recall: 0.2500 - val_pr_auc: 0.0569 - val_roc_auc: 0.5854\n",
      "Epoch 194/600\n",
      "31/31 [==============================] - 0s 9ms/step - loss: 602.3776 - tp: 30.0000 - fp: 911.0000 - tn: 1016.0000 - fn: 27.0000 - accuracy: 0.5272 - precision: 0.0319 - recall: 0.5263 - pr_auc: 0.0310 - roc_auc: 0.5271 - val_loss: 2.0331 - val_tp: 3.0000 - val_fp: 39.0000 - val_tn: 397.0000 - val_fn: 9.0000 - val_accuracy: 0.8929 - val_precision: 0.0714 - val_recall: 0.2500 - val_pr_auc: 0.0490 - val_roc_auc: 0.5774\n",
      "Epoch 195/600\n",
      "31/31 [==============================] - 0s 8ms/step - loss: 579.9903 - tp: 29.0000 - fp: 970.0000 - tn: 957.0000 - fn: 28.0000 - accuracy: 0.4970 - precision: 0.0290 - recall: 0.5088 - pr_auc: 0.0290 - roc_auc: 0.5032 - val_loss: 2.2231 - val_tp: 3.0000 - val_fp: 42.0000 - val_tn: 394.0000 - val_fn: 9.0000 - val_accuracy: 0.8862 - val_precision: 0.0667 - val_recall: 0.2500 - val_pr_auc: 0.0464 - val_roc_auc: 0.5731\n",
      "Epoch 196/600\n",
      "31/31 [==============================] - 0s 8ms/step - loss: 517.9907 - tp: 32.0000 - fp: 912.0000 - tn: 1015.0000 - fn: 25.0000 - accuracy: 0.5277 - precision: 0.0339 - recall: 0.5614 - pr_auc: 0.0325 - roc_auc: 0.5440 - val_loss: 1.5595 - val_tp: 3.0000 - val_fp: 19.0000 - val_tn: 417.0000 - val_fn: 9.0000 - val_accuracy: 0.9375 - val_precision: 0.1364 - val_recall: 0.2500 - val_pr_auc: 0.0957 - val_roc_auc: 0.5995\n",
      "Epoch 197/600\n",
      "31/31 [==============================] - 0s 8ms/step - loss: 686.5367 - tp: 20.0000 - fp: 970.0000 - tn: 957.0000 - fn: 37.0000 - accuracy: 0.4924 - precision: 0.0202 - recall: 0.3509 - pr_auc: 0.0236 - roc_auc: 0.4237 - val_loss: 3.8106 - val_tp: 6.0000 - val_fp: 67.0000 - val_tn: 369.0000 - val_fn: 6.0000 - val_accuracy: 0.8371 - val_precision: 0.0822 - val_recall: 0.5000 - val_pr_auc: 0.0571 - val_roc_auc: 0.6942\n",
      "Epoch 198/600\n",
      "31/31 [==============================] - 0s 8ms/step - loss: 519.8303 - tp: 32.0000 - fp: 878.0000 - tn: 1049.0000 - fn: 25.0000 - accuracy: 0.5449 - precision: 0.0352 - recall: 0.5614 - pr_auc: 0.0335 - roc_auc: 0.5529 - val_loss: 7.0417 - val_tp: 7.0000 - val_fp: 104.0000 - val_tn: 332.0000 - val_fn: 5.0000 - val_accuracy: 0.7567 - val_precision: 0.0631 - val_recall: 0.5833 - val_pr_auc: 0.0562 - val_roc_auc: 0.6752\n",
      "Epoch 199/600\n",
      "31/31 [==============================] - 0s 9ms/step - loss: 575.5295 - tp: 25.0000 - fp: 939.0000 - tn: 988.0000 - fn: 32.0000 - accuracy: 0.5106 - precision: 0.0259 - recall: 0.4386 - pr_auc: 0.0269 - roc_auc: 0.4758 - val_loss: 10.2831 - val_tp: 7.0000 - val_fp: 127.0000 - val_tn: 309.0000 - val_fn: 5.0000 - val_accuracy: 0.7054 - val_precision: 0.0522 - val_recall: 0.5833 - val_pr_auc: 0.0485 - val_roc_auc: 0.6751\n",
      "Epoch 200/600\n",
      "31/31 [==============================] - 0s 8ms/step - loss: 596.9751 - tp: 24.0000 - fp: 970.0000 - tn: 957.0000 - fn: 33.0000 - accuracy: 0.4945 - precision: 0.0241 - recall: 0.4211 - pr_auc: 0.0258 - roc_auc: 0.4588 - val_loss: 19.6320 - val_tp: 10.0000 - val_fp: 163.0000 - val_tn: 273.0000 - val_fn: 2.0000 - val_accuracy: 0.6317 - val_precision: 0.0578 - val_recall: 0.8333 - val_pr_auc: 0.0532 - val_roc_auc: 0.7435\n",
      "Epoch 201/600\n",
      "31/31 [==============================] - 0s 8ms/step - loss: 568.9957 - tp: 33.0000 - fp: 974.0000 - tn: 953.0000 - fn: 24.0000 - accuracy: 0.4970 - precision: 0.0328 - recall: 0.5789 - pr_auc: 0.0318 - roc_auc: 0.5370 - val_loss: 17.7948 - val_tp: 9.0000 - val_fp: 158.0000 - val_tn: 278.0000 - val_fn: 3.0000 - val_accuracy: 0.6406 - val_precision: 0.0539 - val_recall: 0.7500 - val_pr_auc: 0.0531 - val_roc_auc: 0.7251\n",
      "Epoch 202/600\n",
      "31/31 [==============================] - 0s 9ms/step - loss: 571.0558 - tp: 30.0000 - fp: 964.0000 - tn: 963.0000 - fn: 27.0000 - accuracy: 0.5005 - precision: 0.0302 - recall: 0.5263 - pr_auc: 0.0293 - roc_auc: 0.5083 - val_loss: 12.1826 - val_tp: 8.0000 - val_fp: 137.0000 - val_tn: 299.0000 - val_fn: 4.0000 - val_accuracy: 0.6853 - val_precision: 0.0552 - val_recall: 0.6667 - val_pr_auc: 0.0462 - val_roc_auc: 0.6668\n",
      "Epoch 203/600\n",
      "31/31 [==============================] - 0s 8ms/step - loss: 575.6537 - tp: 23.0000 - fp: 933.0000 - tn: 994.0000 - fn: 34.0000 - accuracy: 0.5126 - precision: 0.0241 - recall: 0.4035 - pr_auc: 0.0258 - roc_auc: 0.4594 - val_loss: 19.6418 - val_tp: 10.0000 - val_fp: 162.0000 - val_tn: 274.0000 - val_fn: 2.0000 - val_accuracy: 0.6339 - val_precision: 0.0581 - val_recall: 0.8333 - val_pr_auc: 0.0535 - val_roc_auc: 0.7445\n",
      "Epoch 204/600\n",
      "31/31 [==============================] - 0s 8ms/step - loss: 532.2458 - tp: 31.0000 - fp: 972.0000 - tn: 955.0000 - fn: 26.0000 - accuracy: 0.4970 - precision: 0.0309 - recall: 0.5439 - pr_auc: 0.0304 - roc_auc: 0.5201 - val_loss: 24.2851 - val_tp: 11.0000 - val_fp: 183.0000 - val_tn: 253.0000 - val_fn: 1.0000 - val_accuracy: 0.5893 - val_precision: 0.0567 - val_recall: 0.9167 - val_pr_auc: 0.0582 - val_roc_auc: 0.7597\n",
      "Epoch 205/600\n",
      "31/31 [==============================] - 0s 8ms/step - loss: 480.2372 - tp: 34.0000 - fp: 960.0000 - tn: 967.0000 - fn: 23.0000 - accuracy: 0.5045 - precision: 0.0342 - recall: 0.5965 - pr_auc: 0.0329 - roc_auc: 0.5497 - val_loss: 13.4246 - val_tp: 8.0000 - val_fp: 139.0000 - val_tn: 297.0000 - val_fn: 4.0000 - val_accuracy: 0.6808 - val_precision: 0.0544 - val_recall: 0.6667 - val_pr_auc: 0.0487 - val_roc_auc: 0.6728\n",
      "Epoch 206/600\n",
      "31/31 [==============================] - 0s 8ms/step - loss: 499.8858 - tp: 36.0000 - fp: 926.0000 - tn: 1001.0000 - fn: 21.0000 - accuracy: 0.5227 - precision: 0.0374 - recall: 0.6316 - pr_auc: 0.0355 - roc_auc: 0.5755 - val_loss: 4.7375 - val_tp: 7.0000 - val_fp: 79.0000 - val_tn: 357.0000 - val_fn: 5.0000 - val_accuracy: 0.8125 - val_precision: 0.0814 - val_recall: 0.5833 - val_pr_auc: 0.0643 - val_roc_auc: 0.6982\n",
      "Epoch 207/600\n",
      "31/31 [==============================] - 0s 8ms/step - loss: 489.6562 - tp: 34.0000 - fp: 921.0000 - tn: 1006.0000 - fn: 23.0000 - accuracy: 0.5242 - precision: 0.0356 - recall: 0.5965 - pr_auc: 0.0339 - roc_auc: 0.5593 - val_loss: 3.2001 - val_tp: 4.0000 - val_fp: 60.0000 - val_tn: 376.0000 - val_fn: 8.0000 - val_accuracy: 0.8482 - val_precision: 0.0625 - val_recall: 0.3333 - val_pr_auc: 0.0512 - val_roc_auc: 0.6628\n",
      "Epoch 208/600\n",
      "31/31 [==============================] - 0s 8ms/step - loss: 581.5684 - tp: 27.0000 - fp: 970.0000 - tn: 957.0000 - fn: 30.0000 - accuracy: 0.4960 - precision: 0.0271 - recall: 0.4737 - pr_auc: 0.0276 - roc_auc: 0.4851 - val_loss: 2.2063 - val_tp: 3.0000 - val_fp: 39.0000 - val_tn: 397.0000 - val_fn: 9.0000 - val_accuracy: 0.8929 - val_precision: 0.0714 - val_recall: 0.2500 - val_pr_auc: 0.0465 - val_roc_auc: 0.5740\n"
     ]
    },
    {
     "name": "stdout",
     "output_type": "stream",
     "text": [
      "Epoch 209/600\n",
      "31/31 [==============================] - 0s 8ms/step - loss: 590.5801 - tp: 32.0000 - fp: 921.0000 - tn: 1006.0000 - fn: 25.0000 - accuracy: 0.5232 - precision: 0.0336 - recall: 0.5614 - pr_auc: 0.0323 - roc_auc: 0.5417 - val_loss: 2.0348 - val_tp: 3.0000 - val_fp: 37.0000 - val_tn: 399.0000 - val_fn: 9.0000 - val_accuracy: 0.8973 - val_precision: 0.0750 - val_recall: 0.2500 - val_pr_auc: 0.0500 - val_roc_auc: 0.5794\n",
      "Epoch 210/600\n",
      "31/31 [==============================] - 0s 8ms/step - loss: 555.3220 - tp: 28.0000 - fp: 901.0000 - tn: 1026.0000 - fn: 29.0000 - accuracy: 0.5312 - precision: 0.0301 - recall: 0.4912 - pr_auc: 0.0292 - roc_auc: 0.5079 - val_loss: 3.2980 - val_tp: 5.0000 - val_fp: 60.0000 - val_tn: 376.0000 - val_fn: 7.0000 - val_accuracy: 0.8504 - val_precision: 0.0769 - val_recall: 0.4167 - val_pr_auc: 0.0510 - val_roc_auc: 0.6618\n",
      "Epoch 211/600\n",
      "31/31 [==============================] - 0s 8ms/step - loss: 498.0289 - tp: 29.0000 - fp: 932.0000 - tn: 995.0000 - fn: 28.0000 - accuracy: 0.5161 - precision: 0.0302 - recall: 0.5088 - pr_auc: 0.0298 - roc_auc: 0.5130 - val_loss: 2.4005 - val_tp: 3.0000 - val_fp: 44.0000 - val_tn: 392.0000 - val_fn: 9.0000 - val_accuracy: 0.8817 - val_precision: 0.0638 - val_recall: 0.2500 - val_pr_auc: 0.0433 - val_roc_auc: 0.5691\n",
      "Epoch 212/600\n",
      "31/31 [==============================] - 0s 8ms/step - loss: 555.0199 - tp: 26.0000 - fp: 935.0000 - tn: 992.0000 - fn: 31.0000 - accuracy: 0.5131 - precision: 0.0271 - recall: 0.4561 - pr_auc: 0.0276 - roc_auc: 0.4849 - val_loss: 6.6226 - val_tp: 7.0000 - val_fp: 97.0000 - val_tn: 339.0000 - val_fn: 5.0000 - val_accuracy: 0.7723 - val_precision: 0.0673 - val_recall: 0.5833 - val_pr_auc: 0.0592 - val_roc_auc: 0.6830\n",
      "Epoch 213/600\n",
      "31/31 [==============================] - 0s 8ms/step - loss: 697.8384 - tp: 28.0000 - fp: 973.0000 - tn: 954.0000 - fn: 29.0000 - accuracy: 0.4950 - precision: 0.0280 - recall: 0.4912 - pr_auc: 0.0282 - roc_auc: 0.4931 - val_loss: 11.2058 - val_tp: 7.0000 - val_fp: 131.0000 - val_tn: 305.0000 - val_fn: 5.0000 - val_accuracy: 0.6964 - val_precision: 0.0507 - val_recall: 0.5833 - val_pr_auc: 0.0477 - val_roc_auc: 0.6729\n",
      "Epoch 214/600\n",
      "31/31 [==============================] - 0s 8ms/step - loss: 578.1176 - tp: 27.0000 - fp: 935.0000 - tn: 992.0000 - fn: 30.0000 - accuracy: 0.5136 - precision: 0.0281 - recall: 0.4737 - pr_auc: 0.0283 - roc_auc: 0.4937 - val_loss: 12.6863 - val_tp: 8.0000 - val_fp: 137.0000 - val_tn: 299.0000 - val_fn: 4.0000 - val_accuracy: 0.6853 - val_precision: 0.0552 - val_recall: 0.6667 - val_pr_auc: 0.0462 - val_roc_auc: 0.6670\n",
      "Epoch 215/600\n",
      "31/31 [==============================] - 0s 8ms/step - loss: 726.6943 - tp: 24.0000 - fp: 945.0000 - tn: 982.0000 - fn: 33.0000 - accuracy: 0.5071 - precision: 0.0248 - recall: 0.4211 - pr_auc: 0.0262 - roc_auc: 0.4654 - val_loss: 19.0716 - val_tp: 9.0000 - val_fp: 160.0000 - val_tn: 276.0000 - val_fn: 3.0000 - val_accuracy: 0.6362 - val_precision: 0.0533 - val_recall: 0.7500 - val_pr_auc: 0.0523 - val_roc_auc: 0.7219\n",
      "Epoch 216/600\n",
      "31/31 [==============================] - 0s 8ms/step - loss: 730.4100 - tp: 23.0000 - fp: 958.0000 - tn: 969.0000 - fn: 34.0000 - accuracy: 0.5000 - precision: 0.0234 - recall: 0.4035 - pr_auc: 0.0254 - roc_auc: 0.4531 - val_loss: 28.9244 - val_tp: 11.0000 - val_fp: 193.0000 - val_tn: 243.0000 - val_fn: 1.0000 - val_accuracy: 0.5670 - val_precision: 0.0539 - val_recall: 0.9167 - val_pr_auc: 0.0540 - val_roc_auc: 0.7428\n",
      "Epoch 217/600\n",
      "31/31 [==============================] - 0s 8ms/step - loss: 646.9145 - tp: 23.0000 - fp: 975.0000 - tn: 952.0000 - fn: 34.0000 - accuracy: 0.4914 - precision: 0.0230 - recall: 0.4035 - pr_auc: 0.0251 - roc_auc: 0.4489 - val_loss: 48.5326 - val_tp: 12.0000 - val_fp: 243.0000 - val_tn: 193.0000 - val_fn: 0.0000e+00 - val_accuracy: 0.4576 - val_precision: 0.0471 - val_recall: 1.0000 - val_pr_auc: 0.0488 - val_roc_auc: 0.7317\n",
      "Epoch 218/600\n",
      "31/31 [==============================] - 0s 9ms/step - loss: 631.8674 - tp: 30.0000 - fp: 1027.0000 - tn: 900.0000 - fn: 27.0000 - accuracy: 0.4688 - precision: 0.0284 - recall: 0.5263 - pr_auc: 0.0285 - roc_auc: 0.4967 - val_loss: 44.5907 - val_tp: 12.0000 - val_fp: 232.0000 - val_tn: 204.0000 - val_fn: 0.0000e+00 - val_accuracy: 0.4821 - val_precision: 0.0492 - val_recall: 1.0000 - val_pr_auc: 0.0511 - val_roc_auc: 0.7443\n",
      "Epoch 219/600\n",
      "31/31 [==============================] - 0s 8ms/step - loss: 630.5593 - tp: 32.0000 - fp: 1001.0000 - tn: 926.0000 - fn: 25.0000 - accuracy: 0.4829 - precision: 0.0310 - recall: 0.5614 - pr_auc: 0.0299 - roc_auc: 0.5165 - val_loss: 40.2976 - val_tp: 12.0000 - val_fp: 217.0000 - val_tn: 219.0000 - val_fn: 0.0000e+00 - val_accuracy: 0.5156 - val_precision: 0.0524 - val_recall: 1.0000 - val_pr_auc: 0.0538 - val_roc_auc: 0.7580\n",
      "Epoch 220/600\n",
      "31/31 [==============================] - 0s 9ms/step - loss: 612.0009 - tp: 31.0000 - fp: 944.0000 - tn: 983.0000 - fn: 26.0000 - accuracy: 0.5111 - precision: 0.0318 - recall: 0.5439 - pr_auc: 0.0309 - roc_auc: 0.5267 - val_loss: 29.7013 - val_tp: 11.0000 - val_fp: 195.0000 - val_tn: 241.0000 - val_fn: 1.0000 - val_accuracy: 0.5625 - val_precision: 0.0534 - val_recall: 0.9167 - val_pr_auc: 0.0537 - val_roc_auc: 0.7416\n",
      "Epoch 221/600\n",
      "31/31 [==============================] - 0s 8ms/step - loss: 501.5106 - tp: 36.0000 - fp: 958.0000 - tn: 969.0000 - fn: 21.0000 - accuracy: 0.5066 - precision: 0.0362 - recall: 0.6316 - pr_auc: 0.0346 - roc_auc: 0.5676 - val_loss: 20.5737 - val_tp: 10.0000 - val_fp: 164.0000 - val_tn: 272.0000 - val_fn: 2.0000 - val_accuracy: 0.6295 - val_precision: 0.0575 - val_recall: 0.8333 - val_pr_auc: 0.0533 - val_roc_auc: 0.7438\n",
      "Epoch 222/600\n",
      "31/31 [==============================] - 0s 8ms/step - loss: 578.0609 - tp: 30.0000 - fp: 932.0000 - tn: 995.0000 - fn: 27.0000 - accuracy: 0.5166 - precision: 0.0312 - recall: 0.5263 - pr_auc: 0.0305 - roc_auc: 0.5211 - val_loss: 15.7742 - val_tp: 8.0000 - val_fp: 149.0000 - val_tn: 287.0000 - val_fn: 4.0000 - val_accuracy: 0.6585 - val_precision: 0.0510 - val_recall: 0.6667 - val_pr_auc: 0.0499 - val_roc_auc: 0.6961\n",
      "Epoch 223/600\n",
      "31/31 [==============================] - 0s 8ms/step - loss: 618.5297 - tp: 34.0000 - fp: 949.0000 - tn: 978.0000 - fn: 23.0000 - accuracy: 0.5101 - precision: 0.0346 - recall: 0.5965 - pr_auc: 0.0333 - roc_auc: 0.5528 - val_loss: 10.0535 - val_tp: 7.0000 - val_fp: 123.0000 - val_tn: 313.0000 - val_fn: 5.0000 - val_accuracy: 0.7143 - val_precision: 0.0538 - val_recall: 0.5833 - val_pr_auc: 0.0478 - val_roc_auc: 0.6526\n",
      "Epoch 224/600\n",
      "31/31 [==============================] - 0s 8ms/step - loss: 617.2159 - tp: 28.0000 - fp: 917.0000 - tn: 1010.0000 - fn: 29.0000 - accuracy: 0.5232 - precision: 0.0296 - recall: 0.4912 - pr_auc: 0.0289 - roc_auc: 0.5034 - val_loss: 9.8410 - val_tp: 7.0000 - val_fp: 123.0000 - val_tn: 313.0000 - val_fn: 5.0000 - val_accuracy: 0.7143 - val_precision: 0.0538 - val_recall: 0.5833 - val_pr_auc: 0.0481 - val_roc_auc: 0.6538\n",
      "Epoch 225/600\n",
      "31/31 [==============================] - 0s 9ms/step - loss: 715.3131 - tp: 21.0000 - fp: 950.0000 - tn: 977.0000 - fn: 36.0000 - accuracy: 0.5030 - precision: 0.0216 - recall: 0.3684 - pr_auc: 0.0244 - roc_auc: 0.4369 - val_loss: 16.8878 - val_tp: 9.0000 - val_fp: 150.0000 - val_tn: 286.0000 - val_fn: 3.0000 - val_accuracy: 0.6585 - val_precision: 0.0566 - val_recall: 0.7500 - val_pr_auc: 0.0486 - val_roc_auc: 0.6914\n",
      "Epoch 226/600\n",
      "31/31 [==============================] - 0s 8ms/step - loss: 535.4051 - tp: 33.0000 - fp: 935.0000 - tn: 992.0000 - fn: 24.0000 - accuracy: 0.5166 - precision: 0.0341 - recall: 0.5789 - pr_auc: 0.0322 - roc_auc: 0.5426 - val_loss: 20.3659 - val_tp: 10.0000 - val_fp: 162.0000 - val_tn: 274.0000 - val_fn: 2.0000 - val_accuracy: 0.6339 - val_precision: 0.0581 - val_recall: 0.8333 - val_pr_auc: 0.0515 - val_roc_auc: 0.7191\n",
      "Epoch 227/600\n",
      "31/31 [==============================] - 0s 8ms/step - loss: 467.2309 - tp: 35.0000 - fp: 967.0000 - tn: 960.0000 - fn: 22.0000 - accuracy: 0.5015 - precision: 0.0349 - recall: 0.6140 - pr_auc: 0.0329 - roc_auc: 0.5521 - val_loss: 13.7807 - val_tp: 8.0000 - val_fp: 139.0000 - val_tn: 297.0000 - val_fn: 4.0000 - val_accuracy: 0.6808 - val_precision: 0.0544 - val_recall: 0.6667 - val_pr_auc: 0.0488 - val_roc_auc: 0.6739\n"
     ]
    },
    {
     "name": "stdout",
     "output_type": "stream",
     "text": [
      "Epoch 228/600\n",
      "31/31 [==============================] - 0s 8ms/step - loss: 541.3804 - tp: 33.0000 - fp: 941.0000 - tn: 986.0000 - fn: 24.0000 - accuracy: 0.5136 - precision: 0.0339 - recall: 0.5789 - pr_auc: 0.0328 - roc_auc: 0.5498 - val_loss: 6.8801 - val_tp: 7.0000 - val_fp: 97.0000 - val_tn: 339.0000 - val_fn: 5.0000 - val_accuracy: 0.7723 - val_precision: 0.0673 - val_recall: 0.5833 - val_pr_auc: 0.0592 - val_roc_auc: 0.6835\n",
      "Epoch 229/600\n",
      "31/31 [==============================] - 0s 8ms/step - loss: 637.3587 - tp: 26.0000 - fp: 912.0000 - tn: 1015.0000 - fn: 31.0000 - accuracy: 0.5247 - precision: 0.0277 - recall: 0.4561 - pr_auc: 0.0281 - roc_auc: 0.4914 - val_loss: 9.0016 - val_tp: 7.0000 - val_fp: 117.0000 - val_tn: 319.0000 - val_fn: 5.0000 - val_accuracy: 0.7277 - val_precision: 0.0565 - val_recall: 0.5833 - val_pr_auc: 0.0507 - val_roc_auc: 0.6620\n",
      "Epoch 230/600\n",
      "31/31 [==============================] - 0s 8ms/step - loss: 739.0027 - tp: 24.0000 - fp: 951.0000 - tn: 976.0000 - fn: 33.0000 - accuracy: 0.5040 - precision: 0.0246 - recall: 0.4211 - pr_auc: 0.0261 - roc_auc: 0.4635 - val_loss: 19.3397 - val_tp: 9.0000 - val_fp: 159.0000 - val_tn: 277.0000 - val_fn: 3.0000 - val_accuracy: 0.6384 - val_precision: 0.0536 - val_recall: 0.7500 - val_pr_auc: 0.0531 - val_roc_auc: 0.7247\n",
      "Epoch 231/600\n",
      "31/31 [==============================] - 0s 8ms/step - loss: 555.6821 - tp: 32.0000 - fp: 910.0000 - tn: 1017.0000 - fn: 25.0000 - accuracy: 0.5287 - precision: 0.0340 - recall: 0.5614 - pr_auc: 0.0325 - roc_auc: 0.5444 - val_loss: 15.0741 - val_tp: 8.0000 - val_fp: 143.0000 - val_tn: 293.0000 - val_fn: 4.0000 - val_accuracy: 0.6719 - val_precision: 0.0530 - val_recall: 0.6667 - val_pr_auc: 0.0502 - val_roc_auc: 0.6983\n",
      "Epoch 232/600\n",
      "31/31 [==============================] - 0s 8ms/step - loss: 504.1284 - tp: 33.0000 - fp: 934.0000 - tn: 993.0000 - fn: 24.0000 - accuracy: 0.5171 - precision: 0.0341 - recall: 0.5789 - pr_auc: 0.0328 - roc_auc: 0.5475 - val_loss: 11.5089 - val_tp: 7.0000 - val_fp: 130.0000 - val_tn: 306.0000 - val_fn: 5.0000 - val_accuracy: 0.6987 - val_precision: 0.0511 - val_recall: 0.5833 - val_pr_auc: 0.0479 - val_roc_auc: 0.6736\n",
      "Epoch 233/600\n",
      "31/31 [==============================] - 0s 8ms/step - loss: 651.7141 - tp: 29.0000 - fp: 943.0000 - tn: 984.0000 - fn: 28.0000 - accuracy: 0.5106 - precision: 0.0298 - recall: 0.5088 - pr_auc: 0.0295 - roc_auc: 0.5095 - val_loss: 11.7763 - val_tp: 7.0000 - val_fp: 131.0000 - val_tn: 305.0000 - val_fn: 5.0000 - val_accuracy: 0.6964 - val_precision: 0.0507 - val_recall: 0.5833 - val_pr_auc: 0.0478 - val_roc_auc: 0.6733\n",
      "Epoch 234/600\n",
      "31/31 [==============================] - 0s 8ms/step - loss: 605.8173 - tp: 29.0000 - fp: 946.0000 - tn: 981.0000 - fn: 28.0000 - accuracy: 0.5091 - precision: 0.0297 - recall: 0.5088 - pr_auc: 0.0290 - roc_auc: 0.5046 - val_loss: 9.9874 - val_tp: 7.0000 - val_fp: 123.0000 - val_tn: 313.0000 - val_fn: 5.0000 - val_accuracy: 0.7143 - val_precision: 0.0538 - val_recall: 0.5833 - val_pr_auc: 0.0481 - val_roc_auc: 0.6538\n",
      "Epoch 235/600\n",
      "31/31 [==============================] - 0s 8ms/step - loss: 588.2778 - tp: 23.0000 - fp: 970.0000 - tn: 957.0000 - fn: 34.0000 - accuracy: 0.4940 - precision: 0.0232 - recall: 0.4035 - pr_auc: 0.0252 - roc_auc: 0.4495 - val_loss: 19.9568 - val_tp: 9.0000 - val_fp: 160.0000 - val_tn: 276.0000 - val_fn: 3.0000 - val_accuracy: 0.6362 - val_precision: 0.0533 - val_recall: 0.7500 - val_pr_auc: 0.0523 - val_roc_auc: 0.7221\n",
      "Epoch 236/600\n",
      "31/31 [==============================] - 0s 8ms/step - loss: 522.6469 - tp: 33.0000 - fp: 945.0000 - tn: 982.0000 - fn: 24.0000 - accuracy: 0.5116 - precision: 0.0337 - recall: 0.5789 - pr_auc: 0.0325 - roc_auc: 0.5445 - val_loss: 16.7115 - val_tp: 9.0000 - val_fp: 149.0000 - val_tn: 287.0000 - val_fn: 3.0000 - val_accuracy: 0.6607 - val_precision: 0.0570 - val_recall: 0.7500 - val_pr_auc: 0.0491 - val_roc_auc: 0.6935\n",
      "Epoch 237/600\n",
      "31/31 [==============================] - 0s 8ms/step - loss: 499.6215 - tp: 31.0000 - fp: 948.0000 - tn: 979.0000 - fn: 26.0000 - accuracy: 0.5091 - precision: 0.0317 - recall: 0.5439 - pr_auc: 0.0308 - roc_auc: 0.5256 - val_loss: 10.9792 - val_tp: 7.0000 - val_fp: 126.0000 - val_tn: 310.0000 - val_fn: 5.0000 - val_accuracy: 0.7076 - val_precision: 0.0526 - val_recall: 0.5833 - val_pr_auc: 0.0486 - val_roc_auc: 0.6760\n",
      "Epoch 238/600\n",
      "31/31 [==============================] - 0s 8ms/step - loss: 556.7609 - tp: 26.0000 - fp: 942.0000 - tn: 985.0000 - fn: 31.0000 - accuracy: 0.5096 - precision: 0.0269 - recall: 0.4561 - pr_auc: 0.0275 - roc_auc: 0.4833 - val_loss: 14.3804 - val_tp: 8.0000 - val_fp: 139.0000 - val_tn: 297.0000 - val_fn: 4.0000 - val_accuracy: 0.6808 - val_precision: 0.0544 - val_recall: 0.6667 - val_pr_auc: 0.0484 - val_roc_auc: 0.6724\n",
      "Epoch 239/600\n",
      "31/31 [==============================] - 0s 8ms/step - loss: 622.6725 - tp: 29.0000 - fp: 977.0000 - tn: 950.0000 - fn: 28.0000 - accuracy: 0.4934 - precision: 0.0288 - recall: 0.5088 - pr_auc: 0.0288 - roc_auc: 0.5010 - val_loss: 17.0506 - val_tp: 9.0000 - val_fp: 149.0000 - val_tn: 287.0000 - val_fn: 3.0000 - val_accuracy: 0.6607 - val_precision: 0.0570 - val_recall: 0.7500 - val_pr_auc: 0.0486 - val_roc_auc: 0.6914\n",
      "Epoch 240/600\n",
      "31/31 [==============================] - 0s 8ms/step - loss: 557.9907 - tp: 31.0000 - fp: 966.0000 - tn: 961.0000 - fn: 26.0000 - accuracy: 0.5000 - precision: 0.0311 - recall: 0.5439 - pr_auc: 0.0304 - roc_auc: 0.5212 - val_loss: 13.4787 - val_tp: 8.0000 - val_fp: 138.0000 - val_tn: 298.0000 - val_fn: 4.0000 - val_accuracy: 0.6830 - val_precision: 0.0548 - val_recall: 0.6667 - val_pr_auc: 0.0459 - val_roc_auc: 0.6663\n",
      "Epoch 241/600\n",
      "31/31 [==============================] - 0s 8ms/step - loss: 647.0044 - tp: 25.0000 - fp: 959.0000 - tn: 968.0000 - fn: 32.0000 - accuracy: 0.5005 - precision: 0.0254 - recall: 0.4386 - pr_auc: 0.0266 - roc_auc: 0.4705 - val_loss: 13.7671 - val_tp: 8.0000 - val_fp: 139.0000 - val_tn: 297.0000 - val_fn: 4.0000 - val_accuracy: 0.6808 - val_precision: 0.0544 - val_recall: 0.6667 - val_pr_auc: 0.0496 - val_roc_auc: 0.6770\n",
      "Epoch 242/600\n",
      "31/31 [==============================] - 0s 8ms/step - loss: 581.4941 - tp: 24.0000 - fp: 970.0000 - tn: 957.0000 - fn: 33.0000 - accuracy: 0.4945 - precision: 0.0241 - recall: 0.4211 - pr_auc: 0.0258 - roc_auc: 0.4586 - val_loss: 24.1384 - val_tp: 11.0000 - val_fp: 174.0000 - val_tn: 262.0000 - val_fn: 1.0000 - val_accuracy: 0.6094 - val_precision: 0.0595 - val_recall: 0.9167 - val_pr_auc: 0.0557 - val_roc_auc: 0.7514\n",
      "Epoch 243/600\n",
      "31/31 [==============================] - 0s 9ms/step - loss: 532.6671 - tp: 32.0000 - fp: 942.0000 - tn: 985.0000 - fn: 25.0000 - accuracy: 0.5126 - precision: 0.0329 - recall: 0.5614 - pr_auc: 0.0318 - roc_auc: 0.5366 - val_loss: 20.6324 - val_tp: 10.0000 - val_fp: 160.0000 - val_tn: 276.0000 - val_fn: 2.0000 - val_accuracy: 0.6384 - val_precision: 0.0588 - val_recall: 0.8333 - val_pr_auc: 0.0518 - val_roc_auc: 0.7204\n",
      "Epoch 244/600\n",
      "31/31 [==============================] - 0s 8ms/step - loss: 681.4949 - tp: 23.0000 - fp: 937.0000 - tn: 990.0000 - fn: 34.0000 - accuracy: 0.5106 - precision: 0.0240 - recall: 0.4035 - pr_auc: 0.0257 - roc_auc: 0.4584 - val_loss: 32.1195 - val_tp: 11.0000 - val_fp: 196.0000 - val_tn: 240.0000 - val_fn: 1.0000 - val_accuracy: 0.5603 - val_precision: 0.0531 - val_recall: 0.9167 - val_pr_auc: 0.0532 - val_roc_auc: 0.7392\n",
      "Epoch 245/600\n",
      "31/31 [==============================] - 0s 8ms/step - loss: 643.4695 - tp: 27.0000 - fp: 972.0000 - tn: 955.0000 - fn: 30.0000 - accuracy: 0.4950 - precision: 0.0270 - recall: 0.4737 - pr_auc: 0.0276 - roc_auc: 0.4842 - val_loss: 39.9052 - val_tp: 12.0000 - val_fp: 211.0000 - val_tn: 225.0000 - val_fn: 0.0000e+00 - val_accuracy: 0.5290 - val_precision: 0.0538 - val_recall: 1.0000 - val_pr_auc: 0.0506 - val_roc_auc: 0.7421\n",
      "Epoch 246/600\n",
      "31/31 [==============================] - 0s 8ms/step - loss: 626.7304 - tp: 27.0000 - fp: 975.0000 - tn: 952.0000 - fn: 30.0000 - accuracy: 0.4934 - precision: 0.0269 - recall: 0.4737 - pr_auc: 0.0277 - roc_auc: 0.4883 - val_loss: 43.3829 - val_tp: 12.0000 - val_fp: 221.0000 - val_tn: 215.0000 - val_fn: 0.0000e+00 - val_accuracy: 0.5067 - val_precision: 0.0515 - val_recall: 1.0000 - val_pr_auc: 0.0531 - val_roc_auc: 0.7546\n"
     ]
    },
    {
     "name": "stdout",
     "output_type": "stream",
     "text": [
      "Epoch 247/600\n",
      "31/31 [==============================] - 0s 8ms/step - loss: 490.9039 - tp: 35.0000 - fp: 950.0000 - tn: 977.0000 - fn: 22.0000 - accuracy: 0.5101 - precision: 0.0355 - recall: 0.6140 - pr_auc: 0.0339 - roc_auc: 0.5601 - val_loss: 34.0048 - val_tp: 11.0000 - val_fp: 200.0000 - val_tn: 236.0000 - val_fn: 1.0000 - val_accuracy: 0.5513 - val_precision: 0.0521 - val_recall: 0.9167 - val_pr_auc: 0.0517 - val_roc_auc: 0.7327\n",
      "Epoch 248/600\n",
      "31/31 [==============================] - 0s 8ms/step - loss: 549.1616 - tp: 33.0000 - fp: 968.0000 - tn: 959.0000 - fn: 24.0000 - accuracy: 0.5000 - precision: 0.0330 - recall: 0.5789 - pr_auc: 0.0319 - roc_auc: 0.5383 - val_loss: 21.4082 - val_tp: 10.0000 - val_fp: 161.0000 - val_tn: 275.0000 - val_fn: 2.0000 - val_accuracy: 0.6362 - val_precision: 0.0585 - val_recall: 0.8333 - val_pr_auc: 0.0536 - val_roc_auc: 0.7451\n",
      "Epoch 249/600\n",
      "31/31 [==============================] - 0s 8ms/step - loss: 578.4111 - tp: 29.0000 - fp: 919.0000 - tn: 1008.0000 - fn: 28.0000 - accuracy: 0.5227 - precision: 0.0306 - recall: 0.5088 - pr_auc: 0.0300 - roc_auc: 0.5157 - val_loss: 20.8750 - val_tp: 10.0000 - val_fp: 159.0000 - val_tn: 277.0000 - val_fn: 2.0000 - val_accuracy: 0.6406 - val_precision: 0.0592 - val_recall: 0.8333 - val_pr_auc: 0.0518 - val_roc_auc: 0.7204\n",
      "Epoch 250/600\n",
      "31/31 [==============================] - 0s 8ms/step - loss: 558.1371 - tp: 28.0000 - fp: 951.0000 - tn: 976.0000 - fn: 29.0000 - accuracy: 0.5060 - precision: 0.0286 - recall: 0.4912 - pr_auc: 0.0286 - roc_auc: 0.4985 - val_loss: 20.4988 - val_tp: 9.0000 - val_fp: 159.0000 - val_tn: 277.0000 - val_fn: 3.0000 - val_accuracy: 0.6384 - val_precision: 0.0536 - val_recall: 0.7500 - val_pr_auc: 0.0526 - val_roc_auc: 0.7231\n",
      "Epoch 251/600\n",
      "31/31 [==============================] - 0s 8ms/step - loss: 640.7294 - tp: 27.0000 - fp: 968.0000 - tn: 959.0000 - fn: 30.0000 - accuracy: 0.4970 - precision: 0.0271 - recall: 0.4737 - pr_auc: 0.0277 - roc_auc: 0.4858 - val_loss: 20.3746 - val_tp: 9.0000 - val_fp: 159.0000 - val_tn: 277.0000 - val_fn: 3.0000 - val_accuracy: 0.6384 - val_precision: 0.0536 - val_recall: 0.7500 - val_pr_auc: 0.0528 - val_roc_auc: 0.7240\n",
      "Epoch 252/600\n",
      "31/31 [==============================] - 0s 8ms/step - loss: 441.8763 - tp: 36.0000 - fp: 924.0000 - tn: 1003.0000 - fn: 21.0000 - accuracy: 0.5237 - precision: 0.0375 - recall: 0.6316 - pr_auc: 0.0355 - roc_auc: 0.5759 - val_loss: 13.2377 - val_tp: 8.0000 - val_fp: 137.0000 - val_tn: 299.0000 - val_fn: 4.0000 - val_accuracy: 0.6853 - val_precision: 0.0552 - val_recall: 0.6667 - val_pr_auc: 0.0467 - val_roc_auc: 0.6695\n",
      "Epoch 253/600\n",
      "31/31 [==============================] - 0s 8ms/step - loss: 595.5257 - tp: 33.0000 - fp: 951.0000 - tn: 976.0000 - fn: 24.0000 - accuracy: 0.5086 - precision: 0.0335 - recall: 0.5789 - pr_auc: 0.0319 - roc_auc: 0.5423 - val_loss: 10.8771 - val_tp: 7.0000 - val_fp: 124.0000 - val_tn: 312.0000 - val_fn: 5.0000 - val_accuracy: 0.7121 - val_precision: 0.0534 - val_recall: 0.5833 - val_pr_auc: 0.0496 - val_roc_auc: 0.6800\n",
      "Epoch 254/600\n",
      "31/31 [==============================] - 0s 8ms/step - loss: 547.7074 - tp: 30.0000 - fp: 902.0000 - tn: 1025.0000 - fn: 27.0000 - accuracy: 0.5318 - precision: 0.0322 - recall: 0.5263 - pr_auc: 0.0312 - roc_auc: 0.5286 - val_loss: 7.8299 - val_tp: 7.0000 - val_fp: 104.0000 - val_tn: 332.0000 - val_fn: 5.0000 - val_accuracy: 0.7567 - val_precision: 0.0631 - val_recall: 0.5833 - val_pr_auc: 0.0556 - val_roc_auc: 0.6767\n",
      "Epoch 255/600\n",
      "31/31 [==============================] - 0s 8ms/step - loss: 620.0569 - tp: 30.0000 - fp: 931.0000 - tn: 996.0000 - fn: 27.0000 - accuracy: 0.5171 - precision: 0.0312 - recall: 0.5263 - pr_auc: 0.0307 - roc_auc: 0.5262 - val_loss: 9.2146 - val_tp: 7.0000 - val_fp: 113.0000 - val_tn: 323.0000 - val_fn: 5.0000 - val_accuracy: 0.7366 - val_precision: 0.0583 - val_recall: 0.5833 - val_pr_auc: 0.0510 - val_roc_auc: 0.6627\n",
      "Epoch 256/600\n",
      "31/31 [==============================] - 0s 8ms/step - loss: 544.9643 - tp: 30.0000 - fp: 918.0000 - tn: 1009.0000 - fn: 27.0000 - accuracy: 0.5237 - precision: 0.0316 - recall: 0.5263 - pr_auc: 0.0308 - roc_auc: 0.5253 - val_loss: 10.4848 - val_tp: 7.0000 - val_fp: 123.0000 - val_tn: 313.0000 - val_fn: 5.0000 - val_accuracy: 0.7143 - val_precision: 0.0538 - val_recall: 0.5833 - val_pr_auc: 0.0487 - val_roc_auc: 0.6551\n",
      "Epoch 257/600\n",
      "31/31 [==============================] - 0s 9ms/step - loss: 494.3583 - tp: 32.0000 - fp: 929.0000 - tn: 998.0000 - fn: 25.0000 - accuracy: 0.5192 - precision: 0.0333 - recall: 0.5614 - pr_auc: 0.0321 - roc_auc: 0.5396 - val_loss: 8.4032 - val_tp: 7.0000 - val_fp: 106.0000 - val_tn: 330.0000 - val_fn: 5.0000 - val_accuracy: 0.7522 - val_precision: 0.0619 - val_recall: 0.5833 - val_pr_auc: 0.0533 - val_roc_auc: 0.6691\n",
      "Epoch 258/600\n",
      "31/31 [==============================] - 0s 8ms/step - loss: 646.6501 - tp: 24.0000 - fp: 908.0000 - tn: 1019.0000 - fn: 33.0000 - accuracy: 0.5257 - precision: 0.0258 - recall: 0.4211 - pr_auc: 0.0268 - roc_auc: 0.4750 - val_loss: 10.8391 - val_tp: 7.0000 - val_fp: 123.0000 - val_tn: 313.0000 - val_fn: 5.0000 - val_accuracy: 0.7143 - val_precision: 0.0538 - val_recall: 0.5833 - val_pr_auc: 0.0499 - val_roc_auc: 0.6807\n",
      "Epoch 259/600\n",
      "31/31 [==============================] - 0s 8ms/step - loss: 656.4853 - tp: 24.0000 - fp: 931.0000 - tn: 996.0000 - fn: 33.0000 - accuracy: 0.5141 - precision: 0.0251 - recall: 0.4211 - pr_auc: 0.0260 - roc_auc: 0.4645 - val_loss: 26.2600 - val_tp: 11.0000 - val_fp: 177.0000 - val_tn: 259.0000 - val_fn: 1.0000 - val_accuracy: 0.6027 - val_precision: 0.0585 - val_recall: 0.9167 - val_pr_auc: 0.0595 - val_roc_auc: 0.7640\n",
      "Epoch 260/600\n",
      "31/31 [==============================] - 0s 8ms/step - loss: 541.0646 - tp: 34.0000 - fp: 958.0000 - tn: 969.0000 - fn: 23.0000 - accuracy: 0.5055 - precision: 0.0343 - recall: 0.5965 - pr_auc: 0.0329 - roc_auc: 0.5495 - val_loss: 23.3225 - val_tp: 10.0000 - val_fp: 166.0000 - val_tn: 270.0000 - val_fn: 2.0000 - val_accuracy: 0.6250 - val_precision: 0.0568 - val_recall: 0.8333 - val_pr_auc: 0.0575 - val_roc_auc: 0.7579\n",
      "Epoch 261/600\n",
      "31/31 [==============================] - 0s 8ms/step - loss: 603.7581 - tp: 27.0000 - fp: 945.0000 - tn: 982.0000 - fn: 30.0000 - accuracy: 0.5086 - precision: 0.0278 - recall: 0.4737 - pr_auc: 0.0272 - roc_auc: 0.4830 - val_loss: 23.7512 - val_tp: 10.0000 - val_fp: 166.0000 - val_tn: 270.0000 - val_fn: 2.0000 - val_accuracy: 0.6250 - val_precision: 0.0568 - val_recall: 0.8333 - val_pr_auc: 0.0566 - val_roc_auc: 0.7551\n",
      "Epoch 262/600\n",
      "31/31 [==============================] - 0s 8ms/step - loss: 578.8430 - tp: 29.0000 - fp: 951.0000 - tn: 976.0000 - fn: 28.0000 - accuracy: 0.5066 - precision: 0.0296 - recall: 0.5088 - pr_auc: 0.0293 - roc_auc: 0.5075 - val_loss: 26.7636 - val_tp: 11.0000 - val_fp: 177.0000 - val_tn: 259.0000 - val_fn: 1.0000 - val_accuracy: 0.6027 - val_precision: 0.0585 - val_recall: 0.9167 - val_pr_auc: 0.0585 - val_roc_auc: 0.7608\n",
      "Epoch 263/600\n",
      "31/31 [==============================] - 0s 8ms/step - loss: 531.3212 - tp: 31.0000 - fp: 967.0000 - tn: 960.0000 - fn: 26.0000 - accuracy: 0.4995 - precision: 0.0311 - recall: 0.5439 - pr_auc: 0.0304 - roc_auc: 0.5209 - val_loss: 19.0658 - val_tp: 9.0000 - val_fp: 153.0000 - val_tn: 283.0000 - val_fn: 3.0000 - val_accuracy: 0.6518 - val_precision: 0.0556 - val_recall: 0.7500 - val_pr_auc: 0.0520 - val_roc_auc: 0.7021\n",
      "Epoch 264/600\n",
      "31/31 [==============================] - 0s 8ms/step - loss: 588.3807 - tp: 34.0000 - fp: 1025.0000 - tn: 902.0000 - fn: 23.0000 - accuracy: 0.4718 - precision: 0.0321 - recall: 0.5965 - pr_auc: 0.0313 - roc_auc: 0.5325 - val_loss: 10.8969 - val_tp: 7.0000 - val_fp: 123.0000 - val_tn: 313.0000 - val_fn: 5.0000 - val_accuracy: 0.7143 - val_precision: 0.0538 - val_recall: 0.5833 - val_pr_auc: 0.0499 - val_roc_auc: 0.6807\n",
      "Epoch 265/600\n",
      "31/31 [==============================] - 0s 8ms/step - loss: 623.6583 - tp: 22.0000 - fp: 890.0000 - tn: 1037.0000 - fn: 35.0000 - accuracy: 0.5338 - precision: 0.0241 - recall: 0.3860 - pr_auc: 0.0259 - roc_auc: 0.4618 - val_loss: 15.3134 - val_tp: 8.0000 - val_fp: 139.0000 - val_tn: 297.0000 - val_fn: 4.0000 - val_accuracy: 0.6808 - val_precision: 0.0544 - val_recall: 0.6667 - val_pr_auc: 0.0482 - val_roc_auc: 0.6716\n"
     ]
    },
    {
     "name": "stdout",
     "output_type": "stream",
     "text": [
      "Epoch 266/600\n",
      "31/31 [==============================] - 0s 8ms/step - loss: 622.6340 - tp: 27.0000 - fp: 987.0000 - tn: 940.0000 - fn: 30.0000 - accuracy: 0.4874 - precision: 0.0266 - recall: 0.4737 - pr_auc: 0.0275 - roc_auc: 0.4849 - val_loss: 21.4066 - val_tp: 10.0000 - val_fp: 159.0000 - val_tn: 277.0000 - val_fn: 2.0000 - val_accuracy: 0.6406 - val_precision: 0.0592 - val_recall: 0.8333 - val_pr_auc: 0.0521 - val_roc_auc: 0.7214\n",
      "Epoch 267/600\n",
      "31/31 [==============================] - 0s 8ms/step - loss: 591.3480 - tp: 26.0000 - fp: 953.0000 - tn: 974.0000 - fn: 31.0000 - accuracy: 0.5040 - precision: 0.0266 - recall: 0.4561 - pr_auc: 0.0273 - roc_auc: 0.4809 - val_loss: 24.4604 - val_tp: 11.0000 - val_fp: 167.0000 - val_tn: 269.0000 - val_fn: 1.0000 - val_accuracy: 0.6250 - val_precision: 0.0618 - val_recall: 0.9167 - val_pr_auc: 0.0560 - val_roc_auc: 0.7531\n",
      "Epoch 268/600\n",
      "31/31 [==============================] - 0s 8ms/step - loss: 519.4581 - tp: 31.0000 - fp: 923.0000 - tn: 1004.0000 - fn: 26.0000 - accuracy: 0.5217 - precision: 0.0325 - recall: 0.5439 - pr_auc: 0.0315 - roc_auc: 0.5326 - val_loss: 27.0274 - val_tp: 11.0000 - val_fp: 177.0000 - val_tn: 259.0000 - val_fn: 1.0000 - val_accuracy: 0.6027 - val_precision: 0.0585 - val_recall: 0.9167 - val_pr_auc: 0.0582 - val_roc_auc: 0.7597\n",
      "Epoch 269/600\n",
      "31/31 [==============================] - 0s 8ms/step - loss: 602.9517 - tp: 25.0000 - fp: 942.0000 - tn: 985.0000 - fn: 32.0000 - accuracy: 0.5091 - precision: 0.0259 - recall: 0.4386 - pr_auc: 0.0268 - roc_auc: 0.4741 - val_loss: 36.8527 - val_tp: 11.0000 - val_fp: 204.0000 - val_tn: 232.0000 - val_fn: 1.0000 - val_accuracy: 0.5424 - val_precision: 0.0512 - val_recall: 0.9167 - val_pr_auc: 0.0510 - val_roc_auc: 0.7292\n",
      "Epoch 270/600\n",
      "31/31 [==============================] - 0s 8ms/step - loss: 641.9168 - tp: 31.0000 - fp: 974.0000 - tn: 953.0000 - fn: 26.0000 - accuracy: 0.4960 - precision: 0.0308 - recall: 0.5439 - pr_auc: 0.0303 - roc_auc: 0.5192 - val_loss: 33.9894 - val_tp: 11.0000 - val_fp: 196.0000 - val_tn: 240.0000 - val_fn: 1.0000 - val_accuracy: 0.5603 - val_precision: 0.0531 - val_recall: 0.9167 - val_pr_auc: 0.0532 - val_roc_auc: 0.7391\n",
      "Epoch 271/600\n",
      "31/31 [==============================] - 0s 8ms/step - loss: 492.0024 - tp: 34.0000 - fp: 913.0000 - tn: 1014.0000 - fn: 23.0000 - accuracy: 0.5282 - precision: 0.0359 - recall: 0.5965 - pr_auc: 0.0341 - roc_auc: 0.5613 - val_loss: 23.8261 - val_tp: 10.0000 - val_fp: 166.0000 - val_tn: 270.0000 - val_fn: 2.0000 - val_accuracy: 0.6250 - val_precision: 0.0568 - val_recall: 0.8333 - val_pr_auc: 0.0575 - val_roc_auc: 0.7579\n",
      "Epoch 272/600\n",
      "31/31 [==============================] - 0s 9ms/step - loss: 508.8060 - tp: 30.0000 - fp: 940.0000 - tn: 987.0000 - fn: 27.0000 - accuracy: 0.5126 - precision: 0.0309 - recall: 0.5263 - pr_auc: 0.0303 - roc_auc: 0.5192 - val_loss: 19.3074 - val_tp: 9.0000 - val_fp: 152.0000 - val_tn: 284.0000 - val_fn: 3.0000 - val_accuracy: 0.6540 - val_precision: 0.0559 - val_recall: 0.7500 - val_pr_auc: 0.0520 - val_roc_auc: 0.7024\n",
      "Epoch 273/600\n",
      "31/31 [==============================] - 0s 8ms/step - loss: 593.1886 - tp: 30.0000 - fp: 928.0000 - tn: 999.0000 - fn: 27.0000 - accuracy: 0.5186 - precision: 0.0313 - recall: 0.5263 - pr_auc: 0.0306 - roc_auc: 0.5223 - val_loss: 19.5680 - val_tp: 9.0000 - val_fp: 154.0000 - val_tn: 282.0000 - val_fn: 3.0000 - val_accuracy: 0.6496 - val_precision: 0.0552 - val_recall: 0.7500 - val_pr_auc: 0.0520 - val_roc_auc: 0.7021\n",
      "Epoch 274/600\n",
      "31/31 [==============================] - 0s 8ms/step - loss: 612.3146 - tp: 33.0000 - fp: 926.0000 - tn: 1001.0000 - fn: 24.0000 - accuracy: 0.5212 - precision: 0.0344 - recall: 0.5789 - pr_auc: 0.0330 - roc_auc: 0.5493 - val_loss: 16.3315 - val_tp: 8.0000 - val_fp: 142.0000 - val_tn: 294.0000 - val_fn: 4.0000 - val_accuracy: 0.6741 - val_precision: 0.0533 - val_recall: 0.6667 - val_pr_auc: 0.0501 - val_roc_auc: 0.6982\n",
      "Epoch 275/600\n",
      "31/31 [==============================] - 0s 8ms/step - loss: 561.3383 - tp: 31.0000 - fp: 950.0000 - tn: 977.0000 - fn: 26.0000 - accuracy: 0.5081 - precision: 0.0316 - recall: 0.5439 - pr_auc: 0.0309 - roc_auc: 0.5259 - val_loss: 10.6342 - val_tp: 7.0000 - val_fp: 123.0000 - val_tn: 313.0000 - val_fn: 5.0000 - val_accuracy: 0.7143 - val_precision: 0.0538 - val_recall: 0.5833 - val_pr_auc: 0.0499 - val_roc_auc: 0.6587\n",
      "Epoch 276/600\n",
      "31/31 [==============================] - 0s 8ms/step - loss: 502.4689 - tp: 27.0000 - fp: 937.0000 - tn: 990.0000 - fn: 30.0000 - accuracy: 0.5126 - precision: 0.0280 - recall: 0.4737 - pr_auc: 0.0283 - roc_auc: 0.4941 - val_loss: 18.4828 - val_tp: 9.0000 - val_fp: 149.0000 - val_tn: 287.0000 - val_fn: 3.0000 - val_accuracy: 0.6607 - val_precision: 0.0570 - val_recall: 0.7500 - val_pr_auc: 0.0482 - val_roc_auc: 0.6906\n",
      "Epoch 277/600\n",
      "31/31 [==============================] - 0s 8ms/step - loss: 543.1454 - tp: 31.0000 - fp: 939.0000 - tn: 988.0000 - fn: 26.0000 - accuracy: 0.5136 - precision: 0.0320 - recall: 0.5439 - pr_auc: 0.0311 - roc_auc: 0.5289 - val_loss: 19.3982 - val_tp: 9.0000 - val_fp: 152.0000 - val_tn: 284.0000 - val_fn: 3.0000 - val_accuracy: 0.6540 - val_precision: 0.0559 - val_recall: 0.7500 - val_pr_auc: 0.0520 - val_roc_auc: 0.7024\n",
      "Epoch 278/600\n",
      "31/31 [==============================] - 0s 8ms/step - loss: 581.9427 - tp: 26.0000 - fp: 962.0000 - tn: 965.0000 - fn: 31.0000 - accuracy: 0.4995 - precision: 0.0263 - recall: 0.4561 - pr_auc: 0.0271 - roc_auc: 0.4781 - val_loss: 18.4527 - val_tp: 9.0000 - val_fp: 149.0000 - val_tn: 287.0000 - val_fn: 3.0000 - val_accuracy: 0.6607 - val_precision: 0.0570 - val_recall: 0.7500 - val_pr_auc: 0.0482 - val_roc_auc: 0.6906\n",
      "Epoch 279/600\n",
      "31/31 [==============================] - 0s 8ms/step - loss: 449.0961 - tp: 35.0000 - fp: 936.0000 - tn: 991.0000 - fn: 22.0000 - accuracy: 0.5171 - precision: 0.0360 - recall: 0.6140 - pr_auc: 0.0344 - roc_auc: 0.5645 - val_loss: 19.1551 - val_tp: 9.0000 - val_fp: 151.0000 - val_tn: 285.0000 - val_fn: 3.0000 - val_accuracy: 0.6562 - val_precision: 0.0562 - val_recall: 0.7500 - val_pr_auc: 0.0480 - val_roc_auc: 0.6892\n",
      "Epoch 280/600\n",
      "31/31 [==============================] - 0s 8ms/step - loss: 556.7643 - tp: 29.0000 - fp: 948.0000 - tn: 979.0000 - fn: 28.0000 - accuracy: 0.5081 - precision: 0.0297 - recall: 0.5088 - pr_auc: 0.0294 - roc_auc: 0.5086 - val_loss: 14.9785 - val_tp: 8.0000 - val_fp: 139.0000 - val_tn: 297.0000 - val_fn: 4.0000 - val_accuracy: 0.6808 - val_precision: 0.0544 - val_recall: 0.6667 - val_pr_auc: 0.0496 - val_roc_auc: 0.6770\n",
      "Epoch 281/600\n",
      "31/31 [==============================] - 0s 8ms/step - loss: 502.7770 - tp: 30.0000 - fp: 933.0000 - tn: 994.0000 - fn: 27.0000 - accuracy: 0.5161 - precision: 0.0312 - recall: 0.5263 - pr_auc: 0.0299 - roc_auc: 0.5167 - val_loss: 15.3794 - val_tp: 8.0000 - val_fp: 139.0000 - val_tn: 297.0000 - val_fn: 4.0000 - val_accuracy: 0.6808 - val_precision: 0.0544 - val_recall: 0.6667 - val_pr_auc: 0.0485 - val_roc_auc: 0.6728\n",
      "Epoch 282/600\n",
      "31/31 [==============================] - 0s 8ms/step - loss: 592.2573 - tp: 25.0000 - fp: 899.0000 - tn: 1028.0000 - fn: 32.0000 - accuracy: 0.5307 - precision: 0.0271 - recall: 0.4386 - pr_auc: 0.0277 - roc_auc: 0.4858 - val_loss: 18.9013 - val_tp: 9.0000 - val_fp: 150.0000 - val_tn: 286.0000 - val_fn: 3.0000 - val_accuracy: 0.6585 - val_precision: 0.0566 - val_recall: 0.7500 - val_pr_auc: 0.0482 - val_roc_auc: 0.6900\n",
      "Epoch 283/600\n",
      "31/31 [==============================] - 0s 8ms/step - loss: 528.6771 - tp: 28.0000 - fp: 957.0000 - tn: 970.0000 - fn: 29.0000 - accuracy: 0.5030 - precision: 0.0284 - recall: 0.4912 - pr_auc: 0.0281 - roc_auc: 0.4928 - val_loss: 29.8837 - val_tp: 11.0000 - val_fp: 187.0000 - val_tn: 249.0000 - val_fn: 1.0000 - val_accuracy: 0.5804 - val_precision: 0.0556 - val_recall: 0.9167 - val_pr_auc: 0.0567 - val_roc_auc: 0.7541\n",
      "Epoch 284/600\n",
      "31/31 [==============================] - 0s 9ms/step - loss: 556.4928 - tp: 28.0000 - fp: 962.0000 - tn: 965.0000 - fn: 29.0000 - accuracy: 0.5005 - precision: 0.0283 - recall: 0.4912 - pr_auc: 0.0284 - roc_auc: 0.4961 - val_loss: 30.3896 - val_tp: 11.0000 - val_fp: 188.0000 - val_tn: 248.0000 - val_fn: 1.0000 - val_accuracy: 0.5781 - val_precision: 0.0553 - val_recall: 0.9167 - val_pr_auc: 0.0564 - val_roc_auc: 0.7528\n"
     ]
    },
    {
     "name": "stdout",
     "output_type": "stream",
     "text": [
      "Epoch 285/600\n",
      "31/31 [==============================] - 0s 8ms/step - loss: 496.9673 - tp: 28.0000 - fp: 953.0000 - tn: 974.0000 - fn: 29.0000 - accuracy: 0.5050 - precision: 0.0285 - recall: 0.4912 - pr_auc: 0.0288 - roc_auc: 0.5030 - val_loss: 32.1998 - val_tp: 11.0000 - val_fp: 190.0000 - val_tn: 246.0000 - val_fn: 1.0000 - val_accuracy: 0.5737 - val_precision: 0.0547 - val_recall: 0.9167 - val_pr_auc: 0.0540 - val_roc_auc: 0.7430\n",
      "Epoch 286/600\n",
      "31/31 [==============================] - 0s 8ms/step - loss: 612.4696 - tp: 30.0000 - fp: 958.0000 - tn: 969.0000 - fn: 27.0000 - accuracy: 0.5035 - precision: 0.0304 - recall: 0.5263 - pr_auc: 0.0299 - roc_auc: 0.5146 - val_loss: 33.5876 - val_tp: 11.0000 - val_fp: 196.0000 - val_tn: 240.0000 - val_fn: 1.0000 - val_accuracy: 0.5603 - val_precision: 0.0531 - val_recall: 0.9167 - val_pr_auc: 0.0534 - val_roc_auc: 0.7404\n",
      "Epoch 287/600\n",
      "31/31 [==============================] - 0s 8ms/step - loss: 519.7872 - tp: 32.0000 - fp: 952.0000 - tn: 975.0000 - fn: 25.0000 - accuracy: 0.5076 - precision: 0.0325 - recall: 0.5614 - pr_auc: 0.0318 - roc_auc: 0.5386 - val_loss: 28.5707 - val_tp: 11.0000 - val_fp: 179.0000 - val_tn: 257.0000 - val_fn: 1.0000 - val_accuracy: 0.5982 - val_precision: 0.0579 - val_recall: 0.9167 - val_pr_auc: 0.0576 - val_roc_auc: 0.7575\n",
      "Epoch 288/600\n",
      "31/31 [==============================] - 0s 8ms/step - loss: 515.9074 - tp: 27.0000 - fp: 936.0000 - tn: 991.0000 - fn: 30.0000 - accuracy: 0.5131 - precision: 0.0280 - recall: 0.4737 - pr_auc: 0.0283 - roc_auc: 0.4937 - val_loss: 24.3637 - val_tp: 10.0000 - val_fp: 165.0000 - val_tn: 271.0000 - val_fn: 2.0000 - val_accuracy: 0.6272 - val_precision: 0.0571 - val_recall: 0.8333 - val_pr_auc: 0.0572 - val_roc_auc: 0.7569\n",
      "Epoch 289/600\n",
      "31/31 [==============================] - 0s 8ms/step - loss: 509.8315 - tp: 29.0000 - fp: 959.0000 - tn: 968.0000 - fn: 28.0000 - accuracy: 0.5025 - precision: 0.0294 - recall: 0.5088 - pr_auc: 0.0292 - roc_auc: 0.5056 - val_loss: 33.1676 - val_tp: 11.0000 - val_fp: 194.0000 - val_tn: 242.0000 - val_fn: 1.0000 - val_accuracy: 0.5647 - val_precision: 0.0537 - val_recall: 0.9167 - val_pr_auc: 0.0537 - val_roc_auc: 0.7417\n",
      "Epoch 290/600\n",
      "31/31 [==============================] - 0s 8ms/step - loss: 518.7993 - tp: 34.0000 - fp: 955.0000 - tn: 972.0000 - fn: 23.0000 - accuracy: 0.5071 - precision: 0.0344 - recall: 0.5965 - pr_auc: 0.0330 - roc_auc: 0.5508 - val_loss: 22.4912 - val_tp: 10.0000 - val_fp: 160.0000 - val_tn: 276.0000 - val_fn: 2.0000 - val_accuracy: 0.6384 - val_precision: 0.0588 - val_recall: 0.8333 - val_pr_auc: 0.0518 - val_roc_auc: 0.7206\n",
      "Epoch 291/600\n",
      "31/31 [==============================] - 0s 8ms/step - loss: 661.3110 - tp: 23.0000 - fp: 969.0000 - tn: 958.0000 - fn: 34.0000 - accuracy: 0.4945 - precision: 0.0232 - recall: 0.4035 - pr_auc: 0.0254 - roc_auc: 0.4545 - val_loss: 27.5840 - val_tp: 11.0000 - val_fp: 176.0000 - val_tn: 260.0000 - val_fn: 1.0000 - val_accuracy: 0.6049 - val_precision: 0.0588 - val_recall: 0.9167 - val_pr_auc: 0.0595 - val_roc_auc: 0.7640\n",
      "Epoch 292/600\n",
      "31/31 [==============================] - 0s 8ms/step - loss: 532.8918 - tp: 34.0000 - fp: 930.0000 - tn: 997.0000 - fn: 23.0000 - accuracy: 0.5197 - precision: 0.0353 - recall: 0.5965 - pr_auc: 0.0337 - roc_auc: 0.5568 - val_loss: 23.1287 - val_tp: 10.0000 - val_fp: 161.0000 - val_tn: 275.0000 - val_fn: 2.0000 - val_accuracy: 0.6362 - val_precision: 0.0585 - val_recall: 0.8333 - val_pr_auc: 0.0533 - val_roc_auc: 0.7443\n",
      "Epoch 293/600\n",
      "31/31 [==============================] - 0s 8ms/step - loss: 497.1707 - tp: 34.0000 - fp: 934.0000 - tn: 993.0000 - fn: 23.0000 - accuracy: 0.5176 - precision: 0.0351 - recall: 0.5965 - pr_auc: 0.0336 - roc_auc: 0.5558 - val_loss: 11.3152 - val_tp: 7.0000 - val_fp: 124.0000 - val_tn: 312.0000 - val_fn: 5.0000 - val_accuracy: 0.7121 - val_precision: 0.0534 - val_recall: 0.5833 - val_pr_auc: 0.0505 - val_roc_auc: 0.6831\n",
      "Epoch 294/600\n",
      "31/31 [==============================] - 0s 8ms/step - loss: 600.9050 - tp: 28.0000 - fp: 921.0000 - tn: 1006.0000 - fn: 29.0000 - accuracy: 0.5212 - precision: 0.0295 - recall: 0.4912 - pr_auc: 0.0293 - roc_auc: 0.5062 - val_loss: 11.8531 - val_tp: 7.0000 - val_fp: 127.0000 - val_tn: 309.0000 - val_fn: 5.0000 - val_accuracy: 0.7054 - val_precision: 0.0522 - val_recall: 0.5833 - val_pr_auc: 0.0488 - val_roc_auc: 0.6779\n",
      "Epoch 295/600\n",
      "31/31 [==============================] - 0s 8ms/step - loss: 509.2903 - tp: 28.0000 - fp: 914.0000 - tn: 1013.0000 - fn: 29.0000 - accuracy: 0.5247 - precision: 0.0297 - recall: 0.4912 - pr_auc: 0.0294 - roc_auc: 0.5086 - val_loss: 20.4867 - val_tp: 9.0000 - val_fp: 154.0000 - val_tn: 282.0000 - val_fn: 3.0000 - val_accuracy: 0.6496 - val_precision: 0.0552 - val_recall: 0.7500 - val_pr_auc: 0.0540 - val_roc_auc: 0.7287\n",
      "Epoch 296/600\n",
      "31/31 [==============================] - 0s 8ms/step - loss: 502.4892 - tp: 29.0000 - fp: 917.0000 - tn: 1010.0000 - fn: 28.0000 - accuracy: 0.5237 - precision: 0.0307 - recall: 0.5088 - pr_auc: 0.0301 - roc_auc: 0.5163 - val_loss: 18.4545 - val_tp: 9.0000 - val_fp: 148.0000 - val_tn: 288.0000 - val_fn: 3.0000 - val_accuracy: 0.6629 - val_precision: 0.0573 - val_recall: 0.7500 - val_pr_auc: 0.0490 - val_roc_auc: 0.6939\n",
      "Epoch 297/600\n",
      "31/31 [==============================] - 0s 8ms/step - loss: 475.8826 - tp: 35.0000 - fp: 923.0000 - tn: 1004.0000 - fn: 22.0000 - accuracy: 0.5237 - precision: 0.0365 - recall: 0.6140 - pr_auc: 0.0348 - roc_auc: 0.5681 - val_loss: 14.0989 - val_tp: 8.0000 - val_fp: 136.0000 - val_tn: 300.0000 - val_fn: 4.0000 - val_accuracy: 0.6875 - val_precision: 0.0556 - val_recall: 0.6667 - val_pr_auc: 0.0508 - val_roc_auc: 0.6816\n",
      "Epoch 298/600\n",
      "31/31 [==============================] - 0s 8ms/step - loss: 504.4232 - tp: 34.0000 - fp: 894.0000 - tn: 1033.0000 - fn: 23.0000 - accuracy: 0.5378 - precision: 0.0366 - recall: 0.5965 - pr_auc: 0.0347 - roc_auc: 0.5666 - val_loss: 7.6848 - val_tp: 7.0000 - val_fp: 98.0000 - val_tn: 338.0000 - val_fn: 5.0000 - val_accuracy: 0.7701 - val_precision: 0.0667 - val_recall: 0.5833 - val_pr_auc: 0.0584 - val_roc_auc: 0.6826\n",
      "Epoch 299/600\n",
      "31/31 [==============================] - 0s 8ms/step - loss: 584.4796 - tp: 30.0000 - fp: 901.0000 - tn: 1026.0000 - fn: 27.0000 - accuracy: 0.5323 - precision: 0.0322 - recall: 0.5263 - pr_auc: 0.0312 - roc_auc: 0.5290 - val_loss: 8.0006 - val_tp: 7.0000 - val_fp: 98.0000 - val_tn: 338.0000 - val_fn: 5.0000 - val_accuracy: 0.7701 - val_precision: 0.0667 - val_recall: 0.5833 - val_pr_auc: 0.0566 - val_roc_auc: 0.6795\n",
      "Epoch 300/600\n",
      "31/31 [==============================] - 0s 9ms/step - loss: 484.1931 - tp: 32.0000 - fp: 918.0000 - tn: 1009.0000 - fn: 25.0000 - accuracy: 0.5247 - precision: 0.0337 - recall: 0.5614 - pr_auc: 0.0324 - roc_auc: 0.5423 - val_loss: 7.2728 - val_tp: 7.0000 - val_fp: 94.0000 - val_tn: 342.0000 - val_fn: 5.0000 - val_accuracy: 0.7790 - val_precision: 0.0693 - val_recall: 0.5833 - val_pr_auc: 0.0613 - val_roc_auc: 0.6876\n",
      "Epoch 301/600\n",
      "31/31 [==============================] - 0s 9ms/step - loss: 553.7559 - tp: 28.0000 - fp: 939.0000 - tn: 988.0000 - fn: 29.0000 - accuracy: 0.5121 - precision: 0.0290 - recall: 0.4912 - pr_auc: 0.0289 - roc_auc: 0.5019 - val_loss: 8.3708 - val_tp: 7.0000 - val_fp: 103.0000 - val_tn: 333.0000 - val_fn: 5.0000 - val_accuracy: 0.7589 - val_precision: 0.0636 - val_recall: 0.5833 - val_pr_auc: 0.0557 - val_roc_auc: 0.6777\n",
      "Epoch 302/600\n",
      "31/31 [==============================] - 0s 9ms/step - loss: 554.2781 - tp: 28.0000 - fp: 934.0000 - tn: 993.0000 - fn: 29.0000 - accuracy: 0.5146 - precision: 0.0291 - recall: 0.4912 - pr_auc: 0.0290 - roc_auc: 0.5035 - val_loss: 7.8472 - val_tp: 7.0000 - val_fp: 98.0000 - val_tn: 338.0000 - val_fn: 5.0000 - val_accuracy: 0.7701 - val_precision: 0.0667 - val_recall: 0.5833 - val_pr_auc: 0.0570 - val_roc_auc: 0.6801\n",
      "Epoch 303/600\n",
      "31/31 [==============================] - 0s 10ms/step - loss: 589.9673 - tp: 34.0000 - fp: 883.0000 - tn: 1044.0000 - fn: 23.0000 - accuracy: 0.5433 - precision: 0.0371 - recall: 0.5965 - pr_auc: 0.0350 - roc_auc: 0.5692 - val_loss: 7.4863 - val_tp: 7.0000 - val_fp: 96.0000 - val_tn: 340.0000 - val_fn: 5.0000 - val_accuracy: 0.7746 - val_precision: 0.0680 - val_recall: 0.5833 - val_pr_auc: 0.0593 - val_roc_auc: 0.6844\n"
     ]
    },
    {
     "name": "stdout",
     "output_type": "stream",
     "text": [
      "Epoch 304/600\n",
      "31/31 [==============================] - 0s 9ms/step - loss: 459.9455 - tp: 35.0000 - fp: 925.0000 - tn: 1002.0000 - fn: 22.0000 - accuracy: 0.5227 - precision: 0.0365 - recall: 0.6140 - pr_auc: 0.0347 - roc_auc: 0.5673 - val_loss: 3.6034 - val_tp: 4.0000 - val_fp: 57.0000 - val_tn: 379.0000 - val_fn: 8.0000 - val_accuracy: 0.8549 - val_precision: 0.0656 - val_recall: 0.3333 - val_pr_auc: 0.0470 - val_roc_auc: 0.6304\n",
      "Epoch 305/600\n",
      "31/31 [==============================] - 0s 8ms/step - loss: 514.9709 - tp: 32.0000 - fp: 914.0000 - tn: 1013.0000 - fn: 25.0000 - accuracy: 0.5267 - precision: 0.0338 - recall: 0.5614 - pr_auc: 0.0325 - roc_auc: 0.5439 - val_loss: 2.0510 - val_tp: 3.0000 - val_fp: 25.0000 - val_tn: 411.0000 - val_fn: 9.0000 - val_accuracy: 0.9241 - val_precision: 0.1071 - val_recall: 0.2500 - val_pr_auc: 0.0575 - val_roc_auc: 0.5889\n",
      "Epoch 306/600\n",
      "31/31 [==============================] - 0s 8ms/step - loss: 580.5181 - tp: 28.0000 - fp: 867.0000 - tn: 1060.0000 - fn: 29.0000 - accuracy: 0.5484 - precision: 0.0313 - recall: 0.4912 - pr_auc: 0.0305 - roc_auc: 0.5209 - val_loss: 2.4425 - val_tp: 3.0000 - val_fp: 37.0000 - val_tn: 399.0000 - val_fn: 9.0000 - val_accuracy: 0.8973 - val_precision: 0.0750 - val_recall: 0.2500 - val_pr_auc: 0.0485 - val_roc_auc: 0.5788\n",
      "Epoch 307/600\n",
      "31/31 [==============================] - 0s 8ms/step - loss: 526.4846 - tp: 27.0000 - fp: 886.0000 - tn: 1041.0000 - fn: 30.0000 - accuracy: 0.5383 - precision: 0.0296 - recall: 0.4737 - pr_auc: 0.0293 - roc_auc: 0.5068 - val_loss: 4.1442 - val_tp: 5.0000 - val_fp: 62.0000 - val_tn: 374.0000 - val_fn: 7.0000 - val_accuracy: 0.8460 - val_precision: 0.0746 - val_recall: 0.4167 - val_pr_auc: 0.0547 - val_roc_auc: 0.6660\n",
      "Epoch 308/600\n",
      "31/31 [==============================] - 0s 8ms/step - loss: 511.1541 - tp: 33.0000 - fp: 895.0000 - tn: 1032.0000 - fn: 24.0000 - accuracy: 0.5368 - precision: 0.0356 - recall: 0.5789 - pr_auc: 0.0338 - roc_auc: 0.5573 - val_loss: 4.5574 - val_tp: 6.0000 - val_fp: 66.0000 - val_tn: 370.0000 - val_fn: 6.0000 - val_accuracy: 0.8393 - val_precision: 0.0833 - val_recall: 0.5000 - val_pr_auc: 0.0630 - val_roc_auc: 0.7017\n",
      "Epoch 309/600\n",
      "31/31 [==============================] - 0s 8ms/step - loss: 531.1180 - tp: 30.0000 - fp: 875.0000 - tn: 1052.0000 - fn: 27.0000 - accuracy: 0.5454 - precision: 0.0331 - recall: 0.5263 - pr_auc: 0.0319 - roc_auc: 0.5359 - val_loss: 3.3166 - val_tp: 4.0000 - val_fp: 53.0000 - val_tn: 383.0000 - val_fn: 8.0000 - val_accuracy: 0.8638 - val_precision: 0.0702 - val_recall: 0.3333 - val_pr_auc: 0.0493 - val_roc_auc: 0.6355\n",
      "Epoch 310/600\n",
      "31/31 [==============================] - 0s 8ms/step - loss: 523.1756 - tp: 28.0000 - fp: 910.0000 - tn: 1017.0000 - fn: 29.0000 - accuracy: 0.5267 - precision: 0.0299 - recall: 0.4912 - pr_auc: 0.0295 - roc_auc: 0.5096 - val_loss: 4.8489 - val_tp: 6.0000 - val_fp: 69.0000 - val_tn: 367.0000 - val_fn: 6.0000 - val_accuracy: 0.8326 - val_precision: 0.0800 - val_recall: 0.5000 - val_pr_auc: 0.0614 - val_roc_auc: 0.6993\n",
      "Epoch 311/600\n",
      "31/31 [==============================] - 0s 8ms/step - loss: 570.5768 - tp: 26.0000 - fp: 914.0000 - tn: 1013.0000 - fn: 31.0000 - accuracy: 0.5237 - precision: 0.0277 - recall: 0.4561 - pr_auc: 0.0281 - roc_auc: 0.4911 - val_loss: 11.9188 - val_tp: 7.0000 - val_fp: 126.0000 - val_tn: 310.0000 - val_fn: 5.0000 - val_accuracy: 0.7076 - val_precision: 0.0526 - val_recall: 0.5833 - val_pr_auc: 0.0502 - val_roc_auc: 0.6821\n",
      "Epoch 312/600\n",
      "31/31 [==============================] - 0s 9ms/step - loss: 526.2126 - tp: 28.0000 - fp: 943.0000 - tn: 984.0000 - fn: 29.0000 - accuracy: 0.5101 - precision: 0.0288 - recall: 0.4912 - pr_auc: 0.0288 - roc_auc: 0.5009 - val_loss: 17.0482 - val_tp: 8.0000 - val_fp: 142.0000 - val_tn: 294.0000 - val_fn: 4.0000 - val_accuracy: 0.6741 - val_precision: 0.0533 - val_recall: 0.6667 - val_pr_auc: 0.0501 - val_roc_auc: 0.6990\n",
      "Epoch 313/600\n",
      "31/31 [==============================] - 0s 8ms/step - loss: 492.3100 - tp: 33.0000 - fp: 949.0000 - tn: 978.0000 - fn: 24.0000 - accuracy: 0.5096 - precision: 0.0336 - recall: 0.5789 - pr_auc: 0.0324 - roc_auc: 0.5431 - val_loss: 12.8606 - val_tp: 8.0000 - val_fp: 129.0000 - val_tn: 307.0000 - val_fn: 4.0000 - val_accuracy: 0.7031 - val_precision: 0.0584 - val_recall: 0.6667 - val_pr_auc: 0.0480 - val_roc_auc: 0.6744\n",
      "Epoch 314/600\n",
      "31/31 [==============================] - 0s 9ms/step - loss: 440.8434 - tp: 31.0000 - fp: 896.0000 - tn: 1031.0000 - fn: 26.0000 - accuracy: 0.5353 - precision: 0.0334 - recall: 0.5439 - pr_auc: 0.0322 - roc_auc: 0.5395 - val_loss: 9.1317 - val_tp: 7.0000 - val_fp: 105.0000 - val_tn: 331.0000 - val_fn: 5.0000 - val_accuracy: 0.7545 - val_precision: 0.0625 - val_recall: 0.5833 - val_pr_auc: 0.0539 - val_roc_auc: 0.6721\n",
      "Epoch 315/600\n",
      "31/31 [==============================] - 0s 8ms/step - loss: 525.7313 - tp: 29.0000 - fp: 956.0000 - tn: 971.0000 - fn: 28.0000 - accuracy: 0.5040 - precision: 0.0294 - recall: 0.5088 - pr_auc: 0.0293 - roc_auc: 0.5066 - val_loss: 10.2225 - val_tp: 7.0000 - val_fp: 109.0000 - val_tn: 327.0000 - val_fn: 5.0000 - val_accuracy: 0.7455 - val_precision: 0.0603 - val_recall: 0.5833 - val_pr_auc: 0.0510 - val_roc_auc: 0.6622\n",
      "Epoch 316/600\n",
      "31/31 [==============================] - 0s 8ms/step - loss: 517.5980 - tp: 24.0000 - fp: 900.0000 - tn: 1027.0000 - fn: 33.0000 - accuracy: 0.5297 - precision: 0.0260 - recall: 0.4211 - pr_auc: 0.0270 - roc_auc: 0.4771 - val_loss: 16.8880 - val_tp: 8.0000 - val_fp: 142.0000 - val_tn: 294.0000 - val_fn: 4.0000 - val_accuracy: 0.6741 - val_precision: 0.0533 - val_recall: 0.6667 - val_pr_auc: 0.0504 - val_roc_auc: 0.6998\n",
      "Epoch 317/600\n",
      "31/31 [==============================] - 0s 8ms/step - loss: 436.3326 - tp: 36.0000 - fp: 922.0000 - tn: 1005.0000 - fn: 21.0000 - accuracy: 0.5247 - precision: 0.0376 - recall: 0.6316 - pr_auc: 0.0356 - roc_auc: 0.5768 - val_loss: 14.9615 - val_tp: 8.0000 - val_fp: 138.0000 - val_tn: 298.0000 - val_fn: 4.0000 - val_accuracy: 0.6830 - val_precision: 0.0548 - val_recall: 0.6667 - val_pr_auc: 0.0508 - val_roc_auc: 0.6808\n",
      "Epoch 318/600\n",
      "31/31 [==============================] - 0s 8ms/step - loss: 599.4346 - tp: 26.0000 - fp: 948.0000 - tn: 979.0000 - fn: 31.0000 - accuracy: 0.5066 - precision: 0.0267 - recall: 0.4561 - pr_auc: 0.0274 - roc_auc: 0.4818 - val_loss: 13.2781 - val_tp: 8.0000 - val_fp: 129.0000 - val_tn: 307.0000 - val_fn: 4.0000 - val_accuracy: 0.7031 - val_precision: 0.0584 - val_recall: 0.6667 - val_pr_auc: 0.0475 - val_roc_auc: 0.6727\n",
      "Epoch 319/600\n",
      "31/31 [==============================] - 0s 8ms/step - loss: 559.3066 - tp: 26.0000 - fp: 945.0000 - tn: 982.0000 - fn: 31.0000 - accuracy: 0.5081 - precision: 0.0268 - recall: 0.4561 - pr_auc: 0.0275 - roc_auc: 0.4830 - val_loss: 21.0731 - val_tp: 9.0000 - val_fp: 153.0000 - val_tn: 283.0000 - val_fn: 3.0000 - val_accuracy: 0.6518 - val_precision: 0.0556 - val_recall: 0.7500 - val_pr_auc: 0.0520 - val_roc_auc: 0.7024\n",
      "Epoch 320/600\n",
      "31/31 [==============================] - 0s 8ms/step - loss: 574.1793 - tp: 28.0000 - fp: 984.0000 - tn: 943.0000 - fn: 29.0000 - accuracy: 0.4894 - precision: 0.0277 - recall: 0.4912 - pr_auc: 0.0280 - roc_auc: 0.4899 - val_loss: 20.2842 - val_tp: 9.0000 - val_fp: 150.0000 - val_tn: 286.0000 - val_fn: 3.0000 - val_accuracy: 0.6585 - val_precision: 0.0566 - val_recall: 0.7500 - val_pr_auc: 0.0526 - val_roc_auc: 0.7044\n",
      "Epoch 321/600\n",
      "31/31 [==============================] - 0s 8ms/step - loss: 470.0490 - tp: 30.0000 - fp: 918.0000 - tn: 1009.0000 - fn: 27.0000 - accuracy: 0.5237 - precision: 0.0316 - recall: 0.5263 - pr_auc: 0.0308 - roc_auc: 0.5250 - val_loss: 20.6779 - val_tp: 9.0000 - val_fp: 151.0000 - val_tn: 285.0000 - val_fn: 3.0000 - val_accuracy: 0.6562 - val_precision: 0.0562 - val_recall: 0.7500 - val_pr_auc: 0.0526 - val_roc_auc: 0.7041\n",
      "Epoch 322/600\n",
      "31/31 [==============================] - 0s 8ms/step - loss: 544.2361 - tp: 31.0000 - fp: 929.0000 - tn: 998.0000 - fn: 26.0000 - accuracy: 0.5186 - precision: 0.0323 - recall: 0.5439 - pr_auc: 0.0314 - roc_auc: 0.5319 - val_loss: 23.4364 - val_tp: 10.0000 - val_fp: 159.0000 - val_tn: 277.0000 - val_fn: 2.0000 - val_accuracy: 0.6406 - val_precision: 0.0592 - val_recall: 0.8333 - val_pr_auc: 0.0524 - val_roc_auc: 0.7227\n"
     ]
    },
    {
     "name": "stdout",
     "output_type": "stream",
     "text": [
      "Epoch 323/600\n",
      "31/31 [==============================] - 0s 8ms/step - loss: 505.4651 - tp: 32.0000 - fp: 932.0000 - tn: 995.0000 - fn: 25.0000 - accuracy: 0.5176 - precision: 0.0332 - recall: 0.5614 - pr_auc: 0.0320 - roc_auc: 0.5393 - val_loss: 16.5364 - val_tp: 8.0000 - val_fp: 139.0000 - val_tn: 297.0000 - val_fn: 4.0000 - val_accuracy: 0.6808 - val_precision: 0.0544 - val_recall: 0.6667 - val_pr_auc: 0.0485 - val_roc_auc: 0.6732\n",
      "Epoch 324/600\n",
      "31/31 [==============================] - 0s 8ms/step - loss: 576.8719 - tp: 26.0000 - fp: 947.0000 - tn: 980.0000 - fn: 31.0000 - accuracy: 0.5071 - precision: 0.0267 - recall: 0.4561 - pr_auc: 0.0274 - roc_auc: 0.4827 - val_loss: 16.3839 - val_tp: 8.0000 - val_fp: 139.0000 - val_tn: 297.0000 - val_fn: 4.0000 - val_accuracy: 0.6808 - val_precision: 0.0544 - val_recall: 0.6667 - val_pr_auc: 0.0488 - val_roc_auc: 0.6739\n",
      "Epoch 325/600\n",
      "31/31 [==============================] - 0s 8ms/step - loss: 471.5664 - tp: 30.0000 - fp: 968.0000 - tn: 959.0000 - fn: 27.0000 - accuracy: 0.4985 - precision: 0.0301 - recall: 0.5263 - pr_auc: 0.0297 - roc_auc: 0.5116 - val_loss: 21.2046 - val_tp: 9.0000 - val_fp: 152.0000 - val_tn: 284.0000 - val_fn: 3.0000 - val_accuracy: 0.6540 - val_precision: 0.0559 - val_recall: 0.7500 - val_pr_auc: 0.0526 - val_roc_auc: 0.7041\n",
      "Epoch 326/600\n",
      "31/31 [==============================] - 0s 8ms/step - loss: 461.6589 - tp: 38.0000 - fp: 913.0000 - tn: 1014.0000 - fn: 19.0000 - accuracy: 0.5302 - precision: 0.0400 - recall: 0.6667 - pr_auc: 0.0377 - roc_auc: 0.5969 - val_loss: 10.3131 - val_tp: 7.0000 - val_fp: 108.0000 - val_tn: 328.0000 - val_fn: 5.0000 - val_accuracy: 0.7478 - val_precision: 0.0609 - val_recall: 0.5833 - val_pr_auc: 0.0510 - val_roc_auc: 0.6627\n",
      "Epoch 327/600\n",
      "31/31 [==============================] - 0s 8ms/step - loss: 498.3779 - tp: 30.0000 - fp: 936.0000 - tn: 991.0000 - fn: 27.0000 - accuracy: 0.5146 - precision: 0.0311 - recall: 0.5263 - pr_auc: 0.0298 - roc_auc: 0.5154 - val_loss: 8.2762 - val_tp: 7.0000 - val_fp: 98.0000 - val_tn: 338.0000 - val_fn: 5.0000 - val_accuracy: 0.7701 - val_precision: 0.0667 - val_recall: 0.5833 - val_pr_auc: 0.0562 - val_roc_auc: 0.6793\n",
      "Epoch 328/600\n",
      "31/31 [==============================] - 0s 8ms/step - loss: 538.9387 - tp: 29.0000 - fp: 886.0000 - tn: 1041.0000 - fn: 28.0000 - accuracy: 0.5393 - precision: 0.0317 - recall: 0.5088 - pr_auc: 0.0310 - roc_auc: 0.5290 - val_loss: 9.3523 - val_tp: 7.0000 - val_fp: 105.0000 - val_tn: 331.0000 - val_fn: 5.0000 - val_accuracy: 0.7545 - val_precision: 0.0625 - val_recall: 0.5833 - val_pr_auc: 0.0540 - val_roc_auc: 0.6731\n",
      "Epoch 329/600\n",
      "31/31 [==============================] - 0s 8ms/step - loss: 436.9346 - tp: 35.0000 - fp: 951.0000 - tn: 976.0000 - fn: 22.0000 - accuracy: 0.5096 - precision: 0.0355 - recall: 0.6140 - pr_auc: 0.0333 - roc_auc: 0.5558 - val_loss: 6.5526 - val_tp: 7.0000 - val_fp: 82.0000 - val_tn: 354.0000 - val_fn: 5.0000 - val_accuracy: 0.8058 - val_precision: 0.0787 - val_recall: 0.5833 - val_pr_auc: 0.0658 - val_roc_auc: 0.6971\n",
      "Epoch 330/600\n",
      "31/31 [==============================] - 0s 8ms/step - loss: 473.2726 - tp: 32.0000 - fp: 900.0000 - tn: 1027.0000 - fn: 25.0000 - accuracy: 0.5338 - precision: 0.0343 - recall: 0.5614 - pr_auc: 0.0329 - roc_auc: 0.5476 - val_loss: 4.3532 - val_tp: 5.0000 - val_fp: 62.0000 - val_tn: 374.0000 - val_fn: 7.0000 - val_accuracy: 0.8460 - val_precision: 0.0746 - val_recall: 0.4167 - val_pr_auc: 0.0538 - val_roc_auc: 0.6646\n",
      "Epoch 331/600\n",
      "31/31 [==============================] - 0s 8ms/step - loss: 493.7014 - tp: 30.0000 - fp: 910.0000 - tn: 1017.0000 - fn: 27.0000 - accuracy: 0.5277 - precision: 0.0319 - recall: 0.5263 - pr_auc: 0.0311 - roc_auc: 0.5277 - val_loss: 4.2219 - val_tp: 5.0000 - val_fp: 62.0000 - val_tn: 374.0000 - val_fn: 7.0000 - val_accuracy: 0.8460 - val_precision: 0.0746 - val_recall: 0.4167 - val_pr_auc: 0.0550 - val_roc_auc: 0.6663\n",
      "Epoch 332/600\n",
      "31/31 [==============================] - 0s 8ms/step - loss: 557.8367 - tp: 29.0000 - fp: 933.0000 - tn: 994.0000 - fn: 28.0000 - accuracy: 0.5156 - precision: 0.0301 - recall: 0.5088 - pr_auc: 0.0298 - roc_auc: 0.5126 - val_loss: 4.2891 - val_tp: 5.0000 - val_fp: 62.0000 - val_tn: 374.0000 - val_fn: 7.0000 - val_accuracy: 0.8460 - val_precision: 0.0746 - val_recall: 0.4167 - val_pr_auc: 0.0550 - val_roc_auc: 0.6663\n",
      "Epoch 333/600\n",
      "31/31 [==============================] - 0s 8ms/step - loss: 427.5748 - tp: 31.0000 - fp: 888.0000 - tn: 1039.0000 - fn: 26.0000 - accuracy: 0.5393 - precision: 0.0337 - recall: 0.5439 - pr_auc: 0.0323 - roc_auc: 0.5418 - val_loss: 3.6745 - val_tp: 4.0000 - val_fp: 54.0000 - val_tn: 382.0000 - val_fn: 8.0000 - val_accuracy: 0.8616 - val_precision: 0.0690 - val_recall: 0.3333 - val_pr_auc: 0.0528 - val_roc_auc: 0.6370\n",
      "Epoch 334/600\n",
      "31/31 [==============================] - 0s 9ms/step - loss: 569.9481 - tp: 29.0000 - fp: 873.0000 - tn: 1054.0000 - fn: 28.0000 - accuracy: 0.5459 - precision: 0.0322 - recall: 0.5088 - pr_auc: 0.0312 - roc_auc: 0.5279 - val_loss: 6.5397 - val_tp: 7.0000 - val_fp: 81.0000 - val_tn: 355.0000 - val_fn: 5.0000 - val_accuracy: 0.8080 - val_precision: 0.0795 - val_recall: 0.5833 - val_pr_auc: 0.0664 - val_roc_auc: 0.6977\n",
      "Epoch 335/600\n",
      "31/31 [==============================] - 0s 8ms/step - loss: 482.1664 - tp: 32.0000 - fp: 929.0000 - tn: 998.0000 - fn: 25.0000 - accuracy: 0.5192 - precision: 0.0333 - recall: 0.5614 - pr_auc: 0.0321 - roc_auc: 0.5399 - val_loss: 5.7106 - val_tp: 7.0000 - val_fp: 74.0000 - val_tn: 362.0000 - val_fn: 5.0000 - val_accuracy: 0.8237 - val_precision: 0.0864 - val_recall: 0.5833 - val_pr_auc: 0.0634 - val_roc_auc: 0.6993\n",
      "Epoch 336/600\n",
      "31/31 [==============================] - 0s 8ms/step - loss: 613.8456 - tp: 19.0000 - fp: 884.0000 - tn: 1043.0000 - fn: 38.0000 - accuracy: 0.5353 - precision: 0.0210 - recall: 0.3333 - pr_auc: 0.0243 - roc_auc: 0.4373 - val_loss: 15.2790 - val_tp: 8.0000 - val_fp: 136.0000 - val_tn: 300.0000 - val_fn: 4.0000 - val_accuracy: 0.6875 - val_precision: 0.0556 - val_recall: 0.6667 - val_pr_auc: 0.0508 - val_roc_auc: 0.6812\n",
      "Epoch 337/600\n",
      "31/31 [==============================] - 0s 8ms/step - loss: 586.6285 - tp: 25.0000 - fp: 950.0000 - tn: 977.0000 - fn: 32.0000 - accuracy: 0.5050 - precision: 0.0256 - recall: 0.4386 - pr_auc: 0.0268 - roc_auc: 0.4731 - val_loss: 26.0079 - val_tp: 10.0000 - val_fp: 163.0000 - val_tn: 273.0000 - val_fn: 2.0000 - val_accuracy: 0.6317 - val_precision: 0.0578 - val_recall: 0.8333 - val_pr_auc: 0.0575 - val_roc_auc: 0.7585\n",
      "Epoch 338/600\n",
      "31/31 [==============================] - 0s 8ms/step - loss: 549.4629 - tp: 31.0000 - fp: 982.0000 - tn: 945.0000 - fn: 26.0000 - accuracy: 0.4919 - precision: 0.0306 - recall: 0.5439 - pr_auc: 0.0301 - roc_auc: 0.5172 - val_loss: 29.3439 - val_tp: 11.0000 - val_fp: 175.0000 - val_tn: 261.0000 - val_fn: 1.0000 - val_accuracy: 0.6071 - val_precision: 0.0591 - val_recall: 0.9167 - val_pr_auc: 0.0592 - val_roc_auc: 0.7634\n",
      "Epoch 339/600\n",
      "31/31 [==============================] - 0s 8ms/step - loss: 473.5730 - tp: 29.0000 - fp: 936.0000 - tn: 991.0000 - fn: 28.0000 - accuracy: 0.5141 - precision: 0.0301 - recall: 0.5088 - pr_auc: 0.0292 - roc_auc: 0.5071 - val_loss: 20.9633 - val_tp: 9.0000 - val_fp: 150.0000 - val_tn: 286.0000 - val_fn: 3.0000 - val_accuracy: 0.6585 - val_precision: 0.0566 - val_recall: 0.7500 - val_pr_auc: 0.0529 - val_roc_auc: 0.7056\n",
      "Epoch 340/600\n",
      "31/31 [==============================] - 0s 8ms/step - loss: 575.4227 - tp: 29.0000 - fp: 937.0000 - tn: 990.0000 - fn: 28.0000 - accuracy: 0.5136 - precision: 0.0300 - recall: 0.5088 - pr_auc: 0.0297 - roc_auc: 0.5114 - val_loss: 22.8867 - val_tp: 9.0000 - val_fp: 157.0000 - val_tn: 279.0000 - val_fn: 3.0000 - val_accuracy: 0.6429 - val_precision: 0.0542 - val_recall: 0.7500 - val_pr_auc: 0.0534 - val_roc_auc: 0.7265\n",
      "Epoch 341/600\n",
      "31/31 [==============================] - 0s 8ms/step - loss: 521.8924 - tp: 28.0000 - fp: 933.0000 - tn: 994.0000 - fn: 29.0000 - accuracy: 0.5151 - precision: 0.0291 - recall: 0.4912 - pr_auc: 0.0290 - roc_auc: 0.5031 - val_loss: 24.8008 - val_tp: 10.0000 - val_fp: 161.0000 - val_tn: 275.0000 - val_fn: 2.0000 - val_accuracy: 0.6362 - val_precision: 0.0585 - val_recall: 0.8333 - val_pr_auc: 0.0516 - val_roc_auc: 0.7197\n"
     ]
    },
    {
     "name": "stdout",
     "output_type": "stream",
     "text": [
      "Epoch 342/600\n",
      "31/31 [==============================] - 0s 8ms/step - loss: 565.5724 - tp: 29.0000 - fp: 916.0000 - tn: 1011.0000 - fn: 28.0000 - accuracy: 0.5242 - precision: 0.0307 - recall: 0.5088 - pr_auc: 0.0301 - roc_auc: 0.5167 - val_loss: 28.5267 - val_tp: 11.0000 - val_fp: 171.0000 - val_tn: 265.0000 - val_fn: 1.0000 - val_accuracy: 0.6161 - val_precision: 0.0604 - val_recall: 0.9167 - val_pr_auc: 0.0558 - val_roc_auc: 0.7520\n",
      "Epoch 343/600\n",
      "31/31 [==============================] - 0s 8ms/step - loss: 497.3748 - tp: 35.0000 - fp: 970.0000 - tn: 957.0000 - fn: 22.0000 - accuracy: 0.5000 - precision: 0.0348 - recall: 0.6140 - pr_auc: 0.0334 - roc_auc: 0.5555 - val_loss: 16.3052 - val_tp: 8.0000 - val_fp: 139.0000 - val_tn: 297.0000 - val_fn: 4.0000 - val_accuracy: 0.6808 - val_precision: 0.0544 - val_recall: 0.6667 - val_pr_auc: 0.0496 - val_roc_auc: 0.6774\n",
      "Epoch 344/600\n",
      "31/31 [==============================] - 0s 8ms/step - loss: 479.0781 - tp: 30.0000 - fp: 931.0000 - tn: 996.0000 - fn: 27.0000 - accuracy: 0.5171 - precision: 0.0312 - recall: 0.5263 - pr_auc: 0.0305 - roc_auc: 0.5214 - val_loss: 17.0713 - val_tp: 8.0000 - val_fp: 140.0000 - val_tn: 296.0000 - val_fn: 4.0000 - val_accuracy: 0.6786 - val_precision: 0.0541 - val_recall: 0.6667 - val_pr_auc: 0.0488 - val_roc_auc: 0.6739\n",
      "Epoch 345/600\n",
      "31/31 [==============================] - 0s 8ms/step - loss: 489.9046 - tp: 30.0000 - fp: 946.0000 - tn: 981.0000 - fn: 27.0000 - accuracy: 0.5096 - precision: 0.0307 - recall: 0.5263 - pr_auc: 0.0297 - roc_auc: 0.5136 - val_loss: 15.4224 - val_tp: 8.0000 - val_fp: 136.0000 - val_tn: 300.0000 - val_fn: 4.0000 - val_accuracy: 0.6875 - val_precision: 0.0556 - val_recall: 0.6667 - val_pr_auc: 0.0508 - val_roc_auc: 0.6812\n",
      "Epoch 346/600\n",
      "31/31 [==============================] - 0s 9ms/step - loss: 431.5950 - tp: 31.0000 - fp: 920.0000 - tn: 1007.0000 - fn: 26.0000 - accuracy: 0.5232 - precision: 0.0326 - recall: 0.5439 - pr_auc: 0.0316 - roc_auc: 0.5335 - val_loss: 12.1700 - val_tp: 7.0000 - val_fp: 124.0000 - val_tn: 312.0000 - val_fn: 5.0000 - val_accuracy: 0.7121 - val_precision: 0.0534 - val_recall: 0.5833 - val_pr_auc: 0.0514 - val_roc_auc: 0.6853\n",
      "Epoch 347/600\n",
      "31/31 [==============================] - 0s 8ms/step - loss: 541.5171 - tp: 30.0000 - fp: 903.0000 - tn: 1024.0000 - fn: 27.0000 - accuracy: 0.5312 - precision: 0.0322 - recall: 0.5263 - pr_auc: 0.0312 - roc_auc: 0.5292 - val_loss: 11.9253 - val_tp: 7.0000 - val_fp: 122.0000 - val_tn: 314.0000 - val_fn: 5.0000 - val_accuracy: 0.7165 - val_precision: 0.0543 - val_recall: 0.5833 - val_pr_auc: 0.0526 - val_roc_auc: 0.6880\n",
      "Epoch 348/600\n",
      "31/31 [==============================] - 0s 8ms/step - loss: 561.5486 - tp: 26.0000 - fp: 941.0000 - tn: 986.0000 - fn: 31.0000 - accuracy: 0.5101 - precision: 0.0269 - recall: 0.4561 - pr_auc: 0.0275 - roc_auc: 0.4838 - val_loss: 16.5506 - val_tp: 8.0000 - val_fp: 139.0000 - val_tn: 297.0000 - val_fn: 4.0000 - val_accuracy: 0.6808 - val_precision: 0.0544 - val_recall: 0.6667 - val_pr_auc: 0.0494 - val_roc_auc: 0.6766\n",
      "Epoch 349/600\n",
      "31/31 [==============================] - 0s 8ms/step - loss: 527.0872 - tp: 23.0000 - fp: 891.0000 - tn: 1036.0000 - fn: 34.0000 - accuracy: 0.5338 - precision: 0.0252 - recall: 0.4035 - pr_auc: 0.0265 - roc_auc: 0.4694 - val_loss: 25.6761 - val_tp: 10.0000 - val_fp: 162.0000 - val_tn: 274.0000 - val_fn: 2.0000 - val_accuracy: 0.6339 - val_precision: 0.0581 - val_recall: 0.8333 - val_pr_auc: 0.0533 - val_roc_auc: 0.7445\n",
      "Epoch 350/600\n",
      "31/31 [==============================] - 0s 8ms/step - loss: 570.3268 - tp: 30.0000 - fp: 935.0000 - tn: 992.0000 - fn: 27.0000 - accuracy: 0.5151 - precision: 0.0311 - recall: 0.5263 - pr_auc: 0.0304 - roc_auc: 0.5203 - val_loss: 30.9241 - val_tp: 11.0000 - val_fp: 177.0000 - val_tn: 259.0000 - val_fn: 1.0000 - val_accuracy: 0.6027 - val_precision: 0.0585 - val_recall: 0.9167 - val_pr_auc: 0.0585 - val_roc_auc: 0.7611\n",
      "Epoch 351/600\n",
      "31/31 [==============================] - 0s 8ms/step - loss: 431.1823 - tp: 33.0000 - fp: 938.0000 - tn: 989.0000 - fn: 24.0000 - accuracy: 0.5151 - precision: 0.0340 - recall: 0.5789 - pr_auc: 0.0321 - roc_auc: 0.5422 - val_loss: 26.2638 - val_tp: 10.0000 - val_fp: 163.0000 - val_tn: 273.0000 - val_fn: 2.0000 - val_accuracy: 0.6317 - val_precision: 0.0578 - val_recall: 0.8333 - val_pr_auc: 0.0531 - val_roc_auc: 0.7435\n",
      "Epoch 352/600\n",
      "31/31 [==============================] - 0s 8ms/step - loss: 443.7368 - tp: 31.0000 - fp: 934.0000 - tn: 993.0000 - fn: 26.0000 - accuracy: 0.5161 - precision: 0.0321 - recall: 0.5439 - pr_auc: 0.0312 - roc_auc: 0.5298 - val_loss: 22.1575 - val_tp: 9.0000 - val_fp: 152.0000 - val_tn: 284.0000 - val_fn: 3.0000 - val_accuracy: 0.6540 - val_precision: 0.0559 - val_recall: 0.7500 - val_pr_auc: 0.0525 - val_roc_auc: 0.7038\n",
      "Epoch 353/600\n",
      "31/31 [==============================] - 0s 8ms/step - loss: 605.3563 - tp: 31.0000 - fp: 925.0000 - tn: 1002.0000 - fn: 26.0000 - accuracy: 0.5207 - precision: 0.0324 - recall: 0.5439 - pr_auc: 0.0314 - roc_auc: 0.5320 - val_loss: 19.0067 - val_tp: 8.0000 - val_fp: 145.0000 - val_tn: 291.0000 - val_fn: 4.0000 - val_accuracy: 0.6674 - val_precision: 0.0523 - val_recall: 0.6667 - val_pr_auc: 0.0496 - val_roc_auc: 0.6971\n",
      "Epoch 354/600\n",
      "31/31 [==============================] - 0s 8ms/step - loss: 579.3437 - tp: 32.0000 - fp: 930.0000 - tn: 997.0000 - fn: 25.0000 - accuracy: 0.5186 - precision: 0.0333 - recall: 0.5614 - pr_auc: 0.0321 - roc_auc: 0.5395 - val_loss: 12.6507 - val_tp: 7.0000 - val_fp: 127.0000 - val_tn: 309.0000 - val_fn: 5.0000 - val_accuracy: 0.7054 - val_precision: 0.0522 - val_recall: 0.5833 - val_pr_auc: 0.0508 - val_roc_auc: 0.6840\n",
      "Epoch 355/600\n",
      "31/31 [==============================] - 0s 8ms/step - loss: 469.0424 - tp: 34.0000 - fp: 947.0000 - tn: 980.0000 - fn: 23.0000 - accuracy: 0.5111 - precision: 0.0347 - recall: 0.5965 - pr_auc: 0.0332 - roc_auc: 0.5529 - val_loss: 9.0217 - val_tp: 7.0000 - val_fp: 101.0000 - val_tn: 335.0000 - val_fn: 5.0000 - val_accuracy: 0.7634 - val_precision: 0.0648 - val_recall: 0.5833 - val_pr_auc: 0.0558 - val_roc_auc: 0.6786\n",
      "Epoch 356/600\n",
      "31/31 [==============================] - 0s 8ms/step - loss: 562.2483 - tp: 20.0000 - fp: 944.0000 - tn: 983.0000 - fn: 37.0000 - accuracy: 0.5055 - precision: 0.0207 - recall: 0.3509 - pr_auc: 0.0239 - roc_auc: 0.4299 - val_loss: 21.1617 - val_tp: 9.0000 - val_fp: 149.0000 - val_tn: 287.0000 - val_fn: 3.0000 - val_accuracy: 0.6607 - val_precision: 0.0570 - val_recall: 0.7500 - val_pr_auc: 0.0529 - val_roc_auc: 0.7061\n",
      "Epoch 357/600\n",
      "31/31 [==============================] - 0s 8ms/step - loss: 487.6629 - tp: 34.0000 - fp: 939.0000 - tn: 988.0000 - fn: 23.0000 - accuracy: 0.5151 - precision: 0.0349 - recall: 0.5965 - pr_auc: 0.0334 - roc_auc: 0.5546 - val_loss: 15.9299 - val_tp: 8.0000 - val_fp: 136.0000 - val_tn: 300.0000 - val_fn: 4.0000 - val_accuracy: 0.6875 - val_precision: 0.0556 - val_recall: 0.6667 - val_pr_auc: 0.0508 - val_roc_auc: 0.6808\n",
      "Epoch 358/600\n",
      "31/31 [==============================] - 0s 8ms/step - loss: 502.6966 - tp: 32.0000 - fp: 918.0000 - tn: 1009.0000 - fn: 25.0000 - accuracy: 0.5247 - precision: 0.0337 - recall: 0.5614 - pr_auc: 0.0323 - roc_auc: 0.5421 - val_loss: 12.6705 - val_tp: 7.0000 - val_fp: 127.0000 - val_tn: 309.0000 - val_fn: 5.0000 - val_accuracy: 0.7054 - val_precision: 0.0522 - val_recall: 0.5833 - val_pr_auc: 0.0508 - val_roc_auc: 0.6840\n",
      "Epoch 359/600\n",
      "31/31 [==============================] - 0s 8ms/step - loss: 469.3972 - tp: 26.0000 - fp: 920.0000 - tn: 1007.0000 - fn: 31.0000 - accuracy: 0.5207 - precision: 0.0275 - recall: 0.4561 - pr_auc: 0.0279 - roc_auc: 0.4891 - val_loss: 17.7729 - val_tp: 8.0000 - val_fp: 142.0000 - val_tn: 294.0000 - val_fn: 4.0000 - val_accuracy: 0.6741 - val_precision: 0.0533 - val_recall: 0.6667 - val_pr_auc: 0.0507 - val_roc_auc: 0.7010\n",
      "Epoch 360/600\n",
      "31/31 [==============================] - 0s 8ms/step - loss: 412.1345 - tp: 33.0000 - fp: 928.0000 - tn: 999.0000 - fn: 24.0000 - accuracy: 0.5202 - precision: 0.0343 - recall: 0.5789 - pr_auc: 0.0329 - roc_auc: 0.5487 - val_loss: 18.2002 - val_tp: 8.0000 - val_fp: 142.0000 - val_tn: 294.0000 - val_fn: 4.0000 - val_accuracy: 0.6741 - val_precision: 0.0533 - val_recall: 0.6667 - val_pr_auc: 0.0502 - val_roc_auc: 0.6994\n"
     ]
    },
    {
     "name": "stdout",
     "output_type": "stream",
     "text": [
      "Epoch 361/600\n",
      "31/31 [==============================] - 0s 8ms/step - loss: 466.3065 - tp: 31.0000 - fp: 916.0000 - tn: 1011.0000 - fn: 26.0000 - accuracy: 0.5252 - precision: 0.0327 - recall: 0.5439 - pr_auc: 0.0317 - roc_auc: 0.5348 - val_loss: 19.9808 - val_tp: 9.0000 - val_fp: 145.0000 - val_tn: 291.0000 - val_fn: 3.0000 - val_accuracy: 0.6696 - val_precision: 0.0584 - val_recall: 0.7500 - val_pr_auc: 0.0494 - val_roc_auc: 0.6957\n",
      "Epoch 362/600\n",
      "31/31 [==============================] - 0s 8ms/step - loss: 481.5635 - tp: 26.0000 - fp: 926.0000 - tn: 1001.0000 - fn: 31.0000 - accuracy: 0.5176 - precision: 0.0273 - recall: 0.4561 - pr_auc: 0.0278 - roc_auc: 0.4875 - val_loss: 24.5166 - val_tp: 9.0000 - val_fp: 159.0000 - val_tn: 277.0000 - val_fn: 3.0000 - val_accuracy: 0.6384 - val_precision: 0.0536 - val_recall: 0.7500 - val_pr_auc: 0.0526 - val_roc_auc: 0.7237\n",
      "Epoch 363/600\n",
      "31/31 [==============================] - 0s 8ms/step - loss: 496.5758 - tp: 31.0000 - fp: 951.0000 - tn: 976.0000 - fn: 26.0000 - accuracy: 0.5076 - precision: 0.0316 - recall: 0.5439 - pr_auc: 0.0308 - roc_auc: 0.5252 - val_loss: 22.8733 - val_tp: 9.0000 - val_fp: 153.0000 - val_tn: 283.0000 - val_fn: 3.0000 - val_accuracy: 0.6518 - val_precision: 0.0556 - val_recall: 0.7500 - val_pr_auc: 0.0520 - val_roc_auc: 0.7021\n",
      "Epoch 364/600\n",
      "31/31 [==============================] - 0s 8ms/step - loss: 440.8050 - tp: 33.0000 - fp: 920.0000 - tn: 1007.0000 - fn: 24.0000 - accuracy: 0.5242 - precision: 0.0346 - recall: 0.5789 - pr_auc: 0.0331 - roc_auc: 0.5507 - val_loss: 17.9316 - val_tp: 8.0000 - val_fp: 142.0000 - val_tn: 294.0000 - val_fn: 4.0000 - val_accuracy: 0.6741 - val_precision: 0.0533 - val_recall: 0.6667 - val_pr_auc: 0.0507 - val_roc_auc: 0.7010\n",
      "Epoch 365/600\n",
      "31/31 [==============================] - 0s 8ms/step - loss: 465.8775 - tp: 32.0000 - fp: 901.0000 - tn: 1026.0000 - fn: 25.0000 - accuracy: 0.5333 - precision: 0.0343 - recall: 0.5614 - pr_auc: 0.0329 - roc_auc: 0.5477 - val_loss: 15.4947 - val_tp: 8.0000 - val_fp: 134.0000 - val_tn: 302.0000 - val_fn: 4.0000 - val_accuracy: 0.6920 - val_precision: 0.0563 - val_recall: 0.6667 - val_pr_auc: 0.0508 - val_roc_auc: 0.6816\n",
      "Epoch 366/600\n",
      "31/31 [==============================] - 0s 8ms/step - loss: 468.4382 - tp: 33.0000 - fp: 915.0000 - tn: 1012.0000 - fn: 24.0000 - accuracy: 0.5267 - precision: 0.0348 - recall: 0.5789 - pr_auc: 0.0333 - roc_auc: 0.5524 - val_loss: 12.6571 - val_tp: 7.0000 - val_fp: 125.0000 - val_tn: 311.0000 - val_fn: 5.0000 - val_accuracy: 0.7098 - val_precision: 0.0530 - val_recall: 0.5833 - val_pr_auc: 0.0514 - val_roc_auc: 0.6853\n",
      "Epoch 367/600\n",
      "31/31 [==============================] - 0s 8ms/step - loss: 623.2051 - tp: 25.0000 - fp: 931.0000 - tn: 996.0000 - fn: 32.0000 - accuracy: 0.5146 - precision: 0.0262 - recall: 0.4386 - pr_auc: 0.0270 - roc_auc: 0.4770 - val_loss: 17.9823 - val_tp: 8.0000 - val_fp: 142.0000 - val_tn: 294.0000 - val_fn: 4.0000 - val_accuracy: 0.6741 - val_precision: 0.0533 - val_recall: 0.6667 - val_pr_auc: 0.0507 - val_roc_auc: 0.7010\n",
      "Epoch 368/600\n",
      "31/31 [==============================] - 0s 8ms/step - loss: 480.5439 - tp: 32.0000 - fp: 905.0000 - tn: 1022.0000 - fn: 25.0000 - accuracy: 0.5312 - precision: 0.0342 - recall: 0.5614 - pr_auc: 0.0327 - roc_auc: 0.5458 - val_loss: 16.1761 - val_tp: 8.0000 - val_fp: 136.0000 - val_tn: 300.0000 - val_fn: 4.0000 - val_accuracy: 0.6875 - val_precision: 0.0556 - val_recall: 0.6667 - val_pr_auc: 0.0507 - val_roc_auc: 0.6804\n",
      "Epoch 369/600\n",
      "31/31 [==============================] - 0s 8ms/step - loss: 453.6716 - tp: 30.0000 - fp: 926.0000 - tn: 1001.0000 - fn: 27.0000 - accuracy: 0.5197 - precision: 0.0314 - recall: 0.5263 - pr_auc: 0.0306 - roc_auc: 0.5230 - val_loss: 15.1230 - val_tp: 8.0000 - val_fp: 133.0000 - val_tn: 303.0000 - val_fn: 4.0000 - val_accuracy: 0.6942 - val_precision: 0.0567 - val_recall: 0.6667 - val_pr_auc: 0.0509 - val_roc_auc: 0.6823\n",
      "Epoch 370/600\n",
      "31/31 [==============================] - 0s 9ms/step - loss: 488.1784 - tp: 24.0000 - fp: 922.0000 - tn: 1005.0000 - fn: 33.0000 - accuracy: 0.5186 - precision: 0.0254 - recall: 0.4211 - pr_auc: 0.0266 - roc_auc: 0.4712 - val_loss: 23.4836 - val_tp: 9.0000 - val_fp: 154.0000 - val_tn: 282.0000 - val_fn: 3.0000 - val_accuracy: 0.6496 - val_precision: 0.0552 - val_recall: 0.7500 - val_pr_auc: 0.0537 - val_roc_auc: 0.7277\n",
      "Epoch 371/600\n",
      "31/31 [==============================] - 0s 8ms/step - loss: 484.5658 - tp: 28.0000 - fp: 946.0000 - tn: 981.0000 - fn: 29.0000 - accuracy: 0.5086 - precision: 0.0287 - recall: 0.4912 - pr_auc: 0.0287 - roc_auc: 0.5000 - val_loss: 28.5495 - val_tp: 11.0000 - val_fp: 168.0000 - val_tn: 268.0000 - val_fn: 1.0000 - val_accuracy: 0.6228 - val_precision: 0.0615 - val_recall: 0.9167 - val_pr_auc: 0.0566 - val_roc_auc: 0.7554\n",
      "Epoch 372/600\n",
      "31/31 [==============================] - 0s 8ms/step - loss: 440.3383 - tp: 33.0000 - fp: 948.0000 - tn: 979.0000 - fn: 24.0000 - accuracy: 0.5101 - precision: 0.0336 - recall: 0.5789 - pr_auc: 0.0326 - roc_auc: 0.5480 - val_loss: 24.4756 - val_tp: 9.0000 - val_fp: 158.0000 - val_tn: 278.0000 - val_fn: 3.0000 - val_accuracy: 0.6406 - val_precision: 0.0539 - val_recall: 0.7500 - val_pr_auc: 0.0534 - val_roc_auc: 0.7263\n",
      "Epoch 373/600\n",
      "31/31 [==============================] - 0s 8ms/step - loss: 525.5223 - tp: 27.0000 - fp: 958.0000 - tn: 969.0000 - fn: 30.0000 - accuracy: 0.5020 - precision: 0.0274 - recall: 0.4737 - pr_auc: 0.0279 - roc_auc: 0.4885 - val_loss: 18.9610 - val_tp: 8.0000 - val_fp: 142.0000 - val_tn: 294.0000 - val_fn: 4.0000 - val_accuracy: 0.6741 - val_precision: 0.0533 - val_recall: 0.6667 - val_pr_auc: 0.0502 - val_roc_auc: 0.6994\n",
      "Epoch 374/600\n",
      "31/31 [==============================] - 0s 9ms/step - loss: 597.1548 - tp: 27.0000 - fp: 897.0000 - tn: 1030.0000 - fn: 30.0000 - accuracy: 0.5328 - precision: 0.0292 - recall: 0.4737 - pr_auc: 0.0291 - roc_auc: 0.5042 - val_loss: 25.0971 - val_tp: 9.0000 - val_fp: 159.0000 - val_tn: 277.0000 - val_fn: 3.0000 - val_accuracy: 0.6384 - val_precision: 0.0536 - val_recall: 0.7500 - val_pr_auc: 0.0526 - val_roc_auc: 0.7237\n",
      "Epoch 375/600\n",
      "31/31 [==============================] - 0s 8ms/step - loss: 578.0949 - tp: 29.0000 - fp: 978.0000 - tn: 949.0000 - fn: 28.0000 - accuracy: 0.4929 - precision: 0.0288 - recall: 0.5088 - pr_auc: 0.0288 - roc_auc: 0.5010 - val_loss: 22.5624 - val_tp: 9.0000 - val_fp: 150.0000 - val_tn: 286.0000 - val_fn: 3.0000 - val_accuracy: 0.6585 - val_precision: 0.0566 - val_recall: 0.7500 - val_pr_auc: 0.0526 - val_roc_auc: 0.7044\n",
      "Epoch 376/600\n",
      "31/31 [==============================] - 0s 8ms/step - loss: 479.6346 - tp: 30.0000 - fp: 945.0000 - tn: 982.0000 - fn: 27.0000 - accuracy: 0.5101 - precision: 0.0308 - recall: 0.5263 - pr_auc: 0.0297 - roc_auc: 0.5134 - val_loss: 29.6756 - val_tp: 11.0000 - val_fp: 169.0000 - val_tn: 267.0000 - val_fn: 1.0000 - val_accuracy: 0.6205 - val_precision: 0.0611 - val_recall: 0.9167 - val_pr_auc: 0.0561 - val_roc_auc: 0.7532\n",
      "Epoch 377/600\n",
      "31/31 [==============================] - 0s 8ms/step - loss: 502.6827 - tp: 28.0000 - fp: 941.0000 - tn: 986.0000 - fn: 29.0000 - accuracy: 0.5111 - precision: 0.0289 - recall: 0.4912 - pr_auc: 0.0284 - roc_auc: 0.4978 - val_loss: 28.8958 - val_tp: 11.0000 - val_fp: 168.0000 - val_tn: 268.0000 - val_fn: 1.0000 - val_accuracy: 0.6228 - val_precision: 0.0615 - val_recall: 0.9167 - val_pr_auc: 0.0566 - val_roc_auc: 0.7554\n",
      "Epoch 378/600\n",
      "31/31 [==============================] - 0s 9ms/step - loss: 560.3210 - tp: 25.0000 - fp: 986.0000 - tn: 941.0000 - fn: 32.0000 - accuracy: 0.4869 - precision: 0.0247 - recall: 0.4386 - pr_auc: 0.0261 - roc_auc: 0.4637 - val_loss: 31.9163 - val_tp: 11.0000 - val_fp: 176.0000 - val_tn: 260.0000 - val_fn: 1.0000 - val_accuracy: 0.6049 - val_precision: 0.0588 - val_recall: 0.9167 - val_pr_auc: 0.0592 - val_roc_auc: 0.7633\n",
      "Epoch 379/600\n",
      "31/31 [==============================] - 0s 8ms/step - loss: 407.3809 - tp: 35.0000 - fp: 953.0000 - tn: 974.0000 - fn: 22.0000 - accuracy: 0.5086 - precision: 0.0354 - recall: 0.6140 - pr_auc: 0.0339 - roc_auc: 0.5599 - val_loss: 30.2772 - val_tp: 11.0000 - val_fp: 171.0000 - val_tn: 265.0000 - val_fn: 1.0000 - val_accuracy: 0.6161 - val_precision: 0.0604 - val_recall: 0.9167 - val_pr_auc: 0.0558 - val_roc_auc: 0.7521\n"
     ]
    },
    {
     "name": "stdout",
     "output_type": "stream",
     "text": [
      "Epoch 380/600\n",
      "31/31 [==============================] - 0s 8ms/step - loss: 577.7169 - tp: 26.0000 - fp: 928.0000 - tn: 999.0000 - fn: 31.0000 - accuracy: 0.5166 - precision: 0.0273 - recall: 0.4561 - pr_auc: 0.0278 - roc_auc: 0.4875 - val_loss: 33.3064 - val_tp: 11.0000 - val_fp: 180.0000 - val_tn: 256.0000 - val_fn: 1.0000 - val_accuracy: 0.5960 - val_precision: 0.0576 - val_recall: 0.9167 - val_pr_auc: 0.0576 - val_roc_auc: 0.7577\n",
      "Epoch 381/600\n",
      "31/31 [==============================] - 0s 8ms/step - loss: 461.1870 - tp: 29.0000 - fp: 972.0000 - tn: 955.0000 - fn: 28.0000 - accuracy: 0.4960 - precision: 0.0290 - recall: 0.5088 - pr_auc: 0.0289 - roc_auc: 0.5023 - val_loss: 34.0078 - val_tp: 11.0000 - val_fp: 181.0000 - val_tn: 255.0000 - val_fn: 1.0000 - val_accuracy: 0.5938 - val_precision: 0.0573 - val_recall: 0.9167 - val_pr_auc: 0.0573 - val_roc_auc: 0.7567\n",
      "Epoch 382/600\n",
      "31/31 [==============================] - 0s 8ms/step - loss: 524.5757 - tp: 31.0000 - fp: 924.0000 - tn: 1003.0000 - fn: 26.0000 - accuracy: 0.5212 - precision: 0.0325 - recall: 0.5439 - pr_auc: 0.0314 - roc_auc: 0.5318 - val_loss: 30.4349 - val_tp: 11.0000 - val_fp: 171.0000 - val_tn: 265.0000 - val_fn: 1.0000 - val_accuracy: 0.6161 - val_precision: 0.0604 - val_recall: 0.9167 - val_pr_auc: 0.0558 - val_roc_auc: 0.7521\n",
      "Epoch 383/600\n",
      "31/31 [==============================] - 0s 8ms/step - loss: 448.2707 - tp: 37.0000 - fp: 949.0000 - tn: 978.0000 - fn: 20.0000 - accuracy: 0.5116 - precision: 0.0375 - recall: 0.6491 - pr_auc: 0.0357 - roc_auc: 0.5784 - val_loss: 18.9552 - val_tp: 8.0000 - val_fp: 142.0000 - val_tn: 294.0000 - val_fn: 4.0000 - val_accuracy: 0.6741 - val_precision: 0.0533 - val_recall: 0.6667 - val_pr_auc: 0.0502 - val_roc_auc: 0.6994\n",
      "Epoch 384/600\n",
      "31/31 [==============================] - 0s 8ms/step - loss: 493.7516 - tp: 29.0000 - fp: 915.0000 - tn: 1012.0000 - fn: 28.0000 - accuracy: 0.5247 - precision: 0.0307 - recall: 0.5088 - pr_auc: 0.0302 - roc_auc: 0.5178 - val_loss: 16.5435 - val_tp: 8.0000 - val_fp: 136.0000 - val_tn: 300.0000 - val_fn: 4.0000 - val_accuracy: 0.6875 - val_precision: 0.0556 - val_recall: 0.6667 - val_pr_auc: 0.0507 - val_roc_auc: 0.6804\n",
      "Epoch 385/600\n",
      "31/31 [==============================] - 0s 8ms/step - loss: 526.0781 - tp: 27.0000 - fp: 950.0000 - tn: 977.0000 - fn: 30.0000 - accuracy: 0.5060 - precision: 0.0276 - recall: 0.4737 - pr_auc: 0.0280 - roc_auc: 0.4898 - val_loss: 21.1168 - val_tp: 9.0000 - val_fp: 146.0000 - val_tn: 290.0000 - val_fn: 3.0000 - val_accuracy: 0.6674 - val_precision: 0.0581 - val_recall: 0.7500 - val_pr_auc: 0.0491 - val_roc_auc: 0.6950\n",
      "Epoch 386/600\n",
      "31/31 [==============================] - 0s 8ms/step - loss: 574.4774 - tp: 22.0000 - fp: 952.0000 - tn: 975.0000 - fn: 35.0000 - accuracy: 0.5025 - precision: 0.0226 - recall: 0.3860 - pr_auc: 0.0249 - roc_auc: 0.4461 - val_loss: 29.0359 - val_tp: 11.0000 - val_fp: 167.0000 - val_tn: 269.0000 - val_fn: 1.0000 - val_accuracy: 0.6250 - val_precision: 0.0618 - val_recall: 0.9167 - val_pr_auc: 0.0566 - val_roc_auc: 0.7553\n",
      "Epoch 387/600\n",
      "31/31 [==============================] - 0s 8ms/step - loss: 421.6581 - tp: 33.0000 - fp: 931.0000 - tn: 996.0000 - fn: 24.0000 - accuracy: 0.5186 - precision: 0.0342 - recall: 0.5789 - pr_auc: 0.0329 - roc_auc: 0.5484 - val_loss: 35.1757 - val_tp: 11.0000 - val_fp: 184.0000 - val_tn: 252.0000 - val_fn: 1.0000 - val_accuracy: 0.5871 - val_precision: 0.0564 - val_recall: 0.9167 - val_pr_auc: 0.0567 - val_roc_auc: 0.7541\n",
      "Epoch 388/600\n",
      "31/31 [==============================] - 0s 8ms/step - loss: 581.4325 - tp: 31.0000 - fp: 988.0000 - tn: 939.0000 - fn: 26.0000 - accuracy: 0.4889 - precision: 0.0304 - recall: 0.5439 - pr_auc: 0.0299 - roc_auc: 0.5149 - val_loss: 27.7548 - val_tp: 10.0000 - val_fp: 164.0000 - val_tn: 272.0000 - val_fn: 2.0000 - val_accuracy: 0.6295 - val_precision: 0.0575 - val_recall: 0.8333 - val_pr_auc: 0.0575 - val_roc_auc: 0.7586\n",
      "Epoch 389/600\n",
      "31/31 [==============================] - 0s 8ms/step - loss: 497.2888 - tp: 27.0000 - fp: 969.0000 - tn: 958.0000 - fn: 30.0000 - accuracy: 0.4965 - precision: 0.0271 - recall: 0.4737 - pr_auc: 0.0278 - roc_auc: 0.4895 - val_loss: 25.6632 - val_tp: 9.0000 - val_fp: 159.0000 - val_tn: 277.0000 - val_fn: 3.0000 - val_accuracy: 0.6384 - val_precision: 0.0536 - val_recall: 0.7500 - val_pr_auc: 0.0524 - val_roc_auc: 0.7229\n",
      "Epoch 390/600\n",
      "31/31 [==============================] - 0s 8ms/step - loss: 472.8654 - tp: 27.0000 - fp: 918.0000 - tn: 1009.0000 - fn: 30.0000 - accuracy: 0.5222 - precision: 0.0286 - recall: 0.4737 - pr_auc: 0.0286 - roc_auc: 0.4985 - val_loss: 34.8709 - val_tp: 11.0000 - val_fp: 182.0000 - val_tn: 254.0000 - val_fn: 1.0000 - val_accuracy: 0.5915 - val_precision: 0.0570 - val_recall: 0.9167 - val_pr_auc: 0.0570 - val_roc_auc: 0.7555\n",
      "Epoch 391/600\n",
      "31/31 [==============================] - 0s 8ms/step - loss: 496.1745 - tp: 32.0000 - fp: 975.0000 - tn: 952.0000 - fn: 25.0000 - accuracy: 0.4960 - precision: 0.0318 - recall: 0.5614 - pr_auc: 0.0305 - roc_auc: 0.5234 - val_loss: 32.6161 - val_tp: 11.0000 - val_fp: 175.0000 - val_tn: 261.0000 - val_fn: 1.0000 - val_accuracy: 0.6071 - val_precision: 0.0591 - val_recall: 0.9167 - val_pr_auc: 0.0592 - val_roc_auc: 0.7634\n",
      "Epoch 392/600\n",
      "31/31 [==============================] - 0s 8ms/step - loss: 483.9961 - tp: 33.0000 - fp: 972.0000 - tn: 955.0000 - fn: 24.0000 - accuracy: 0.4980 - precision: 0.0328 - recall: 0.5789 - pr_auc: 0.0318 - roc_auc: 0.5373 - val_loss: 21.3977 - val_tp: 9.0000 - val_fp: 146.0000 - val_tn: 290.0000 - val_fn: 3.0000 - val_accuracy: 0.6674 - val_precision: 0.0581 - val_recall: 0.7500 - val_pr_auc: 0.0491 - val_roc_auc: 0.6951\n",
      "Epoch 393/600\n",
      "31/31 [==============================] - 0s 8ms/step - loss: 534.5099 - tp: 28.0000 - fp: 945.0000 - tn: 982.0000 - fn: 29.0000 - accuracy: 0.5091 - precision: 0.0288 - recall: 0.4912 - pr_auc: 0.0288 - roc_auc: 0.5005 - val_loss: 23.4035 - val_tp: 9.0000 - val_fp: 150.0000 - val_tn: 286.0000 - val_fn: 3.0000 - val_accuracy: 0.6585 - val_precision: 0.0566 - val_recall: 0.7500 - val_pr_auc: 0.0523 - val_roc_auc: 0.7033\n",
      "Epoch 394/600\n",
      "31/31 [==============================] - 0s 8ms/step - loss: 515.8207 - tp: 30.0000 - fp: 933.0000 - tn: 994.0000 - fn: 27.0000 - accuracy: 0.5161 - precision: 0.0312 - recall: 0.5263 - pr_auc: 0.0305 - roc_auc: 0.5210 - val_loss: 23.1062 - val_tp: 9.0000 - val_fp: 150.0000 - val_tn: 286.0000 - val_fn: 3.0000 - val_accuracy: 0.6585 - val_precision: 0.0566 - val_recall: 0.7500 - val_pr_auc: 0.0526 - val_roc_auc: 0.7047\n",
      "Epoch 395/600\n",
      "31/31 [==============================] - 0s 8ms/step - loss: 498.8092 - tp: 28.0000 - fp: 917.0000 - tn: 1010.0000 - fn: 29.0000 - accuracy: 0.5232 - precision: 0.0296 - recall: 0.4912 - pr_auc: 0.0289 - roc_auc: 0.5034 - val_loss: 28.5839 - val_tp: 10.0000 - val_fp: 164.0000 - val_tn: 272.0000 - val_fn: 2.0000 - val_accuracy: 0.6295 - val_precision: 0.0575 - val_recall: 0.8333 - val_pr_auc: 0.0572 - val_roc_auc: 0.7575\n",
      "Epoch 396/600\n",
      "31/31 [==============================] - 0s 8ms/step - loss: 509.4799 - tp: 29.0000 - fp: 945.0000 - tn: 982.0000 - fn: 28.0000 - accuracy: 0.5096 - precision: 0.0298 - recall: 0.5088 - pr_auc: 0.0295 - roc_auc: 0.5092 - val_loss: 25.9777 - val_tp: 10.0000 - val_fp: 159.0000 - val_tn: 277.0000 - val_fn: 2.0000 - val_accuracy: 0.6406 - val_precision: 0.0592 - val_recall: 0.8333 - val_pr_auc: 0.0524 - val_roc_auc: 0.7227\n",
      "Epoch 397/600\n",
      "31/31 [==============================] - 0s 8ms/step - loss: 547.2014 - tp: 26.0000 - fp: 970.0000 - tn: 957.0000 - fn: 31.0000 - accuracy: 0.4955 - precision: 0.0261 - recall: 0.4561 - pr_auc: 0.0270 - roc_auc: 0.4759 - val_loss: 30.0058 - val_tp: 11.0000 - val_fp: 168.0000 - val_tn: 268.0000 - val_fn: 1.0000 - val_accuracy: 0.6228 - val_precision: 0.0615 - val_recall: 0.9167 - val_pr_auc: 0.0563 - val_roc_auc: 0.7542\n",
      "Epoch 398/600\n",
      "31/31 [==============================] - 0s 8ms/step - loss: 452.0483 - tp: 30.0000 - fp: 960.0000 - tn: 967.0000 - fn: 27.0000 - accuracy: 0.5025 - precision: 0.0303 - recall: 0.5263 - pr_auc: 0.0301 - roc_auc: 0.5192 - val_loss: 34.9991 - val_tp: 11.0000 - val_fp: 180.0000 - val_tn: 256.0000 - val_fn: 1.0000 - val_accuracy: 0.5960 - val_precision: 0.0576 - val_recall: 0.9167 - val_pr_auc: 0.0573 - val_roc_auc: 0.7566\n"
     ]
    },
    {
     "name": "stdout",
     "output_type": "stream",
     "text": [
      "Epoch 399/600\n",
      "31/31 [==============================] - 0s 8ms/step - loss: 547.1696 - tp: 26.0000 - fp: 908.0000 - tn: 1019.0000 - fn: 31.0000 - accuracy: 0.5267 - precision: 0.0278 - recall: 0.4561 - pr_auc: 0.0282 - roc_auc: 0.4924 - val_loss: 37.5171 - val_tp: 11.0000 - val_fp: 186.0000 - val_tn: 250.0000 - val_fn: 1.0000 - val_accuracy: 0.5826 - val_precision: 0.0558 - val_recall: 0.9167 - val_pr_auc: 0.0553 - val_roc_auc: 0.7483\n",
      "Epoch 400/600\n",
      "31/31 [==============================] - 0s 8ms/step - loss: 511.9840 - tp: 31.0000 - fp: 986.0000 - tn: 941.0000 - fn: 26.0000 - accuracy: 0.4899 - precision: 0.0305 - recall: 0.5439 - pr_auc: 0.0300 - roc_auc: 0.5163 - val_loss: 38.2711 - val_tp: 11.0000 - val_fp: 190.0000 - val_tn: 246.0000 - val_fn: 1.0000 - val_accuracy: 0.5737 - val_precision: 0.0547 - val_recall: 0.9167 - val_pr_auc: 0.0545 - val_roc_auc: 0.7448\n",
      "Epoch 401/600\n",
      "31/31 [==============================] - 0s 8ms/step - loss: 469.8163 - tp: 32.0000 - fp: 961.0000 - tn: 966.0000 - fn: 25.0000 - accuracy: 0.5030 - precision: 0.0322 - recall: 0.5614 - pr_auc: 0.0313 - roc_auc: 0.5314 - val_loss: 29.0656 - val_tp: 10.0000 - val_fp: 164.0000 - val_tn: 272.0000 - val_fn: 2.0000 - val_accuracy: 0.6295 - val_precision: 0.0575 - val_recall: 0.8333 - val_pr_auc: 0.0572 - val_roc_auc: 0.7576\n",
      "Epoch 402/600\n",
      "31/31 [==============================] - 0s 8ms/step - loss: 558.7708 - tp: 24.0000 - fp: 946.0000 - tn: 981.0000 - fn: 33.0000 - accuracy: 0.5066 - precision: 0.0247 - recall: 0.4211 - pr_auc: 0.0262 - roc_auc: 0.4648 - val_loss: 31.8734 - val_tp: 11.0000 - val_fp: 173.0000 - val_tn: 263.0000 - val_fn: 1.0000 - val_accuracy: 0.6116 - val_precision: 0.0598 - val_recall: 0.9167 - val_pr_auc: 0.0598 - val_roc_auc: 0.7657\n",
      "Epoch 403/600\n",
      "31/31 [==============================] - 0s 8ms/step - loss: 547.4044 - tp: 27.0000 - fp: 956.0000 - tn: 971.0000 - fn: 30.0000 - accuracy: 0.5030 - precision: 0.0275 - recall: 0.4737 - pr_auc: 0.0279 - roc_auc: 0.4893 - val_loss: 42.3380 - val_tp: 11.0000 - val_fp: 201.0000 - val_tn: 235.0000 - val_fn: 1.0000 - val_accuracy: 0.5491 - val_precision: 0.0519 - val_recall: 0.9167 - val_pr_auc: 0.0532 - val_roc_auc: 0.7552\n",
      "Epoch 404/600\n",
      "31/31 [==============================] - 0s 8ms/step - loss: 417.6690 - tp: 33.0000 - fp: 963.0000 - tn: 964.0000 - fn: 24.0000 - accuracy: 0.5025 - precision: 0.0331 - recall: 0.5789 - pr_auc: 0.0320 - roc_auc: 0.5399 - val_loss: 30.5123 - val_tp: 11.0000 - val_fp: 168.0000 - val_tn: 268.0000 - val_fn: 1.0000 - val_accuracy: 0.6228 - val_precision: 0.0615 - val_recall: 0.9167 - val_pr_auc: 0.0561 - val_roc_auc: 0.7534\n",
      "Epoch 405/600\n",
      "31/31 [==============================] - 0s 8ms/step - loss: 514.1511 - tp: 28.0000 - fp: 985.0000 - tn: 942.0000 - fn: 29.0000 - accuracy: 0.4889 - precision: 0.0276 - recall: 0.4912 - pr_auc: 0.0276 - roc_auc: 0.4858 - val_loss: 31.2968 - val_tp: 11.0000 - val_fp: 170.0000 - val_tn: 266.0000 - val_fn: 1.0000 - val_accuracy: 0.6183 - val_precision: 0.0608 - val_recall: 0.9167 - val_pr_auc: 0.0561 - val_roc_auc: 0.7533\n",
      "Epoch 406/600\n",
      "31/31 [==============================] - 0s 8ms/step - loss: 437.5753 - tp: 33.0000 - fp: 922.0000 - tn: 1005.0000 - fn: 24.0000 - accuracy: 0.5232 - precision: 0.0346 - recall: 0.5789 - pr_auc: 0.0332 - roc_auc: 0.5509 - val_loss: 26.9919 - val_tp: 10.0000 - val_fp: 160.0000 - val_tn: 276.0000 - val_fn: 2.0000 - val_accuracy: 0.6384 - val_precision: 0.0588 - val_recall: 0.8333 - val_pr_auc: 0.0521 - val_roc_auc: 0.7218\n",
      "Epoch 407/600\n",
      "31/31 [==============================] - 0s 8ms/step - loss: 357.7010 - tp: 35.0000 - fp: 925.0000 - tn: 1002.0000 - fn: 22.0000 - accuracy: 0.5227 - precision: 0.0365 - recall: 0.6140 - pr_auc: 0.0346 - roc_auc: 0.5671 - val_loss: 16.1519 - val_tp: 8.0000 - val_fp: 132.0000 - val_tn: 304.0000 - val_fn: 4.0000 - val_accuracy: 0.6964 - val_precision: 0.0571 - val_recall: 0.6667 - val_pr_auc: 0.0509 - val_roc_auc: 0.6820\n",
      "Epoch 408/600\n",
      "31/31 [==============================] - 0s 9ms/step - loss: 483.5831 - tp: 29.0000 - fp: 910.0000 - tn: 1017.0000 - fn: 28.0000 - accuracy: 0.5272 - precision: 0.0309 - recall: 0.5088 - pr_auc: 0.0303 - roc_auc: 0.5184 - val_loss: 13.5739 - val_tp: 7.0000 - val_fp: 126.0000 - val_tn: 310.0000 - val_fn: 5.0000 - val_accuracy: 0.7076 - val_precision: 0.0526 - val_recall: 0.5833 - val_pr_auc: 0.0512 - val_roc_auc: 0.6848\n",
      "Epoch 409/600\n",
      "31/31 [==============================] - 0s 8ms/step - loss: 459.6751 - tp: 29.0000 - fp: 942.0000 - tn: 985.0000 - fn: 28.0000 - accuracy: 0.5111 - precision: 0.0299 - recall: 0.5088 - pr_auc: 0.0295 - roc_auc: 0.5096 - val_loss: 14.6365 - val_tp: 8.0000 - val_fp: 129.0000 - val_tn: 307.0000 - val_fn: 4.0000 - val_accuracy: 0.7031 - val_precision: 0.0584 - val_recall: 0.6667 - val_pr_auc: 0.0484 - val_roc_auc: 0.6770\n",
      "Epoch 410/600\n",
      "31/31 [==============================] - 0s 8ms/step - loss: 439.6574 - tp: 31.0000 - fp: 944.0000 - tn: 983.0000 - fn: 26.0000 - accuracy: 0.5111 - precision: 0.0318 - recall: 0.5439 - pr_auc: 0.0310 - roc_auc: 0.5276 - val_loss: 14.5851 - val_tp: 8.0000 - val_fp: 129.0000 - val_tn: 307.0000 - val_fn: 4.0000 - val_accuracy: 0.7031 - val_precision: 0.0584 - val_recall: 0.6667 - val_pr_auc: 0.0484 - val_roc_auc: 0.6770\n",
      "Epoch 411/600\n",
      "31/31 [==============================] - 0s 9ms/step - loss: 497.2384 - tp: 28.0000 - fp: 901.0000 - tn: 1026.0000 - fn: 29.0000 - accuracy: 0.5312 - precision: 0.0301 - recall: 0.4912 - pr_auc: 0.0297 - roc_auc: 0.5113 - val_loss: 17.4375 - val_tp: 8.0000 - val_fp: 136.0000 - val_tn: 300.0000 - val_fn: 4.0000 - val_accuracy: 0.6875 - val_precision: 0.0556 - val_recall: 0.6667 - val_pr_auc: 0.0502 - val_roc_auc: 0.6789\n",
      "Epoch 412/600\n",
      "31/31 [==============================] - 0s 9ms/step - loss: 431.8651 - tp: 33.0000 - fp: 888.0000 - tn: 1039.0000 - fn: 24.0000 - accuracy: 0.5403 - precision: 0.0358 - recall: 0.5789 - pr_auc: 0.0339 - roc_auc: 0.5587 - val_loss: 16.3920 - val_tp: 8.0000 - val_fp: 132.0000 - val_tn: 304.0000 - val_fn: 4.0000 - val_accuracy: 0.6964 - val_precision: 0.0571 - val_recall: 0.6667 - val_pr_auc: 0.0509 - val_roc_auc: 0.6820\n",
      "Epoch 413/600\n",
      "31/31 [==============================] - 0s 9ms/step - loss: 494.8079 - tp: 25.0000 - fp: 937.0000 - tn: 990.0000 - fn: 32.0000 - accuracy: 0.5116 - precision: 0.0260 - recall: 0.4386 - pr_auc: 0.0271 - roc_auc: 0.4804 - val_loss: 18.5249 - val_tp: 8.0000 - val_fp: 141.0000 - val_tn: 295.0000 - val_fn: 4.0000 - val_accuracy: 0.6763 - val_precision: 0.0537 - val_recall: 0.6667 - val_pr_auc: 0.0493 - val_roc_auc: 0.6762\n",
      "Epoch 414/600\n",
      "31/31 [==============================] - 0s 8ms/step - loss: 520.2495 - tp: 27.0000 - fp: 974.0000 - tn: 953.0000 - fn: 30.0000 - accuracy: 0.4940 - precision: 0.0270 - recall: 0.4737 - pr_auc: 0.0275 - roc_auc: 0.4841 - val_loss: 23.6076 - val_tp: 9.0000 - val_fp: 149.0000 - val_tn: 287.0000 - val_fn: 3.0000 - val_accuracy: 0.6607 - val_precision: 0.0570 - val_recall: 0.7500 - val_pr_auc: 0.0526 - val_roc_auc: 0.7053\n",
      "Epoch 415/600\n",
      "31/31 [==============================] - 0s 8ms/step - loss: 473.0106 - tp: 29.0000 - fp: 918.0000 - tn: 1009.0000 - fn: 28.0000 - accuracy: 0.5232 - precision: 0.0306 - recall: 0.5088 - pr_auc: 0.0301 - roc_auc: 0.5162 - val_loss: 23.8619 - val_tp: 9.0000 - val_fp: 150.0000 - val_tn: 286.0000 - val_fn: 3.0000 - val_accuracy: 0.6585 - val_precision: 0.0566 - val_recall: 0.7500 - val_pr_auc: 0.0526 - val_roc_auc: 0.7044\n",
      "Epoch 416/600\n",
      "31/31 [==============================] - 0s 8ms/step - loss: 534.4562 - tp: 27.0000 - fp: 904.0000 - tn: 1023.0000 - fn: 30.0000 - accuracy: 0.5292 - precision: 0.0290 - recall: 0.4737 - pr_auc: 0.0289 - roc_auc: 0.5020 - val_loss: 26.4188 - val_tp: 9.0000 - val_fp: 158.0000 - val_tn: 278.0000 - val_fn: 3.0000 - val_accuracy: 0.6406 - val_precision: 0.0539 - val_recall: 0.7500 - val_pr_auc: 0.0527 - val_roc_auc: 0.7239\n",
      "Epoch 417/600\n",
      "31/31 [==============================] - 0s 8ms/step - loss: 464.9274 - tp: 29.0000 - fp: 923.0000 - tn: 1004.0000 - fn: 28.0000 - accuracy: 0.5207 - precision: 0.0305 - recall: 0.5088 - pr_auc: 0.0300 - roc_auc: 0.5149 - val_loss: 34.8559 - val_tp: 11.0000 - val_fp: 180.0000 - val_tn: 256.0000 - val_fn: 1.0000 - val_accuracy: 0.5960 - val_precision: 0.0576 - val_recall: 0.9167 - val_pr_auc: 0.0579 - val_roc_auc: 0.7588\n"
     ]
    },
    {
     "name": "stdout",
     "output_type": "stream",
     "text": [
      "Epoch 418/600\n",
      "31/31 [==============================] - 0s 8ms/step - loss: 474.6956 - tp: 30.0000 - fp: 946.0000 - tn: 981.0000 - fn: 27.0000 - accuracy: 0.5096 - precision: 0.0307 - recall: 0.5263 - pr_auc: 0.0302 - roc_auc: 0.5178 - val_loss: 33.9743 - val_tp: 11.0000 - val_fp: 175.0000 - val_tn: 261.0000 - val_fn: 1.0000 - val_accuracy: 0.6071 - val_precision: 0.0591 - val_recall: 0.9167 - val_pr_auc: 0.0589 - val_roc_auc: 0.7624\n",
      "Epoch 419/600\n",
      "31/31 [==============================] - 0s 8ms/step - loss: 478.3139 - tp: 32.0000 - fp: 911.0000 - tn: 1016.0000 - fn: 25.0000 - accuracy: 0.5282 - precision: 0.0339 - recall: 0.5614 - pr_auc: 0.0326 - roc_auc: 0.5449 - val_loss: 34.3533 - val_tp: 11.0000 - val_fp: 177.0000 - val_tn: 259.0000 - val_fn: 1.0000 - val_accuracy: 0.6027 - val_precision: 0.0585 - val_recall: 0.9167 - val_pr_auc: 0.0582 - val_roc_auc: 0.7601\n",
      "Epoch 420/600\n",
      "31/31 [==============================] - 0s 8ms/step - loss: 500.9160 - tp: 28.0000 - fp: 926.0000 - tn: 1001.0000 - fn: 29.0000 - accuracy: 0.5186 - precision: 0.0294 - recall: 0.4912 - pr_auc: 0.0291 - roc_auc: 0.5048 - val_loss: 30.8633 - val_tp: 11.0000 - val_fp: 168.0000 - val_tn: 268.0000 - val_fn: 1.0000 - val_accuracy: 0.6228 - val_precision: 0.0615 - val_recall: 0.9167 - val_pr_auc: 0.0564 - val_roc_auc: 0.7545\n",
      "Epoch 421/600\n",
      "31/31 [==============================] - 0s 8ms/step - loss: 408.1351 - tp: 39.0000 - fp: 956.0000 - tn: 971.0000 - fn: 18.0000 - accuracy: 0.5091 - precision: 0.0392 - recall: 0.6842 - pr_auc: 0.0372 - roc_auc: 0.5942 - val_loss: 17.9065 - val_tp: 8.0000 - val_fp: 138.0000 - val_tn: 298.0000 - val_fn: 4.0000 - val_accuracy: 0.6830 - val_precision: 0.0548 - val_recall: 0.6667 - val_pr_auc: 0.0499 - val_roc_auc: 0.6781\n",
      "Epoch 422/600\n",
      "31/31 [==============================] - 0s 8ms/step - loss: 586.1380 - tp: 27.0000 - fp: 917.0000 - tn: 1010.0000 - fn: 30.0000 - accuracy: 0.5227 - precision: 0.0286 - recall: 0.4737 - pr_auc: 0.0287 - roc_auc: 0.4990 - val_loss: 16.0977 - val_tp: 8.0000 - val_fp: 131.0000 - val_tn: 305.0000 - val_fn: 4.0000 - val_accuracy: 0.6987 - val_precision: 0.0576 - val_recall: 0.6667 - val_pr_auc: 0.0512 - val_roc_auc: 0.6835\n",
      "Epoch 423/600\n",
      "31/31 [==============================] - 0s 8ms/step - loss: 414.6691 - tp: 31.0000 - fp: 917.0000 - tn: 1010.0000 - fn: 26.0000 - accuracy: 0.5247 - precision: 0.0327 - recall: 0.5439 - pr_auc: 0.0319 - roc_auc: 0.5392 - val_loss: 16.7439 - val_tp: 8.0000 - val_fp: 133.0000 - val_tn: 303.0000 - val_fn: 4.0000 - val_accuracy: 0.6942 - val_precision: 0.0567 - val_recall: 0.6667 - val_pr_auc: 0.0508 - val_roc_auc: 0.6816\n",
      "Epoch 424/600\n",
      "31/31 [==============================] - 0s 8ms/step - loss: 520.0763 - tp: 26.0000 - fp: 914.0000 - tn: 1013.0000 - fn: 31.0000 - accuracy: 0.5237 - precision: 0.0277 - recall: 0.4561 - pr_auc: 0.0280 - roc_auc: 0.4906 - val_loss: 19.2471 - val_tp: 8.0000 - val_fp: 142.0000 - val_tn: 294.0000 - val_fn: 4.0000 - val_accuracy: 0.6741 - val_precision: 0.0533 - val_recall: 0.6667 - val_pr_auc: 0.0510 - val_roc_auc: 0.7020\n",
      "Epoch 425/600\n",
      "31/31 [==============================] - 0s 8ms/step - loss: 542.2231 - tp: 25.0000 - fp: 905.0000 - tn: 1022.0000 - fn: 32.0000 - accuracy: 0.5277 - precision: 0.0269 - recall: 0.4386 - pr_auc: 0.0275 - roc_auc: 0.4837 - val_loss: 30.4375 - val_tp: 11.0000 - val_fp: 166.0000 - val_tn: 270.0000 - val_fn: 1.0000 - val_accuracy: 0.6272 - val_precision: 0.0621 - val_recall: 0.9167 - val_pr_auc: 0.0567 - val_roc_auc: 0.7555\n",
      "Epoch 426/600\n",
      "31/31 [==============================] - 0s 8ms/step - loss: 432.7339 - tp: 31.0000 - fp: 928.0000 - tn: 999.0000 - fn: 26.0000 - accuracy: 0.5192 - precision: 0.0323 - recall: 0.5439 - pr_auc: 0.0314 - roc_auc: 0.5313 - val_loss: 31.0921 - val_tp: 11.0000 - val_fp: 168.0000 - val_tn: 268.0000 - val_fn: 1.0000 - val_accuracy: 0.6228 - val_precision: 0.0615 - val_recall: 0.9167 - val_pr_auc: 0.0564 - val_roc_auc: 0.7545\n",
      "Epoch 427/600\n",
      "31/31 [==============================] - 0s 8ms/step - loss: 465.9090 - tp: 28.0000 - fp: 985.0000 - tn: 942.0000 - fn: 29.0000 - accuracy: 0.4889 - precision: 0.0276 - recall: 0.4912 - pr_auc: 0.0280 - roc_auc: 0.4896 - val_loss: 31.9528 - val_tp: 11.0000 - val_fp: 169.0000 - val_tn: 267.0000 - val_fn: 1.0000 - val_accuracy: 0.6205 - val_precision: 0.0611 - val_recall: 0.9167 - val_pr_auc: 0.0558 - val_roc_auc: 0.7523\n",
      "Epoch 428/600\n",
      "31/31 [==============================] - 0s 8ms/step - loss: 534.2399 - tp: 25.0000 - fp: 949.0000 - tn: 978.0000 - fn: 32.0000 - accuracy: 0.5055 - precision: 0.0257 - recall: 0.4386 - pr_auc: 0.0267 - roc_auc: 0.4726 - val_loss: 35.6314 - val_tp: 11.0000 - val_fp: 180.0000 - val_tn: 256.0000 - val_fn: 1.0000 - val_accuracy: 0.5960 - val_precision: 0.0576 - val_recall: 0.9167 - val_pr_auc: 0.0576 - val_roc_auc: 0.7577\n",
      "Epoch 429/600\n",
      "31/31 [==============================] - 0s 8ms/step - loss: 471.5253 - tp: 30.0000 - fp: 949.0000 - tn: 978.0000 - fn: 27.0000 - accuracy: 0.5081 - precision: 0.0306 - recall: 0.5263 - pr_auc: 0.0303 - roc_auc: 0.5211 - val_loss: 42.5514 - val_tp: 11.0000 - val_fp: 199.0000 - val_tn: 237.0000 - val_fn: 1.0000 - val_accuracy: 0.5536 - val_precision: 0.0524 - val_recall: 0.9167 - val_pr_auc: 0.0546 - val_roc_auc: 0.7614\n",
      "Epoch 430/600\n",
      "31/31 [==============================] - 0s 8ms/step - loss: 400.9668 - tp: 31.0000 - fp: 996.0000 - tn: 931.0000 - fn: 26.0000 - accuracy: 0.4849 - precision: 0.0302 - recall: 0.5439 - pr_auc: 0.0299 - roc_auc: 0.5142 - val_loss: 34.6294 - val_tp: 11.0000 - val_fp: 176.0000 - val_tn: 260.0000 - val_fn: 1.0000 - val_accuracy: 0.6049 - val_precision: 0.0588 - val_recall: 0.9167 - val_pr_auc: 0.0589 - val_roc_auc: 0.7624\n",
      "Epoch 431/600\n",
      "31/31 [==============================] - 0s 8ms/step - loss: 521.3907 - tp: 32.0000 - fp: 948.0000 - tn: 979.0000 - fn: 25.0000 - accuracy: 0.5096 - precision: 0.0327 - recall: 0.5614 - pr_auc: 0.0317 - roc_auc: 0.5349 - val_loss: 28.8375 - val_tp: 10.0000 - val_fp: 163.0000 - val_tn: 273.0000 - val_fn: 2.0000 - val_accuracy: 0.6317 - val_precision: 0.0578 - val_recall: 0.8333 - val_pr_auc: 0.0534 - val_roc_auc: 0.7447\n",
      "Epoch 432/600\n",
      "31/31 [==============================] - 0s 9ms/step - loss: 563.5135 - tp: 25.0000 - fp: 952.0000 - tn: 975.0000 - fn: 32.0000 - accuracy: 0.5040 - precision: 0.0256 - recall: 0.4386 - pr_auc: 0.0267 - roc_auc: 0.4720 - val_loss: 39.9766 - val_tp: 11.0000 - val_fp: 188.0000 - val_tn: 248.0000 - val_fn: 1.0000 - val_accuracy: 0.5781 - val_precision: 0.0553 - val_recall: 0.9167 - val_pr_auc: 0.0545 - val_roc_auc: 0.7448\n",
      "Epoch 433/600\n",
      "31/31 [==============================] - 0s 8ms/step - loss: 512.2767 - tp: 28.0000 - fp: 965.0000 - tn: 962.0000 - fn: 29.0000 - accuracy: 0.4990 - precision: 0.0282 - recall: 0.4912 - pr_auc: 0.0284 - roc_auc: 0.4949 - val_loss: 41.0484 - val_tp: 11.0000 - val_fp: 194.0000 - val_tn: 242.0000 - val_fn: 1.0000 - val_accuracy: 0.5647 - val_precision: 0.0537 - val_recall: 0.9167 - val_pr_auc: 0.0539 - val_roc_auc: 0.7425\n",
      "Epoch 434/600\n",
      "31/31 [==============================] - 0s 8ms/step - loss: 417.3200 - tp: 29.0000 - fp: 981.0000 - tn: 946.0000 - fn: 28.0000 - accuracy: 0.4914 - precision: 0.0287 - recall: 0.5088 - pr_auc: 0.0287 - roc_auc: 0.4996 - val_loss: 37.8124 - val_tp: 11.0000 - val_fp: 185.0000 - val_tn: 251.0000 - val_fn: 1.0000 - val_accuracy: 0.5848 - val_precision: 0.0561 - val_recall: 0.9167 - val_pr_auc: 0.0559 - val_roc_auc: 0.7511\n",
      "Epoch 435/600\n",
      "31/31 [==============================] - 0s 8ms/step - loss: 545.5225 - tp: 20.0000 - fp: 950.0000 - tn: 977.0000 - fn: 37.0000 - accuracy: 0.5025 - precision: 0.0206 - recall: 0.3509 - pr_auc: 0.0239 - roc_auc: 0.4292 - val_loss: 56.2786 - val_tp: 12.0000 - val_fp: 223.0000 - val_tn: 213.0000 - val_fn: 0.0000e+00 - val_accuracy: 0.5022 - val_precision: 0.0511 - val_recall: 1.0000 - val_pr_auc: 0.0526 - val_roc_auc: 0.7523\n",
      "Epoch 436/600\n",
      "31/31 [==============================] - 0s 8ms/step - loss: 460.2775 - tp: 32.0000 - fp: 988.0000 - tn: 939.0000 - fn: 25.0000 - accuracy: 0.4894 - precision: 0.0314 - recall: 0.5614 - pr_auc: 0.0307 - roc_auc: 0.5247 - val_loss: 56.3365 - val_tp: 12.0000 - val_fp: 223.0000 - val_tn: 213.0000 - val_fn: 0.0000e+00 - val_accuracy: 0.5022 - val_precision: 0.0511 - val_recall: 1.0000 - val_pr_auc: 0.0526 - val_roc_auc: 0.7523\n"
     ]
    },
    {
     "name": "stdout",
     "output_type": "stream",
     "text": [
      "Epoch 437/600\n",
      "31/31 [==============================] - 0s 8ms/step - loss: 529.0662 - tp: 28.0000 - fp: 961.0000 - tn: 966.0000 - fn: 29.0000 - accuracy: 0.5010 - precision: 0.0283 - recall: 0.4912 - pr_auc: 0.0285 - roc_auc: 0.4965 - val_loss: 52.5555 - val_tp: 12.0000 - val_fp: 215.0000 - val_tn: 221.0000 - val_fn: 0.0000e+00 - val_accuracy: 0.5201 - val_precision: 0.0529 - val_recall: 1.0000 - val_pr_auc: 0.0538 - val_roc_auc: 0.7580\n",
      "Epoch 438/600\n",
      "31/31 [==============================] - 0s 8ms/step - loss: 408.7505 - tp: 31.0000 - fp: 981.0000 - tn: 946.0000 - fn: 26.0000 - accuracy: 0.4924 - precision: 0.0306 - recall: 0.5439 - pr_auc: 0.0303 - roc_auc: 0.5218 - val_loss: 47.4132 - val_tp: 12.0000 - val_fp: 209.0000 - val_tn: 227.0000 - val_fn: 0.0000e+00 - val_accuracy: 0.5335 - val_precision: 0.0543 - val_recall: 1.0000 - val_pr_auc: 0.0561 - val_roc_auc: 0.7683\n",
      "Epoch 439/600\n",
      "31/31 [==============================] - 0s 9ms/step - loss: 471.4078 - tp: 32.0000 - fp: 928.0000 - tn: 999.0000 - fn: 25.0000 - accuracy: 0.5197 - precision: 0.0333 - recall: 0.5614 - pr_auc: 0.0321 - roc_auc: 0.5402 - val_loss: 40.9030 - val_tp: 11.0000 - val_fp: 189.0000 - val_tn: 247.0000 - val_fn: 1.0000 - val_accuracy: 0.5759 - val_precision: 0.0550 - val_recall: 0.9167 - val_pr_auc: 0.0545 - val_roc_auc: 0.7446\n",
      "Epoch 440/600\n",
      "31/31 [==============================] - 0s 8ms/step - loss: 487.9851 - tp: 26.0000 - fp: 966.0000 - tn: 961.0000 - fn: 31.0000 - accuracy: 0.4975 - precision: 0.0262 - recall: 0.4561 - pr_auc: 0.0271 - roc_auc: 0.4775 - val_loss: 45.7572 - val_tp: 12.0000 - val_fp: 204.0000 - val_tn: 232.0000 - val_fn: 0.0000e+00 - val_accuracy: 0.5446 - val_precision: 0.0556 - val_recall: 1.0000 - val_pr_auc: 0.0521 - val_roc_auc: 0.7501\n",
      "Epoch 441/600\n",
      "31/31 [==============================] - 0s 9ms/step - loss: 413.5460 - tp: 36.0000 - fp: 945.0000 - tn: 982.0000 - fn: 21.0000 - accuracy: 0.5131 - precision: 0.0367 - recall: 0.6316 - pr_auc: 0.0350 - roc_auc: 0.5710 - val_loss: 41.9197 - val_tp: 11.0000 - val_fp: 196.0000 - val_tn: 240.0000 - val_fn: 1.0000 - val_accuracy: 0.5603 - val_precision: 0.0531 - val_recall: 0.9167 - val_pr_auc: 0.0537 - val_roc_auc: 0.7414\n",
      "Epoch 442/600\n",
      "31/31 [==============================] - 0s 8ms/step - loss: 445.9002 - tp: 35.0000 - fp: 935.0000 - tn: 992.0000 - fn: 22.0000 - accuracy: 0.5176 - precision: 0.0361 - recall: 0.6140 - pr_auc: 0.0346 - roc_auc: 0.5689 - val_loss: 27.0675 - val_tp: 9.0000 - val_fp: 158.0000 - val_tn: 278.0000 - val_fn: 3.0000 - val_accuracy: 0.6406 - val_precision: 0.0539 - val_recall: 0.7500 - val_pr_auc: 0.0529 - val_roc_auc: 0.7250\n",
      "Epoch 443/600\n",
      "31/31 [==============================] - 0s 8ms/step - loss: 425.8390 - tp: 37.0000 - fp: 936.0000 - tn: 991.0000 - fn: 20.0000 - accuracy: 0.5181 - precision: 0.0380 - recall: 0.6491 - pr_auc: 0.0361 - roc_auc: 0.5821 - val_loss: 15.5196 - val_tp: 8.0000 - val_fp: 129.0000 - val_tn: 307.0000 - val_fn: 4.0000 - val_accuracy: 0.7031 - val_precision: 0.0584 - val_recall: 0.6667 - val_pr_auc: 0.0478 - val_roc_auc: 0.6754\n",
      "Epoch 444/600\n",
      "31/31 [==============================] - 0s 8ms/step - loss: 530.3032 - tp: 32.0000 - fp: 868.0000 - tn: 1059.0000 - fn: 25.0000 - accuracy: 0.5499 - precision: 0.0356 - recall: 0.5614 - pr_auc: 0.0337 - roc_auc: 0.5553 - val_loss: 15.3462 - val_tp: 8.0000 - val_fp: 128.0000 - val_tn: 308.0000 - val_fn: 4.0000 - val_accuracy: 0.7054 - val_precision: 0.0588 - val_recall: 0.6667 - val_pr_auc: 0.0478 - val_roc_auc: 0.6754\n",
      "Epoch 445/600\n",
      "31/31 [==============================] - 0s 8ms/step - loss: 450.6800 - tp: 30.0000 - fp: 930.0000 - tn: 997.0000 - fn: 27.0000 - accuracy: 0.5176 - precision: 0.0312 - recall: 0.5263 - pr_auc: 0.0306 - roc_auc: 0.5219 - val_loss: 10.4291 - val_tp: 7.0000 - val_fp: 102.0000 - val_tn: 334.0000 - val_fn: 5.0000 - val_accuracy: 0.7612 - val_precision: 0.0642 - val_recall: 0.5833 - val_pr_auc: 0.0551 - val_roc_auc: 0.6778\n",
      "Epoch 446/600\n",
      "31/31 [==============================] - 0s 8ms/step - loss: 475.9269 - tp: 32.0000 - fp: 872.0000 - tn: 1055.0000 - fn: 25.0000 - accuracy: 0.5479 - precision: 0.0354 - recall: 0.5614 - pr_auc: 0.0336 - roc_auc: 0.5545 - val_loss: 10.5717 - val_tp: 7.0000 - val_fp: 103.0000 - val_tn: 333.0000 - val_fn: 5.0000 - val_accuracy: 0.7589 - val_precision: 0.0636 - val_recall: 0.5833 - val_pr_auc: 0.0546 - val_roc_auc: 0.6761\n",
      "Epoch 447/600\n",
      "31/31 [==============================] - 0s 8ms/step - loss: 389.7229 - tp: 33.0000 - fp: 916.0000 - tn: 1011.0000 - fn: 24.0000 - accuracy: 0.5262 - precision: 0.0348 - recall: 0.5789 - pr_auc: 0.0332 - roc_auc: 0.5515 - val_loss: 9.1576 - val_tp: 7.0000 - val_fp: 94.0000 - val_tn: 342.0000 - val_fn: 5.0000 - val_accuracy: 0.7790 - val_precision: 0.0693 - val_recall: 0.5833 - val_pr_auc: 0.0595 - val_roc_auc: 0.6859\n",
      "Epoch 448/600\n",
      "31/31 [==============================] - 0s 8ms/step - loss: 507.4734 - tp: 28.0000 - fp: 907.0000 - tn: 1020.0000 - fn: 29.0000 - accuracy: 0.5282 - precision: 0.0299 - recall: 0.4912 - pr_auc: 0.0296 - roc_auc: 0.5100 - val_loss: 11.7873 - val_tp: 7.0000 - val_fp: 106.0000 - val_tn: 330.0000 - val_fn: 5.0000 - val_accuracy: 0.7522 - val_precision: 0.0619 - val_recall: 0.5833 - val_pr_auc: 0.0521 - val_roc_auc: 0.6688\n",
      "Epoch 449/600\n",
      "31/31 [==============================] - 0s 8ms/step - loss: 413.9707 - tp: 22.0000 - fp: 916.0000 - tn: 1011.0000 - fn: 35.0000 - accuracy: 0.5207 - precision: 0.0235 - recall: 0.3860 - pr_auc: 0.0254 - roc_auc: 0.4546 - val_loss: 18.8127 - val_tp: 8.0000 - val_fp: 139.0000 - val_tn: 297.0000 - val_fn: 4.0000 - val_accuracy: 0.6808 - val_precision: 0.0544 - val_recall: 0.6667 - val_pr_auc: 0.0499 - val_roc_auc: 0.6781\n",
      "Epoch 450/600\n",
      "31/31 [==============================] - 0s 8ms/step - loss: 502.7890 - tp: 32.0000 - fp: 944.0000 - tn: 983.0000 - fn: 25.0000 - accuracy: 0.5116 - precision: 0.0328 - recall: 0.5614 - pr_auc: 0.0317 - roc_auc: 0.5356 - val_loss: 20.6024 - val_tp: 8.0000 - val_fp: 142.0000 - val_tn: 294.0000 - val_fn: 4.0000 - val_accuracy: 0.6741 - val_precision: 0.0533 - val_recall: 0.6667 - val_pr_auc: 0.0500 - val_roc_auc: 0.6988\n",
      "Epoch 451/600\n",
      "31/31 [==============================] - 0s 8ms/step - loss: 467.1773 - tp: 28.0000 - fp: 927.0000 - tn: 1000.0000 - fn: 29.0000 - accuracy: 0.5181 - precision: 0.0293 - recall: 0.4912 - pr_auc: 0.0296 - roc_auc: 0.5140 - val_loss: 18.1594 - val_tp: 8.0000 - val_fp: 136.0000 - val_tn: 300.0000 - val_fn: 4.0000 - val_accuracy: 0.6875 - val_precision: 0.0556 - val_recall: 0.6667 - val_pr_auc: 0.0502 - val_roc_auc: 0.6789\n",
      "Epoch 452/600\n",
      "31/31 [==============================] - 0s 8ms/step - loss: 496.5720 - tp: 30.0000 - fp: 906.0000 - tn: 1021.0000 - fn: 27.0000 - accuracy: 0.5297 - precision: 0.0321 - recall: 0.5263 - pr_auc: 0.0311 - roc_auc: 0.5282 - val_loss: 21.3398 - val_tp: 9.0000 - val_fp: 144.0000 - val_tn: 292.0000 - val_fn: 3.0000 - val_accuracy: 0.6719 - val_precision: 0.0588 - val_recall: 0.7500 - val_pr_auc: 0.0495 - val_roc_auc: 0.6972\n",
      "Epoch 453/600\n",
      "31/31 [==============================] - 0s 9ms/step - loss: 508.1916 - tp: 26.0000 - fp: 906.0000 - tn: 1021.0000 - fn: 31.0000 - accuracy: 0.5277 - precision: 0.0279 - recall: 0.4561 - pr_auc: 0.0282 - roc_auc: 0.4923 - val_loss: 28.7370 - val_tp: 10.0000 - val_fp: 160.0000 - val_tn: 276.0000 - val_fn: 2.0000 - val_accuracy: 0.6384 - val_precision: 0.0588 - val_recall: 0.8333 - val_pr_auc: 0.0521 - val_roc_auc: 0.7216\n",
      "Epoch 454/600\n",
      "31/31 [==============================] - 0s 8ms/step - loss: 492.2931 - tp: 30.0000 - fp: 920.0000 - tn: 1007.0000 - fn: 27.0000 - accuracy: 0.5227 - precision: 0.0316 - recall: 0.5263 - pr_auc: 0.0308 - roc_auc: 0.5245 - val_loss: 30.0513 - val_tp: 10.0000 - val_fp: 163.0000 - val_tn: 273.0000 - val_fn: 2.0000 - val_accuracy: 0.6317 - val_precision: 0.0578 - val_recall: 0.8333 - val_pr_auc: 0.0575 - val_roc_auc: 0.7586\n",
      "Epoch 455/600\n",
      "31/31 [==============================] - 0s 8ms/step - loss: 468.8051 - tp: 27.0000 - fp: 946.0000 - tn: 981.0000 - fn: 30.0000 - accuracy: 0.5081 - precision: 0.0277 - recall: 0.4737 - pr_auc: 0.0281 - roc_auc: 0.4920 - val_loss: 32.4400 - val_tp: 11.0000 - val_fp: 169.0000 - val_tn: 267.0000 - val_fn: 1.0000 - val_accuracy: 0.6205 - val_precision: 0.0611 - val_recall: 0.9167 - val_pr_auc: 0.0563 - val_roc_auc: 0.7543\n"
     ]
    },
    {
     "name": "stdout",
     "output_type": "stream",
     "text": [
      "Epoch 456/600\n",
      "31/31 [==============================] - 0s 8ms/step - loss: 400.8806 - tp: 32.0000 - fp: 961.0000 - tn: 966.0000 - fn: 25.0000 - accuracy: 0.5030 - precision: 0.0322 - recall: 0.5614 - pr_auc: 0.0308 - roc_auc: 0.5271 - val_loss: 31.4685 - val_tp: 11.0000 - val_fp: 166.0000 - val_tn: 270.0000 - val_fn: 1.0000 - val_accuracy: 0.6272 - val_precision: 0.0621 - val_recall: 0.9167 - val_pr_auc: 0.0566 - val_roc_auc: 0.7556\n",
      "Epoch 457/600\n",
      "31/31 [==============================] - 0s 8ms/step - loss: 460.0717 - tp: 27.0000 - fp: 951.0000 - tn: 976.0000 - fn: 30.0000 - accuracy: 0.5055 - precision: 0.0276 - recall: 0.4737 - pr_auc: 0.0282 - roc_auc: 0.4946 - val_loss: 29.3776 - val_tp: 10.0000 - val_fp: 161.0000 - val_tn: 275.0000 - val_fn: 2.0000 - val_accuracy: 0.6362 - val_precision: 0.0585 - val_recall: 0.8333 - val_pr_auc: 0.0514 - val_roc_auc: 0.7188\n",
      "Epoch 458/600\n",
      "31/31 [==============================] - 0s 8ms/step - loss: 506.4405 - tp: 29.0000 - fp: 938.0000 - tn: 989.0000 - fn: 28.0000 - accuracy: 0.5131 - precision: 0.0300 - recall: 0.5088 - pr_auc: 0.0296 - roc_auc: 0.5110 - val_loss: 30.6707 - val_tp: 10.0000 - val_fp: 163.0000 - val_tn: 273.0000 - val_fn: 2.0000 - val_accuracy: 0.6317 - val_precision: 0.0578 - val_recall: 0.8333 - val_pr_auc: 0.0575 - val_roc_auc: 0.7585\n",
      "Epoch 459/600\n",
      "31/31 [==============================] - 0s 9ms/step - loss: 438.9978 - tp: 32.0000 - fp: 981.0000 - tn: 946.0000 - fn: 25.0000 - accuracy: 0.4929 - precision: 0.0316 - recall: 0.5614 - pr_auc: 0.0308 - roc_auc: 0.5260 - val_loss: 28.2659 - val_tp: 10.0000 - val_fp: 159.0000 - val_tn: 277.0000 - val_fn: 2.0000 - val_accuracy: 0.6406 - val_precision: 0.0592 - val_recall: 0.8333 - val_pr_auc: 0.0524 - val_roc_auc: 0.7229\n",
      "Epoch 460/600\n",
      "31/31 [==============================] - 0s 8ms/step - loss: 476.9307 - tp: 31.0000 - fp: 918.0000 - tn: 1009.0000 - fn: 26.0000 - accuracy: 0.5242 - precision: 0.0327 - recall: 0.5439 - pr_auc: 0.0316 - roc_auc: 0.5334 - val_loss: 22.0602 - val_tp: 9.0000 - val_fp: 145.0000 - val_tn: 291.0000 - val_fn: 3.0000 - val_accuracy: 0.6696 - val_precision: 0.0584 - val_recall: 0.7500 - val_pr_auc: 0.0495 - val_roc_auc: 0.6973\n",
      "Epoch 461/600\n",
      "31/31 [==============================] - 0s 8ms/step - loss: 492.2080 - tp: 25.0000 - fp: 950.0000 - tn: 977.0000 - fn: 32.0000 - accuracy: 0.5050 - precision: 0.0256 - recall: 0.4386 - pr_auc: 0.0267 - roc_auc: 0.4726 - val_loss: 28.4396 - val_tp: 10.0000 - val_fp: 159.0000 - val_tn: 277.0000 - val_fn: 2.0000 - val_accuracy: 0.6406 - val_precision: 0.0592 - val_recall: 0.8333 - val_pr_auc: 0.0524 - val_roc_auc: 0.7229\n",
      "Epoch 462/600\n",
      "31/31 [==============================] - 0s 8ms/step - loss: 542.9041 - tp: 28.0000 - fp: 943.0000 - tn: 984.0000 - fn: 29.0000 - accuracy: 0.5101 - precision: 0.0288 - recall: 0.4912 - pr_auc: 0.0289 - roc_auc: 0.5012 - val_loss: 33.5166 - val_tp: 11.0000 - val_fp: 169.0000 - val_tn: 267.0000 - val_fn: 1.0000 - val_accuracy: 0.6205 - val_precision: 0.0611 - val_recall: 0.9167 - val_pr_auc: 0.0555 - val_roc_auc: 0.7511\n",
      "Epoch 463/600\n",
      "31/31 [==============================] - 0s 8ms/step - loss: 512.4393 - tp: 28.0000 - fp: 931.0000 - tn: 996.0000 - fn: 29.0000 - accuracy: 0.5161 - precision: 0.0292 - recall: 0.4912 - pr_auc: 0.0291 - roc_auc: 0.5043 - val_loss: 35.8314 - val_tp: 11.0000 - val_fp: 176.0000 - val_tn: 260.0000 - val_fn: 1.0000 - val_accuracy: 0.6049 - val_precision: 0.0588 - val_recall: 0.9167 - val_pr_auc: 0.0592 - val_roc_auc: 0.7635\n",
      "Epoch 464/600\n",
      "31/31 [==============================] - 0s 8ms/step - loss: 411.8742 - tp: 36.0000 - fp: 876.0000 - tn: 1051.0000 - fn: 21.0000 - accuracy: 0.5479 - precision: 0.0395 - recall: 0.6316 - pr_auc: 0.0370 - roc_auc: 0.5887 - val_loss: 27.7858 - val_tp: 9.0000 - val_fp: 158.0000 - val_tn: 278.0000 - val_fn: 3.0000 - val_accuracy: 0.6406 - val_precision: 0.0539 - val_recall: 0.7500 - val_pr_auc: 0.0534 - val_roc_auc: 0.7265\n",
      "Epoch 465/600\n",
      "31/31 [==============================] - 0s 8ms/step - loss: 440.3729 - tp: 31.0000 - fp: 955.0000 - tn: 972.0000 - fn: 26.0000 - accuracy: 0.5055 - precision: 0.0314 - recall: 0.5439 - pr_auc: 0.0307 - roc_auc: 0.5243 - val_loss: 23.0005 - val_tp: 9.0000 - val_fp: 146.0000 - val_tn: 290.0000 - val_fn: 3.0000 - val_accuracy: 0.6674 - val_precision: 0.0581 - val_recall: 0.7500 - val_pr_auc: 0.0537 - val_roc_auc: 0.7099\n",
      "Epoch 466/600\n",
      "31/31 [==============================] - 0s 8ms/step - loss: 481.3480 - tp: 31.0000 - fp: 931.0000 - tn: 996.0000 - fn: 26.0000 - accuracy: 0.5176 - precision: 0.0322 - recall: 0.5439 - pr_auc: 0.0313 - roc_auc: 0.5307 - val_loss: 21.2350 - val_tp: 8.0000 - val_fp: 142.0000 - val_tn: 294.0000 - val_fn: 4.0000 - val_accuracy: 0.6741 - val_precision: 0.0533 - val_recall: 0.6667 - val_pr_auc: 0.0498 - val_roc_auc: 0.6982\n",
      "Epoch 467/600\n",
      "31/31 [==============================] - 0s 8ms/step - loss: 439.4871 - tp: 32.0000 - fp: 899.0000 - tn: 1028.0000 - fn: 25.0000 - accuracy: 0.5343 - precision: 0.0344 - recall: 0.5614 - pr_auc: 0.0325 - roc_auc: 0.5481 - val_loss: 17.8991 - val_tp: 8.0000 - val_fp: 132.0000 - val_tn: 304.0000 - val_fn: 4.0000 - val_accuracy: 0.6964 - val_precision: 0.0571 - val_recall: 0.6667 - val_pr_auc: 0.0505 - val_roc_auc: 0.6804\n",
      "Epoch 468/600\n",
      "31/31 [==============================] - 0s 9ms/step - loss: 398.9850 - tp: 33.0000 - fp: 899.0000 - tn: 1028.0000 - fn: 24.0000 - accuracy: 0.5348 - precision: 0.0354 - recall: 0.5789 - pr_auc: 0.0338 - roc_auc: 0.5570 - val_loss: 16.3761 - val_tp: 8.0000 - val_fp: 130.0000 - val_tn: 306.0000 - val_fn: 4.0000 - val_accuracy: 0.7009 - val_precision: 0.0580 - val_recall: 0.6667 - val_pr_auc: 0.0522 - val_roc_auc: 0.6873\n",
      "Epoch 469/600\n",
      "31/31 [==============================] - 0s 9ms/step - loss: 519.0443 - tp: 28.0000 - fp: 966.0000 - tn: 961.0000 - fn: 29.0000 - accuracy: 0.4985 - precision: 0.0282 - recall: 0.4912 - pr_auc: 0.0279 - roc_auc: 0.4909 - val_loss: 18.4496 - val_tp: 8.0000 - val_fp: 135.0000 - val_tn: 301.0000 - val_fn: 4.0000 - val_accuracy: 0.6897 - val_precision: 0.0559 - val_recall: 0.6667 - val_pr_auc: 0.0502 - val_roc_auc: 0.6793\n",
      "Epoch 470/600\n",
      "31/31 [==============================] - 0s 8ms/step - loss: 543.6094 - tp: 20.0000 - fp: 938.0000 - tn: 989.0000 - fn: 37.0000 - accuracy: 0.5086 - precision: 0.0209 - recall: 0.3509 - pr_auc: 0.0242 - roc_auc: 0.4364 - val_loss: 27.4781 - val_tp: 9.0000 - val_fp: 155.0000 - val_tn: 281.0000 - val_fn: 3.0000 - val_accuracy: 0.6473 - val_precision: 0.0549 - val_recall: 0.7500 - val_pr_auc: 0.0538 - val_roc_auc: 0.7279\n",
      "Epoch 471/600\n",
      "31/31 [==============================] - 0s 8ms/step - loss: 390.5880 - tp: 30.0000 - fp: 905.0000 - tn: 1022.0000 - fn: 27.0000 - accuracy: 0.5302 - precision: 0.0321 - recall: 0.5263 - pr_auc: 0.0311 - roc_auc: 0.5284 - val_loss: 34.2039 - val_tp: 11.0000 - val_fp: 169.0000 - val_tn: 267.0000 - val_fn: 1.0000 - val_accuracy: 0.6205 - val_precision: 0.0611 - val_recall: 0.9167 - val_pr_auc: 0.0598 - val_roc_auc: 0.7660\n",
      "Epoch 472/600\n",
      "31/31 [==============================] - 0s 8ms/step - loss: 407.6566 - tp: 32.0000 - fp: 935.0000 - tn: 992.0000 - fn: 25.0000 - accuracy: 0.5161 - precision: 0.0331 - recall: 0.5614 - pr_auc: 0.0320 - roc_auc: 0.5387 - val_loss: 29.3713 - val_tp: 10.0000 - val_fp: 159.0000 - val_tn: 277.0000 - val_fn: 2.0000 - val_accuracy: 0.6406 - val_precision: 0.0592 - val_recall: 0.8333 - val_pr_auc: 0.0521 - val_roc_auc: 0.7218\n",
      "Epoch 473/600\n",
      "31/31 [==============================] - 0s 8ms/step - loss: 502.9825 - tp: 26.0000 - fp: 927.0000 - tn: 1000.0000 - fn: 31.0000 - accuracy: 0.5171 - precision: 0.0273 - recall: 0.4561 - pr_auc: 0.0280 - roc_auc: 0.4917 - val_loss: 36.5190 - val_tp: 11.0000 - val_fp: 176.0000 - val_tn: 260.0000 - val_fn: 1.0000 - val_accuracy: 0.6049 - val_precision: 0.0588 - val_recall: 0.9167 - val_pr_auc: 0.0592 - val_roc_auc: 0.7635\n",
      "Epoch 474/600\n",
      "31/31 [==============================] - 0s 8ms/step - loss: 463.8286 - tp: 36.0000 - fp: 951.0000 - tn: 976.0000 - fn: 21.0000 - accuracy: 0.5101 - precision: 0.0365 - recall: 0.6316 - pr_auc: 0.0348 - roc_auc: 0.5690 - val_loss: 24.9302 - val_tp: 9.0000 - val_fp: 146.0000 - val_tn: 290.0000 - val_fn: 3.0000 - val_accuracy: 0.6674 - val_precision: 0.0581 - val_recall: 0.7500 - val_pr_auc: 0.0527 - val_roc_auc: 0.7056\n"
     ]
    },
    {
     "name": "stdout",
     "output_type": "stream",
     "text": [
      "Epoch 475/600\n",
      "31/31 [==============================] - 0s 8ms/step - loss: 478.2115 - tp: 26.0000 - fp: 977.0000 - tn: 950.0000 - fn: 31.0000 - accuracy: 0.4919 - precision: 0.0259 - recall: 0.4561 - pr_auc: 0.0269 - roc_auc: 0.4741 - val_loss: 29.4709 - val_tp: 10.0000 - val_fp: 159.0000 - val_tn: 277.0000 - val_fn: 2.0000 - val_accuracy: 0.6406 - val_precision: 0.0592 - val_recall: 0.8333 - val_pr_auc: 0.0521 - val_roc_auc: 0.7218\n",
      "Epoch 476/600\n",
      "31/31 [==============================] - 0s 8ms/step - loss: 430.6683 - tp: 28.0000 - fp: 979.0000 - tn: 948.0000 - fn: 29.0000 - accuracy: 0.4919 - precision: 0.0278 - recall: 0.4912 - pr_auc: 0.0281 - roc_auc: 0.4918 - val_loss: 27.9790 - val_tp: 9.0000 - val_fp: 157.0000 - val_tn: 279.0000 - val_fn: 3.0000 - val_accuracy: 0.6429 - val_precision: 0.0542 - val_recall: 0.7500 - val_pr_auc: 0.0535 - val_roc_auc: 0.7267\n",
      "Epoch 477/600\n",
      "31/31 [==============================] - 0s 8ms/step - loss: 428.6566 - tp: 29.0000 - fp: 916.0000 - tn: 1011.0000 - fn: 28.0000 - accuracy: 0.5242 - precision: 0.0307 - recall: 0.5088 - pr_auc: 0.0302 - roc_auc: 0.5167 - val_loss: 25.7011 - val_tp: 9.0000 - val_fp: 149.0000 - val_tn: 287.0000 - val_fn: 3.0000 - val_accuracy: 0.6607 - val_precision: 0.0570 - val_recall: 0.7500 - val_pr_auc: 0.0526 - val_roc_auc: 0.7053\n",
      "Epoch 478/600\n",
      "31/31 [==============================] - 0s 8ms/step - loss: 510.8604 - tp: 29.0000 - fp: 937.0000 - tn: 990.0000 - fn: 28.0000 - accuracy: 0.5136 - precision: 0.0300 - recall: 0.5088 - pr_auc: 0.0297 - roc_auc: 0.5117 - val_loss: 29.9998 - val_tp: 10.0000 - val_fp: 161.0000 - val_tn: 275.0000 - val_fn: 2.0000 - val_accuracy: 0.6362 - val_precision: 0.0585 - val_recall: 0.8333 - val_pr_auc: 0.0514 - val_roc_auc: 0.7188\n",
      "Epoch 479/600\n",
      "31/31 [==============================] - 0s 8ms/step - loss: 472.3676 - tp: 23.0000 - fp: 912.0000 - tn: 1015.0000 - fn: 34.0000 - accuracy: 0.5232 - precision: 0.0246 - recall: 0.4035 - pr_auc: 0.0262 - roc_auc: 0.4650 - val_loss: 39.7722 - val_tp: 11.0000 - val_fp: 183.0000 - val_tn: 253.0000 - val_fn: 1.0000 - val_accuracy: 0.5893 - val_precision: 0.0567 - val_recall: 0.9167 - val_pr_auc: 0.0562 - val_roc_auc: 0.7522\n",
      "Epoch 480/600\n",
      "31/31 [==============================] - 0s 8ms/step - loss: 499.6026 - tp: 25.0000 - fp: 967.0000 - tn: 960.0000 - fn: 32.0000 - accuracy: 0.4965 - precision: 0.0252 - recall: 0.4386 - pr_auc: 0.0266 - roc_auc: 0.4721 - val_loss: 49.7591 - val_tp: 12.0000 - val_fp: 209.0000 - val_tn: 227.0000 - val_fn: 0.0000e+00 - val_accuracy: 0.5335 - val_precision: 0.0543 - val_recall: 1.0000 - val_pr_auc: 0.0558 - val_roc_auc: 0.7672\n",
      "Epoch 481/600\n",
      "31/31 [==============================] - 0s 9ms/step - loss: 383.8069 - tp: 34.0000 - fp: 961.0000 - tn: 966.0000 - fn: 23.0000 - accuracy: 0.5040 - precision: 0.0342 - recall: 0.5965 - pr_auc: 0.0329 - roc_auc: 0.5492 - val_loss: 45.8437 - val_tp: 11.0000 - val_fp: 202.0000 - val_tn: 234.0000 - val_fn: 1.0000 - val_accuracy: 0.5469 - val_precision: 0.0516 - val_recall: 0.9167 - val_pr_auc: 0.0539 - val_roc_auc: 0.7585\n",
      "Epoch 482/600\n",
      "31/31 [==============================] - 0s 8ms/step - loss: 464.6279 - tp: 32.0000 - fp: 920.0000 - tn: 1007.0000 - fn: 25.0000 - accuracy: 0.5237 - precision: 0.0336 - recall: 0.5614 - pr_auc: 0.0323 - roc_auc: 0.5415 - val_loss: 36.4986 - val_tp: 11.0000 - val_fp: 176.0000 - val_tn: 260.0000 - val_fn: 1.0000 - val_accuracy: 0.6049 - val_precision: 0.0588 - val_recall: 0.9167 - val_pr_auc: 0.0592 - val_roc_auc: 0.7635\n",
      "Epoch 483/600\n",
      "31/31 [==============================] - 0s 8ms/step - loss: 334.5703 - tp: 40.0000 - fp: 974.0000 - tn: 953.0000 - fn: 17.0000 - accuracy: 0.5005 - precision: 0.0394 - recall: 0.7018 - pr_auc: 0.0376 - roc_auc: 0.5985 - val_loss: 26.2802 - val_tp: 9.0000 - val_fp: 150.0000 - val_tn: 286.0000 - val_fn: 3.0000 - val_accuracy: 0.6585 - val_precision: 0.0566 - val_recall: 0.7500 - val_pr_auc: 0.0526 - val_roc_auc: 0.7050\n",
      "Epoch 484/600\n",
      "31/31 [==============================] - 0s 8ms/step - loss: 336.6453 - tp: 38.0000 - fp: 923.0000 - tn: 1004.0000 - fn: 19.0000 - accuracy: 0.5252 - precision: 0.0395 - recall: 0.6667 - pr_auc: 0.0375 - roc_auc: 0.5948 - val_loss: 8.9087 - val_tp: 7.0000 - val_fp: 88.0000 - val_tn: 348.0000 - val_fn: 5.0000 - val_accuracy: 0.7924 - val_precision: 0.0737 - val_recall: 0.5833 - val_pr_auc: 0.0611 - val_roc_auc: 0.6898\n",
      "Epoch 485/600\n",
      "31/31 [==============================] - 0s 8ms/step - loss: 437.0349 - tp: 28.0000 - fp: 864.0000 - tn: 1063.0000 - fn: 29.0000 - accuracy: 0.5499 - precision: 0.0314 - recall: 0.4912 - pr_auc: 0.0305 - roc_auc: 0.5209 - val_loss: 8.5893 - val_tp: 7.0000 - val_fp: 85.0000 - val_tn: 351.0000 - val_fn: 5.0000 - val_accuracy: 0.7991 - val_precision: 0.0761 - val_recall: 0.5833 - val_pr_auc: 0.0619 - val_roc_auc: 0.6929\n",
      "Epoch 486/600\n",
      "31/31 [==============================] - 0s 8ms/step - loss: 506.0322 - tp: 24.0000 - fp: 884.0000 - tn: 1043.0000 - fn: 33.0000 - accuracy: 0.5378 - precision: 0.0264 - recall: 0.4211 - pr_auc: 0.0273 - roc_auc: 0.4813 - val_loss: 15.2524 - val_tp: 8.0000 - val_fp: 126.0000 - val_tn: 310.0000 - val_fn: 4.0000 - val_accuracy: 0.7098 - val_precision: 0.0597 - val_recall: 0.6667 - val_pr_auc: 0.0502 - val_roc_auc: 0.6827\n",
      "Epoch 487/600\n",
      "31/31 [==============================] - 0s 8ms/step - loss: 497.1993 - tp: 29.0000 - fp: 919.0000 - tn: 1008.0000 - fn: 28.0000 - accuracy: 0.5227 - precision: 0.0306 - recall: 0.5088 - pr_auc: 0.0301 - roc_auc: 0.5166 - val_loss: 26.3015 - val_tp: 9.0000 - val_fp: 150.0000 - val_tn: 286.0000 - val_fn: 3.0000 - val_accuracy: 0.6585 - val_precision: 0.0566 - val_recall: 0.7500 - val_pr_auc: 0.0526 - val_roc_auc: 0.7053\n",
      "Epoch 488/600\n",
      "31/31 [==============================] - 0s 8ms/step - loss: 494.1155 - tp: 31.0000 - fp: 926.0000 - tn: 1001.0000 - fn: 26.0000 - accuracy: 0.5202 - precision: 0.0324 - recall: 0.5439 - pr_auc: 0.0314 - roc_auc: 0.5314 - val_loss: 21.5560 - val_tp: 8.0000 - val_fp: 142.0000 - val_tn: 294.0000 - val_fn: 4.0000 - val_accuracy: 0.6741 - val_precision: 0.0533 - val_recall: 0.6667 - val_pr_auc: 0.0498 - val_roc_auc: 0.6982\n",
      "Epoch 489/600\n",
      "31/31 [==============================] - 0s 8ms/step - loss: 458.2205 - tp: 28.0000 - fp: 950.0000 - tn: 977.0000 - fn: 29.0000 - accuracy: 0.5066 - precision: 0.0286 - recall: 0.4912 - pr_auc: 0.0287 - roc_auc: 0.4991 - val_loss: 26.2315 - val_tp: 9.0000 - val_fp: 150.0000 - val_tn: 286.0000 - val_fn: 3.0000 - val_accuracy: 0.6585 - val_precision: 0.0566 - val_recall: 0.7500 - val_pr_auc: 0.0526 - val_roc_auc: 0.7053\n",
      "Epoch 490/600\n",
      "31/31 [==============================] - 0s 8ms/step - loss: 443.0361 - tp: 22.0000 - fp: 919.0000 - tn: 1008.0000 - fn: 35.0000 - accuracy: 0.5192 - precision: 0.0234 - recall: 0.3860 - pr_auc: 0.0254 - roc_auc: 0.4539 - val_loss: 27.7864 - val_tp: 9.0000 - val_fp: 154.0000 - val_tn: 282.0000 - val_fn: 3.0000 - val_accuracy: 0.6496 - val_precision: 0.0552 - val_recall: 0.7500 - val_pr_auc: 0.0538 - val_roc_auc: 0.7279\n",
      "Epoch 491/600\n",
      "31/31 [==============================] - 0s 8ms/step - loss: 503.6109 - tp: 28.0000 - fp: 964.0000 - tn: 963.0000 - fn: 29.0000 - accuracy: 0.4995 - precision: 0.0282 - recall: 0.4912 - pr_auc: 0.0284 - roc_auc: 0.4953 - val_loss: 37.3579 - val_tp: 11.0000 - val_fp: 176.0000 - val_tn: 260.0000 - val_fn: 1.0000 - val_accuracy: 0.6049 - val_precision: 0.0588 - val_recall: 0.9167 - val_pr_auc: 0.0589 - val_roc_auc: 0.7624\n",
      "Epoch 492/600\n",
      "31/31 [==============================] - 0s 8ms/step - loss: 443.1944 - tp: 29.0000 - fp: 943.0000 - tn: 984.0000 - fn: 28.0000 - accuracy: 0.5106 - precision: 0.0298 - recall: 0.5088 - pr_auc: 0.0295 - roc_auc: 0.5097 - val_loss: 39.7637 - val_tp: 11.0000 - val_fp: 181.0000 - val_tn: 255.0000 - val_fn: 1.0000 - val_accuracy: 0.5938 - val_precision: 0.0573 - val_recall: 0.9167 - val_pr_auc: 0.0567 - val_roc_auc: 0.7543\n",
      "Epoch 493/600\n",
      "31/31 [==============================] - 0s 8ms/step - loss: 441.2481 - tp: 33.0000 - fp: 928.0000 - tn: 999.0000 - fn: 24.0000 - accuracy: 0.5202 - precision: 0.0343 - recall: 0.5789 - pr_auc: 0.0325 - roc_auc: 0.5457 - val_loss: 28.6149 - val_tp: 9.0000 - val_fp: 158.0000 - val_tn: 278.0000 - val_fn: 3.0000 - val_accuracy: 0.6406 - val_precision: 0.0539 - val_recall: 0.7500 - val_pr_auc: 0.0535 - val_roc_auc: 0.7267\n"
     ]
    },
    {
     "name": "stdout",
     "output_type": "stream",
     "text": [
      "Epoch 494/600\n",
      "31/31 [==============================] - 0s 8ms/step - loss: 449.8701 - tp: 28.0000 - fp: 929.0000 - tn: 998.0000 - fn: 29.0000 - accuracy: 0.5171 - precision: 0.0293 - recall: 0.4912 - pr_auc: 0.0291 - roc_auc: 0.5042 - val_loss: 35.8143 - val_tp: 11.0000 - val_fp: 172.0000 - val_tn: 264.0000 - val_fn: 1.0000 - val_accuracy: 0.6138 - val_precision: 0.0601 - val_recall: 0.9167 - val_pr_auc: 0.0595 - val_roc_auc: 0.7648\n",
      "Epoch 495/600\n",
      "31/31 [==============================] - 0s 8ms/step - loss: 594.2391 - tp: 25.0000 - fp: 937.0000 - tn: 990.0000 - fn: 32.0000 - accuracy: 0.5116 - precision: 0.0260 - recall: 0.4386 - pr_auc: 0.0270 - roc_auc: 0.4762 - val_loss: 40.1870 - val_tp: 11.0000 - val_fp: 182.0000 - val_tn: 254.0000 - val_fn: 1.0000 - val_accuracy: 0.5915 - val_precision: 0.0570 - val_recall: 0.9167 - val_pr_auc: 0.0565 - val_roc_auc: 0.7532\n",
      "Epoch 496/600\n",
      "31/31 [==============================] - 0s 8ms/step - loss: 427.0128 - tp: 33.0000 - fp: 968.0000 - tn: 959.0000 - fn: 24.0000 - accuracy: 0.5000 - precision: 0.0330 - recall: 0.5789 - pr_auc: 0.0319 - roc_auc: 0.5387 - val_loss: 36.3280 - val_tp: 11.0000 - val_fp: 173.0000 - val_tn: 263.0000 - val_fn: 1.0000 - val_accuracy: 0.6116 - val_precision: 0.0598 - val_recall: 0.9167 - val_pr_auc: 0.0592 - val_roc_auc: 0.7636\n",
      "Epoch 497/600\n",
      "31/31 [==============================] - 0s 8ms/step - loss: 439.7115 - tp: 31.0000 - fp: 939.0000 - tn: 988.0000 - fn: 26.0000 - accuracy: 0.5136 - precision: 0.0320 - recall: 0.5439 - pr_auc: 0.0312 - roc_auc: 0.5291 - val_loss: 33.5740 - val_tp: 11.0000 - val_fp: 167.0000 - val_tn: 269.0000 - val_fn: 1.0000 - val_accuracy: 0.6250 - val_precision: 0.0618 - val_recall: 0.9167 - val_pr_auc: 0.0566 - val_roc_auc: 0.7554\n",
      "Epoch 498/600\n",
      "31/31 [==============================] - 0s 8ms/step - loss: 422.8519 - tp: 30.0000 - fp: 963.0000 - tn: 964.0000 - fn: 27.0000 - accuracy: 0.5010 - precision: 0.0302 - recall: 0.5263 - pr_auc: 0.0299 - roc_auc: 0.5137 - val_loss: 35.9011 - val_tp: 11.0000 - val_fp: 172.0000 - val_tn: 264.0000 - val_fn: 1.0000 - val_accuracy: 0.6138 - val_precision: 0.0601 - val_recall: 0.9167 - val_pr_auc: 0.0598 - val_roc_auc: 0.7659\n",
      "Epoch 499/600\n",
      "31/31 [==============================] - 0s 8ms/step - loss: 392.8997 - tp: 35.0000 - fp: 934.0000 - tn: 993.0000 - fn: 22.0000 - accuracy: 0.5181 - precision: 0.0361 - recall: 0.6140 - pr_auc: 0.0344 - roc_auc: 0.5648 - val_loss: 25.3929 - val_tp: 9.0000 - val_fp: 146.0000 - val_tn: 290.0000 - val_fn: 3.0000 - val_accuracy: 0.6674 - val_precision: 0.0581 - val_recall: 0.7500 - val_pr_auc: 0.0527 - val_roc_auc: 0.7064\n",
      "Epoch 500/600\n",
      "31/31 [==============================] - 0s 8ms/step - loss: 412.8419 - tp: 32.0000 - fp: 877.0000 - tn: 1050.0000 - fn: 25.0000 - accuracy: 0.5454 - precision: 0.0352 - recall: 0.5614 - pr_auc: 0.0331 - roc_auc: 0.5540 - val_loss: 23.0273 - val_tp: 9.0000 - val_fp: 146.0000 - val_tn: 290.0000 - val_fn: 3.0000 - val_accuracy: 0.6674 - val_precision: 0.0581 - val_recall: 0.7500 - val_pr_auc: 0.0495 - val_roc_auc: 0.6974\n",
      "Epoch 501/600\n",
      "31/31 [==============================] - 0s 8ms/step - loss: 462.4650 - tp: 27.0000 - fp: 914.0000 - tn: 1013.0000 - fn: 30.0000 - accuracy: 0.5242 - precision: 0.0287 - recall: 0.4737 - pr_auc: 0.0288 - roc_auc: 0.5000 - val_loss: 26.1163 - val_tp: 9.0000 - val_fp: 148.0000 - val_tn: 288.0000 - val_fn: 3.0000 - val_accuracy: 0.6629 - val_precision: 0.0573 - val_recall: 0.7500 - val_pr_auc: 0.0526 - val_roc_auc: 0.7053\n",
      "Epoch 502/600\n",
      "31/31 [==============================] - 0s 8ms/step - loss: 419.3714 - tp: 34.0000 - fp: 897.0000 - tn: 1030.0000 - fn: 23.0000 - accuracy: 0.5363 - precision: 0.0365 - recall: 0.5965 - pr_auc: 0.0346 - roc_auc: 0.5657 - val_loss: 21.7994 - val_tp: 8.0000 - val_fp: 142.0000 - val_tn: 294.0000 - val_fn: 4.0000 - val_accuracy: 0.6741 - val_precision: 0.0533 - val_recall: 0.6667 - val_pr_auc: 0.0498 - val_roc_auc: 0.6982\n",
      "Epoch 503/600\n",
      "31/31 [==============================] - 0s 8ms/step - loss: 378.9062 - tp: 34.0000 - fp: 896.0000 - tn: 1031.0000 - fn: 23.0000 - accuracy: 0.5368 - precision: 0.0366 - recall: 0.5965 - pr_auc: 0.0346 - roc_auc: 0.5659 - val_loss: 15.0522 - val_tp: 8.0000 - val_fp: 124.0000 - val_tn: 312.0000 - val_fn: 4.0000 - val_accuracy: 0.7143 - val_precision: 0.0606 - val_recall: 0.6667 - val_pr_auc: 0.0510 - val_roc_auc: 0.6851\n",
      "Epoch 504/600\n",
      "31/31 [==============================] - 0s 8ms/step - loss: 483.6488 - tp: 26.0000 - fp: 937.0000 - tn: 990.0000 - fn: 31.0000 - accuracy: 0.5121 - precision: 0.0270 - recall: 0.4561 - pr_auc: 0.0276 - roc_auc: 0.4851 - val_loss: 22.8711 - val_tp: 9.0000 - val_fp: 145.0000 - val_tn: 291.0000 - val_fn: 3.0000 - val_accuracy: 0.6696 - val_precision: 0.0584 - val_recall: 0.7500 - val_pr_auc: 0.0498 - val_roc_auc: 0.6982\n",
      "Epoch 505/600\n",
      "31/31 [==============================] - 0s 8ms/step - loss: 447.9964 - tp: 27.0000 - fp: 894.0000 - tn: 1033.0000 - fn: 30.0000 - accuracy: 0.5343 - precision: 0.0293 - recall: 0.4737 - pr_auc: 0.0286 - roc_auc: 0.5009 - val_loss: 31.0589 - val_tp: 10.0000 - val_fp: 162.0000 - val_tn: 274.0000 - val_fn: 2.0000 - val_accuracy: 0.6339 - val_precision: 0.0581 - val_recall: 0.8333 - val_pr_auc: 0.0513 - val_roc_auc: 0.7186\n",
      "Epoch 506/600\n",
      "31/31 [==============================] - 0s 8ms/step - loss: 433.5671 - tp: 31.0000 - fp: 963.0000 - tn: 964.0000 - fn: 26.0000 - accuracy: 0.5015 - precision: 0.0312 - recall: 0.5439 - pr_auc: 0.0308 - roc_auc: 0.5269 - val_loss: 27.8875 - val_tp: 9.0000 - val_fp: 153.0000 - val_tn: 283.0000 - val_fn: 3.0000 - val_accuracy: 0.6518 - val_precision: 0.0556 - val_recall: 0.7500 - val_pr_auc: 0.0543 - val_roc_auc: 0.7295\n",
      "Epoch 507/600\n",
      "31/31 [==============================] - 0s 8ms/step - loss: 402.7269 - tp: 32.0000 - fp: 919.0000 - tn: 1008.0000 - fn: 25.0000 - accuracy: 0.5242 - precision: 0.0336 - recall: 0.5614 - pr_auc: 0.0323 - roc_auc: 0.5420 - val_loss: 22.5067 - val_tp: 9.0000 - val_fp: 144.0000 - val_tn: 292.0000 - val_fn: 3.0000 - val_accuracy: 0.6719 - val_precision: 0.0588 - val_recall: 0.7500 - val_pr_auc: 0.0498 - val_roc_auc: 0.6982\n",
      "Epoch 508/600\n",
      "31/31 [==============================] - 0s 9ms/step - loss: 472.8463 - tp: 24.0000 - fp: 889.0000 - tn: 1038.0000 - fn: 33.0000 - accuracy: 0.5353 - precision: 0.0263 - recall: 0.4211 - pr_auc: 0.0274 - roc_auc: 0.4843 - val_loss: 29.7651 - val_tp: 10.0000 - val_fp: 159.0000 - val_tn: 277.0000 - val_fn: 2.0000 - val_accuracy: 0.6406 - val_precision: 0.0592 - val_recall: 0.8333 - val_pr_auc: 0.0527 - val_roc_auc: 0.7239\n",
      "Epoch 509/600\n",
      "31/31 [==============================] - 0s 8ms/step - loss: 453.6025 - tp: 27.0000 - fp: 946.0000 - tn: 981.0000 - fn: 30.0000 - accuracy: 0.5081 - precision: 0.0277 - recall: 0.4737 - pr_auc: 0.0281 - roc_auc: 0.4912 - val_loss: 38.4911 - val_tp: 11.0000 - val_fp: 177.0000 - val_tn: 259.0000 - val_fn: 1.0000 - val_accuracy: 0.6027 - val_precision: 0.0585 - val_recall: 0.9167 - val_pr_auc: 0.0582 - val_roc_auc: 0.7601\n",
      "Epoch 510/600\n",
      "31/31 [==============================] - 0s 8ms/step - loss: 398.5076 - tp: 30.0000 - fp: 920.0000 - tn: 1007.0000 - fn: 27.0000 - accuracy: 0.5227 - precision: 0.0316 - recall: 0.5263 - pr_auc: 0.0308 - roc_auc: 0.5247 - val_loss: 39.6244 - val_tp: 11.0000 - val_fp: 179.0000 - val_tn: 257.0000 - val_fn: 1.0000 - val_accuracy: 0.5982 - val_precision: 0.0579 - val_recall: 0.9167 - val_pr_auc: 0.0573 - val_roc_auc: 0.7566\n",
      "Epoch 511/600\n",
      "31/31 [==============================] - 0s 8ms/step - loss: 482.0980 - tp: 25.0000 - fp: 974.0000 - tn: 953.0000 - fn: 32.0000 - accuracy: 0.4929 - precision: 0.0250 - recall: 0.4386 - pr_auc: 0.0263 - roc_auc: 0.4667 - val_loss: 41.6603 - val_tp: 11.0000 - val_fp: 184.0000 - val_tn: 252.0000 - val_fn: 1.0000 - val_accuracy: 0.5871 - val_precision: 0.0564 - val_recall: 0.9167 - val_pr_auc: 0.0562 - val_roc_auc: 0.7522\n",
      "Epoch 512/600\n",
      "31/31 [==============================] - 0s 8ms/step - loss: 438.0310 - tp: 31.0000 - fp: 969.0000 - tn: 958.0000 - fn: 26.0000 - accuracy: 0.4985 - precision: 0.0310 - recall: 0.5439 - pr_auc: 0.0303 - roc_auc: 0.5201 - val_loss: 42.3115 - val_tp: 11.0000 - val_fp: 188.0000 - val_tn: 248.0000 - val_fn: 1.0000 - val_accuracy: 0.5781 - val_precision: 0.0553 - val_recall: 0.9167 - val_pr_auc: 0.0559 - val_roc_auc: 0.7509\n"
     ]
    },
    {
     "name": "stdout",
     "output_type": "stream",
     "text": [
      "Epoch 513/600\n",
      "31/31 [==============================] - 0s 8ms/step - loss: 376.3639 - tp: 28.0000 - fp: 927.0000 - tn: 1000.0000 - fn: 29.0000 - accuracy: 0.5181 - precision: 0.0293 - recall: 0.4912 - pr_auc: 0.0292 - roc_auc: 0.5055 - val_loss: 43.1418 - val_tp: 11.0000 - val_fp: 188.0000 - val_tn: 248.0000 - val_fn: 1.0000 - val_accuracy: 0.5781 - val_precision: 0.0553 - val_recall: 0.9167 - val_pr_auc: 0.0553 - val_roc_auc: 0.7484\n",
      "Epoch 514/600\n",
      "31/31 [==============================] - 0s 8ms/step - loss: 426.3627 - tp: 28.0000 - fp: 945.0000 - tn: 982.0000 - fn: 29.0000 - accuracy: 0.5091 - precision: 0.0288 - recall: 0.4912 - pr_auc: 0.0288 - roc_auc: 0.5005 - val_loss: 46.4249 - val_tp: 11.0000 - val_fp: 199.0000 - val_tn: 237.0000 - val_fn: 1.0000 - val_accuracy: 0.5536 - val_precision: 0.0524 - val_recall: 0.9167 - val_pr_auc: 0.0549 - val_roc_auc: 0.7630\n",
      "Epoch 515/600\n",
      "31/31 [==============================] - 0s 8ms/step - loss: 436.6399 - tp: 32.0000 - fp: 1000.0000 - tn: 927.0000 - fn: 25.0000 - accuracy: 0.4834 - precision: 0.0310 - recall: 0.5614 - pr_auc: 0.0306 - roc_auc: 0.5255 - val_loss: 45.6901 - val_tp: 11.0000 - val_fp: 195.0000 - val_tn: 241.0000 - val_fn: 1.0000 - val_accuracy: 0.5625 - val_precision: 0.0534 - val_recall: 0.9167 - val_pr_auc: 0.0552 - val_roc_auc: 0.7641\n",
      "Epoch 516/600\n",
      "31/31 [==============================] - 0s 8ms/step - loss: 449.5861 - tp: 32.0000 - fp: 945.0000 - tn: 982.0000 - fn: 25.0000 - accuracy: 0.5111 - precision: 0.0328 - recall: 0.5614 - pr_auc: 0.0318 - roc_auc: 0.5361 - val_loss: 39.1475 - val_tp: 11.0000 - val_fp: 178.0000 - val_tn: 258.0000 - val_fn: 1.0000 - val_accuracy: 0.6004 - val_precision: 0.0582 - val_recall: 0.9167 - val_pr_auc: 0.0579 - val_roc_auc: 0.7591\n",
      "Epoch 517/600\n",
      "31/31 [==============================] - 0s 8ms/step - loss: 435.2120 - tp: 32.0000 - fp: 928.0000 - tn: 999.0000 - fn: 25.0000 - accuracy: 0.5197 - precision: 0.0333 - recall: 0.5614 - pr_auc: 0.0322 - roc_auc: 0.5404 - val_loss: 31.4123 - val_tp: 10.0000 - val_fp: 161.0000 - val_tn: 275.0000 - val_fn: 2.0000 - val_accuracy: 0.6362 - val_precision: 0.0585 - val_recall: 0.8333 - val_pr_auc: 0.0513 - val_roc_auc: 0.7185\n",
      "Epoch 518/600\n",
      "31/31 [==============================] - 0s 8ms/step - loss: 474.1574 - tp: 28.0000 - fp: 919.0000 - tn: 1008.0000 - fn: 29.0000 - accuracy: 0.5222 - precision: 0.0296 - recall: 0.4912 - pr_auc: 0.0293 - roc_auc: 0.5069 - val_loss: 33.4348 - val_tp: 10.0000 - val_fp: 167.0000 - val_tn: 269.0000 - val_fn: 2.0000 - val_accuracy: 0.6228 - val_precision: 0.0565 - val_recall: 0.8333 - val_pr_auc: 0.0569 - val_roc_auc: 0.7564\n",
      "Epoch 519/600\n",
      "31/31 [==============================] - 0s 8ms/step - loss: 437.3463 - tp: 26.0000 - fp: 918.0000 - tn: 1009.0000 - fn: 31.0000 - accuracy: 0.5217 - precision: 0.0275 - recall: 0.4561 - pr_auc: 0.0279 - roc_auc: 0.4894 - val_loss: 39.0642 - val_tp: 11.0000 - val_fp: 177.0000 - val_tn: 259.0000 - val_fn: 1.0000 - val_accuracy: 0.6027 - val_precision: 0.0585 - val_recall: 0.9167 - val_pr_auc: 0.0582 - val_roc_auc: 0.7601\n",
      "Epoch 520/600\n",
      "31/31 [==============================] - 0s 8ms/step - loss: 461.9339 - tp: 27.0000 - fp: 966.0000 - tn: 961.0000 - fn: 30.0000 - accuracy: 0.4980 - precision: 0.0272 - recall: 0.4737 - pr_auc: 0.0272 - roc_auc: 0.4812 - val_loss: 50.3313 - val_tp: 12.0000 - val_fp: 204.0000 - val_tn: 232.0000 - val_fn: 0.0000e+00 - val_accuracy: 0.5446 - val_precision: 0.0556 - val_recall: 1.0000 - val_pr_auc: 0.0558 - val_roc_auc: 0.7672\n",
      "Epoch 521/600\n",
      "31/31 [==============================] - 0s 8ms/step - loss: 388.9837 - tp: 29.0000 - fp: 920.0000 - tn: 1007.0000 - fn: 28.0000 - accuracy: 0.5222 - precision: 0.0306 - recall: 0.5088 - pr_auc: 0.0298 - roc_auc: 0.5166 - val_loss: 51.8499 - val_tp: 12.0000 - val_fp: 209.0000 - val_tn: 227.0000 - val_fn: 0.0000e+00 - val_accuracy: 0.5335 - val_precision: 0.0543 - val_recall: 1.0000 - val_pr_auc: 0.0558 - val_roc_auc: 0.7672\n",
      "Epoch 522/600\n",
      "31/31 [==============================] - 0s 8ms/step - loss: 464.9032 - tp: 33.0000 - fp: 977.0000 - tn: 950.0000 - fn: 24.0000 - accuracy: 0.4955 - precision: 0.0327 - recall: 0.5789 - pr_auc: 0.0317 - roc_auc: 0.5364 - val_loss: 47.6064 - val_tp: 12.0000 - val_fp: 202.0000 - val_tn: 234.0000 - val_fn: 0.0000e+00 - val_accuracy: 0.5491 - val_precision: 0.0561 - val_recall: 1.0000 - val_pr_auc: 0.0540 - val_roc_auc: 0.7593\n",
      "Epoch 523/600\n",
      "31/31 [==============================] - 0s 8ms/step - loss: 373.4554 - tp: 32.0000 - fp: 922.0000 - tn: 1005.0000 - fn: 25.0000 - accuracy: 0.5227 - precision: 0.0335 - recall: 0.5614 - pr_auc: 0.0323 - roc_auc: 0.5416 - val_loss: 38.0822 - val_tp: 11.0000 - val_fp: 175.0000 - val_tn: 261.0000 - val_fn: 1.0000 - val_accuracy: 0.6071 - val_precision: 0.0591 - val_recall: 0.9167 - val_pr_auc: 0.0592 - val_roc_auc: 0.7635\n",
      "Epoch 524/600\n",
      "31/31 [==============================] - 0s 8ms/step - loss: 443.4449 - tp: 30.0000 - fp: 937.0000 - tn: 990.0000 - fn: 27.0000 - accuracy: 0.5141 - precision: 0.0310 - recall: 0.5263 - pr_auc: 0.0306 - roc_auc: 0.5242 - val_loss: 39.1791 - val_tp: 11.0000 - val_fp: 177.0000 - val_tn: 259.0000 - val_fn: 1.0000 - val_accuracy: 0.6027 - val_precision: 0.0585 - val_recall: 0.9167 - val_pr_auc: 0.0583 - val_roc_auc: 0.7602\n",
      "Epoch 525/600\n",
      "31/31 [==============================] - 0s 8ms/step - loss: 442.1868 - tp: 32.0000 - fp: 921.0000 - tn: 1006.0000 - fn: 25.0000 - accuracy: 0.5232 - precision: 0.0336 - recall: 0.5614 - pr_auc: 0.0323 - roc_auc: 0.5421 - val_loss: 36.5449 - val_tp: 11.0000 - val_fp: 169.0000 - val_tn: 267.0000 - val_fn: 1.0000 - val_accuracy: 0.6205 - val_precision: 0.0611 - val_recall: 0.9167 - val_pr_auc: 0.0598 - val_roc_auc: 0.7660\n",
      "Epoch 526/600\n",
      "31/31 [==============================] - 0s 9ms/step - loss: 488.8285 - tp: 29.0000 - fp: 927.0000 - tn: 1000.0000 - fn: 28.0000 - accuracy: 0.5186 - precision: 0.0303 - recall: 0.5088 - pr_auc: 0.0299 - roc_auc: 0.5141 - val_loss: 35.1168 - val_tp: 11.0000 - val_fp: 167.0000 - val_tn: 269.0000 - val_fn: 1.0000 - val_accuracy: 0.6250 - val_precision: 0.0618 - val_recall: 0.9167 - val_pr_auc: 0.0558 - val_roc_auc: 0.7523\n",
      "Epoch 527/600\n",
      "31/31 [==============================] - 0s 8ms/step - loss: 495.0717 - tp: 26.0000 - fp: 942.0000 - tn: 985.0000 - fn: 31.0000 - accuracy: 0.5096 - precision: 0.0269 - recall: 0.4561 - pr_auc: 0.0275 - roc_auc: 0.4833 - val_loss: 40.6274 - val_tp: 11.0000 - val_fp: 180.0000 - val_tn: 256.0000 - val_fn: 1.0000 - val_accuracy: 0.5960 - val_precision: 0.0576 - val_recall: 0.9167 - val_pr_auc: 0.0570 - val_roc_auc: 0.7555\n",
      "Epoch 528/600\n",
      "31/31 [==============================] - 0s 8ms/step - loss: 426.2001 - tp: 32.0000 - fp: 928.0000 - tn: 999.0000 - fn: 25.0000 - accuracy: 0.5197 - precision: 0.0333 - recall: 0.5614 - pr_auc: 0.0322 - roc_auc: 0.5403 - val_loss: 36.3313 - val_tp: 11.0000 - val_fp: 169.0000 - val_tn: 267.0000 - val_fn: 1.0000 - val_accuracy: 0.6205 - val_precision: 0.0611 - val_recall: 0.9167 - val_pr_auc: 0.0598 - val_roc_auc: 0.7661\n",
      "Epoch 529/600\n",
      "31/31 [==============================] - 0s 8ms/step - loss: 418.0617 - tp: 31.0000 - fp: 942.0000 - tn: 985.0000 - fn: 26.0000 - accuracy: 0.5121 - precision: 0.0319 - recall: 0.5439 - pr_auc: 0.0310 - roc_auc: 0.5272 - val_loss: 34.1685 - val_tp: 11.0000 - val_fp: 167.0000 - val_tn: 269.0000 - val_fn: 1.0000 - val_accuracy: 0.6250 - val_precision: 0.0618 - val_recall: 0.9167 - val_pr_auc: 0.0566 - val_roc_auc: 0.7554\n",
      "Epoch 530/600\n",
      "31/31 [==============================] - 0s 8ms/step - loss: 372.1217 - tp: 37.0000 - fp: 927.0000 - tn: 1000.0000 - fn: 20.0000 - accuracy: 0.5227 - precision: 0.0384 - recall: 0.6491 - pr_auc: 0.0366 - roc_auc: 0.5888 - val_loss: 25.4442 - val_tp: 9.0000 - val_fp: 146.0000 - val_tn: 290.0000 - val_fn: 3.0000 - val_accuracy: 0.6674 - val_precision: 0.0581 - val_recall: 0.7500 - val_pr_auc: 0.0531 - val_roc_auc: 0.7081\n",
      "Epoch 531/600\n",
      "31/31 [==============================] - 0s 8ms/step - loss: 433.0868 - tp: 30.0000 - fp: 918.0000 - tn: 1009.0000 - fn: 27.0000 - accuracy: 0.5237 - precision: 0.0316 - recall: 0.5263 - pr_auc: 0.0308 - roc_auc: 0.5244 - val_loss: 19.3963 - val_tp: 8.0000 - val_fp: 132.0000 - val_tn: 304.0000 - val_fn: 4.0000 - val_accuracy: 0.6964 - val_precision: 0.0571 - val_recall: 0.6667 - val_pr_auc: 0.0505 - val_roc_auc: 0.6800\n"
     ]
    },
    {
     "name": "stdout",
     "output_type": "stream",
     "text": [
      "Epoch 532/600\n",
      "31/31 [==============================] - 0s 8ms/step - loss: 443.2528 - tp: 30.0000 - fp: 914.0000 - tn: 1013.0000 - fn: 27.0000 - accuracy: 0.5257 - precision: 0.0318 - recall: 0.5263 - pr_auc: 0.0312 - roc_auc: 0.5310 - val_loss: 18.2049 - val_tp: 8.0000 - val_fp: 130.0000 - val_tn: 306.0000 - val_fn: 4.0000 - val_accuracy: 0.7009 - val_precision: 0.0580 - val_recall: 0.6667 - val_pr_auc: 0.0516 - val_roc_auc: 0.6858\n",
      "Epoch 533/600\n",
      "31/31 [==============================] - 0s 8ms/step - loss: 472.9433 - tp: 29.0000 - fp: 905.0000 - tn: 1022.0000 - fn: 28.0000 - accuracy: 0.5297 - precision: 0.0310 - recall: 0.5088 - pr_auc: 0.0303 - roc_auc: 0.5189 - val_loss: 21.2584 - val_tp: 8.0000 - val_fp: 141.0000 - val_tn: 295.0000 - val_fn: 4.0000 - val_accuracy: 0.6763 - val_precision: 0.0537 - val_recall: 0.6667 - val_pr_auc: 0.0521 - val_roc_auc: 0.7059\n",
      "Epoch 534/600\n",
      "31/31 [==============================] - 0s 8ms/step - loss: 436.4905 - tp: 30.0000 - fp: 966.0000 - tn: 961.0000 - fn: 27.0000 - accuracy: 0.4995 - precision: 0.0301 - recall: 0.5263 - pr_auc: 0.0298 - roc_auc: 0.5129 - val_loss: 21.8090 - val_tp: 8.0000 - val_fp: 141.0000 - val_tn: 295.0000 - val_fn: 4.0000 - val_accuracy: 0.6763 - val_precision: 0.0537 - val_recall: 0.6667 - val_pr_auc: 0.0505 - val_roc_auc: 0.7008\n",
      "Epoch 535/600\n",
      "31/31 [==============================] - 0s 8ms/step - loss: 402.4323 - tp: 29.0000 - fp: 937.0000 - tn: 990.0000 - fn: 28.0000 - accuracy: 0.5136 - precision: 0.0300 - recall: 0.5088 - pr_auc: 0.0296 - roc_auc: 0.5110 - val_loss: 23.3602 - val_tp: 9.0000 - val_fp: 145.0000 - val_tn: 291.0000 - val_fn: 3.0000 - val_accuracy: 0.6696 - val_precision: 0.0584 - val_recall: 0.7500 - val_pr_auc: 0.0498 - val_roc_auc: 0.6982\n",
      "Epoch 536/600\n",
      "31/31 [==============================] - 0s 8ms/step - loss: 398.4727 - tp: 28.0000 - fp: 923.0000 - tn: 1004.0000 - fn: 29.0000 - accuracy: 0.5202 - precision: 0.0294 - recall: 0.4912 - pr_auc: 0.0293 - roc_auc: 0.5064 - val_loss: 23.3384 - val_tp: 9.0000 - val_fp: 145.0000 - val_tn: 291.0000 - val_fn: 3.0000 - val_accuracy: 0.6696 - val_precision: 0.0584 - val_recall: 0.7500 - val_pr_auc: 0.0498 - val_roc_auc: 0.6982\n",
      "Epoch 537/600\n",
      "31/31 [==============================] - 0s 8ms/step - loss: 466.4862 - tp: 20.0000 - fp: 954.0000 - tn: 973.0000 - fn: 37.0000 - accuracy: 0.5005 - precision: 0.0205 - recall: 0.3509 - pr_auc: 0.0238 - roc_auc: 0.4275 - val_loss: 38.0578 - val_tp: 11.0000 - val_fp: 173.0000 - val_tn: 263.0000 - val_fn: 1.0000 - val_accuracy: 0.6116 - val_precision: 0.0598 - val_recall: 0.9167 - val_pr_auc: 0.0592 - val_roc_auc: 0.7637\n",
      "Epoch 538/600\n",
      "31/31 [==============================] - 0s 8ms/step - loss: 385.0696 - tp: 35.0000 - fp: 921.0000 - tn: 1006.0000 - fn: 22.0000 - accuracy: 0.5247 - precision: 0.0366 - recall: 0.6140 - pr_auc: 0.0349 - roc_auc: 0.5687 - val_loss: 37.7561 - val_tp: 11.0000 - val_fp: 173.0000 - val_tn: 263.0000 - val_fn: 1.0000 - val_accuracy: 0.6116 - val_precision: 0.0598 - val_recall: 0.9167 - val_pr_auc: 0.0598 - val_roc_auc: 0.7659\n",
      "Epoch 539/600\n",
      "31/31 [==============================] - 0s 8ms/step - loss: 391.3511 - tp: 27.0000 - fp: 917.0000 - tn: 1010.0000 - fn: 30.0000 - accuracy: 0.5227 - precision: 0.0286 - recall: 0.4737 - pr_auc: 0.0286 - roc_auc: 0.4985 - val_loss: 35.4707 - val_tp: 11.0000 - val_fp: 167.0000 - val_tn: 269.0000 - val_fn: 1.0000 - val_accuracy: 0.6250 - val_precision: 0.0618 - val_recall: 0.9167 - val_pr_auc: 0.0558 - val_roc_auc: 0.7525\n",
      "Epoch 540/600\n",
      "31/31 [==============================] - 0s 8ms/step - loss: 425.2675 - tp: 29.0000 - fp: 933.0000 - tn: 994.0000 - fn: 28.0000 - accuracy: 0.5156 - precision: 0.0301 - recall: 0.5088 - pr_auc: 0.0298 - roc_auc: 0.5123 - val_loss: 39.7016 - val_tp: 11.0000 - val_fp: 177.0000 - val_tn: 259.0000 - val_fn: 1.0000 - val_accuracy: 0.6027 - val_precision: 0.0585 - val_recall: 0.9167 - val_pr_auc: 0.0583 - val_roc_auc: 0.7603\n",
      "Epoch 541/600\n",
      "31/31 [==============================] - 0s 8ms/step - loss: 435.4738 - tp: 33.0000 - fp: 975.0000 - tn: 952.0000 - fn: 24.0000 - accuracy: 0.4965 - precision: 0.0327 - recall: 0.5789 - pr_auc: 0.0318 - roc_auc: 0.5364 - val_loss: 35.5821 - val_tp: 11.0000 - val_fp: 167.0000 - val_tn: 269.0000 - val_fn: 1.0000 - val_accuracy: 0.6250 - val_precision: 0.0618 - val_recall: 0.9167 - val_pr_auc: 0.0558 - val_roc_auc: 0.7526\n",
      "Epoch 542/600\n",
      "31/31 [==============================] - 0s 8ms/step - loss: 407.2672 - tp: 31.0000 - fp: 925.0000 - tn: 1002.0000 - fn: 26.0000 - accuracy: 0.5207 - precision: 0.0324 - recall: 0.5439 - pr_auc: 0.0319 - roc_auc: 0.5411 - val_loss: 31.6637 - val_tp: 10.0000 - val_fp: 160.0000 - val_tn: 276.0000 - val_fn: 2.0000 - val_accuracy: 0.6384 - val_precision: 0.0588 - val_recall: 0.8333 - val_pr_auc: 0.0523 - val_roc_auc: 0.7225\n",
      "Epoch 543/600\n",
      "31/31 [==============================] - 0s 8ms/step - loss: 431.8752 - tp: 31.0000 - fp: 899.0000 - tn: 1028.0000 - fn: 26.0000 - accuracy: 0.5338 - precision: 0.0333 - recall: 0.5439 - pr_auc: 0.0314 - roc_auc: 0.5341 - val_loss: 31.0194 - val_tp: 10.0000 - val_fp: 159.0000 - val_tn: 277.0000 - val_fn: 2.0000 - val_accuracy: 0.6406 - val_precision: 0.0592 - val_recall: 0.8333 - val_pr_auc: 0.0526 - val_roc_auc: 0.7235\n",
      "Epoch 544/600\n",
      "31/31 [==============================] - 0s 8ms/step - loss: 416.8765 - tp: 33.0000 - fp: 960.0000 - tn: 967.0000 - fn: 24.0000 - accuracy: 0.5040 - precision: 0.0332 - recall: 0.5789 - pr_auc: 0.0321 - roc_auc: 0.5405 - val_loss: 22.9783 - val_tp: 9.0000 - val_fp: 142.0000 - val_tn: 294.0000 - val_fn: 3.0000 - val_accuracy: 0.6763 - val_precision: 0.0596 - val_recall: 0.7500 - val_pr_auc: 0.0498 - val_roc_auc: 0.6984\n",
      "Epoch 545/600\n",
      "31/31 [==============================] - 0s 8ms/step - loss: 375.3933 - tp: 28.0000 - fp: 900.0000 - tn: 1027.0000 - fn: 29.0000 - accuracy: 0.5318 - precision: 0.0302 - recall: 0.4912 - pr_auc: 0.0297 - roc_auc: 0.5121 - val_loss: 24.2331 - val_tp: 9.0000 - val_fp: 145.0000 - val_tn: 291.0000 - val_fn: 3.0000 - val_accuracy: 0.6696 - val_precision: 0.0584 - val_recall: 0.7500 - val_pr_auc: 0.0498 - val_roc_auc: 0.6983\n",
      "Epoch 546/600\n",
      "31/31 [==============================] - 0s 8ms/step - loss: 453.2639 - tp: 26.0000 - fp: 931.0000 - tn: 996.0000 - fn: 31.0000 - accuracy: 0.5151 - precision: 0.0272 - recall: 0.4561 - pr_auc: 0.0277 - roc_auc: 0.4863 - val_loss: 30.7508 - val_tp: 9.0000 - val_fp: 158.0000 - val_tn: 278.0000 - val_fn: 3.0000 - val_accuracy: 0.6406 - val_precision: 0.0539 - val_recall: 0.7500 - val_pr_auc: 0.0526 - val_roc_auc: 0.7239\n",
      "Epoch 547/600\n",
      "31/31 [==============================] - 0s 8ms/step - loss: 489.6836 - tp: 21.0000 - fp: 889.0000 - tn: 1038.0000 - fn: 36.0000 - accuracy: 0.5338 - precision: 0.0231 - recall: 0.3684 - pr_auc: 0.0253 - roc_auc: 0.4523 - val_loss: 41.8683 - val_tp: 11.0000 - val_fp: 180.0000 - val_tn: 256.0000 - val_fn: 1.0000 - val_accuracy: 0.5960 - val_precision: 0.0576 - val_recall: 0.9167 - val_pr_auc: 0.0570 - val_roc_auc: 0.7554\n",
      "Epoch 548/600\n",
      "31/31 [==============================] - 0s 8ms/step - loss: 393.4311 - tp: 32.0000 - fp: 950.0000 - tn: 977.0000 - fn: 25.0000 - accuracy: 0.5086 - precision: 0.0326 - recall: 0.5614 - pr_auc: 0.0316 - roc_auc: 0.5344 - val_loss: 51.7952 - val_tp: 12.0000 - val_fp: 206.0000 - val_tn: 230.0000 - val_fn: 0.0000e+00 - val_accuracy: 0.5402 - val_precision: 0.0550 - val_recall: 1.0000 - val_pr_auc: 0.0558 - val_roc_auc: 0.7672\n",
      "Epoch 549/600\n",
      "31/31 [==============================] - 0s 8ms/step - loss: 428.4671 - tp: 30.0000 - fp: 956.0000 - tn: 971.0000 - fn: 27.0000 - accuracy: 0.5045 - precision: 0.0304 - recall: 0.5263 - pr_auc: 0.0295 - roc_auc: 0.5114 - val_loss: 42.3597 - val_tp: 11.0000 - val_fp: 180.0000 - val_tn: 256.0000 - val_fn: 1.0000 - val_accuracy: 0.5960 - val_precision: 0.0576 - val_recall: 0.9167 - val_pr_auc: 0.0567 - val_roc_auc: 0.7543\n",
      "Epoch 550/600\n",
      "31/31 [==============================] - 0s 8ms/step - loss: 388.8682 - tp: 35.0000 - fp: 921.0000 - tn: 1006.0000 - fn: 22.0000 - accuracy: 0.5247 - precision: 0.0366 - recall: 0.6140 - pr_auc: 0.0347 - roc_auc: 0.5679 - val_loss: 37.6743 - val_tp: 11.0000 - val_fp: 169.0000 - val_tn: 267.0000 - val_fn: 1.0000 - val_accuracy: 0.6205 - val_precision: 0.0611 - val_recall: 0.9167 - val_pr_auc: 0.0598 - val_roc_auc: 0.7660\n"
     ]
    },
    {
     "name": "stdout",
     "output_type": "stream",
     "text": [
      "Epoch 551/600\n",
      "31/31 [==============================] - 0s 8ms/step - loss: 415.4666 - tp: 31.0000 - fp: 948.0000 - tn: 979.0000 - fn: 26.0000 - accuracy: 0.5091 - precision: 0.0317 - recall: 0.5439 - pr_auc: 0.0309 - roc_auc: 0.5259 - val_loss: 36.8825 - val_tp: 11.0000 - val_fp: 169.0000 - val_tn: 267.0000 - val_fn: 1.0000 - val_accuracy: 0.6205 - val_precision: 0.0611 - val_recall: 0.9167 - val_pr_auc: 0.0599 - val_roc_auc: 0.7662\n",
      "Epoch 552/600\n",
      "31/31 [==============================] - 0s 8ms/step - loss: 390.7625 - tp: 32.0000 - fp: 948.0000 - tn: 979.0000 - fn: 25.0000 - accuracy: 0.5096 - precision: 0.0327 - recall: 0.5614 - pr_auc: 0.0316 - roc_auc: 0.5342 - val_loss: 30.1033 - val_tp: 9.0000 - val_fp: 154.0000 - val_tn: 282.0000 - val_fn: 3.0000 - val_accuracy: 0.6496 - val_precision: 0.0552 - val_recall: 0.7500 - val_pr_auc: 0.0535 - val_roc_auc: 0.7269\n",
      "Epoch 553/600\n",
      "31/31 [==============================] - 0s 8ms/step - loss: 509.8739 - tp: 22.0000 - fp: 922.0000 - tn: 1005.0000 - fn: 35.0000 - accuracy: 0.5176 - precision: 0.0233 - recall: 0.3860 - pr_auc: 0.0254 - roc_auc: 0.4534 - val_loss: 37.0001 - val_tp: 11.0000 - val_fp: 169.0000 - val_tn: 267.0000 - val_fn: 1.0000 - val_accuracy: 0.6205 - val_precision: 0.0611 - val_recall: 0.9167 - val_pr_auc: 0.0599 - val_roc_auc: 0.7662\n",
      "Epoch 554/600\n",
      "31/31 [==============================] - 0s 8ms/step - loss: 461.1310 - tp: 30.0000 - fp: 934.0000 - tn: 993.0000 - fn: 27.0000 - accuracy: 0.5156 - precision: 0.0311 - recall: 0.5263 - pr_auc: 0.0304 - roc_auc: 0.5205 - val_loss: 43.1598 - val_tp: 11.0000 - val_fp: 182.0000 - val_tn: 254.0000 - val_fn: 1.0000 - val_accuracy: 0.5915 - val_precision: 0.0570 - val_recall: 0.9167 - val_pr_auc: 0.0562 - val_roc_auc: 0.7522\n",
      "Epoch 555/600\n",
      "31/31 [==============================] - 0s 8ms/step - loss: 459.5108 - tp: 26.0000 - fp: 935.0000 - tn: 992.0000 - fn: 31.0000 - accuracy: 0.5131 - precision: 0.0271 - recall: 0.4561 - pr_auc: 0.0276 - roc_auc: 0.4844 - val_loss: 44.2076 - val_tp: 11.0000 - val_fp: 186.0000 - val_tn: 250.0000 - val_fn: 1.0000 - val_accuracy: 0.5826 - val_precision: 0.0558 - val_recall: 0.9167 - val_pr_auc: 0.0559 - val_roc_auc: 0.7510\n",
      "Epoch 556/600\n",
      "31/31 [==============================] - 0s 8ms/step - loss: 420.6025 - tp: 30.0000 - fp: 967.0000 - tn: 960.0000 - fn: 27.0000 - accuracy: 0.4990 - precision: 0.0301 - recall: 0.5263 - pr_auc: 0.0297 - roc_auc: 0.5123 - val_loss: 42.6811 - val_tp: 11.0000 - val_fp: 180.0000 - val_tn: 256.0000 - val_fn: 1.0000 - val_accuracy: 0.5960 - val_precision: 0.0576 - val_recall: 0.9167 - val_pr_auc: 0.0567 - val_roc_auc: 0.7543\n",
      "Epoch 557/600\n",
      "31/31 [==============================] - 0s 8ms/step - loss: 386.1324 - tp: 30.0000 - fp: 942.0000 - tn: 985.0000 - fn: 27.0000 - accuracy: 0.5116 - precision: 0.0309 - recall: 0.5263 - pr_auc: 0.0298 - roc_auc: 0.5145 - val_loss: 41.0752 - val_tp: 11.0000 - val_fp: 179.0000 - val_tn: 257.0000 - val_fn: 1.0000 - val_accuracy: 0.5982 - val_precision: 0.0579 - val_recall: 0.9167 - val_pr_auc: 0.0579 - val_roc_auc: 0.7591\n",
      "Epoch 558/600\n",
      "31/31 [==============================] - 0s 8ms/step - loss: 467.1867 - tp: 25.0000 - fp: 930.0000 - tn: 997.0000 - fn: 32.0000 - accuracy: 0.5151 - precision: 0.0262 - recall: 0.4386 - pr_auc: 0.0271 - roc_auc: 0.4779 - val_loss: 54.3787 - val_tp: 12.0000 - val_fp: 209.0000 - val_tn: 227.0000 - val_fn: 0.0000e+00 - val_accuracy: 0.5335 - val_precision: 0.0543 - val_recall: 1.0000 - val_pr_auc: 0.0556 - val_roc_auc: 0.7661\n",
      "Epoch 559/600\n",
      "31/31 [==============================] - 0s 8ms/step - loss: 425.6477 - tp: 33.0000 - fp: 967.0000 - tn: 960.0000 - fn: 24.0000 - accuracy: 0.5005 - precision: 0.0330 - recall: 0.5789 - pr_auc: 0.0319 - roc_auc: 0.5389 - val_loss: 48.1380 - val_tp: 11.0000 - val_fp: 196.0000 - val_tn: 240.0000 - val_fn: 1.0000 - val_accuracy: 0.5603 - val_precision: 0.0531 - val_recall: 0.9167 - val_pr_auc: 0.0553 - val_roc_auc: 0.7649\n",
      "Epoch 560/600\n",
      "31/31 [==============================] - 0s 8ms/step - loss: 353.3501 - tp: 32.0000 - fp: 956.0000 - tn: 971.0000 - fn: 25.0000 - accuracy: 0.5055 - precision: 0.0324 - recall: 0.5614 - pr_auc: 0.0311 - roc_auc: 0.5326 - val_loss: 36.8334 - val_tp: 11.0000 - val_fp: 167.0000 - val_tn: 269.0000 - val_fn: 1.0000 - val_accuracy: 0.6250 - val_precision: 0.0618 - val_recall: 0.9167 - val_pr_auc: 0.0555 - val_roc_auc: 0.7513\n",
      "Epoch 561/600\n",
      "31/31 [==============================] - 0s 8ms/step - loss: 443.3339 - tp: 26.0000 - fp: 913.0000 - tn: 1014.0000 - fn: 31.0000 - accuracy: 0.5242 - precision: 0.0277 - recall: 0.4561 - pr_auc: 0.0281 - roc_auc: 0.4915 - val_loss: 41.9051 - val_tp: 11.0000 - val_fp: 180.0000 - val_tn: 256.0000 - val_fn: 1.0000 - val_accuracy: 0.5960 - val_precision: 0.0576 - val_recall: 0.9167 - val_pr_auc: 0.0576 - val_roc_auc: 0.7579\n",
      "Epoch 562/600\n",
      "31/31 [==============================] - 0s 8ms/step - loss: 422.0684 - tp: 35.0000 - fp: 947.0000 - tn: 980.0000 - fn: 22.0000 - accuracy: 0.5116 - precision: 0.0356 - recall: 0.6140 - pr_auc: 0.0341 - roc_auc: 0.5617 - val_loss: 40.2782 - val_tp: 11.0000 - val_fp: 176.0000 - val_tn: 260.0000 - val_fn: 1.0000 - val_accuracy: 0.6049 - val_precision: 0.0588 - val_recall: 0.9167 - val_pr_auc: 0.0592 - val_roc_auc: 0.7635\n",
      "Epoch 563/600\n",
      "31/31 [==============================] - 0s 8ms/step - loss: 436.9295 - tp: 25.0000 - fp: 928.0000 - tn: 999.0000 - fn: 32.0000 - accuracy: 0.5161 - precision: 0.0262 - recall: 0.4386 - pr_auc: 0.0271 - roc_auc: 0.4784 - val_loss: 38.7671 - val_tp: 11.0000 - val_fp: 173.0000 - val_tn: 263.0000 - val_fn: 1.0000 - val_accuracy: 0.6116 - val_precision: 0.0598 - val_recall: 0.9167 - val_pr_auc: 0.0598 - val_roc_auc: 0.7659\n",
      "Epoch 564/600\n",
      "31/31 [==============================] - 0s 8ms/step - loss: 448.8127 - tp: 29.0000 - fp: 950.0000 - tn: 977.0000 - fn: 28.0000 - accuracy: 0.5071 - precision: 0.0296 - recall: 0.5088 - pr_auc: 0.0296 - roc_auc: 0.5125 - val_loss: 40.5377 - val_tp: 11.0000 - val_fp: 176.0000 - val_tn: 260.0000 - val_fn: 1.0000 - val_accuracy: 0.6049 - val_precision: 0.0588 - val_recall: 0.9167 - val_pr_auc: 0.0589 - val_roc_auc: 0.7624\n",
      "Epoch 565/600\n",
      "31/31 [==============================] - 0s 8ms/step - loss: 422.5276 - tp: 33.0000 - fp: 895.0000 - tn: 1032.0000 - fn: 24.0000 - accuracy: 0.5368 - precision: 0.0356 - recall: 0.5789 - pr_auc: 0.0326 - roc_auc: 0.5494 - val_loss: 40.2907 - val_tp: 11.0000 - val_fp: 176.0000 - val_tn: 260.0000 - val_fn: 1.0000 - val_accuracy: 0.6049 - val_precision: 0.0588 - val_recall: 0.9167 - val_pr_auc: 0.0592 - val_roc_auc: 0.7635\n",
      "Epoch 566/600\n",
      "31/31 [==============================] - 0s 8ms/step - loss: 304.8142 - tp: 39.0000 - fp: 903.0000 - tn: 1024.0000 - fn: 18.0000 - accuracy: 0.5358 - precision: 0.0414 - recall: 0.6842 - pr_auc: 0.0390 - roc_auc: 0.6083 - val_loss: 29.5575 - val_tp: 9.0000 - val_fp: 153.0000 - val_tn: 283.0000 - val_fn: 3.0000 - val_accuracy: 0.6518 - val_precision: 0.0556 - val_recall: 0.7500 - val_pr_auc: 0.0526 - val_roc_auc: 0.7044\n",
      "Epoch 567/600\n",
      "31/31 [==============================] - 0s 8ms/step - loss: 472.1358 - tp: 29.0000 - fp: 916.0000 - tn: 1011.0000 - fn: 28.0000 - accuracy: 0.5242 - precision: 0.0307 - recall: 0.5088 - pr_auc: 0.0301 - roc_auc: 0.5167 - val_loss: 25.1938 - val_tp: 9.0000 - val_fp: 146.0000 - val_tn: 290.0000 - val_fn: 3.0000 - val_accuracy: 0.6674 - val_precision: 0.0581 - val_recall: 0.7500 - val_pr_auc: 0.0540 - val_roc_auc: 0.7110\n",
      "Epoch 568/600\n",
      "31/31 [==============================] - 0s 8ms/step - loss: 392.4762 - tp: 34.0000 - fp: 922.0000 - tn: 1005.0000 - fn: 23.0000 - accuracy: 0.5237 - precision: 0.0356 - recall: 0.5965 - pr_auc: 0.0340 - roc_auc: 0.5598 - val_loss: 21.0206 - val_tp: 8.0000 - val_fp: 138.0000 - val_tn: 298.0000 - val_fn: 4.0000 - val_accuracy: 0.6830 - val_precision: 0.0548 - val_recall: 0.6667 - val_pr_auc: 0.0499 - val_roc_auc: 0.6785\n",
      "Epoch 569/600\n",
      "31/31 [==============================] - 0s 8ms/step - loss: 487.5962 - tp: 24.0000 - fp: 881.0000 - tn: 1046.0000 - fn: 33.0000 - accuracy: 0.5393 - precision: 0.0265 - recall: 0.4211 - pr_auc: 0.0274 - roc_auc: 0.4822 - val_loss: 28.3655 - val_tp: 9.0000 - val_fp: 148.0000 - val_tn: 288.0000 - val_fn: 3.0000 - val_accuracy: 0.6629 - val_precision: 0.0573 - val_recall: 0.7500 - val_pr_auc: 0.0527 - val_roc_auc: 0.7056\n"
     ]
    },
    {
     "name": "stdout",
     "output_type": "stream",
     "text": [
      "Epoch 570/600\n",
      "31/31 [==============================] - 0s 8ms/step - loss: 496.3581 - tp: 25.0000 - fp: 946.0000 - tn: 981.0000 - fn: 32.0000 - accuracy: 0.5071 - precision: 0.0257 - recall: 0.4386 - pr_auc: 0.0264 - roc_auc: 0.4697 - val_loss: 32.4122 - val_tp: 10.0000 - val_fp: 160.0000 - val_tn: 276.0000 - val_fn: 2.0000 - val_accuracy: 0.6384 - val_precision: 0.0588 - val_recall: 0.8333 - val_pr_auc: 0.0526 - val_roc_auc: 0.7235\n",
      "Epoch 571/600\n",
      "31/31 [==============================] - 0s 8ms/step - loss: 389.0177 - tp: 32.0000 - fp: 924.0000 - tn: 1003.0000 - fn: 25.0000 - accuracy: 0.5217 - precision: 0.0335 - recall: 0.5614 - pr_auc: 0.0323 - roc_auc: 0.5419 - val_loss: 37.0141 - val_tp: 11.0000 - val_fp: 167.0000 - val_tn: 269.0000 - val_fn: 1.0000 - val_accuracy: 0.6250 - val_precision: 0.0618 - val_recall: 0.9167 - val_pr_auc: 0.0555 - val_roc_auc: 0.7514\n",
      "Epoch 572/600\n",
      "31/31 [==============================] - 0s 8ms/step - loss: 410.8965 - tp: 34.0000 - fp: 956.0000 - tn: 971.0000 - fn: 23.0000 - accuracy: 0.5066 - precision: 0.0343 - recall: 0.5965 - pr_auc: 0.0330 - roc_auc: 0.5499 - val_loss: 32.7965 - val_tp: 10.0000 - val_fp: 160.0000 - val_tn: 276.0000 - val_fn: 2.0000 - val_accuracy: 0.6384 - val_precision: 0.0588 - val_recall: 0.8333 - val_pr_auc: 0.0524 - val_roc_auc: 0.7227\n",
      "Epoch 573/600\n",
      "31/31 [==============================] - 0s 8ms/step - loss: 363.9559 - tp: 32.0000 - fp: 869.0000 - tn: 1058.0000 - fn: 25.0000 - accuracy: 0.5494 - precision: 0.0355 - recall: 0.5614 - pr_auc: 0.0337 - roc_auc: 0.5553 - val_loss: 25.6454 - val_tp: 9.0000 - val_fp: 146.0000 - val_tn: 290.0000 - val_fn: 3.0000 - val_accuracy: 0.6674 - val_precision: 0.0581 - val_recall: 0.7500 - val_pr_auc: 0.0534 - val_roc_auc: 0.7093\n",
      "Epoch 574/600\n",
      "31/31 [==============================] - 0s 8ms/step - loss: 413.4741 - tp: 32.0000 - fp: 906.0000 - tn: 1021.0000 - fn: 25.0000 - accuracy: 0.5307 - precision: 0.0341 - recall: 0.5614 - pr_auc: 0.0328 - roc_auc: 0.5461 - val_loss: 21.0861 - val_tp: 8.0000 - val_fp: 138.0000 - val_tn: 298.0000 - val_fn: 4.0000 - val_accuracy: 0.6830 - val_precision: 0.0548 - val_recall: 0.6667 - val_pr_auc: 0.0499 - val_roc_auc: 0.6785\n",
      "Epoch 575/600\n",
      "31/31 [==============================] - 0s 8ms/step - loss: 343.6270 - tp: 30.0000 - fp: 905.0000 - tn: 1022.0000 - fn: 27.0000 - accuracy: 0.5302 - precision: 0.0321 - recall: 0.5263 - pr_auc: 0.0307 - roc_auc: 0.5248 - val_loss: 24.3395 - val_tp: 9.0000 - val_fp: 145.0000 - val_tn: 291.0000 - val_fn: 3.0000 - val_accuracy: 0.6696 - val_precision: 0.0584 - val_recall: 0.7500 - val_pr_auc: 0.0498 - val_roc_auc: 0.6984\n",
      "Epoch 576/600\n",
      "31/31 [==============================] - 0s 8ms/step - loss: 500.2048 - tp: 25.0000 - fp: 898.0000 - tn: 1029.0000 - fn: 32.0000 - accuracy: 0.5312 - precision: 0.0271 - recall: 0.4386 - pr_auc: 0.0277 - roc_auc: 0.4863 - val_loss: 31.8986 - val_tp: 10.0000 - val_fp: 158.0000 - val_tn: 278.0000 - val_fn: 2.0000 - val_accuracy: 0.6429 - val_precision: 0.0595 - val_recall: 0.8333 - val_pr_auc: 0.0527 - val_roc_auc: 0.7239\n",
      "Epoch 577/600\n",
      "31/31 [==============================] - 0s 8ms/step - loss: 486.5569 - tp: 23.0000 - fp: 931.0000 - tn: 996.0000 - fn: 34.0000 - accuracy: 0.5136 - precision: 0.0241 - recall: 0.4035 - pr_auc: 0.0258 - roc_auc: 0.4601 - val_loss: 39.2287 - val_tp: 11.0000 - val_fp: 173.0000 - val_tn: 263.0000 - val_fn: 1.0000 - val_accuracy: 0.6116 - val_precision: 0.0598 - val_recall: 0.9167 - val_pr_auc: 0.0598 - val_roc_auc: 0.7659\n",
      "Epoch 578/600\n",
      "31/31 [==============================] - 0s 8ms/step - loss: 342.2779 - tp: 34.0000 - fp: 936.0000 - tn: 991.0000 - fn: 23.0000 - accuracy: 0.5166 - precision: 0.0351 - recall: 0.5965 - pr_auc: 0.0335 - roc_auc: 0.5556 - val_loss: 35.9929 - val_tp: 11.0000 - val_fp: 167.0000 - val_tn: 269.0000 - val_fn: 1.0000 - val_accuracy: 0.6250 - val_precision: 0.0618 - val_recall: 0.9167 - val_pr_auc: 0.0566 - val_roc_auc: 0.7556\n",
      "Epoch 579/600\n",
      "31/31 [==============================] - 0s 8ms/step - loss: 324.8746 - tp: 36.0000 - fp: 936.0000 - tn: 991.0000 - fn: 21.0000 - accuracy: 0.5176 - precision: 0.0370 - recall: 0.6316 - pr_auc: 0.0340 - roc_auc: 0.5647 - val_loss: 32.3502 - val_tp: 10.0000 - val_fp: 160.0000 - val_tn: 276.0000 - val_fn: 2.0000 - val_accuracy: 0.6384 - val_precision: 0.0588 - val_recall: 0.8333 - val_pr_auc: 0.0526 - val_roc_auc: 0.7237\n",
      "Epoch 580/600\n",
      "31/31 [==============================] - 0s 8ms/step - loss: 401.1338 - tp: 30.0000 - fp: 924.0000 - tn: 1003.0000 - fn: 27.0000 - accuracy: 0.5207 - precision: 0.0314 - recall: 0.5263 - pr_auc: 0.0306 - roc_auc: 0.5229 - val_loss: 26.0862 - val_tp: 9.0000 - val_fp: 146.0000 - val_tn: 290.0000 - val_fn: 3.0000 - val_accuracy: 0.6674 - val_precision: 0.0581 - val_recall: 0.7500 - val_pr_auc: 0.0531 - val_roc_auc: 0.7084\n",
      "Epoch 581/600\n",
      "31/31 [==============================] - 0s 8ms/step - loss: 360.5733 - tp: 33.0000 - fp: 900.0000 - tn: 1027.0000 - fn: 24.0000 - accuracy: 0.5343 - precision: 0.0354 - recall: 0.5789 - pr_auc: 0.0338 - roc_auc: 0.5568 - val_loss: 20.5677 - val_tp: 8.0000 - val_fp: 133.0000 - val_tn: 303.0000 - val_fn: 4.0000 - val_accuracy: 0.6942 - val_precision: 0.0567 - val_recall: 0.6667 - val_pr_auc: 0.0505 - val_roc_auc: 0.6804\n",
      "Epoch 582/600\n",
      "31/31 [==============================] - 0s 8ms/step - loss: 476.2615 - tp: 22.0000 - fp: 929.0000 - tn: 998.0000 - fn: 35.0000 - accuracy: 0.5141 - precision: 0.0231 - recall: 0.3860 - pr_auc: 0.0253 - roc_auc: 0.4517 - val_loss: 29.9220 - val_tp: 9.0000 - val_fp: 151.0000 - val_tn: 285.0000 - val_fn: 3.0000 - val_accuracy: 0.6562 - val_precision: 0.0562 - val_recall: 0.7500 - val_pr_auc: 0.0526 - val_roc_auc: 0.7053\n",
      "Epoch 583/600\n",
      "31/31 [==============================] - 0s 8ms/step - loss: 428.0525 - tp: 27.0000 - fp: 900.0000 - tn: 1027.0000 - fn: 30.0000 - accuracy: 0.5312 - precision: 0.0291 - recall: 0.4737 - pr_auc: 0.0290 - roc_auc: 0.5029 - val_loss: 36.9478 - val_tp: 11.0000 - val_fp: 167.0000 - val_tn: 269.0000 - val_fn: 1.0000 - val_accuracy: 0.6250 - val_precision: 0.0618 - val_recall: 0.9167 - val_pr_auc: 0.0561 - val_roc_auc: 0.7537\n",
      "Epoch 584/600\n",
      "31/31 [==============================] - 0s 8ms/step - loss: 443.3467 - tp: 30.0000 - fp: 924.0000 - tn: 1003.0000 - fn: 27.0000 - accuracy: 0.5207 - precision: 0.0314 - recall: 0.5263 - pr_auc: 0.0306 - roc_auc: 0.5232 - val_loss: 36.5115 - val_tp: 11.0000 - val_fp: 167.0000 - val_tn: 269.0000 - val_fn: 1.0000 - val_accuracy: 0.6250 - val_precision: 0.0618 - val_recall: 0.9167 - val_pr_auc: 0.0564 - val_roc_auc: 0.7547\n",
      "Epoch 585/600\n",
      "31/31 [==============================] - 0s 8ms/step - loss: 392.1130 - tp: 30.0000 - fp: 954.0000 - tn: 973.0000 - fn: 27.0000 - accuracy: 0.5055 - precision: 0.0305 - recall: 0.5263 - pr_auc: 0.0301 - roc_auc: 0.5161 - val_loss: 34.5603 - val_tp: 10.0000 - val_fp: 163.0000 - val_tn: 273.0000 - val_fn: 2.0000 - val_accuracy: 0.6317 - val_precision: 0.0578 - val_recall: 0.8333 - val_pr_auc: 0.0572 - val_roc_auc: 0.7577\n",
      "Epoch 586/600\n",
      "31/31 [==============================] - 0s 8ms/step - loss: 436.9982 - tp: 30.0000 - fp: 941.0000 - tn: 986.0000 - fn: 27.0000 - accuracy: 0.5121 - precision: 0.0309 - recall: 0.5263 - pr_auc: 0.0303 - roc_auc: 0.5186 - val_loss: 38.6599 - val_tp: 11.0000 - val_fp: 169.0000 - val_tn: 267.0000 - val_fn: 1.0000 - val_accuracy: 0.6205 - val_precision: 0.0611 - val_recall: 0.9167 - val_pr_auc: 0.0599 - val_roc_auc: 0.7662\n",
      "Epoch 587/600\n",
      "31/31 [==============================] - 0s 8ms/step - loss: 493.0571 - tp: 24.0000 - fp: 926.0000 - tn: 1001.0000 - fn: 33.0000 - accuracy: 0.5166 - precision: 0.0253 - recall: 0.4211 - pr_auc: 0.0265 - roc_auc: 0.4700 - val_loss: 40.6547 - val_tp: 11.0000 - val_fp: 173.0000 - val_tn: 263.0000 - val_fn: 1.0000 - val_accuracy: 0.6116 - val_precision: 0.0598 - val_recall: 0.9167 - val_pr_auc: 0.0592 - val_roc_auc: 0.7636\n",
      "Epoch 588/600\n",
      "31/31 [==============================] - 0s 8ms/step - loss: 439.3000 - tp: 26.0000 - fp: 940.0000 - tn: 987.0000 - fn: 31.0000 - accuracy: 0.5106 - precision: 0.0269 - recall: 0.4561 - pr_auc: 0.0271 - roc_auc: 0.4803 - val_loss: 52.1644 - val_tp: 12.0000 - val_fp: 203.0000 - val_tn: 233.0000 - val_fn: 0.0000e+00 - val_accuracy: 0.5469 - val_precision: 0.0558 - val_recall: 1.0000 - val_pr_auc: 0.0574 - val_roc_auc: 0.7741\n"
     ]
    },
    {
     "name": "stdout",
     "output_type": "stream",
     "text": [
      "Epoch 589/600\n",
      "31/31 [==============================] - 0s 8ms/step - loss: 367.7433 - tp: 30.0000 - fp: 900.0000 - tn: 1027.0000 - fn: 27.0000 - accuracy: 0.5328 - precision: 0.0323 - recall: 0.5263 - pr_auc: 0.0315 - roc_auc: 0.5346 - val_loss: 58.8228 - val_tp: 12.0000 - val_fp: 215.0000 - val_tn: 221.0000 - val_fn: 0.0000e+00 - val_accuracy: 0.5201 - val_precision: 0.0529 - val_recall: 1.0000 - val_pr_auc: 0.0541 - val_roc_auc: 0.7592\n",
      "Epoch 590/600\n",
      "31/31 [==============================] - 0s 8ms/step - loss: 435.4575 - tp: 30.0000 - fp: 963.0000 - tn: 964.0000 - fn: 27.0000 - accuracy: 0.5010 - precision: 0.0302 - recall: 0.5263 - pr_auc: 0.0298 - roc_auc: 0.5128 - val_loss: 56.2189 - val_tp: 12.0000 - val_fp: 210.0000 - val_tn: 226.0000 - val_fn: 0.0000e+00 - val_accuracy: 0.5312 - val_precision: 0.0541 - val_recall: 1.0000 - val_pr_auc: 0.0550 - val_roc_auc: 0.7638\n",
      "Epoch 591/600\n",
      "31/31 [==============================] - 0s 8ms/step - loss: 499.7725 - tp: 25.0000 - fp: 952.0000 - tn: 975.0000 - fn: 32.0000 - accuracy: 0.5040 - precision: 0.0256 - recall: 0.4386 - pr_auc: 0.0267 - roc_auc: 0.4722 - val_loss: 59.4338 - val_tp: 12.0000 - val_fp: 215.0000 - val_tn: 221.0000 - val_fn: 0.0000e+00 - val_accuracy: 0.5201 - val_precision: 0.0529 - val_recall: 1.0000 - val_pr_auc: 0.0533 - val_roc_auc: 0.7557\n",
      "Epoch 592/600\n",
      "31/31 [==============================] - 0s 8ms/step - loss: 484.7541 - tp: 28.0000 - fp: 968.0000 - tn: 959.0000 - fn: 29.0000 - accuracy: 0.4975 - precision: 0.0281 - recall: 0.4912 - pr_auc: 0.0283 - roc_auc: 0.4944 - val_loss: 66.9752 - val_tp: 12.0000 - val_fp: 224.0000 - val_tn: 212.0000 - val_fn: 0.0000e+00 - val_accuracy: 0.5000 - val_precision: 0.0508 - val_recall: 1.0000 - val_pr_auc: 0.0513 - val_roc_auc: 0.7454\n",
      "Epoch 593/600\n",
      "31/31 [==============================] - 0s 8ms/step - loss: 430.8134 - tp: 27.0000 - fp: 942.0000 - tn: 985.0000 - fn: 30.0000 - accuracy: 0.5101 - precision: 0.0279 - recall: 0.4737 - pr_auc: 0.0282 - roc_auc: 0.4928 - val_loss: 65.7875 - val_tp: 12.0000 - val_fp: 222.0000 - val_tn: 214.0000 - val_fn: 0.0000e+00 - val_accuracy: 0.5045 - val_precision: 0.0513 - val_recall: 1.0000 - val_pr_auc: 0.0519 - val_roc_auc: 0.7489\n",
      "Epoch 594/600\n",
      "31/31 [==============================] - 0s 8ms/step - loss: 314.7831 - tp: 40.0000 - fp: 944.0000 - tn: 983.0000 - fn: 17.0000 - accuracy: 0.5156 - precision: 0.0407 - recall: 0.7018 - pr_auc: 0.0382 - roc_auc: 0.6072 - val_loss: 48.1370 - val_tp: 11.0000 - val_fp: 191.0000 - val_tn: 245.0000 - val_fn: 1.0000 - val_accuracy: 0.5714 - val_precision: 0.0545 - val_recall: 0.9167 - val_pr_auc: 0.0561 - val_roc_auc: 0.7683\n",
      "Epoch 595/600\n",
      "31/31 [==============================] - 0s 8ms/step - loss: 370.2588 - tp: 32.0000 - fp: 950.0000 - tn: 977.0000 - fn: 25.0000 - accuracy: 0.5086 - precision: 0.0326 - recall: 0.5614 - pr_auc: 0.0311 - roc_auc: 0.5306 - val_loss: 41.3415 - val_tp: 11.0000 - val_fp: 174.0000 - val_tn: 262.0000 - val_fn: 1.0000 - val_accuracy: 0.6094 - val_precision: 0.0595 - val_recall: 0.9167 - val_pr_auc: 0.0592 - val_roc_auc: 0.7635\n",
      "Epoch 596/600\n",
      "31/31 [==============================] - 0s 8ms/step - loss: 446.3984 - tp: 29.0000 - fp: 944.0000 - tn: 983.0000 - fn: 28.0000 - accuracy: 0.5101 - precision: 0.0298 - recall: 0.5088 - pr_auc: 0.0298 - roc_auc: 0.5144 - val_loss: 39.7325 - val_tp: 11.0000 - val_fp: 170.0000 - val_tn: 266.0000 - val_fn: 1.0000 - val_accuracy: 0.6183 - val_precision: 0.0608 - val_recall: 0.9167 - val_pr_auc: 0.0598 - val_roc_auc: 0.7659\n",
      "Epoch 597/600\n",
      "31/31 [==============================] - 0s 8ms/step - loss: 397.6006 - tp: 28.0000 - fp: 918.0000 - tn: 1009.0000 - fn: 29.0000 - accuracy: 0.5227 - precision: 0.0296 - recall: 0.4912 - pr_auc: 0.0294 - roc_auc: 0.5074 - val_loss: 38.9631 - val_tp: 11.0000 - val_fp: 169.0000 - val_tn: 267.0000 - val_fn: 1.0000 - val_accuracy: 0.6205 - val_precision: 0.0611 - val_recall: 0.9167 - val_pr_auc: 0.0599 - val_roc_auc: 0.7662\n",
      "Epoch 598/600\n",
      "31/31 [==============================] - 0s 8ms/step - loss: 395.6271 - tp: 33.0000 - fp: 951.0000 - tn: 976.0000 - fn: 24.0000 - accuracy: 0.5086 - precision: 0.0335 - recall: 0.5789 - pr_auc: 0.0323 - roc_auc: 0.5427 - val_loss: 38.9288 - val_tp: 11.0000 - val_fp: 169.0000 - val_tn: 267.0000 - val_fn: 1.0000 - val_accuracy: 0.6205 - val_precision: 0.0611 - val_recall: 0.9167 - val_pr_auc: 0.0599 - val_roc_auc: 0.7662\n",
      "Epoch 599/600\n",
      "31/31 [==============================] - 0s 8ms/step - loss: 423.0676 - tp: 30.0000 - fp: 912.0000 - tn: 1015.0000 - fn: 27.0000 - accuracy: 0.5267 - precision: 0.0318 - recall: 0.5263 - pr_auc: 0.0309 - roc_auc: 0.5261 - val_loss: 36.4641 - val_tp: 11.0000 - val_fp: 166.0000 - val_tn: 270.0000 - val_fn: 1.0000 - val_accuracy: 0.6272 - val_precision: 0.0621 - val_recall: 0.9167 - val_pr_auc: 0.0567 - val_roc_auc: 0.7558\n",
      "Epoch 600/600\n",
      "31/31 [==============================] - 0s 8ms/step - loss: 334.4677 - tp: 33.0000 - fp: 873.0000 - tn: 1054.0000 - fn: 24.0000 - accuracy: 0.5479 - precision: 0.0364 - recall: 0.5789 - pr_auc: 0.0339 - roc_auc: 0.5596 - val_loss: 32.8319 - val_tp: 10.0000 - val_fp: 159.0000 - val_tn: 277.0000 - val_fn: 2.0000 - val_accuracy: 0.6406 - val_precision: 0.0592 - val_recall: 0.8333 - val_pr_auc: 0.0527 - val_roc_auc: 0.7239\n"
     ]
    }
   ],
   "source": [
    "model.compile(optimizer=tf.optimizers.Adam(lr=0.00001), loss='binary_crossentropy', metrics=METRICS)\n",
    "history = model.fit(dataset_train, epochs=600, validation_data=dataset_val, class_weight=class_weight)"
   ]
  },
  {
   "cell_type": "code",
   "execution_count": 22,
   "metadata": {
    "ExecuteTime": {
     "end_time": "2020-11-09T09:43:44.779442Z",
     "start_time": "2020-11-09T09:43:44.773429Z"
    }
   },
   "outputs": [],
   "source": [
    "def plot_metrics(history):\n",
    "    metrics2 = ['loss', 'roc_auc', 'accuracy', 'recall']\n",
    "    for n, metric in enumerate(metrics2):\n",
    "        name = metric.replace(\"_\", \" \").capitalize()\n",
    "        plt.subplot(2, 2, n + 1)\n",
    "        plt.plot(history.epoch,\n",
    "                 history.history[metric],\n",
    "                 color=colors[0],\n",
    "                 label='Train')\n",
    "        plt.plot(history.epoch,\n",
    "                 history.history['val_' + metric],\n",
    "                 color=colors[0],\n",
    "                 linestyle=\"--\",\n",
    "                 label='Val')\n",
    "        plt.xlabel('Epoch')\n",
    "        plt.ylabel(name)\n",
    "        if metric == 'loss':\n",
    "            plt.ylim([0, plt.ylim()[1]])\n",
    "        elif metric == 'roc_auc':\n",
    "            plt.ylim([0.5, 1])\n",
    "        else:\n",
    "            plt.ylim([0, 1])\n",
    "\n",
    "        plt.legend()"
   ]
  },
  {
   "cell_type": "code",
   "execution_count": 23,
   "metadata": {
    "ExecuteTime": {
     "end_time": "2020-11-09T09:43:45.472839Z",
     "start_time": "2020-11-09T09:43:44.781408Z"
    }
   },
   "outputs": [
    {
     "data": {
      "image/png": "[encoded data removed]",
      "text/plain": [
       "<Figure size 432x288 with 4 Axes>"
      ]
     },
     "metadata": {
      "needs_background": "light"
     },
     "output_type": "display_data"
    }
   ],
   "source": [
    "colors = plt.rcParams['axes.prop_cycle'].by_key()['color']\n",
    "plot_metrics(history)"
   ]
  },
  {
   "cell_type": "code",
   "execution_count": 24,
   "metadata": {
    "ExecuteTime": {
     "end_time": "2020-11-09T09:43:45.670288Z",
     "start_time": "2020-11-09T09:43:45.473813Z"
    }
   },
   "outputs": [],
   "source": [
    "from sklearn.metrics import classification_report, roc_auc_score, roc_curve\n",
    "pred = model.predict(dataset_val)"
   ]
  },
  {
   "cell_type": "code",
   "execution_count": 25,
   "metadata": {
    "ExecuteTime": {
     "end_time": "2020-11-09T09:43:46.261749Z",
     "start_time": "2020-11-09T09:43:45.671285Z"
    }
   },
   "outputs": [
    {
     "name": "stdout",
     "output_type": "stream",
     "text": [
      "ks:  0.5527522935779816 \n",
      "\n",
      "threshold:  4.6887585e-19 \n",
      "\n"
     ]
    },
    {
     "data": {
      "image/png": "[encoded data removed]",
      "text/plain": [
       "<Figure size 432x288 with 1 Axes>"
      ]
     },
     "metadata": {
      "needs_background": "light"
     },
     "output_type": "display_data"
    }
   ],
   "source": [
    "fpr,tpr,thresholds= roc_curve(y_test[0:len(pred)],pred)\n",
    "ks_value = max(tpr-fpr)\n",
    "print('ks: ', ks_value, '\\n')\n",
    "\n",
    "thresholds = thresholds[(tpr-fpr).argmax()]\n",
    "print('threshold: ', thresholds, '\\n')\n",
    "import matplotlib.pyplot as plt\n",
    "plt.figure()\n",
    "plt.scatter(x = [x/len(tpr) for x in range(0, len(tpr))], y = tpr)\n",
    "plt.scatter(x = [x/len(tpr) for x in range(0, len(tpr))], y = fpr)\n",
    "plt.show()"
   ]
  },
  {
   "cell_type": "code",
   "execution_count": 26,
   "metadata": {
    "ExecuteTime": {
     "end_time": "2020-11-09T09:43:46.425892Z",
     "start_time": "2020-11-09T09:43:46.262746Z"
    }
   },
   "outputs": [
    {
     "data": {
      "text/plain": [
       "0.7754204892966361"
      ]
     },
     "execution_count": 26,
     "metadata": {},
     "output_type": "execute_result"
    }
   ],
   "source": [
    "roc_auc_score(y_test[0:len(pred)],pred)"
   ]
  }
 ],
 "metadata": {
  "kernelspec": {
   "display_name": "Python 3",
   "language": "python",
   "name": "python3"
  },
  "language_info": {
   "codemirror_mode": {
    "name": "ipython",
    "version": 3
   },
   "file_extension": ".py",
   "mimetype": "text/x-python",
   "name": "python",
   "nbconvert_exporter": "python",
   "pygments_lexer": "ipython3",
   "version": "3.7.6"
  },
  "toc": {
   "base_numbering": 1,
   "nav_menu": {},
   "number_sections": true,
   "sideBar": true,
   "skip_h1_title": false,
   "title_cell": "Table of Contents",
   "title_sidebar": "Contents",
   "toc_cell": false,
   "toc_position": {},
   "toc_section_display": true,
   "toc_window_display": false
  },
  "varInspector": {
   "cols": {
    "lenName": 16,
    "lenType": 16,
    "lenVar": 40
   },
   "kernels_config": {
    "python": {
     "delete_cmd_postfix": "",
     "delete_cmd_prefix": "del ",
     "library": "var_list.py",
     "varRefreshCmd": "print(var_dic_list())"
    },
    "r": {
     "delete_cmd_postfix": ") ",
     "delete_cmd_prefix": "rm(",
     "library": "var_list.r",
     "varRefreshCmd": "cat(var_dic_list()) "
    }
   },
   "types_to_exclude": [
    "module",
    "function",
    "builtin_function_or_method",
    "instance",
    "_Feature"
   ],
   "window_display": false
  }
 },
 "nbformat": 4,
 "nbformat_minor": 4
}
